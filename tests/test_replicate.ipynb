{
 "cells": [
  {
   "cell_type": "markdown",
   "metadata": {},
   "source": [
    "# Comparaison entrer les projections de SimGen et de certaines données exsistantes"
   ]
  },
  {
   "cell_type": "markdown",
   "metadata": {
    "ExecuteTime": {
     "end_time": "2020-04-24T08:55:29.582958Z",
     "start_time": "2020-04-24T08:55:29.579957Z"
    }
   },
   "source": [
    "## Effectuer une simulation avec Simgen\n"
   ]
  },
  {
   "cell_type": "code",
   "execution_count": 1,
   "metadata": {
    "ExecuteTime": {
     "end_time": "2020-04-30T12:49:06.359518Z",
     "start_time": "2020-04-30T12:49:05.690025Z"
    }
   },
   "outputs": [],
   "source": [
    "import sys\n",
    "import warnings\n",
    "import pandas as pd \n",
    "import numpy as np\n",
    "from matplotlib import pyplot as plt\n",
    "from copy import deepcopy\n",
    "from itertools import combinations, product\n",
    "warnings.filterwarnings(\"ignore\")"
   ]
  },
  {
   "cell_type": "code",
   "execution_count": null,
   "metadata": {},
   "outputs": [],
   "source": []
  },
  {
   "cell_type": "markdown",
   "metadata": {},
   "source": [
    "Pour le moment, il faut changer les chemins pour les répertoires"
   ]
  },
  {
   "cell_type": "code",
   "execution_count": 2,
   "metadata": {
    "ExecuteTime": {
     "end_time": "2020-04-30T12:49:06.363808Z",
     "start_time": "2020-04-30T12:49:06.361639Z"
    }
   },
   "outputs": [],
   "source": [
    "sys.path.append('/Users/juliennavaux/Dropbox (CEDIA)/OLG_CAN/demo/simgen/')\n",
    "path_data = '/Users/juliennavaux/Dropbox (CEDIA)/OLG_CAN/demo/Benchmark/'"
   ]
  },
  {
   "cell_type": "code",
   "execution_count": 3,
   "metadata": {
    "ExecuteTime": {
     "end_time": "2020-04-30T12:49:06.904444Z",
     "start_time": "2020-04-30T12:49:06.366397Z"
    }
   },
   "outputs": [],
   "source": [
    "from simgen import model"
   ]
  },
  {
   "cell_type": "markdown",
   "metadata": {},
   "source": [
    "On simule la population jusqu'en 2040"
   ]
  },
  {
   "cell_type": "code",
   "execution_count": 4,
   "metadata": {
    "ExecuteTime": {
     "end_time": "2020-04-30T12:49:07.081624Z",
     "start_time": "2020-04-30T12:49:06.906890Z"
    }
   },
   "outputs": [],
   "source": [
    "base = model(start_yr=2017,stop_yr=2020)\n",
    "base.startpop('startpop')\n",
    "base.immig_assumptions(init='newimmpop')\n",
    "base.birth_assumptions(scenario='reference')\n",
    "base.dead_assumptions(scenario='medium')"
   ]
  },
  {
   "cell_type": "code",
   "execution_count": 5,
   "metadata": {},
   "outputs": [
    {
     "data": {
      "text/html": [
       "<div>\n",
       "<style scoped>\n",
       "    .dataframe tbody tr th:only-of-type {\n",
       "        vertical-align: middle;\n",
       "    }\n",
       "\n",
       "    .dataframe tbody tr th {\n",
       "        vertical-align: top;\n",
       "    }\n",
       "\n",
       "    .dataframe thead th {\n",
       "        text-align: right;\n",
       "    }\n",
       "</style>\n",
       "<table border=\"1\" class=\"dataframe\">\n",
       "  <thead>\n",
       "    <tr style=\"text-align: right;\">\n",
       "      <th></th>\n",
       "      <th></th>\n",
       "      <th></th>\n",
       "      <th></th>\n",
       "      <th></th>\n",
       "      <th></th>\n",
       "      <th>2018</th>\n",
       "    </tr>\n",
       "    <tr>\n",
       "      <th>age</th>\n",
       "      <th>male</th>\n",
       "      <th>insch</th>\n",
       "      <th>educ</th>\n",
       "      <th>married</th>\n",
       "      <th>nkids</th>\n",
       "      <th></th>\n",
       "    </tr>\n",
       "  </thead>\n",
       "  <tbody>\n",
       "    <tr>\n",
       "      <th rowspan=\"2\" valign=\"top\">0</th>\n",
       "      <th>False</th>\n",
       "      <th>False</th>\n",
       "      <th>none</th>\n",
       "      <th>False</th>\n",
       "      <th>0</th>\n",
       "      <td>41147.053669</td>\n",
       "    </tr>\n",
       "    <tr>\n",
       "      <th>True</th>\n",
       "      <th>False</th>\n",
       "      <th>none</th>\n",
       "      <th>False</th>\n",
       "      <th>0</th>\n",
       "      <td>43254.336754</td>\n",
       "    </tr>\n",
       "    <tr>\n",
       "      <th rowspan=\"3\" valign=\"top\">1</th>\n",
       "      <th rowspan=\"3\" valign=\"top\">False</th>\n",
       "      <th rowspan=\"3\" valign=\"top\">False</th>\n",
       "      <th rowspan=\"3\" valign=\"top\">dec</th>\n",
       "      <th rowspan=\"3\" valign=\"top\">False</th>\n",
       "      <th>0</th>\n",
       "      <td>0.000000</td>\n",
       "    </tr>\n",
       "    <tr>\n",
       "      <th>1</th>\n",
       "      <td>0.000000</td>\n",
       "    </tr>\n",
       "    <tr>\n",
       "      <th>2</th>\n",
       "      <td>0.000000</td>\n",
       "    </tr>\n",
       "    <tr>\n",
       "      <th>...</th>\n",
       "      <th>...</th>\n",
       "      <th>...</th>\n",
       "      <th>...</th>\n",
       "      <th>...</th>\n",
       "      <th>...</th>\n",
       "      <td>...</td>\n",
       "    </tr>\n",
       "    <tr>\n",
       "      <th rowspan=\"5\" valign=\"top\">110</th>\n",
       "      <th rowspan=\"5\" valign=\"top\">True</th>\n",
       "      <th rowspan=\"5\" valign=\"top\">True</th>\n",
       "      <th rowspan=\"5\" valign=\"top\">uni</th>\n",
       "      <th rowspan=\"5\" valign=\"top\">True</th>\n",
       "      <th>1</th>\n",
       "      <td>0.000000</td>\n",
       "    </tr>\n",
       "    <tr>\n",
       "      <th>2</th>\n",
       "      <td>0.000000</td>\n",
       "    </tr>\n",
       "    <tr>\n",
       "      <th>3</th>\n",
       "      <td>0.000000</td>\n",
       "    </tr>\n",
       "    <tr>\n",
       "      <th>4</th>\n",
       "      <td>0.000000</td>\n",
       "    </tr>\n",
       "    <tr>\n",
       "      <th>5</th>\n",
       "      <td>0.000000</td>\n",
       "    </tr>\n",
       "  </tbody>\n",
       "</table>\n",
       "<p>21122 rows × 1 columns</p>\n",
       "</div>"
      ],
      "text/plain": [
       "                                            2018\n",
       "age male  insch educ married nkids              \n",
       "0   False False none False   0      41147.053669\n",
       "    True  False none False   0      43254.336754\n",
       "1   False False dec  False   0          0.000000\n",
       "                             1          0.000000\n",
       "                             2          0.000000\n",
       "...                                          ...\n",
       "110 True  True  uni  True    1          0.000000\n",
       "                             2          0.000000\n",
       "                             3          0.000000\n",
       "                             4          0.000000\n",
       "                             5          0.000000\n",
       "\n",
       "[21122 rows x 1 columns]"
      ]
     },
     "execution_count": 5,
     "metadata": {},
     "output_type": "execute_result"
    }
   ],
   "source": [
    "year = 2018\n",
    "all_value = [[i for i in range(1,111)]]\n",
    "for col in ['male','insch','educ','married','nkids']:\n",
    "    all_value.append(base.pop.hh[col].sort_values().unique())\n",
    "empty = pd.DataFrame(list(product(*all_value)),columns=['age','male','insch','educ','married','nkids']).set_index(['age','male','insch','educ','married','nkids'])\n",
    "empty[year] = 0.0\n",
    "tmp = base.pop.hh.groupby(['age','male','insch','educ','married','nkids']).sum()[['wgt']].fillna(0.0).rename(columns={'wgt':year})\n",
    "tmp = empty.add(tmp,fill_value=0.0)\n",
    "tmp"
   ]
  },
  {
   "cell_type": "code",
   "execution_count": null,
   "metadata": {},
   "outputs": [],
   "source": [
    "#tmp"
   ]
  },
  {
   "cell_type": "code",
   "execution_count": 5,
   "metadata": {
    "ExecuteTime": {
     "end_time": "2020-04-30T12:51:31.058259Z",
     "start_time": "2020-04-30T12:49:07.083309Z"
    }
   },
   "outputs": [
    {
     "name": "stdout",
     "output_type": "stream",
     "text": [
      "2020\r"
     ]
    }
   ],
   "source": [
    "base.simulate(rep=3)"
   ]
  },
  {
   "cell_type": "code",
   "execution_count": 6,
   "metadata": {},
   "outputs": [
    {
     "data": {
      "text/html": [
       "<div>\n",
       "<style scoped>\n",
       "    .dataframe tbody tr th:only-of-type {\n",
       "        vertical-align: middle;\n",
       "    }\n",
       "\n",
       "    .dataframe tbody tr th {\n",
       "        vertical-align: top;\n",
       "    }\n",
       "\n",
       "    .dataframe thead th {\n",
       "        text-align: right;\n",
       "    }\n",
       "</style>\n",
       "<table border=\"1\" class=\"dataframe\">\n",
       "  <thead>\n",
       "    <tr style=\"text-align: right;\">\n",
       "      <th></th>\n",
       "      <th></th>\n",
       "      <th></th>\n",
       "      <th></th>\n",
       "      <th></th>\n",
       "      <th></th>\n",
       "      <th>2017</th>\n",
       "      <th>2018</th>\n",
       "      <th>2019</th>\n",
       "      <th>2020</th>\n",
       "      <th>2021</th>\n",
       "    </tr>\n",
       "    <tr>\n",
       "      <th>age</th>\n",
       "      <th>male</th>\n",
       "      <th>insch</th>\n",
       "      <th>educ</th>\n",
       "      <th>married</th>\n",
       "      <th>nkids</th>\n",
       "      <th></th>\n",
       "      <th></th>\n",
       "      <th></th>\n",
       "      <th></th>\n",
       "      <th></th>\n",
       "    </tr>\n",
       "  </thead>\n",
       "  <tbody>\n",
       "    <tr>\n",
       "      <th rowspan=\"2\" valign=\"top\">0</th>\n",
       "      <th>False</th>\n",
       "      <th>False</th>\n",
       "      <th>none</th>\n",
       "      <th>False</th>\n",
       "      <th>0</th>\n",
       "      <td>41147.053669</td>\n",
       "      <td>40168.559132</td>\n",
       "      <td>42478.583908</td>\n",
       "      <td>41635.593434</td>\n",
       "      <td>41741.215707</td>\n",
       "    </tr>\n",
       "    <tr>\n",
       "      <th>True</th>\n",
       "      <th>False</th>\n",
       "      <th>none</th>\n",
       "      <th>False</th>\n",
       "      <th>0</th>\n",
       "      <td>43254.336754</td>\n",
       "      <td>43401.250505</td>\n",
       "      <td>41036.791792</td>\n",
       "      <td>42442.474785</td>\n",
       "      <td>42755.887666</td>\n",
       "    </tr>\n",
       "    <tr>\n",
       "      <th rowspan=\"3\" valign=\"top\">1</th>\n",
       "      <th rowspan=\"3\" valign=\"top\">False</th>\n",
       "      <th rowspan=\"3\" valign=\"top\">False</th>\n",
       "      <th rowspan=\"3\" valign=\"top\">dec</th>\n",
       "      <th rowspan=\"3\" valign=\"top\">False</th>\n",
       "      <th>0</th>\n",
       "      <td>0.000000</td>\n",
       "      <td>0.000000</td>\n",
       "      <td>0.000000</td>\n",
       "      <td>0.000000</td>\n",
       "      <td>0.000000</td>\n",
       "    </tr>\n",
       "    <tr>\n",
       "      <th>1</th>\n",
       "      <td>0.000000</td>\n",
       "      <td>0.000000</td>\n",
       "      <td>0.000000</td>\n",
       "      <td>0.000000</td>\n",
       "      <td>0.000000</td>\n",
       "    </tr>\n",
       "    <tr>\n",
       "      <th>2</th>\n",
       "      <td>0.000000</td>\n",
       "      <td>0.000000</td>\n",
       "      <td>0.000000</td>\n",
       "      <td>0.000000</td>\n",
       "      <td>0.000000</td>\n",
       "    </tr>\n",
       "    <tr>\n",
       "      <th>...</th>\n",
       "      <th>...</th>\n",
       "      <th>...</th>\n",
       "      <th>...</th>\n",
       "      <th>...</th>\n",
       "      <th>...</th>\n",
       "      <td>...</td>\n",
       "      <td>...</td>\n",
       "      <td>...</td>\n",
       "      <td>...</td>\n",
       "      <td>...</td>\n",
       "    </tr>\n",
       "    <tr>\n",
       "      <th rowspan=\"5\" valign=\"top\">110</th>\n",
       "      <th rowspan=\"5\" valign=\"top\">True</th>\n",
       "      <th rowspan=\"5\" valign=\"top\">True</th>\n",
       "      <th rowspan=\"5\" valign=\"top\">uni</th>\n",
       "      <th rowspan=\"5\" valign=\"top\">True</th>\n",
       "      <th>1</th>\n",
       "      <td>0.000000</td>\n",
       "      <td>0.000000</td>\n",
       "      <td>0.000000</td>\n",
       "      <td>0.000000</td>\n",
       "      <td>0.000000</td>\n",
       "    </tr>\n",
       "    <tr>\n",
       "      <th>2</th>\n",
       "      <td>0.000000</td>\n",
       "      <td>0.000000</td>\n",
       "      <td>0.000000</td>\n",
       "      <td>0.000000</td>\n",
       "      <td>0.000000</td>\n",
       "    </tr>\n",
       "    <tr>\n",
       "      <th>3</th>\n",
       "      <td>0.000000</td>\n",
       "      <td>0.000000</td>\n",
       "      <td>0.000000</td>\n",
       "      <td>0.000000</td>\n",
       "      <td>0.000000</td>\n",
       "    </tr>\n",
       "    <tr>\n",
       "      <th>4</th>\n",
       "      <td>0.000000</td>\n",
       "      <td>0.000000</td>\n",
       "      <td>0.000000</td>\n",
       "      <td>0.000000</td>\n",
       "      <td>0.000000</td>\n",
       "    </tr>\n",
       "    <tr>\n",
       "      <th>5</th>\n",
       "      <td>0.000000</td>\n",
       "      <td>0.000000</td>\n",
       "      <td>0.000000</td>\n",
       "      <td>0.000000</td>\n",
       "      <td>0.000000</td>\n",
       "    </tr>\n",
       "  </tbody>\n",
       "</table>\n",
       "<p>21149 rows × 5 columns</p>\n",
       "</div>"
      ],
      "text/plain": [
       "                                            2017          2018          2019  \\\n",
       "age male  insch educ married nkids                                             \n",
       "0   False False none False   0      41147.053669  40168.559132  42478.583908   \n",
       "    True  False none False   0      43254.336754  43401.250505  41036.791792   \n",
       "1   False False dec  False   0          0.000000      0.000000      0.000000   \n",
       "                             1          0.000000      0.000000      0.000000   \n",
       "                             2          0.000000      0.000000      0.000000   \n",
       "...                                          ...           ...           ...   \n",
       "110 True  True  uni  True    1          0.000000      0.000000      0.000000   \n",
       "                             2          0.000000      0.000000      0.000000   \n",
       "                             3          0.000000      0.000000      0.000000   \n",
       "                             4          0.000000      0.000000      0.000000   \n",
       "                             5          0.000000      0.000000      0.000000   \n",
       "\n",
       "                                            2020          2021  \n",
       "age male  insch educ married nkids                              \n",
       "0   False False none False   0      41635.593434  41741.215707  \n",
       "    True  False none False   0      42442.474785  42755.887666  \n",
       "1   False False dec  False   0          0.000000      0.000000  \n",
       "                             1          0.000000      0.000000  \n",
       "                             2          0.000000      0.000000  \n",
       "...                                          ...           ...  \n",
       "110 True  True  uni  True    1          0.000000      0.000000  \n",
       "                             2          0.000000      0.000000  \n",
       "                             3          0.000000      0.000000  \n",
       "                             4          0.000000      0.000000  \n",
       "                             5          0.000000      0.000000  \n",
       "\n",
       "[21149 rows x 5 columns]"
      ]
     },
     "execution_count": 6,
     "metadata": {},
     "output_type": "execute_result"
    }
   ],
   "source": [
    "base.stats.mean_counts\n"
   ]
  },
  {
   "cell_type": "code",
   "execution_count": null,
   "metadata": {},
   "outputs": [],
   "source": [
    "df_zeros = base.all_stats[0].copy()\n",
    "df_zeros[:] = 0\n",
    "display(df_zeros)\n",
    "for stats in base.all_stats:\n",
    "    display(stats)\n",
    "    df_zeros = df_zeros.add(stats/len(base.all_stats),fill_value=0.0)\n",
    "\n",
    "df_zeros"
   ]
  },
  {
   "cell_type": "code",
   "execution_count": 21,
   "metadata": {},
   "outputs": [
    {
     "data": {
      "text/html": [
       "<div>\n",
       "<style scoped>\n",
       "    .dataframe tbody tr th:only-of-type {\n",
       "        vertical-align: middle;\n",
       "    }\n",
       "\n",
       "    .dataframe tbody tr th {\n",
       "        vertical-align: top;\n",
       "    }\n",
       "\n",
       "    .dataframe thead th {\n",
       "        text-align: right;\n",
       "    }\n",
       "</style>\n",
       "<table border=\"1\" class=\"dataframe\">\n",
       "  <thead>\n",
       "    <tr style=\"text-align: right;\">\n",
       "      <th></th>\n",
       "      <th></th>\n",
       "      <th></th>\n",
       "      <th></th>\n",
       "      <th></th>\n",
       "      <th></th>\n",
       "      <th>2017</th>\n",
       "      <th>2018</th>\n",
       "      <th>2019</th>\n",
       "      <th>2020</th>\n",
       "      <th>2021</th>\n",
       "    </tr>\n",
       "    <tr>\n",
       "      <th>age</th>\n",
       "      <th>male</th>\n",
       "      <th>insch</th>\n",
       "      <th>educ</th>\n",
       "      <th>married</th>\n",
       "      <th>nkids</th>\n",
       "      <th></th>\n",
       "      <th></th>\n",
       "      <th></th>\n",
       "      <th></th>\n",
       "      <th></th>\n",
       "    </tr>\n",
       "  </thead>\n",
       "  <tbody>\n",
       "    <tr>\n",
       "      <th rowspan=\"2\" valign=\"top\">0</th>\n",
       "      <th>False</th>\n",
       "      <th>False</th>\n",
       "      <th>none</th>\n",
       "      <th>False</th>\n",
       "      <th>0</th>\n",
       "      <td>41147.053669</td>\n",
       "      <td>40271.139437</td>\n",
       "      <td>41897.00000</td>\n",
       "      <td>43443.164474</td>\n",
       "      <td>39635.96173</td>\n",
       "    </tr>\n",
       "    <tr>\n",
       "      <th>True</th>\n",
       "      <th>False</th>\n",
       "      <th>none</th>\n",
       "      <th>False</th>\n",
       "      <th>0</th>\n",
       "      <td>43254.336754</td>\n",
       "      <td>43341.666197</td>\n",
       "      <td>41756.40604</td>\n",
       "      <td>40806.039474</td>\n",
       "      <td>45137.03827</td>\n",
       "    </tr>\n",
       "    <tr>\n",
       "      <th rowspan=\"3\" valign=\"top\">1</th>\n",
       "      <th rowspan=\"3\" valign=\"top\">False</th>\n",
       "      <th rowspan=\"3\" valign=\"top\">False</th>\n",
       "      <th rowspan=\"3\" valign=\"top\">dec</th>\n",
       "      <th rowspan=\"3\" valign=\"top\">False</th>\n",
       "      <th>0</th>\n",
       "      <td>0.000000</td>\n",
       "      <td>0.000000</td>\n",
       "      <td>0.00000</td>\n",
       "      <td>0.000000</td>\n",
       "      <td>0.00000</td>\n",
       "    </tr>\n",
       "    <tr>\n",
       "      <th>1</th>\n",
       "      <td>0.000000</td>\n",
       "      <td>0.000000</td>\n",
       "      <td>0.00000</td>\n",
       "      <td>0.000000</td>\n",
       "      <td>0.00000</td>\n",
       "    </tr>\n",
       "    <tr>\n",
       "      <th>2</th>\n",
       "      <td>0.000000</td>\n",
       "      <td>0.000000</td>\n",
       "      <td>0.00000</td>\n",
       "      <td>0.000000</td>\n",
       "      <td>0.00000</td>\n",
       "    </tr>\n",
       "    <tr>\n",
       "      <th>...</th>\n",
       "      <th>...</th>\n",
       "      <th>...</th>\n",
       "      <th>...</th>\n",
       "      <th>...</th>\n",
       "      <th>...</th>\n",
       "      <td>...</td>\n",
       "      <td>...</td>\n",
       "      <td>...</td>\n",
       "      <td>...</td>\n",
       "      <td>...</td>\n",
       "    </tr>\n",
       "    <tr>\n",
       "      <th rowspan=\"5\" valign=\"top\">110</th>\n",
       "      <th rowspan=\"5\" valign=\"top\">True</th>\n",
       "      <th rowspan=\"5\" valign=\"top\">True</th>\n",
       "      <th rowspan=\"5\" valign=\"top\">uni</th>\n",
       "      <th rowspan=\"5\" valign=\"top\">True</th>\n",
       "      <th>1</th>\n",
       "      <td>0.000000</td>\n",
       "      <td>0.000000</td>\n",
       "      <td>0.00000</td>\n",
       "      <td>0.000000</td>\n",
       "      <td>0.00000</td>\n",
       "    </tr>\n",
       "    <tr>\n",
       "      <th>2</th>\n",
       "      <td>0.000000</td>\n",
       "      <td>0.000000</td>\n",
       "      <td>0.00000</td>\n",
       "      <td>0.000000</td>\n",
       "      <td>0.00000</td>\n",
       "    </tr>\n",
       "    <tr>\n",
       "      <th>3</th>\n",
       "      <td>0.000000</td>\n",
       "      <td>0.000000</td>\n",
       "      <td>0.00000</td>\n",
       "      <td>0.000000</td>\n",
       "      <td>0.00000</td>\n",
       "    </tr>\n",
       "    <tr>\n",
       "      <th>4</th>\n",
       "      <td>0.000000</td>\n",
       "      <td>0.000000</td>\n",
       "      <td>0.00000</td>\n",
       "      <td>0.000000</td>\n",
       "      <td>0.00000</td>\n",
       "    </tr>\n",
       "    <tr>\n",
       "      <th>5</th>\n",
       "      <td>0.000000</td>\n",
       "      <td>0.000000</td>\n",
       "      <td>0.00000</td>\n",
       "      <td>0.000000</td>\n",
       "      <td>0.00000</td>\n",
       "    </tr>\n",
       "  </tbody>\n",
       "</table>\n",
       "<p>21140 rows × 5 columns</p>\n",
       "</div>"
      ],
      "text/plain": [
       "                                            2017          2018         2019  \\\n",
       "age male  insch educ married nkids                                            \n",
       "0   False False none False   0      41147.053669  40271.139437  41897.00000   \n",
       "    True  False none False   0      43254.336754  43341.666197  41756.40604   \n",
       "1   False False dec  False   0          0.000000      0.000000      0.00000   \n",
       "                             1          0.000000      0.000000      0.00000   \n",
       "                             2          0.000000      0.000000      0.00000   \n",
       "...                                          ...           ...          ...   \n",
       "110 True  True  uni  True    1          0.000000      0.000000      0.00000   \n",
       "                             2          0.000000      0.000000      0.00000   \n",
       "                             3          0.000000      0.000000      0.00000   \n",
       "                             4          0.000000      0.000000      0.00000   \n",
       "                             5          0.000000      0.000000      0.00000   \n",
       "\n",
       "                                            2020         2021  \n",
       "age male  insch educ married nkids                             \n",
       "0   False False none False   0      43443.164474  39635.96173  \n",
       "    True  False none False   0      40806.039474  45137.03827  \n",
       "1   False False dec  False   0          0.000000      0.00000  \n",
       "                             1          0.000000      0.00000  \n",
       "                             2          0.000000      0.00000  \n",
       "...                                          ...          ...  \n",
       "110 True  True  uni  True    1          0.000000      0.00000  \n",
       "                             2          0.000000      0.00000  \n",
       "                             3          0.000000      0.00000  \n",
       "                             4          0.000000      0.00000  \n",
       "                             5          0.000000      0.00000  \n",
       "\n",
       "[21140 rows x 5 columns]"
      ]
     },
     "execution_count": 21,
     "metadata": {},
     "output_type": "execute_result"
    }
   ],
   "source": [
    "base.all_stats[2]"
   ]
  },
  {
   "cell_type": "code",
   "execution_count": 16,
   "metadata": {},
   "outputs": [
    {
     "data": {
      "text/html": [
       "<div>\n",
       "<style scoped>\n",
       "    .dataframe tbody tr th:only-of-type {\n",
       "        vertical-align: middle;\n",
       "    }\n",
       "\n",
       "    .dataframe tbody tr th {\n",
       "        vertical-align: top;\n",
       "    }\n",
       "\n",
       "    .dataframe thead th {\n",
       "        text-align: right;\n",
       "    }\n",
       "</style>\n",
       "<table border=\"1\" class=\"dataframe\">\n",
       "  <thead>\n",
       "    <tr style=\"text-align: right;\">\n",
       "      <th></th>\n",
       "      <th>2017</th>\n",
       "      <th>2018</th>\n",
       "      <th>2019</th>\n",
       "      <th>2020</th>\n",
       "      <th>2021</th>\n",
       "    </tr>\n",
       "  </thead>\n",
       "  <tbody>\n",
       "    <tr>\n",
       "      <th>(0, False, False, none, False, 0)</th>\n",
       "      <td>41147.053669</td>\n",
       "      <td>40920.201531</td>\n",
       "      <td>42155.076484</td>\n",
       "      <td>42758.172602</td>\n",
       "      <td>41811.545782</td>\n",
       "    </tr>\n",
       "    <tr>\n",
       "      <th>(0, True, False, none, False, 0)</th>\n",
       "      <td>43254.336754</td>\n",
       "      <td>42850.067013</td>\n",
       "      <td>41496.239538</td>\n",
       "      <td>41488.013158</td>\n",
       "      <td>42912.395769</td>\n",
       "    </tr>\n",
       "    <tr>\n",
       "      <th>(1, False, False, dec, False, 0)</th>\n",
       "      <td>0.000000</td>\n",
       "      <td>0.000000</td>\n",
       "      <td>0.000000</td>\n",
       "      <td>0.000000</td>\n",
       "      <td>0.000000</td>\n",
       "    </tr>\n",
       "    <tr>\n",
       "      <th>(1, False, False, dec, False, 1)</th>\n",
       "      <td>0.000000</td>\n",
       "      <td>0.000000</td>\n",
       "      <td>0.000000</td>\n",
       "      <td>0.000000</td>\n",
       "      <td>0.000000</td>\n",
       "    </tr>\n",
       "    <tr>\n",
       "      <th>(1, False, False, dec, False, 2)</th>\n",
       "      <td>0.000000</td>\n",
       "      <td>0.000000</td>\n",
       "      <td>0.000000</td>\n",
       "      <td>0.000000</td>\n",
       "      <td>0.000000</td>\n",
       "    </tr>\n",
       "    <tr>\n",
       "      <th>...</th>\n",
       "      <td>...</td>\n",
       "      <td>...</td>\n",
       "      <td>...</td>\n",
       "      <td>...</td>\n",
       "      <td>...</td>\n",
       "    </tr>\n",
       "    <tr>\n",
       "      <th>(110, True, True, uni, True, 1)</th>\n",
       "      <td>0.000000</td>\n",
       "      <td>0.000000</td>\n",
       "      <td>0.000000</td>\n",
       "      <td>0.000000</td>\n",
       "      <td>0.000000</td>\n",
       "    </tr>\n",
       "    <tr>\n",
       "      <th>(110, True, True, uni, True, 2)</th>\n",
       "      <td>0.000000</td>\n",
       "      <td>0.000000</td>\n",
       "      <td>0.000000</td>\n",
       "      <td>0.000000</td>\n",
       "      <td>0.000000</td>\n",
       "    </tr>\n",
       "    <tr>\n",
       "      <th>(110, True, True, uni, True, 3)</th>\n",
       "      <td>0.000000</td>\n",
       "      <td>0.000000</td>\n",
       "      <td>0.000000</td>\n",
       "      <td>0.000000</td>\n",
       "      <td>0.000000</td>\n",
       "    </tr>\n",
       "    <tr>\n",
       "      <th>(110, True, True, uni, True, 4)</th>\n",
       "      <td>0.000000</td>\n",
       "      <td>0.000000</td>\n",
       "      <td>0.000000</td>\n",
       "      <td>0.000000</td>\n",
       "      <td>0.000000</td>\n",
       "    </tr>\n",
       "    <tr>\n",
       "      <th>(110, True, True, uni, True, 5)</th>\n",
       "      <td>0.000000</td>\n",
       "      <td>0.000000</td>\n",
       "      <td>0.000000</td>\n",
       "      <td>0.000000</td>\n",
       "      <td>0.000000</td>\n",
       "    </tr>\n",
       "  </tbody>\n",
       "</table>\n",
       "<p>21146 rows × 5 columns</p>\n",
       "</div>"
      ],
      "text/plain": [
       "                                           2017          2018          2019  \\\n",
       "(0, False, False, none, False, 0)  41147.053669  40920.201531  42155.076484   \n",
       "(0, True, False, none, False, 0)   43254.336754  42850.067013  41496.239538   \n",
       "(1, False, False, dec, False, 0)       0.000000      0.000000      0.000000   \n",
       "(1, False, False, dec, False, 1)       0.000000      0.000000      0.000000   \n",
       "(1, False, False, dec, False, 2)       0.000000      0.000000      0.000000   \n",
       "...                                         ...           ...           ...   \n",
       "(110, True, True, uni, True, 1)        0.000000      0.000000      0.000000   \n",
       "(110, True, True, uni, True, 2)        0.000000      0.000000      0.000000   \n",
       "(110, True, True, uni, True, 3)        0.000000      0.000000      0.000000   \n",
       "(110, True, True, uni, True, 4)        0.000000      0.000000      0.000000   \n",
       "(110, True, True, uni, True, 5)        0.000000      0.000000      0.000000   \n",
       "\n",
       "                                           2020          2021  \n",
       "(0, False, False, none, False, 0)  42758.172602  41811.545782  \n",
       "(0, True, False, none, False, 0)   41488.013158  42912.395769  \n",
       "(1, False, False, dec, False, 0)       0.000000      0.000000  \n",
       "(1, False, False, dec, False, 1)       0.000000      0.000000  \n",
       "(1, False, False, dec, False, 2)       0.000000      0.000000  \n",
       "...                                         ...           ...  \n",
       "(110, True, True, uni, True, 1)        0.000000      0.000000  \n",
       "(110, True, True, uni, True, 2)        0.000000      0.000000  \n",
       "(110, True, True, uni, True, 3)        0.000000      0.000000  \n",
       "(110, True, True, uni, True, 4)        0.000000      0.000000  \n",
       "(110, True, True, uni, True, 5)        0.000000      0.000000  \n",
       "\n",
       "[21146 rows x 5 columns]"
      ]
     },
     "execution_count": 16,
     "metadata": {},
     "output_type": "execute_result"
    }
   ],
   "source": [
    "df_means = concat.groupby(concat.index).mean()\n",
    "df_means"
   ]
  },
  {
   "cell_type": "markdown",
   "metadata": {},
   "source": [
    "## Extraction des résultats\n",
    "Creation de \"DataFrame\" contenant la population totale par sexe"
   ]
  },
  {
   "cell_type": "code",
   "execution_count": null,
   "metadata": {
    "ExecuteTime": {
     "end_time": "2020-04-30T12:51:31.078203Z",
     "start_time": "2020-04-30T12:51:31.060773Z"
    }
   },
   "outputs": [],
   "source": [
    "pop =base.stats.freq()\n",
    "pop_m=base.stats.freq(sub='male==True')\n",
    "pop_f=base.stats.freq(sub='male==False')"
   ]
  },
  {
   "cell_type": "markdown",
   "metadata": {},
   "source": [
    "Creation de \"DataFrame\" contenant la populaton par groupe d'âge"
   ]
  },
  {
   "cell_type": "code",
   "execution_count": null,
   "metadata": {
    "ExecuteTime": {
     "end_time": "2020-04-30T12:51:31.114317Z",
     "start_time": "2020-04-30T12:51:31.079694Z"
    }
   },
   "outputs": [],
   "source": [
    "pop_age=base.stats.freq('age')\n",
    "bins=[-1,4,9,14,19,24,29,34,39,44,49,54,59,64,69,74,79,84,89,101]\n",
    "bins_3=[-1,24,64,101]\n",
    "pop_age_gr=base.stats.freq('age', bins=bins)\n",
    "pop_age_gr.columns= pop_age_gr.columns.astype('str')\n",
    "pop_age_gr3=base.stats.freq('age', bins=bins_3)\n",
    "pop_age_gr3.columns= pop_age_gr3.columns.astype('str')"
   ]
  },
  {
   "cell_type": "code",
   "execution_count": null,
   "metadata": {
    "ExecuteTime": {
     "end_time": "2020-04-30T12:51:31.306830Z",
     "start_time": "2020-04-30T12:51:31.117852Z"
    }
   },
   "outputs": [],
   "source": [
    "base.stats.freq('age', sub=\"age<=5\").plot()"
   ]
  },
  {
   "cell_type": "code",
   "execution_count": null,
   "metadata": {
    "ExecuteTime": {
     "end_time": "2020-04-30T12:51:31.486206Z",
     "start_time": "2020-04-30T12:51:31.309664Z"
    }
   },
   "outputs": [],
   "source": [
    "base.stats.freq('age', sub=\"age>=6 and age<=10\").plot()"
   ]
  },
  {
   "cell_type": "code",
   "execution_count": null,
   "metadata": {
    "ExecuteTime": {
     "end_time": "2020-04-30T12:51:31.683406Z",
     "start_time": "2020-04-30T12:51:31.488064Z"
    }
   },
   "outputs": [],
   "source": [
    "base.stats.freq('age', sub=\"age>=11 and age<=16\").plot()"
   ]
  },
  {
   "cell_type": "markdown",
   "metadata": {
    "ExecuteTime": {
     "end_time": "2020-04-24T08:39:31.233808Z",
     "start_time": "2020-04-24T08:39:31.230795Z"
    }
   },
   "source": [
    "On charge ici les données provenant des derninères projections de l'ISQ. \n",
    "\n",
    "Il s'agit de projections de population basées sur le scénario moyen de l'ISQ à partir des données corrigées du recensement de 2016. Pour plus d'information concernant la méthodologie utilisée pour le calcul des projections de population, veuillez-vous référer au rapport « Perspectives démographiques du Québec et des régions, 2016-2066, édition 2019 » produit par l'ISQ à l'adresse suivante :\n",
    "\n",
    "https://www.stat.gouv.qc.ca/statistiques/population-demographie/perspectives/perspectives-2016-2066.pdf\n",
    "\n",
    "Pour la population de 1996-2018, il s'agit d'estimations de population constituant une série historique de populations comparables ayant servi à la construction des projections de population basées sur le recensement de 2016."
   ]
  },
  {
   "cell_type": "code",
   "execution_count": null,
   "metadata": {
    "ExecuteTime": {
     "end_time": "2020-04-30T12:51:31.697014Z",
     "start_time": "2020-04-30T12:51:31.684955Z"
    }
   },
   "outputs": [],
   "source": [
    "pop_isq = pd.read_csv(path_data+'isq_pop_age_1996_2041.csv', sep=';')\n",
    "pop_isq = pop_isq.set_index('year')"
   ]
  },
  {
   "cell_type": "markdown",
   "metadata": {},
   "source": [
    "Population totale par âge sexe"
   ]
  },
  {
   "cell_type": "code",
   "execution_count": null,
   "metadata": {
    "ExecuteTime": {
     "end_time": "2020-04-30T12:51:31.706765Z",
     "start_time": "2020-04-30T12:51:31.698690Z"
    }
   },
   "outputs": [],
   "source": [
    "pop_isq_age = pop_isq.drop(['total'],axis=1)\n",
    "pop_isq_age_tot=pop_isq_age.loc[pop_isq['sex']=='all']\n",
    "pop_isq_age_tot_m=pop_isq_age.loc[pop_isq['sex']=='male']\n",
    "pop_isq_age_tot_f=pop_isq_age.loc[pop_isq['sex']=='female']\n",
    "pop_isq_age_tot = pop_isq_age_tot.drop(['sex'],axis=1)\n",
    "pop_isq_age_tot_m = pop_isq_age_tot_m.drop(['sex'],axis=1)\n",
    "pop_isq_age_tot_f = pop_isq_age_tot_f.drop(['sex'],axis=1)"
   ]
  },
  {
   "cell_type": "markdown",
   "metadata": {},
   "source": [
    "Population par groupe d'âge"
   ]
  },
  {
   "cell_type": "code",
   "execution_count": null,
   "metadata": {
    "ExecuteTime": {
     "end_time": "2020-04-30T12:51:31.729144Z",
     "start_time": "2020-04-30T12:51:31.708297Z"
    }
   },
   "outputs": [],
   "source": [
    "pop_isq_age_tot_trans = pop_isq_age_tot.T\n",
    "pop_isq_age_tot_trans\n",
    "pop_isq_age_tot_trans['age']= range(0,91)\n",
    "bins=list(range(0,96,5))\n",
    "bins_3=[0,25,65,91]\n",
    "pop_isq_age_tot_trans['agegr'] = pd.cut(pop_isq_age_tot_trans['age'], bins=bins, right=False)\n",
    "gr=pop_isq_age_tot_trans.groupby(['agegr']).sum()\n",
    "pop_isq_agegr_tot=gr.drop(['age'],axis=1).T\n",
    "pop_isq_agegr_tot.columns= pop_isq_agegr_tot.columns.astype('str')\n",
    "pop_isq_agegr_tot = pop_isq_agegr_tot[pop_isq_agegr_tot.index>=2017]\n",
    "pop_isq_age_tot_trans['agegr'] = pd.cut(pop_isq_age_tot_trans['age'], bins=bins_3, right=False)\n",
    "gr=pop_isq_age_tot_trans.groupby(['agegr']).sum()\n",
    "pop_isq_agegr3_tot=gr.drop(['age'],axis=1).T\n",
    "pop_isq_agegr3_tot.columns= pop_isq_agegr3_tot.columns.astype('str')\n",
    "pop_isq_agegr3_tot = pop_isq_agegr3_tot[pop_isq_agegr3_tot.index>=2017]"
   ]
  },
  {
   "cell_type": "markdown",
   "metadata": {
    "ExecuteTime": {
     "end_time": "2020-04-24T14:16:18.181597Z",
     "start_time": "2020-04-24T14:16:18.178108Z"
    }
   },
   "source": [
    "Population totale par sexe"
   ]
  },
  {
   "cell_type": "code",
   "execution_count": null,
   "metadata": {
    "ExecuteTime": {
     "end_time": "2020-04-30T12:51:31.736743Z",
     "start_time": "2020-04-30T12:51:31.730850Z"
    },
    "scrolled": true
   },
   "outputs": [],
   "source": [
    "pop_isq_total=pop_isq.loc[pop_isq['sex']=='all']\n",
    "pop_isq_total =pop_isq_total['total']\n",
    "pop_isq_total_m = pop_isq.loc[pop_isq['sex']=='male']\n",
    "pop_isq_total_m =pop_isq_total_m['total']\n",
    "pop_isq_total_f = pop_isq.loc[pop_isq['sex']=='female']\n",
    "pop_isq_total_f =pop_isq_total_f['total']"
   ]
  },
  {
   "cell_type": "markdown",
   "metadata": {
    "ExecuteTime": {
     "end_time": "2020-04-22T18:03:17.946829Z",
     "start_time": "2020-04-22T18:03:17.941694Z"
    }
   },
   "source": [
    "## Figue comparaison population\n",
    "\n",
    "### Population totale "
   ]
  },
  {
   "cell_type": "code",
   "execution_count": null,
   "metadata": {
    "ExecuteTime": {
     "end_time": "2020-04-30T12:51:31.870777Z",
     "start_time": "2020-04-30T12:51:31.738299Z"
    }
   },
   "outputs": [],
   "source": [
    "plt.figure(figsize=(10,5))\n",
    "plt.plot(pop_isq_total, label='isq')\n",
    "plt.plot(pop, label='simgen', linestyle='dashed')\n",
    "plt.legend()\n",
    "plt.title('Comparaison population totale')\n",
    "plt.show()"
   ]
  },
  {
   "cell_type": "markdown",
   "metadata": {},
   "source": [
    "### Comparaison popuation par sexe"
   ]
  },
  {
   "cell_type": "code",
   "execution_count": null,
   "metadata": {
    "ExecuteTime": {
     "end_time": "2020-04-30T12:51:32.009848Z",
     "start_time": "2020-04-30T12:51:31.872716Z"
    }
   },
   "outputs": [],
   "source": [
    "plt.figure(figsize=(10,5))\n",
    "plt.plot(pop_isq_total_m[pop_isq_total_m.index>=2017], label='isq')\n",
    "plt.plot(pop_m, label='simgen', linestyle='dashed')\n",
    "plt.legend()\n",
    "plt.title('Comparaison population homme')\n",
    "plt.show()"
   ]
  },
  {
   "cell_type": "code",
   "execution_count": null,
   "metadata": {
    "ExecuteTime": {
     "end_time": "2020-04-30T12:51:32.144475Z",
     "start_time": "2020-04-30T12:51:32.011532Z"
    }
   },
   "outputs": [],
   "source": [
    "plt.figure(figsize=(10,5))\n",
    "plt.plot(pop_isq_total_f[pop_isq_total_m.index>=2017], label='isq')\n",
    "plt.plot(pop_f, label='simgen', linestyle='dashed')\n",
    "plt.legend()\n",
    "plt.title('Comparaison population femme')\n",
    "plt.show()"
   ]
  },
  {
   "cell_type": "markdown",
   "metadata": {
    "ExecuteTime": {
     "end_time": "2020-04-23T20:23:41.697297Z",
     "start_time": "2020-04-23T20:23:41.528647Z"
    }
   },
   "source": [
    "### Comparaison population par groupe d'âge"
   ]
  },
  {
   "cell_type": "code",
   "execution_count": null,
   "metadata": {
    "ExecuteTime": {
     "end_time": "2020-04-30T12:51:32.368497Z",
     "start_time": "2020-04-30T12:51:32.146177Z"
    }
   },
   "outputs": [],
   "source": [
    "plt.figure(figsize=(20,10))\n",
    "plt.plot(pop_isq_agegr3_tot['[0, 25)'], label='isq 0-25', color='blue')\n",
    "plt.plot(pop_isq_agegr3_tot['[25, 65)'], label='isq 25-65', color='green')\n",
    "plt.plot(pop_isq_agegr3_tot['[65, 91)'], label='isq 65+', color='red')\n",
    "plt.plot(pop_age_gr3['(-1, 24]'], label='simgen 0-25',color='blue', linestyle='dashed')\n",
    "plt.plot(pop_age_gr3['(24, 64]'], label='simgen 25-65',color='green', linestyle='dashed')\n",
    "plt.plot(pop_age_gr3['(64, 101]'], label='simgen 65+',color='red', linestyle='dashed')\n",
    "plt.legend()\n",
    "plt.title(\"Comparaison groupe d'âge\")\n",
    "plt.show()"
   ]
  },
  {
   "cell_type": "markdown",
   "metadata": {},
   "source": [
    "### Comparaison groupe d'âge de 5 ans"
   ]
  },
  {
   "cell_type": "code",
   "execution_count": null,
   "metadata": {},
   "outputs": [],
   "source": []
  },
  {
   "cell_type": "code",
   "execution_count": null,
   "metadata": {
    "ExecuteTime": {
     "end_time": "2020-04-30T12:51:32.596723Z",
     "start_time": "2020-04-30T12:51:32.370139Z"
    }
   },
   "outputs": [],
   "source": [
    "plt.figure(figsize=(10,5))\n",
    "plt.plot(pop_isq_agegr_tot['[0, 5)'], label='isq 0-5', color='blue')\n",
    "plt.plot(pop_age_gr['(-1, 4]'], label='simgen 0-5',color='blue', linestyle='dashed')\n",
    "plt.plot(pop_isq_agegr_tot['[5, 10)'], label='isq 5-10', color='green')\n",
    "plt.plot(pop_age_gr['(4, 9]'], label='simgen 5-10',color='green', linestyle='dashed')\n",
    "plt.plot(pop_isq_agegr_tot['[10, 15)'], label='isq 10-15', color='red')\n",
    "plt.plot(pop_age_gr['(9, 14]'], label='simgen 10-15',color='red', linestyle='dashed')\n",
    "plt.legend()\n",
    "plt.title(\"Comparaison groupe d'âge 0-15\")\n",
    "plt.show()"
   ]
  },
  {
   "cell_type": "code",
   "execution_count": null,
   "metadata": {
    "ExecuteTime": {
     "end_time": "2020-04-30T12:51:32.839928Z",
     "start_time": "2020-04-30T12:51:32.598354Z"
    }
   },
   "outputs": [],
   "source": [
    "plt.figure(figsize=(20,10))\n",
    "plt.plot(pop_isq_agegr_tot['[15, 20)'], label='isq 15-20', color='blue')\n",
    "plt.plot(pop_age_gr['(14, 19]'], label='simgen 15-20',color='blue', linestyle='dashed')\n",
    "plt.plot(pop_isq_agegr_tot['[20, 25)'], label='isq 20-25', color='green')\n",
    "plt.plot(pop_age_gr['(19, 24]'], label='simgen 20-25',color='green', linestyle='dashed')\n",
    "plt.plot(pop_isq_agegr_tot['[25, 30)'], label='isq 25-30', color='red')\n",
    "plt.plot(pop_age_gr['(24, 29]'], label='simgen 25-30',color='red', linestyle='dashed')\n",
    "plt.legend()\n",
    "plt.title(\"Comparaison groupe d'âge 15-30\")\n",
    "plt.show()"
   ]
  },
  {
   "cell_type": "code",
   "execution_count": null,
   "metadata": {
    "ExecuteTime": {
     "end_time": "2020-04-30T12:51:33.116246Z",
     "start_time": "2020-04-30T12:51:32.843667Z"
    }
   },
   "outputs": [],
   "source": [
    "plt.figure(figsize=(20,10))\n",
    "plt.plot(pop_isq_agegr_tot['[30, 35)'], label='isq 30-35', color='blue')\n",
    "plt.plot(pop_age_gr['(29, 34]'], label='simgen 30-35',color='blue', linestyle='dashed')\n",
    "plt.plot(pop_isq_agegr_tot['[35, 40)'], label='isq 35-40', color='green')\n",
    "plt.plot(pop_age_gr['(34, 39]'], label='simgen 35-40',color='green', linestyle='dashed')\n",
    "plt.plot(pop_isq_agegr_tot['[40, 45)'], label='isq 40-45', color='red')\n",
    "plt.plot(pop_age_gr['(39, 44]'], label='simgen 40-45',color='red', linestyle='dashed')\n",
    "plt.legend()\n",
    "plt.title(\"Comparaison groupe d'âge 30-45\")\n",
    "plt.show()"
   ]
  },
  {
   "cell_type": "code",
   "execution_count": null,
   "metadata": {
    "ExecuteTime": {
     "end_time": "2020-04-30T12:51:33.360255Z",
     "start_time": "2020-04-30T12:51:33.117838Z"
    }
   },
   "outputs": [],
   "source": [
    "plt.figure(figsize=(20,10))\n",
    "plt.plot(pop_isq_agegr_tot['[45, 50)'], label='isq 45-50', color='blue')\n",
    "plt.plot(pop_age_gr['(44, 49]'], label='simgen 45-50',color='blue', linestyle='dashed')\n",
    "plt.plot(pop_isq_agegr_tot['[50, 55)'], label='isq 50-55', color='green')\n",
    "plt.plot(pop_age_gr['(49, 54]'], label='simgen 50-55',color='green', linestyle='dashed')\n",
    "plt.plot(pop_isq_agegr_tot['[55, 60)'], label='isq 55-60', color='red')\n",
    "plt.plot(pop_age_gr['(54, 59]'], label='simgen 55-60',color='red', linestyle='dashed')\n",
    "plt.legend()\n",
    "plt.title(\"Comparaison groupe d'âge 45-60\")\n",
    "plt.show()"
   ]
  },
  {
   "cell_type": "code",
   "execution_count": null,
   "metadata": {
    "ExecuteTime": {
     "end_time": "2020-04-30T12:51:33.598455Z",
     "start_time": "2020-04-30T12:51:33.366261Z"
    }
   },
   "outputs": [],
   "source": [
    "plt.figure(figsize=(20,10))\n",
    "plt.plot(pop_isq_agegr_tot['[60, 65)'], label='isq 60-65', color='blue')\n",
    "plt.plot(pop_age_gr['(59, 64]'], label='simgen 60-65',color='blue', linestyle='dashed')\n",
    "plt.plot(pop_isq_agegr_tot['[65, 70)'], label='isq 65-70', color='green')\n",
    "plt.plot(pop_age_gr['(64, 69]'], label='simgen 65-70',color='green', linestyle='dashed')\n",
    "plt.plot(pop_isq_agegr_tot['[70, 75)'], label='isq 70-75', color='red')\n",
    "plt.plot(pop_age_gr['(69, 74]'], label='simgen 70-75',color='red', linestyle='dashed')\n",
    "plt.legend()\n",
    "plt.title(\"Comparaison groupe d'âge 60-75\")\n",
    "plt.show()"
   ]
  },
  {
   "cell_type": "code",
   "execution_count": null,
   "metadata": {
    "ExecuteTime": {
     "end_time": "2020-04-30T12:51:33.838069Z",
     "start_time": "2020-04-30T12:51:33.601969Z"
    }
   },
   "outputs": [],
   "source": [
    "plt.figure(figsize=(20,10))\n",
    "plt.plot(pop_isq_agegr_tot['[75, 80)'], label='isq 75-80', color='blue')\n",
    "plt.plot(pop_age_gr['(74, 79]'], label='simgen 75-80',color='blue', linestyle='dashed')\n",
    "plt.plot(pop_isq_agegr_tot['[80, 85)'], label='isq 80-85', color='green')\n",
    "plt.plot(pop_age_gr['(79, 84]'], label='simgen 80-85',color='green', linestyle='dashed')\n",
    "plt.plot(pop_isq_agegr_tot['[85, 90)'], label='isq 85-90', color='red')\n",
    "plt.plot(pop_age_gr['(84, 89]'], label='simgen 70-75',color='red', linestyle='dashed')\n",
    "plt.plot(pop_isq_agegr_tot['[90, 95)'], label='isq 90+', color='black')\n",
    "plt.plot(pop_age_gr['(89, 101]'], label='simgen 90+',color='black', linestyle='dashed')\n",
    "plt.legend()\n",
    "plt.title(\"Comparaison groupe d'âge 75-90\")\n",
    "plt.show()"
   ]
  },
  {
   "cell_type": "markdown",
   "metadata": {},
   "source": [
    "### Comparaison des naissances"
   ]
  },
  {
   "cell_type": "code",
   "execution_count": null,
   "metadata": {
    "ExecuteTime": {
     "end_time": "2020-04-30T12:51:33.976918Z",
     "start_time": "2020-04-30T12:51:33.839575Z"
    }
   },
   "outputs": [],
   "source": [
    "plt.figure(figsize=(10,5))\n",
    "plt.plot(pop_isq_age_tot.loc[2017:,'0'], label='isq', color='blue')\n",
    "plt.plot(pop_age[0], label='simgen',color='blue', linestyle='dashed')\n",
    "plt.legend()\n",
    "plt.title(\"Naissances\")\n",
    "plt.show()"
   ]
  },
  {
   "cell_type": "markdown",
   "metadata": {
    "ExecuteTime": {
     "end_time": "2020-04-24T15:04:11.416021Z",
     "start_time": "2020-04-24T15:04:11.413165Z"
    }
   },
   "source": [
    "# Éducation\n",
    "\n",
    "## Extraction des données SimGen\n",
    "\n",
    "Prenant en compte school_done"
   ]
  },
  {
   "cell_type": "code",
   "execution_count": null,
   "metadata": {
    "ExecuteTime": {
     "end_time": "2020-04-30T12:51:34.069446Z",
     "start_time": "2020-04-30T12:51:33.978467Z"
    }
   },
   "outputs": [],
   "source": [
    "popeduc = base.stats.freq('educ')\n",
    "propeduc15over = base.stats.prop('educ',sub='age>=15')\n",
    "propeduc25overinsch = base.stats.prop('educ',sub='age>=25 and insch==False')\n",
    "propeduc35overinsch = base.stats.prop('educ',sub='age>=35 and insch==False')\n",
    "propeduc3544 = base.stats.prop('educ',sub='age>=35 and age<=44')\n",
    "propeduc2564 = base.stats.prop('educ',sub='age>=25 and age<=64')\n",
    "propeduc15overinsch = base.stats.prop('educ',sub='age>=15 and insch==False')\n",
    "propeduc3544insch = base.stats.prop('educ',sub='age>=35 and age<=44 and insch==False')\n",
    "propeduc2564insch = base.stats.prop('educ',sub='age>=25 and age<=64 and insch==False')"
   ]
  },
  {
   "cell_type": "markdown",
   "metadata": {},
   "source": [
    "## Chargement des données isq\n",
    "\n",
    "Source : Statistique Canada (SC), Enquête sur la population active (EPA), compilations de Statistique Canada et de l'Institut de la statistique du Québec réalisées grâce à l'accès aux données du Centre interuniversitaire québécois de statistiques sociales (CIQSS), membre du Réseau canadien des Centres de données de recherche (RCCDR). Adapté par l’Institut de la statistique du Québec (ISQ).\n",
    "\n",
    "Mise à jour : 28 novembre 2019\n",
    "\n",
    "https://www.stat.gouv.qc.ca/statistiques/education/niveau-scolarite/repartition-scol-ra-sexe-age.html#tri_tertr=50040000000000000&tri_sexe=1&tri_age=365&tri_stat=8403"
   ]
  },
  {
   "cell_type": "code",
   "execution_count": null,
   "metadata": {
    "ExecuteTime": {
     "end_time": "2020-04-30T12:51:34.081189Z",
     "start_time": "2020-04-30T12:51:34.071331Z"
    }
   },
   "outputs": [],
   "source": [
    "pop_educ = pd.read_csv(path_data+'educ4_qc2.csv', sep=';')\n",
    "pop_educ = pop_educ[pop_educ['year']>=2000]"
   ]
  },
  {
   "cell_type": "markdown",
   "metadata": {
    "ExecuteTime": {
     "end_time": "2020-04-24T05:51:54.419637Z",
     "start_time": "2020-04-24T05:51:54.411446Z"
    }
   },
   "source": [
    "Préparation des données par groupe d'âge"
   ]
  },
  {
   "cell_type": "code",
   "execution_count": null,
   "metadata": {
    "ExecuteTime": {
     "end_time": "2020-04-30T12:51:34.096559Z",
     "start_time": "2020-04-30T12:51:34.082819Z"
    }
   },
   "outputs": [],
   "source": [
    "prop_educ_15over = pop_educ[pop_educ['age']=='15 ans et plus'] \n",
    "prop_educ_15over = prop_educ_15over[prop_educ_15over['sex']=='Total (hommes-femmes)']\n",
    "prop_educ_15over = prop_educ_15over.set_index('year')\n",
    "prop_educ_15over = prop_educ_15over.drop(columns=['age','sex','pop'])\n",
    "prop_educ_3544 = pop_educ[pop_educ['age']=='35-44 ans'] \n",
    "prop_educ_3544 = prop_educ_3544[prop_educ_3544['sex']=='Total (hommes-femmes)']\n",
    "prop_educ_3544 = prop_educ_3544.set_index('year')\n",
    "prop_educ_3544 = prop_educ_3544.drop(columns=['age','sex','pop'])\n",
    "prop_educ_2564 = pop_educ[pop_educ['age']=='25-64 ans'] \n",
    "prop_educ_2564 = prop_educ_2564[prop_educ_2564['sex']=='Total (hommes-femmes)']\n",
    "prop_educ_2564 = prop_educ_2564.set_index('year')\n",
    "prop_educ_2564 = prop_educ_2564.drop(columns=['age','sex','pop'])"
   ]
  },
  {
   "cell_type": "markdown",
   "metadata": {},
   "source": [
    "Data Census \n"
   ]
  },
  {
   "cell_type": "code",
   "execution_count": null,
   "metadata": {
    "ExecuteTime": {
     "end_time": "2020-04-30T12:51:34.109500Z",
     "start_time": "2020-04-30T12:51:34.098020Z"
    }
   },
   "outputs": [],
   "source": [
    "census_educ = pd.read_csv(path_data+'census_educ.csv', sep=\";\")\n",
    "census_educ.head()"
   ]
  },
  {
   "cell_type": "code",
   "execution_count": null,
   "metadata": {
    "ExecuteTime": {
     "end_time": "2020-04-30T12:51:34.124168Z",
     "start_time": "2020-04-30T12:51:34.111036Z"
    }
   },
   "outputs": [],
   "source": [
    "prop_educ_15over = census_educ[census_educ['age']=='15 ans et plus'] \n",
    "prop_educ_15over = prop_educ_15over[prop_educ_15over['sex']=='Total (hommes-femmes)']\n",
    "prop_educ_15over = prop_educ_15over.set_index('year')\n",
    "prop_educ_15over = prop_educ_15over.drop(columns=['age','sex','pop'])\n",
    "prop_educ_3544 = census_educ[census_educ['age']=='35-44 ans'] \n",
    "prop_educ_3544 = prop_educ_3544[prop_educ_3544['sex']=='Total (hommes-femmes)']\n",
    "prop_educ_3544 = prop_educ_3544.set_index('year')\n",
    "prop_educ_3544 = prop_educ_3544.drop(columns=['age','sex','pop'])\n",
    "prop_educ_2564 = census_educ[census_educ['age']=='25-64 ans'] \n",
    "prop_educ_2564 = prop_educ_2564[prop_educ_2564['sex']=='Total (hommes-femmes)']\n",
    "prop_educ_2564 = prop_educ_2564.set_index('year')\n",
    "prop_educ_2564 = prop_educ_2564.drop(columns=['age','sex','pop'])"
   ]
  },
  {
   "cell_type": "markdown",
   "metadata": {},
   "source": [
    "Petite fonction pour graphiques d'éducation"
   ]
  },
  {
   "cell_type": "code",
   "execution_count": null,
   "metadata": {
    "ExecuteTime": {
     "end_time": "2020-04-30T12:51:34.132001Z",
     "start_time": "2020-04-30T12:51:34.125653Z"
    }
   },
   "outputs": [],
   "source": [
    "def graph_educ(isq,simgen,title):\n",
    "    plt.figure(figsize=(20,10))\n",
    "    plt.plot(isq['prop'][isq['educ4']=='uni'],label='census uni', color='blue')\n",
    "    plt.plot(simgen['uni'], label='simgen uni',color='blue', linestyle='dashed')\n",
    "    plt.plot(isq['prop'][isq['educ4']=='dec'],label='census dec', color='green')\n",
    "    plt.plot(simgen['dec'], label='simgen dec',color='green', linestyle='dashed')\n",
    "    plt.plot(isq['prop'][isq['educ4']=='des'],label='census des', color='red')\n",
    "    plt.plot(simgen['des'], label='simgen des',color='red', linestyle='dashed')\n",
    "    plt.plot(isq['prop'][isq['educ4']=='none'],label='census none', color='black')\n",
    "    plt.plot(simgen['none'], label='simgen des',color='black', linestyle='dashed')\n",
    "    plt.legend()\n",
    "    plt.title(title)\n",
    "    plt.show()"
   ]
  },
  {
   "cell_type": "markdown",
   "metadata": {},
   "source": [
    "### Graphiques comparaison éducation"
   ]
  },
  {
   "cell_type": "code",
   "execution_count": null,
   "metadata": {},
   "outputs": [],
   "source": [
    "graph_educ(isq=prop_educ_15over,simgen=propeduc15overinsch,title='Éducation 15 ans et plus')"
   ]
  },
  {
   "cell_type": "code",
   "execution_count": null,
   "metadata": {
    "ExecuteTime": {
     "end_time": "2020-04-30T12:51:34.370997Z",
     "start_time": "2020-04-30T12:51:34.133668Z"
    }
   },
   "outputs": [],
   "source": [
    "graph_educ(isq=prop_educ_15over,simgen=propeduc15overinsch,title='Éducation 15 ans et plus')"
   ]
  },
  {
   "cell_type": "code",
   "execution_count": null,
   "metadata": {
    "ExecuteTime": {
     "end_time": "2020-04-30T12:51:34.612149Z",
     "start_time": "2020-04-30T12:51:34.372780Z"
    }
   },
   "outputs": [],
   "source": [
    "graph_educ(isq=prop_educ_3544, simgen=propeduc3544insch, title='Éducation 35-44 ans')"
   ]
  },
  {
   "cell_type": "code",
   "execution_count": null,
   "metadata": {
    "ExecuteTime": {
     "end_time": "2020-04-30T12:51:34.850887Z",
     "start_time": "2020-04-30T12:51:34.613762Z"
    }
   },
   "outputs": [],
   "source": [
    "graph_educ(isq=prop_educ_2564,simgen=propeduc2564,title='Éducation 25-64 ans sans school_done')"
   ]
  },
  {
   "cell_type": "code",
   "execution_count": null,
   "metadata": {
    "ExecuteTime": {
     "end_time": "2020-04-30T12:51:35.082865Z",
     "start_time": "2020-04-30T12:51:34.852546Z"
    }
   },
   "outputs": [],
   "source": [
    "graph_educ(isq=prop_educ_2564,simgen=propeduc2564insch,title='Éducation 25-64 ans')"
   ]
  },
  {
   "cell_type": "raw",
   "metadata": {
    "ExecuteTime": {
     "end_time": "2020-04-24T06:45:13.243364Z",
     "start_time": "2020-04-24T06:45:13.232430Z"
    }
   },
   "source": [
    "      Tableau BDSPS 25-65 ans\n",
    "      \n",
    "      études |      Freq.           Percent        Cum.\n",
    "------------+-----------------------------------\n",
    "          dec | 11,957.777       37.21       37.21\n",
    "          des | 7,941.3249       24.71       61.92\n",
    "       none | 5,554.9971       17.29       79.21\n",
    "          uni | 6,681.9009       20.79      100.00\n",
    "Les premières années du modèle ne collent pas avec la base qui est similaire à l'ISQ "
   ]
  },
  {
   "cell_type": "markdown",
   "metadata": {
    "ExecuteTime": {
     "end_time": "2020-04-24T14:03:20.648656Z",
     "start_time": "2020-04-24T14:03:20.414353Z"
    }
   },
   "source": [
    "## Comparaison des personnes en couple\n",
    "\n"
   ]
  },
  {
   "cell_type": "markdown",
   "metadata": {},
   "source": [
    "### Extraction données SimGen\n",
    "\n",
    "Proportion des personnes en couple par groupe d'âge"
   ]
  },
  {
   "cell_type": "code",
   "execution_count": null,
   "metadata": {
    "ExecuteTime": {
     "end_time": "2020-04-30T12:51:35.199849Z",
     "start_time": "2020-04-30T12:51:35.084487Z"
    }
   },
   "outputs": [],
   "source": [
    "popms = base.stats.freq('married')\n",
    "propms15plus = base.stats.prop('married', sub=\"age>=15\")\n",
    "propms1544 = base.stats.prop('married', sub=\"age>=15 and age<=44\")\n",
    "propms4564 = base.stats.prop('married', sub=\"age>=45 and age<=64\")\n",
    "propms65plus = base.stats.prop('married', sub=\"age>=65\")\n",
    "propms15plus.columns= propms15plus.columns.astype('str')\n",
    "propms1544.columns= propms1544.columns.astype('str')\n",
    "propms4564.columns= propms4564.columns.astype('str')\n",
    "propms65plus.columns= propms65plus.columns.astype('str')"
   ]
  },
  {
   "cell_type": "markdown",
   "metadata": {
    "ExecuteTime": {
     "end_time": "2020-04-24T08:39:34.615983Z",
     "start_time": "2020-04-24T08:39:34.603854Z"
    }
   },
   "source": [
    "### Extraction données Statistique Canada\n",
    "\n",
    "Estimations de la population au 1er juillet, selon l'état matrimonial ou l'état matrimonial légal, l'âge et le sexe, Tableau : 17-10-0060-01\n",
    "\n",
    "https://www150.statcan.gc.ca/t1/tbl1/fr/cv.action?pid=1710006001"
   ]
  },
  {
   "cell_type": "code",
   "execution_count": null,
   "metadata": {
    "ExecuteTime": {
     "end_time": "2020-04-30T12:51:35.214536Z",
     "start_time": "2020-04-30T12:51:35.201704Z"
    }
   },
   "outputs": [],
   "source": [
    "pop_ms = pd.read_csv(path_data+'married_qc.csv', sep=';')\n",
    "pop_ms=pop_ms[pop_ms['married']==1]\n",
    "pop_ms_15plus = pop_ms[pop_ms[\"age\"]==\"15 ans et plus\"]\n",
    "pop_ms_15plus = pop_ms_15plus.set_index(pop_ms_15plus[\"year\"])\n",
    "pop_ms_1544 = pop_ms[pop_ms[\"age\"]==\"15 à 44 ans\"]\n",
    "pop_ms_1544 = pop_ms_1544.set_index(pop_ms_1544[\"year\"])\n",
    "pop_ms_4564 = pop_ms[pop_ms[\"age\"]==\"45 à 64 ans\"]\n",
    "pop_ms_4564 = pop_ms_4564.set_index(pop_ms_4564[\"year\"])\n",
    "pop_ms_65plus = pop_ms[pop_ms[\"age\"]==\"65 ans et plus\"]\n",
    "pop_ms_65plus = pop_ms_65plus.set_index(pop_ms_65plus[\"year\"])"
   ]
  },
  {
   "cell_type": "markdown",
   "metadata": {},
   "source": [
    "Petite fonction pour graphiques de comparaison des unions"
   ]
  },
  {
   "cell_type": "code",
   "execution_count": null,
   "metadata": {
    "ExecuteTime": {
     "end_time": "2020-04-30T12:51:35.220568Z",
     "start_time": "2020-04-30T12:51:35.216115Z"
    }
   },
   "outputs": [],
   "source": [
    "def graph_union(isq,simgen,title):\n",
    "    plt.figure(figsize=(10,5))\n",
    "    plt.plot(isq['prop'], label='isq couple',color='blue')\n",
    "    plt.plot(1-isq['prop'],label=\"isq single\",color='green')\n",
    "    plt.plot(simgen[\"True\"],label=\"simgen couple\", color=\"blue\", linestyle='dashed')\n",
    "    plt.plot(1-simgen[\"True\"], label='simgen single',color='green', linestyle='dashed')\n",
    "    plt.legend()\n",
    "    plt.title(title)"
   ]
  },
  {
   "cell_type": "markdown",
   "metadata": {},
   "source": [
    "### Graphiques comparaioson des personnes en couple par groupe d'âge"
   ]
  },
  {
   "cell_type": "code",
   "execution_count": null,
   "metadata": {
    "ExecuteTime": {
     "end_time": "2020-04-30T12:51:35.397684Z",
     "start_time": "2020-04-30T12:51:35.222439Z"
    }
   },
   "outputs": [],
   "source": [
    "graph_union(pop_ms_15plus,propms15plus,title=\"Union 15 ans et plus\")"
   ]
  },
  {
   "cell_type": "code",
   "execution_count": null,
   "metadata": {
    "ExecuteTime": {
     "end_time": "2020-04-30T12:51:35.559775Z",
     "start_time": "2020-04-30T12:51:35.399366Z"
    }
   },
   "outputs": [],
   "source": [
    "graph_union(pop_ms_1544,propms1544,title=\"Union 15-44 ans\")"
   ]
  },
  {
   "cell_type": "code",
   "execution_count": null,
   "metadata": {
    "ExecuteTime": {
     "end_time": "2020-04-30T12:51:35.725064Z",
     "start_time": "2020-04-30T12:51:35.561445Z"
    }
   },
   "outputs": [],
   "source": [
    "graph_union(pop_ms_4564,propms4564,title=\"Union 45-64 ans\")"
   ]
  },
  {
   "cell_type": "code",
   "execution_count": null,
   "metadata": {
    "ExecuteTime": {
     "end_time": "2020-04-30T12:51:35.896772Z",
     "start_time": "2020-04-30T12:51:35.726653Z"
    }
   },
   "outputs": [],
   "source": [
    "graph_union(pop_ms_65plus,propms65plus,title=\"Union 65 plus\")"
   ]
  },
  {
   "cell_type": "markdown",
   "metadata": {},
   "source": [
    "Comparaison education données de Statistiques Canada"
   ]
  },
  {
   "cell_type": "code",
   "execution_count": null,
   "metadata": {
    "ExecuteTime": {
     "end_time": "2020-04-30T12:51:35.915074Z",
     "start_time": "2020-04-30T12:51:35.898522Z"
    }
   },
   "outputs": [],
   "source": [
    "pop_educ_stc = pd.read_csv(path_data+'educ4_qc_stc.csv', sep=';')\n",
    "pop_educ_stc = pop_educ_stc[pop_educ_stc['year']>=2000]\n",
    "pop_educ_stc"
   ]
  },
  {
   "cell_type": "code",
   "execution_count": null,
   "metadata": {
    "ExecuteTime": {
     "end_time": "2020-04-30T12:51:35.939247Z",
     "start_time": "2020-04-30T12:51:35.916634Z"
    }
   },
   "outputs": [],
   "source": [
    "prop_educ_stc_15over = pop_educ_stc[pop_educ_stc['age']=='15 ans et plus'] \n",
    "prop_educ_stc_15over = prop_educ_stc_15over[prop_educ_stc_15over['sex']=='Total (hommes-femmes)']\n",
    "prop_educ_stc_15over = prop_educ_stc_15over.set_index('year')\n",
    "prop_educ_stc_15over = prop_educ_stc_15over.drop(columns=['age','sex','pop'])\n",
    "prop_educ_stc_25over = pop_educ_stc[pop_educ_stc['age']=='25 ans et plus'] \n",
    "prop_educ_stc_25over = prop_educ_stc_25over[prop_educ_stc_25over['sex']=='Total (hommes-femmes)']\n",
    "prop_educ_stc_25over = prop_educ_stc_25over.set_index('year')\n",
    "prop_educ_stc_25over = prop_educ_stc_25over.drop(columns=['age','sex','pop'])\n",
    "\n",
    "prop_educ_stc_35over = pop_educ_stc[pop_educ_stc['age']=='25 ans et plus'] \n",
    "prop_educ_stc_35over = prop_educ_stc_35over[prop_educ_stc_35over['sex']=='Total (hommes-femmes)']\n",
    "prop_educ_stc_35over = prop_educ_stc_35over.set_index('year')\n",
    "prop_educ_stc_35over = prop_educ_stc_35over.drop(columns=['age','sex','pop'])\n",
    "\n",
    "prop_educ_stc_3544 = pop_educ_stc[pop_educ_stc['age']=='35-44 ans'] \n",
    "prop_educ_stc_3544 = prop_educ_stc_3544[prop_educ_stc_3544['sex']=='Total (hommes-femmes)']\n",
    "prop_educ_stc_3544 = prop_educ_stc_3544.set_index('year')\n",
    "prop_educ_stc_3544 = prop_educ_stc_3544.drop(columns=['age','sex','pop'])\n",
    "prop_educ_stc_2564 = pop_educ_stc[pop_educ_stc['age']=='25-64 ans'] \n",
    "prop_educ_stc_2564 = prop_educ_stc_2564[prop_educ_stc_2564['sex']=='Total (hommes-femmes)']\n",
    "prop_educ_stc_2564 = prop_educ_stc_2564.set_index('year')\n",
    "prop_educ_stc_2564 = prop_educ_stc_2564.drop(columns=['age','sex','pop'])"
   ]
  },
  {
   "cell_type": "code",
   "execution_count": null,
   "metadata": {
    "ExecuteTime": {
     "end_time": "2020-04-30T12:51:36.165445Z",
     "start_time": "2020-04-30T12:51:35.940869Z"
    }
   },
   "outputs": [],
   "source": [
    "graph_educ(isq=prop_educ_stc_25over,simgen=propeduc25overinsch,title='Éducation 25 ans et plus')"
   ]
  },
  {
   "cell_type": "code",
   "execution_count": null,
   "metadata": {
    "ExecuteTime": {
     "end_time": "2020-04-30T12:51:36.174583Z",
     "start_time": "2020-04-30T12:51:36.166935Z"
    }
   },
   "outputs": [],
   "source": [
    "prop_educ_stc_35over"
   ]
  },
  {
   "cell_type": "code",
   "execution_count": null,
   "metadata": {
    "ExecuteTime": {
     "end_time": "2020-04-30T12:51:36.182338Z",
     "start_time": "2020-04-30T12:51:36.176025Z"
    }
   },
   "outputs": [],
   "source": [
    "prop_educ_15over"
   ]
  },
  {
   "cell_type": "code",
   "execution_count": null,
   "metadata": {
    "ExecuteTime": {
     "end_time": "2020-04-30T12:51:36.404568Z",
     "start_time": "2020-04-30T12:51:36.183831Z"
    }
   },
   "outputs": [],
   "source": [
    "graph_educ(isq=prop_educ_stc_35over, simgen=propeduc35overinsch, title=\"\")"
   ]
  },
  {
   "cell_type": "markdown",
   "metadata": {},
   "source": [
    "## Graphique Étudiants"
   ]
  },
  {
   "cell_type": "code",
   "execution_count": null,
   "metadata": {},
   "outputs": [],
   "source": [
    "base.stats.freq(\"age\", sub='educ4==none and age>16 and age<36').T.sum().plot()"
   ]
  },
  {
   "cell_type": "code",
   "execution_count": null,
   "metadata": {},
   "outputs": [],
   "source": [
    "base.stats.freq(\"age\", sub='insch==True and age>36').T.sum().plot()"
   ]
  },
  {
   "cell_type": "code",
   "execution_count": null,
   "metadata": {
    "ExecuteTime": {
     "end_time": "2020-04-30T12:51:36.540406Z",
     "start_time": "2020-04-30T12:51:36.406147Z"
    }
   },
   "outputs": [],
   "source": [
    "base.stats.freq(\"age\", sub='insch==True and age>5 and age<35').T.sum().plot()"
   ]
  },
  {
   "cell_type": "code",
   "execution_count": null,
   "metadata": {},
   "outputs": [],
   "source": [
    "base.stats.freq(\"age\", sub='insch==True and age>16').T.sum().plot()"
   ]
  },
  {
   "cell_type": "code",
   "execution_count": null,
   "metadata": {},
   "outputs": [],
   "source": [
    "base.stats.freq(\"age\", sub='insch==True and age>5 and age<17').plot()"
   ]
  },
  {
   "cell_type": "code",
   "execution_count": null,
   "metadata": {},
   "outputs": [],
   "source": [
    "base.stats.freq(\"age\", sub='insch==True and age>16 and age<20').plot()"
   ]
  },
  {
   "cell_type": "code",
   "execution_count": null,
   "metadata": {},
   "outputs": [],
   "source": [
    "base.stats.freq(\"age\", sub='insch==True and age>19 and age<25').plot()"
   ]
  },
  {
   "cell_type": "code",
   "execution_count": null,
   "metadata": {},
   "outputs": [],
   "source": [
    "base.stats.freq(\"age\", sub='insch==True and age>24 and age<30').plot()"
   ]
  },
  {
   "cell_type": "code",
   "execution_count": null,
   "metadata": {
    "ExecuteTime": {
     "end_time": "2020-04-30T12:51:36.761168Z",
     "start_time": "2020-04-30T12:51:36.542090Z"
    }
   },
   "outputs": [],
   "source": [
    "base.stats.freq(\"age\", sub='insch==True and age>=34').plot()"
   ]
  },
  {
   "cell_type": "markdown",
   "metadata": {
    "ExecuteTime": {
     "end_time": "2020-04-29T14:26:57.738980Z",
     "start_time": "2020-04-29T14:26:57.736248Z"
    }
   },
   "source": [
    "## Famille"
   ]
  },
  {
   "cell_type": "code",
   "execution_count": null,
   "metadata": {
    "ExecuteTime": {
     "end_time": "2020-04-30T12:51:36.898648Z",
     "start_time": "2020-04-30T12:51:36.762746Z"
    }
   },
   "outputs": [],
   "source": [
    "base.stats.freq(\"nkids\", sub=\"nkids>0\").T.sum().plot()"
   ]
  },
  {
   "cell_type": "code",
   "execution_count": null,
   "metadata": {
    "ExecuteTime": {
     "end_time": "2020-04-30T12:51:37.078879Z",
     "start_time": "2020-04-30T12:51:36.900431Z"
    }
   },
   "outputs": [],
   "source": [
    "kids_count = [0,1,2,8]\n",
    "base.stats.freq(\"nkids\", bins=kids_count).plot()"
   ]
  },
  {
   "cell_type": "code",
   "execution_count": null,
   "metadata": {
    "ExecuteTime": {
     "end_time": "2020-04-30T12:51:37.260456Z",
     "start_time": "2020-04-30T12:51:37.080528Z"
    }
   },
   "outputs": [],
   "source": [
    "nkids_couple=base.stats.freq(\"nkids\", bins=kids_count, sub=\"married==True\")\n",
    "nkids_couple=nkids_couple/2\n",
    "nkids_couple.plot()"
   ]
  },
  {
   "cell_type": "code",
   "execution_count": null,
   "metadata": {
    "ExecuteTime": {
     "end_time": "2020-04-30T12:51:37.515076Z",
     "start_time": "2020-04-30T12:51:37.261969Z"
    }
   },
   "outputs": [],
   "source": [
    "nkids_single=base.stats.freq(\"nkids\", bins=kids_count, sub=\"married==False\")\n",
    "nkids_single.plot()"
   ]
  },
  {
   "cell_type": "code",
   "execution_count": null,
   "metadata": {
    "ExecuteTime": {
     "end_time": "2020-04-30T05:05:35.344122Z",
     "start_time": "2020-04-30T05:05:35.071692Z"
    }
   },
   "outputs": [],
   "source": []
  },
  {
   "cell_type": "code",
   "execution_count": null,
   "metadata": {
    "ExecuteTime": {
     "end_time": "2020-04-30T12:51:37.678382Z",
     "start_time": "2020-04-30T12:51:37.517324Z"
    },
    "scrolled": true
   },
   "outputs": [],
   "source": [
    "nkids= nkids_couple+nkids_single\n",
    "nkids.plot()"
   ]
  },
  {
   "cell_type": "code",
   "execution_count": null,
   "metadata": {
    "ExecuteTime": {
     "end_time": "2020-04-30T12:51:37.879826Z",
     "start_time": "2020-04-30T12:51:37.680254Z"
    }
   },
   "outputs": [],
   "source": [
    "bk = [0, 8]\n",
    "kids_couple=base.stats.freq(\"nkids\", bins=bk, sub=\"married==True\")\n",
    "kids_couple=kids_couple/2\n",
    "kids_single=base.stats.freq(\"nkids\", bins=bk, sub=\"married==False\")\n",
    "kids = kids_single+kids_couple\n",
    "kids.plot()"
   ]
  },
  {
   "cell_type": "code",
   "execution_count": null,
   "metadata": {
    "ExecuteTime": {
     "end_time": "2020-04-30T12:51:38.028798Z",
     "start_time": "2020-04-30T12:51:37.881492Z"
    }
   },
   "outputs": [],
   "source": [
    "base.stats.freq('age', sub=\"age==18\").plot()"
   ]
  },
  {
   "cell_type": "code",
   "execution_count": null,
   "metadata": {},
   "outputs": [],
   "source": []
  }
 ],
 "metadata": {
  "kernelspec": {
   "display_name": "Python 3.7.7 64-bit ('simul': conda)",
   "language": "python",
   "name": "python37764bitsimulconda7be6efcb058e469bad117784366e36eb"
  },
  "language_info": {
   "codemirror_mode": {
    "name": "ipython",
    "version": 3
   },
   "file_extension": ".py",
   "mimetype": "text/x-python",
   "name": "python",
   "nbconvert_exporter": "python",
   "pygments_lexer": "ipython3",
   "version": "3.7.7"
  }
 },
 "nbformat": 4,
 "nbformat_minor": 4
}
