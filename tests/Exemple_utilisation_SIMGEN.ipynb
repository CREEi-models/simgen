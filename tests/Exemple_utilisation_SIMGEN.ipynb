{
 "cells": [
  {
   "cell_type": "markdown",
   "metadata": {},
   "source": [
    "# Avis"
   ]
  },
  {
   "cell_type": "markdown",
   "metadata": {},
   "source": [
    "Pour faire fonctionner ce notebook, vous devez avoir préalablement installé le package simgen-creei et avoir obtenu le fichier .csv de la BDSPS."
   ]
  },
  {
   "cell_type": "markdown",
   "metadata": {
    "id": "7HbaYlcajapp"
   },
   "source": [
    "# Choix des paramètres d'utilisation"
   ]
  },
  {
   "cell_type": "markdown",
   "metadata": {
    "id": "Hmko935mjf9P"
   },
   "source": [
    "### Chemin d'accès et le nom du fichier de la BDSPS"
   ]
  },
  {
   "cell_type": "markdown",
   "metadata": {},
   "source": [
    "Modifiez le chemin d'accès ci-dessous (et le nom au besoin) pour qu'il corresponde à l'endroit où vous avez enregistré le fichier .csv de la BDSPS fourni par l'équipe CREEi (bdsps2017_slice.csv)."
   ]
  },
  {
   "cell_type": "code",
   "execution_count": 1,
   "metadata": {
    "id": "qAQy4F3Ows7q"
   },
   "outputs": [],
   "source": [
    "donnees_brutes = '.../Desktop/bdsps2017_slice.csv'"
   ]
  },
  {
   "cell_type": "markdown",
   "metadata": {
    "id": "-MOCuwZr1_k6"
   },
   "source": [
    "### Année de fin \n",
    " - valeurs possibles : 2018 à 2100"
   ]
  },
  {
   "cell_type": "code",
   "execution_count": 2,
   "metadata": {
    "id": "p8krlNEa2CLX"
   },
   "outputs": [],
   "source": [
    "annee_fin = 2050"
   ]
  },
  {
   "cell_type": "markdown",
   "metadata": {
    "id": "8AlKE8ss2Cku"
   },
   "source": [
    "### Nombre de réplications \n",
    "- valeurs possibles : 1 à 200"
   ]
  },
  {
   "cell_type": "code",
   "execution_count": 3,
   "metadata": {
    "id": "07twCcp1C7NX"
   },
   "outputs": [],
   "source": [
    "nb_rep = 1"
   ]
  },
  {
   "cell_type": "markdown",
   "metadata": {
    "id": "nwxo4b7DDBVk"
   },
   "source": [
    "### Hypothèses du modèle\n",
    "\n",
    "       "
   ]
  },
  {
   "cell_type": "markdown",
   "metadata": {
    "id": "tfaeNgtmj2t2"
   },
   "source": [
    "#### Fécondité"
   ]
  },
  {
   "cell_type": "markdown",
   "metadata": {
    "id": "0qL2q0R_lfHC"
   },
   "source": [
    "Choix :\n",
    "- weak (faible)\n",
    "- reference (moyenne)\n",
    "- strong (élevée)"
   ]
  },
  {
   "cell_type": "code",
   "execution_count": 4,
   "metadata": {
    "id": "WEmcyKBBGiEJ"
   },
   "outputs": [],
   "source": [
    "fecondite = 'reference'"
   ]
  },
  {
   "cell_type": "markdown",
   "metadata": {
    "id": "fbmoD1mhGiWL"
   },
   "source": [
    "#### Mortalité\n"
   ]
  },
  {
   "cell_type": "markdown",
   "metadata": {
    "id": "J3oN1u-Il7_9"
   },
   "source": [
    "Choix :\n",
    "- low (faible)\n",
    "- medium (moyen)\n",
    "- high (élevé)"
   ]
  },
  {
   "cell_type": "code",
   "execution_count": 5,
   "metadata": {
    "id": "__NE2RZsG4bP"
   },
   "outputs": [],
   "source": [
    "mortalite = 'low'"
   ]
  },
  {
   "cell_type": "markdown",
   "metadata": {
    "id": "7MTzaXmXawU1"
   },
   "source": [
    "#### Immigration"
   ]
  },
  {
   "cell_type": "markdown",
   "metadata": {
    "id": "h8DZhM_ba9pb"
   },
   "source": [
    "- valeurs possibles : 0 à 1"
   ]
  },
  {
   "cell_type": "markdown",
   "metadata": {
    "id": "mJfs6YIEd55A"
   },
   "source": [
    "**Taux prospectif d'immigration internationnale**\n",
    "\n",
    "(une valeur de 0,0066 corresponds à 55 000 nouveaux immigrants en 2017 sur une population de 8 302 063)."
   ]
  },
  {
   "cell_type": "code",
   "execution_count": 6,
   "metadata": {
    "id": "UuFC08UBa2Yl"
   },
   "outputs": [],
   "source": [
    "taux_immigration = 0.0066"
   ]
  },
  {
   "cell_type": "markdown",
   "metadata": {
    "id": "-xq6a8zVnGdA"
   },
   "source": [
    "# Initialisation du modèle"
   ]
  },
  {
   "cell_type": "markdown",
   "metadata": {
    "id": "-1i8ACm2qmWQ"
   },
   "source": [
    "## Importation des packages"
   ]
  },
  {
   "cell_type": "code",
   "execution_count": 7,
   "metadata": {
    "id": "xzifaxU4BH9m"
   },
   "outputs": [],
   "source": [
    "import warnings\n",
    "import pandas as pd \n",
    "import numpy as np\n",
    "from matplotlib import pyplot as plt\n",
    "warnings.filterwarnings(\"ignore\")"
   ]
  },
  {
   "cell_type": "markdown",
   "metadata": {
    "id": "MzgZcJb6oGZR"
   },
   "source": [
    "## Importation des fonctions et des classes de SIMGEN"
   ]
  },
  {
   "cell_type": "markdown",
   "metadata": {},
   "source": [
    "Si vous avez utilisé l'installation manuelle, vous devez ajouter dans une cellule ci-dessous le code suivant:\n",
    "\n",
    "import sys\n",
    "sys.path.append('.../packages')\n",
    "\n",
    "où '.../packages' correspond au chemin d'accès du dossier où vous avez sauvegardé le package *simgen*."
   ]
  },
  {
   "cell_type": "code",
   "execution_count": 8,
   "metadata": {
    "id": "g_wshE-Vn9eQ"
   },
   "outputs": [],
   "source": [
    "import simgen\n",
    "from simgen import model, formating"
   ]
  },
  {
   "cell_type": "markdown",
   "metadata": {
    "id": "YmLS2-9nqSNG"
   },
   "source": [
    "## Formattage données de départ"
   ]
  },
  {
   "cell_type": "markdown",
   "metadata": {
    "id": "_2WqQUJbys7F"
   },
   "source": [
    "La fonction ***bdsps_format***  transforme la BDSPS de Statistique Canada afin de mettre en forme certaines variables et créer les registres des individus (dominants, conjoints et enfants). Cette fonction calibre également les poids des répondants, par âge et sexe, afin de s’arrimer à la population québécoise de 2017, selon l’ISQ."
   ]
  },
  {
   "cell_type": "code",
   "execution_count": 9,
   "metadata": {
    "colab": {
     "base_uri": "https://localhost:8080/",
     "height": 181
    },
    "id": "yoht3K1xo6dn",
    "outputId": "5435b5f1-671f-4e84-efb7-90345b91dd4f"
   },
   "outputs": [],
   "source": [
    "preparation_data=formating()\n",
    "preparation_data.bdsps_format(donnees_brutes)"
   ]
  },
  {
   "cell_type": "markdown",
   "metadata": {
    "id": "DHgRpFjpIFeb"
   },
   "source": [
    "## Création de l'instance du modèle"
   ]
  },
  {
   "cell_type": "code",
   "execution_count": 10,
   "metadata": {
    "id": "BnNOAduV5uBi"
   },
   "outputs": [],
   "source": [
    "base = model(stop_yr=(annee_fin-1))"
   ]
  },
  {
   "cell_type": "markdown",
   "metadata": {
    "id": "zqvvkN-hIajW"
   },
   "source": [
    "## Chargement des principaux intrants "
   ]
  },
  {
   "cell_type": "markdown",
   "metadata": {
    "id": "3jTMp-G2x9Lu"
   },
   "source": [
    "- Base de données de départ"
   ]
  },
  {
   "cell_type": "code",
   "execution_count": 11,
   "metadata": {
    "id": "1A7QsGT5Iaw_"
   },
   "outputs": [],
   "source": [
    "base.startpop('start_pop')"
   ]
  },
  {
   "cell_type": "markdown",
   "metadata": {
    "id": "RwsnBNJRIoeF"
   },
   "source": [
    "- Hypothèse de fécondité"
   ]
  },
  {
   "cell_type": "code",
   "execution_count": 13,
   "metadata": {
    "id": "AucdWJT1In0F"
   },
   "outputs": [],
   "source": [
    "base.birth_assumptions(scenario=fecondite)"
   ]
  },
  {
   "cell_type": "markdown",
   "metadata": {
    "id": "NUpmkWqDIo91"
   },
   "source": [
    "- Hypothèse de mortalité"
   ]
  },
  {
   "cell_type": "code",
   "execution_count": 14,
   "metadata": {
    "id": "6iqYRKGgIn3r"
   },
   "outputs": [],
   "source": [
    "base.dead_assumptions(scenario=mortalite)"
   ]
  },
  {
   "cell_type": "markdown",
   "metadata": {
    "id": "bXkrcGCkIcaj"
   },
   "source": [
    "- Base de données à partir de laquelle les immigrants sont sélectionnés"
   ]
  },
  {
   "cell_type": "code",
   "execution_count": 12,
   "metadata": {
    "id": "LwyO68SRIdZc"
   },
   "outputs": [],
   "source": [
    "base.immig_assumptions(init='imm_pop', num=taux_immigration)"
   ]
  },
  {
   "cell_type": "markdown",
   "metadata": {
    "id": "ZV9nYFIy4k2G"
   },
   "source": [
    "# Lancement de la simulation"
   ]
  },
  {
   "cell_type": "code",
   "execution_count": 15,
   "metadata": {
    "colab": {
     "base_uri": "https://localhost:8080/"
    },
    "id": "uFSHfAcNqKdh",
    "outputId": "50379575-b6d3-4691-92a0-9754e1614a8e"
   },
   "outputs": [
    {
     "name": "stdout",
     "output_type": "stream",
     "text": [
      "year: 2049 replication: 1\r"
     ]
    }
   ],
   "source": [
    "base.simulate(rep=nb_rep)"
   ]
  },
  {
   "cell_type": "markdown",
   "metadata": {
    "id": "pOg0dBUQ6NvR"
   },
   "source": [
    "# Affichage des résultats"
   ]
  },
  {
   "cell_type": "markdown",
   "metadata": {
    "id": "T2yNyyh7X82b"
   },
   "source": [
    "Le paramètre *annee_debut_affi* sert d'année de départ pour l'affichage des résultats. Cette valeur doit être supérieure ou égale à 2017 et inférieure à l'année de fin."
   ]
  },
  {
   "cell_type": "code",
   "execution_count": 16,
   "metadata": {
    "id": "UC6mahTFW-ZJ"
   },
   "outputs": [],
   "source": [
    "annee_debut_affi = 2020"
   ]
  },
  {
   "cell_type": "markdown",
   "metadata": {
    "id": "ZoYEfDet-WdL"
   },
   "source": [
    "## Taille de la population"
   ]
  },
  {
   "cell_type": "markdown",
   "metadata": {
    "id": "uRGtoC-2Flm6"
   },
   "source": [
    "Calcul des fréquences pour la population totale"
   ]
  },
  {
   "cell_type": "code",
   "execution_count": 17,
   "metadata": {
    "id": "Ze_hk7LdFplm"
   },
   "outputs": [],
   "source": [
    "pop = base.stats.freq()"
   ]
  },
  {
   "cell_type": "markdown",
   "metadata": {
    "id": "dVGp-LfNPvHh"
   },
   "source": [
    "Affichage du graphique"
   ]
  },
  {
   "cell_type": "code",
   "execution_count": 18,
   "metadata": {
    "colab": {
     "base_uri": "https://localhost:8080/",
     "height": 350
    },
    "id": "sAWI5hWc7Nwx",
    "outputId": "5fd1a8f5-8ea0-4182-f2d5-bd8aad053325"
   },
   "outputs": [
    {
     "data": {
      "image/png": "[encoded data removed]",
      "text/plain": [
       "<Figure size 720x360 with 1 Axes>"
      ]
     },
     "metadata": {
      "needs_background": "light"
     },
     "output_type": "display_data"
    }
   ],
   "source": [
    "plt.figure(figsize=(10,5))\n",
    "plt.plot(pop.loc[annee_debut_affi:]/1e6, color='red')\n",
    "plt.title('Population, Québec, '+str(annee_debut_affi)+'-'+str(annee_fin))\n",
    "plt.ylabel('Population (en millions)')\n",
    "plt.xlabel('Année')\n",
    "plt.show()"
   ]
  },
  {
   "cell_type": "markdown",
   "metadata": {
    "id": "m9Tpk4UYJn4d"
   },
   "source": [
    "Production du tableau"
   ]
  },
  {
   "cell_type": "code",
   "execution_count": 19,
   "metadata": {
    "id": "b5kOjdR_6ZoA"
   },
   "outputs": [],
   "source": [
    "saut = int((len(pop.loc[annee_debut_affi:])-1)/3)\n",
    "\n",
    "if len(pop)>=5:\n",
    "  table_annee = {1:annee_debut_affi,2:(annee_debut_affi+saut),3:(annee_debut_affi+2*saut),4:(annee_debut_affi+3*saut)}\n",
    "\n",
    "  table = pd.DataFrame(index=[str(table_annee[1]),str(table_annee[2]),str(table_annee[3]), str(table_annee[4])], columns=['Fréquence'])\n",
    "\n",
    "  for i in range(0,4):\n",
    "    j = annee_debut_affi + i*saut\n",
    "    table.iloc[i,0] = round(pop[j]/1e6,1)\n",
    "else:\n",
    "  table = pd.DataFrame(index=[str(annee_debut_affi),str(annee_debut_affi+1),str(annee_debut_affi+2), str(annee_debut_affi+3), str(annee_debut_affi+4)], columns=['Fréquence'])\n",
    "\n",
    "  for i in range(0,(len(pop))):\n",
    "    j = annee_debut_affi + i\n",
    "\n",
    "    table.iloc[i,0] = round(pop[j]/1e6,1)"
   ]
  },
  {
   "cell_type": "markdown",
   "metadata": {
    "id": "l8HVLAgSJMo3"
   },
   "source": [
    "Affichage tableau"
   ]
  },
  {
   "cell_type": "code",
   "execution_count": 20,
   "metadata": {
    "colab": {
     "base_uri": "https://localhost:8080/",
     "height": 173
    },
    "id": "yj1IRY39JNK-",
    "outputId": "91e1b9f2-bf24-4ec2-f495-d749b4cc7424"
   },
   "outputs": [
    {
     "data": {
      "text/html": [
       "<div>\n",
       "<style scoped>\n",
       "    .dataframe tbody tr th:only-of-type {\n",
       "        vertical-align: middle;\n",
       "    }\n",
       "\n",
       "    .dataframe tbody tr th {\n",
       "        vertical-align: top;\n",
       "    }\n",
       "\n",
       "    .dataframe thead th {\n",
       "        text-align: right;\n",
       "    }\n",
       "</style>\n",
       "<table border=\"1\" class=\"dataframe\">\n",
       "  <thead>\n",
       "    <tr style=\"text-align: right;\">\n",
       "      <th></th>\n",
       "      <th>Fréquence</th>\n",
       "    </tr>\n",
       "  </thead>\n",
       "  <tbody>\n",
       "    <tr>\n",
       "      <th>2020</th>\n",
       "      <td>8.4</td>\n",
       "    </tr>\n",
       "    <tr>\n",
       "      <th>2030</th>\n",
       "      <td>8.9</td>\n",
       "    </tr>\n",
       "    <tr>\n",
       "      <th>2040</th>\n",
       "      <td>9.3</td>\n",
       "    </tr>\n",
       "    <tr>\n",
       "      <th>2050</th>\n",
       "      <td>9.6</td>\n",
       "    </tr>\n",
       "  </tbody>\n",
       "</table>\n",
       "</div>"
      ],
      "text/plain": [
       "     Fréquence\n",
       "2020       8.4\n",
       "2030       8.9\n",
       "2040       9.3\n",
       "2050       9.6"
      ]
     },
     "execution_count": 20,
     "metadata": {},
     "output_type": "execute_result"
    }
   ],
   "source": [
    "table"
   ]
  },
  {
   "cell_type": "markdown",
   "metadata": {
    "id": "YzDuUTiwG1_Z"
   },
   "source": [
    "### Selon le sexe"
   ]
  },
  {
   "cell_type": "markdown",
   "metadata": {
    "id": "XC4B-Jh0FSbU"
   },
   "source": [
    "Calcul des fréquences selon le sexe"
   ]
  },
  {
   "cell_type": "code",
   "execution_count": 21,
   "metadata": {
    "id": "M7OVa3N46DI5"
   },
   "outputs": [],
   "source": [
    "pop_m=base.stats.freq(sub='male==True')\n",
    "pop_f=base.stats.freq(sub='male==False')"
   ]
  },
  {
   "cell_type": "markdown",
   "metadata": {
    "id": "t02lEOlHMLqs"
   },
   "source": [
    "Affichage du graphique"
   ]
  },
  {
   "cell_type": "code",
   "execution_count": 22,
   "metadata": {
    "colab": {
     "base_uri": "https://localhost:8080/",
     "height": 350
    },
    "id": "A3KEN0DcC1RO",
    "outputId": "db8a71eb-33b7-4c54-85b1-1e0f75840f38"
   },
   "outputs": [
    {
     "data": {
      "image/png": "[encoded data removed]",
      "text/plain": [
       "<Figure size 720x360 with 1 Axes>"
      ]
     },
     "metadata": {
      "needs_background": "light"
     },
     "output_type": "display_data"
    }
   ],
   "source": [
    "plt.figure(figsize=(10,5))\n",
    "plt.plot(pop_m.loc[annee_debut_affi:]/1e6, label='Hommes', color='green')\n",
    "plt.plot(pop_f.loc[annee_debut_affi:]/1e6, label='Femmes', color='blue')\n",
    "plt.legend()\n",
    "plt.xlabel('Année')\n",
    "plt.ylabel('Population (en millions)')\n",
    "plt.title('Population selon le sexe, Québec, '+str(annee_debut_affi)+'-'+str(annee_fin))\n",
    "plt.show()"
   ]
  },
  {
   "cell_type": "markdown",
   "metadata": {
    "id": "jysC6GAHL68c"
   },
   "source": [
    "Production du tableau"
   ]
  },
  {
   "cell_type": "code",
   "execution_count": 23,
   "metadata": {
    "id": "4NcWYUUlL7OS"
   },
   "outputs": [],
   "source": [
    "saut = int((len(pop.loc[annee_debut_affi:])-1)/3)\n",
    "\n",
    "if len(pop)>=5:\n",
    "  table_annee = {1:annee_debut_affi,2:(annee_debut_affi+saut),3:(annee_debut_affi+2*saut),4:(annee_debut_affi+3*saut)}\n",
    "\n",
    "  table = pd.DataFrame(index=[str(table_annee[1]),str(table_annee[2]),str(table_annee[3]), str(table_annee[4])], columns=['Hommes', 'Femmes'])\n",
    "\n",
    "  for i in range(0,4):\n",
    "    j = annee_debut_affi + i*saut\n",
    "\n",
    "    table.iloc[i,0] = round(pop_m[j]/1e6,1)\n",
    "    table.iloc[i,1] = round(pop_f[j]/1e6,1)\n",
    "else:\n",
    "  table = pd.DataFrame(index=[str(annee_debut_affi),str(annee_debut_affi+1),str(annee_debut_affi+2), str(annee_debut_affi+3), str(annee_debut_affi+4)], columns=['Hommes', 'Femmes'])\n",
    "\n",
    "  for i in range(0,(len(pop))):\n",
    "    j = annee_debut_affi + i\n",
    "\n",
    "    table.iloc[i,0] = round(pop_m[j]/1e6,1)\n",
    "    table.iloc[i,1] = round(pop_f[j]/1e6,1)"
   ]
  },
  {
   "cell_type": "markdown",
   "metadata": {
    "id": "HpwnvMReL7eZ"
   },
   "source": [
    "Affichage tableau"
   ]
  },
  {
   "cell_type": "code",
   "execution_count": 24,
   "metadata": {
    "colab": {
     "base_uri": "https://localhost:8080/",
     "height": 173
    },
    "id": "IZidZg__L7nq",
    "outputId": "19e1bdf8-cce0-43df-d06a-854782c6f523"
   },
   "outputs": [
    {
     "data": {
      "text/html": [
       "<div>\n",
       "<style scoped>\n",
       "    .dataframe tbody tr th:only-of-type {\n",
       "        vertical-align: middle;\n",
       "    }\n",
       "\n",
       "    .dataframe tbody tr th {\n",
       "        vertical-align: top;\n",
       "    }\n",
       "\n",
       "    .dataframe thead th {\n",
       "        text-align: right;\n",
       "    }\n",
       "</style>\n",
       "<table border=\"1\" class=\"dataframe\">\n",
       "  <thead>\n",
       "    <tr style=\"text-align: right;\">\n",
       "      <th></th>\n",
       "      <th>Hommes</th>\n",
       "      <th>Femmes</th>\n",
       "    </tr>\n",
       "  </thead>\n",
       "  <tbody>\n",
       "    <tr>\n",
       "      <th>2020</th>\n",
       "      <td>4.2</td>\n",
       "      <td>4.2</td>\n",
       "    </tr>\n",
       "    <tr>\n",
       "      <th>2030</th>\n",
       "      <td>4.4</td>\n",
       "      <td>4.5</td>\n",
       "    </tr>\n",
       "    <tr>\n",
       "      <th>2040</th>\n",
       "      <td>4.6</td>\n",
       "      <td>4.7</td>\n",
       "    </tr>\n",
       "    <tr>\n",
       "      <th>2050</th>\n",
       "      <td>4.7</td>\n",
       "      <td>4.8</td>\n",
       "    </tr>\n",
       "  </tbody>\n",
       "</table>\n",
       "</div>"
      ],
      "text/plain": [
       "     Hommes Femmes\n",
       "2020    4.2    4.2\n",
       "2030    4.4    4.5\n",
       "2040    4.6    4.7\n",
       "2050    4.7    4.8"
      ]
     },
     "execution_count": 24,
     "metadata": {},
     "output_type": "execute_result"
    }
   ],
   "source": [
    "table"
   ]
  },
  {
   "cell_type": "markdown",
   "metadata": {
    "id": "vGTDJC80HCC3"
   },
   "source": [
    "### Selon le groupe d'âge"
   ]
  },
  {
   "cell_type": "markdown",
   "metadata": {
    "id": "42JOyCnb-oMz"
   },
   "source": [
    "Calcul des fréquences par groupe d'âge (moins de 25 ans, 25 à 64 ans, 65 et plus)"
   ]
  },
  {
   "cell_type": "code",
   "execution_count": 25,
   "metadata": {
    "id": "ViGa49LW9y-L"
   },
   "outputs": [],
   "source": [
    "pop_0_24=base.stats.freq(sub='age<25')\n",
    "pop_25_64=base.stats.freq(sub='age>24 and age<65')\n",
    "pop_65_plus=base.stats.freq(sub='age>64')"
   ]
  },
  {
   "cell_type": "markdown",
   "metadata": {
    "id": "6HvoLe0FK9z6"
   },
   "source": [
    "Affichage du graphique"
   ]
  },
  {
   "cell_type": "code",
   "execution_count": 26,
   "metadata": {
    "colab": {
     "base_uri": "https://localhost:8080/",
     "height": 350
    },
    "id": "8nLS_h-5-e5D",
    "outputId": "bce5ea2b-af18-4a74-ba57-e71f194c1cfa"
   },
   "outputs": [
    {
     "data": {
      "image/png": "[encoded data removed]",
      "text/plain": [
       "<Figure size 720x360 with 1 Axes>"
      ]
     },
     "metadata": {
      "needs_background": "light"
     },
     "output_type": "display_data"
    }
   ],
   "source": [
    "plt.figure(figsize=(10,5))\n",
    "plt.plot(pop_0_24.loc[annee_debut_affi:]/1e6, label='Moins de 25 ans', color='green')\n",
    "plt.plot(pop_25_64.loc[annee_debut_affi:]/1e6, label='25 à 64 ans', color='orange')\n",
    "plt.plot(pop_65_plus.loc[annee_debut_affi:]/1e6, label='65 ans et plus', color='red')\n",
    "plt.legend()\n",
    "plt.ylabel('Population (en millions)')\n",
    "plt.xlabel('Année')\n",
    "plt.title('Population par groupe d´âge, Québec, '+str(annee_debut_affi)+'-'+str(annee_fin))\n",
    "plt.show()"
   ]
  },
  {
   "cell_type": "markdown",
   "metadata": {
    "id": "HbUrgrnKMi8d"
   },
   "source": [
    "Production du tableau"
   ]
  },
  {
   "cell_type": "code",
   "execution_count": 27,
   "metadata": {
    "id": "S669S_ooMi8d"
   },
   "outputs": [],
   "source": [
    "saut = int((len(pop.loc[annee_debut_affi:])-1)/3)\n",
    "\n",
    "if len(pop)>=5:\n",
    "  table_annee = {1:annee_debut_affi,2:(annee_debut_affi+saut),3:(annee_debut_affi+2*saut),4:(annee_debut_affi+3*saut)}\n",
    "\n",
    "  table = pd.DataFrame(index=[str(table_annee[1]),str(table_annee[2]),str(table_annee[3]), str(table_annee[4])], columns=['Moins de 25 ans', '25 à 64 ans','65 ans et plus'])\n",
    "\n",
    "  for i in range(0,4):\n",
    "    j = annee_debut_affi + i*saut\n",
    "\n",
    "    table.iloc[i,0] = round(pop_0_24[j]/1e6,1)\n",
    "    table.iloc[i,1] = round(pop_25_64[j]/1e6,1)\n",
    "    table.iloc[i,2] = round(pop_65_plus[j]/1e6,1)\n",
    "else:\n",
    "  table = pd.DataFrame(index=[str(annee_debut_affi),str(annee_debut_affi+1),str(annee_debut_affi+2), str(annee_debut_affi+3), str(annee_debut_affi+4)], columns=['Moins de 25 ans', '25 à 64 ans','65 ans et plus'])\n",
    "\n",
    "  for i in range(0,(len(pop))):\n",
    "    j = annee_debut_affi + i\n",
    "\n",
    "    table.iloc[i,0] = round(pop_0_24[j]/1e6,1)\n",
    "    table.iloc[i,1] = round(pop_25_64[j]/1e6,1)\n",
    "    table.iloc[i,2] = round(pop_65_plus[j]/1e6,1)"
   ]
  },
  {
   "cell_type": "markdown",
   "metadata": {
    "id": "DDxMDMO6Mi8d"
   },
   "source": [
    "Affichage tableau"
   ]
  },
  {
   "cell_type": "code",
   "execution_count": 28,
   "metadata": {
    "colab": {
     "base_uri": "https://localhost:8080/",
     "height": 173
    },
    "id": "LCCXSnlfMi8d",
    "outputId": "258771ab-eafb-419c-9b79-7a412d5954f7"
   },
   "outputs": [
    {
     "data": {
      "text/html": [
       "<div>\n",
       "<style scoped>\n",
       "    .dataframe tbody tr th:only-of-type {\n",
       "        vertical-align: middle;\n",
       "    }\n",
       "\n",
       "    .dataframe tbody tr th {\n",
       "        vertical-align: top;\n",
       "    }\n",
       "\n",
       "    .dataframe thead th {\n",
       "        text-align: right;\n",
       "    }\n",
       "</style>\n",
       "<table border=\"1\" class=\"dataframe\">\n",
       "  <thead>\n",
       "    <tr style=\"text-align: right;\">\n",
       "      <th></th>\n",
       "      <th>Moins de 25 ans</th>\n",
       "      <th>25 à 64 ans</th>\n",
       "      <th>65 ans et plus</th>\n",
       "    </tr>\n",
       "  </thead>\n",
       "  <tbody>\n",
       "    <tr>\n",
       "      <th>2020</th>\n",
       "      <td>2.2</td>\n",
       "      <td>4.6</td>\n",
       "      <td>1.7</td>\n",
       "    </tr>\n",
       "    <tr>\n",
       "      <th>2030</th>\n",
       "      <td>2.1</td>\n",
       "      <td>4.6</td>\n",
       "      <td>2.2</td>\n",
       "    </tr>\n",
       "    <tr>\n",
       "      <th>2040</th>\n",
       "      <td>2.1</td>\n",
       "      <td>4.8</td>\n",
       "      <td>2.4</td>\n",
       "    </tr>\n",
       "    <tr>\n",
       "      <th>2050</th>\n",
       "      <td>2.1</td>\n",
       "      <td>4.8</td>\n",
       "      <td>2.7</td>\n",
       "    </tr>\n",
       "  </tbody>\n",
       "</table>\n",
       "</div>"
      ],
      "text/plain": [
       "     Moins de 25 ans 25 à 64 ans 65 ans et plus\n",
       "2020             2.2         4.6            1.7\n",
       "2030             2.1         4.6            2.2\n",
       "2040             2.1         4.8            2.4\n",
       "2050             2.1         4.8            2.7"
      ]
     },
     "execution_count": 28,
     "metadata": {},
     "output_type": "execute_result"
    }
   ],
   "source": [
    "table"
   ]
  },
  {
   "cell_type": "markdown",
   "metadata": {
    "id": "6VxdRRwwE92q"
   },
   "source": [
    "### Selon la tranche d'âge"
   ]
  },
  {
   "cell_type": "markdown",
   "metadata": {
    "id": "81A910-YHbgt"
   },
   "source": [
    "Calcul des fréquences par âge"
   ]
  },
  {
   "cell_type": "code",
   "execution_count": 29,
   "metadata": {
    "id": "azwT6KDkHK_C"
   },
   "outputs": [],
   "source": [
    "baset=base.stats.freq('age').T"
   ]
  },
  {
   "cell_type": "markdown",
   "metadata": {
    "id": "6K2GiPxNOdfX"
   },
   "source": [
    "Année de la première série"
   ]
  },
  {
   "cell_type": "code",
   "execution_count": 30,
   "metadata": {
    "id": "rJ_dNO7IOhOg"
   },
   "outputs": [],
   "source": [
    "annee_serie1 = annee_debut_affi"
   ]
  },
  {
   "cell_type": "markdown",
   "metadata": {
    "id": "sHXNvM5kOlzC"
   },
   "source": [
    "Année de la deuxième série"
   ]
  },
  {
   "cell_type": "code",
   "execution_count": 31,
   "metadata": {
    "id": "WRbvY-EtOogE"
   },
   "outputs": [],
   "source": [
    "annee_serie2 = annee_fin"
   ]
  },
  {
   "cell_type": "markdown",
   "metadata": {
    "id": "4eFKGH1kLb_A"
   },
   "source": [
    "Affichage du graphique"
   ]
  },
  {
   "cell_type": "code",
   "execution_count": 32,
   "metadata": {
    "colab": {
     "base_uri": "https://localhost:8080/",
     "height": 352
    },
    "id": "4Ln1zENVHLlV",
    "outputId": "0c5e3706-321b-4f39-ab67-4164d211a24e"
   },
   "outputs": [
    {
     "data": {
      "image/png": "[encoded data removed]",
      "text/plain": [
       "<Figure size 720x360 with 1 Axes>"
      ]
     },
     "metadata": {
      "needs_background": "light"
     },
     "output_type": "display_data"
    }
   ],
   "source": [
    "plt.figure(figsize=(10,5))\n",
    "plt.plot(baset[[annee_serie1]]/1000,label=str(annee_serie1))\n",
    "plt.plot(baset[[annee_serie2]]/1000,label=str(annee_serie2))\n",
    "plt.ylabel('Population (en milliers)')\n",
    "plt.xlabel('Âge')\n",
    "plt.legend()\n",
    "plt.title('Population par tranche d´âge, Québec, '+str(annee_debut_affi)+'-'+str(annee_fin))\n",
    "plt.show()"
   ]
  },
  {
   "cell_type": "markdown",
   "metadata": {
    "id": "2PdD2LyNMpVk"
   },
   "source": [
    "Production du tableau"
   ]
  },
  {
   "cell_type": "code",
   "execution_count": 33,
   "metadata": {
    "id": "onxk9_MUMpVl"
   },
   "outputs": [],
   "source": [
    "table = pd.DataFrame(index=['0 ans','20 ans','40 ans', '60 ans','80 ans'], columns=[str(annee_serie1), str(annee_serie2)])\n",
    "\n",
    "for i in range(0,5):\n",
    "  j = i*20\n",
    "  table.iloc[i,0] = round(baset[annee_serie1].loc[j]/1000,1)\n",
    "  table.iloc[i,1] = round(baset[annee_serie2].loc[j]/1000,1)"
   ]
  },
  {
   "cell_type": "markdown",
   "metadata": {
    "id": "V-QjRZJ1MpVl"
   },
   "source": [
    "Affichage tableau"
   ]
  },
  {
   "cell_type": "code",
   "execution_count": 34,
   "metadata": {
    "colab": {
     "base_uri": "https://localhost:8080/",
     "height": 204
    },
    "id": "kh9VoTOkMpVl",
    "outputId": "85d39e86-7c44-4d7a-81b7-9eedaade35a3"
   },
   "outputs": [
    {
     "data": {
      "text/html": [
       "<div>\n",
       "<style scoped>\n",
       "    .dataframe tbody tr th:only-of-type {\n",
       "        vertical-align: middle;\n",
       "    }\n",
       "\n",
       "    .dataframe tbody tr th {\n",
       "        vertical-align: top;\n",
       "    }\n",
       "\n",
       "    .dataframe thead th {\n",
       "        text-align: right;\n",
       "    }\n",
       "</style>\n",
       "<table border=\"1\" class=\"dataframe\">\n",
       "  <thead>\n",
       "    <tr style=\"text-align: right;\">\n",
       "      <th></th>\n",
       "      <th>2020</th>\n",
       "      <th>2050</th>\n",
       "    </tr>\n",
       "  </thead>\n",
       "  <tbody>\n",
       "    <tr>\n",
       "      <th>0 ans</th>\n",
       "      <td>83.9</td>\n",
       "      <td>88.8</td>\n",
       "    </tr>\n",
       "    <tr>\n",
       "      <th>20 ans</th>\n",
       "      <td>87.4</td>\n",
       "      <td>85.6</td>\n",
       "    </tr>\n",
       "    <tr>\n",
       "      <th>40 ans</th>\n",
       "      <td>123</td>\n",
       "      <td>125.5</td>\n",
       "    </tr>\n",
       "    <tr>\n",
       "      <th>60 ans</th>\n",
       "      <td>127.7</td>\n",
       "      <td>141</td>\n",
       "    </tr>\n",
       "    <tr>\n",
       "      <th>80 ans</th>\n",
       "      <td>49.1</td>\n",
       "      <td>85.4</td>\n",
       "    </tr>\n",
       "  </tbody>\n",
       "</table>\n",
       "</div>"
      ],
      "text/plain": [
       "         2020   2050\n",
       "0 ans    83.9   88.8\n",
       "20 ans   87.4   85.6\n",
       "40 ans    123  125.5\n",
       "60 ans  127.7    141\n",
       "80 ans   49.1   85.4"
      ]
     },
     "execution_count": 34,
     "metadata": {},
     "output_type": "execute_result"
    }
   ],
   "source": [
    "table"
   ]
  },
  {
   "cell_type": "markdown",
   "metadata": {
    "id": "GHroe-pn_2S_"
   },
   "source": [
    "## Niveau de scolarité"
   ]
  },
  {
   "cell_type": "markdown",
   "metadata": {
    "id": "9G8eBM90__gQ"
   },
   "source": [
    "Calcul des proportions par niveau de scolarité des individus de 25 à 64 ans"
   ]
  },
  {
   "cell_type": "code",
   "execution_count": 35,
   "metadata": {
    "id": "R2XLnp9LQLmw"
   },
   "outputs": [],
   "source": [
    "prop_educ = base.stats.prop('educ', sub=\"age>=25 and age<=64 and insch==False\")"
   ]
  },
  {
   "cell_type": "markdown",
   "metadata": {
    "id": "EcC49sqwLdW4"
   },
   "source": [
    "Affichage du graphique"
   ]
  },
  {
   "cell_type": "code",
   "execution_count": 36,
   "metadata": {
    "colab": {
     "base_uri": "https://localhost:8080/",
     "height": 350
    },
    "id": "h2-O37dgAN8e",
    "outputId": "83b6f883-1c80-4796-8475-29aa0dc9b1d4"
   },
   "outputs": [
    {
     "data": {
      "image/png": "[encoded data removed]",
      "text/plain": [
       "<Figure size 720x360 with 1 Axes>"
      ]
     },
     "metadata": {
      "needs_background": "light"
     },
     "output_type": "display_data"
    }
   ],
   "source": [
    "plt.figure(figsize=(10,5))\n",
    "plt.plot(prop_educ['dec'].loc[annee_debut_affi:]*100, label='Collégial', color='red')\n",
    "plt.plot(prop_educ['uni'].loc[annee_debut_affi:]*100, label='Universitaire', color='blue')\n",
    "plt.plot(prop_educ['des'].loc[annee_debut_affi:]*100, label='Secondaire', color='orange')\n",
    "plt.plot(prop_educ['none'].loc[annee_debut_affi:]*100, label='Sans diplôme', color='green')\n",
    "plt.ylim(0, 45)\n",
    "plt.legend()\n",
    "plt.ylabel('Part (en %)')\n",
    "plt.xlabel('Année')\n",
    "plt.title('Part de la population de 25 à 64 ans selon le niveau de scolarité, Québec, '+str(annee_debut_affi)+'-'+str(annee_fin))\n",
    "plt.show()"
   ]
  },
  {
   "cell_type": "markdown",
   "metadata": {
    "id": "xB9tCFGpMsSN"
   },
   "source": [
    "Production du tableau"
   ]
  },
  {
   "cell_type": "code",
   "execution_count": 37,
   "metadata": {
    "id": "4j-Qu9ZxMsSN"
   },
   "outputs": [],
   "source": [
    "saut = int((len(pop.loc[annee_debut_affi:])-1)/3)\n",
    "\n",
    "if len(pop)>=5:\n",
    "  table_annee = {1:annee_debut_affi,2:(annee_debut_affi+saut),3:(annee_debut_affi+2*saut),4:(annee_debut_affi+3*saut)}\n",
    "\n",
    "  table = pd.DataFrame(index=[str(table_annee[1]),str(table_annee[2]),str(table_annee[3]), str(table_annee[4])], columns=['Sans diplôme','Secondaire','Collégial','Universitaire'])\n",
    "\n",
    "  for i in range(0,4):\n",
    "    j = annee_debut_affi + i*saut\n",
    "\n",
    "    table.iloc[i,0] = round(prop_educ['none'].loc[j]*100,1)\n",
    "    table.iloc[i,1] = round(prop_educ['des'].loc[j]*100,1)\n",
    "    table.iloc[i,2] = round(prop_educ['dec'].loc[j]*100,1)\n",
    "    table.iloc[i,3] = round(prop_educ['uni'].loc[j]*100,1)\n",
    "    \n",
    "else:\n",
    "  table = pd.DataFrame(index=[str(annee_debut_affi),str(annee_debut_affi+1),str(annee_debut_affi+2), str(annee_debut_affi+3), str(annee_debut_affi+4)], columns=['Sans diplôme','Secondaire','Collégial','Universitaire'])\n",
    "\n",
    "  for i in range(0,(len(pop))):\n",
    "    j = annee_debut_affi + i\n",
    "    \n",
    "    table.iloc[i,0] = round(prop_educ['none'].loc[j]*100,1)\n",
    "    table.iloc[i,1] = round(prop_educ['des'].loc[j]*100,1)\n",
    "    table.iloc[i,2] = round(prop_educ['dec'].loc[j]*100,1)\n",
    "    table.iloc[i,3] = round(prop_educ['uni'].loc[j]*100,1)"
   ]
  },
  {
   "cell_type": "markdown",
   "metadata": {
    "id": "J8uZY0u2MsSO"
   },
   "source": [
    "Affichage tableau"
   ]
  },
  {
   "cell_type": "code",
   "execution_count": 38,
   "metadata": {
    "colab": {
     "base_uri": "https://localhost:8080/",
     "height": 173
    },
    "id": "YOIga5UwMsSO",
    "outputId": "0fea78b4-77a0-4ac3-c8cd-5fb137795b4b"
   },
   "outputs": [
    {
     "data": {
      "text/html": [
       "<div>\n",
       "<style scoped>\n",
       "    .dataframe tbody tr th:only-of-type {\n",
       "        vertical-align: middle;\n",
       "    }\n",
       "\n",
       "    .dataframe tbody tr th {\n",
       "        vertical-align: top;\n",
       "    }\n",
       "\n",
       "    .dataframe thead th {\n",
       "        text-align: right;\n",
       "    }\n",
       "</style>\n",
       "<table border=\"1\" class=\"dataframe\">\n",
       "  <thead>\n",
       "    <tr style=\"text-align: right;\">\n",
       "      <th></th>\n",
       "      <th>Sans diplôme</th>\n",
       "      <th>Secondaire</th>\n",
       "      <th>Collégial</th>\n",
       "      <th>Universitaire</th>\n",
       "    </tr>\n",
       "  </thead>\n",
       "  <tbody>\n",
       "    <tr>\n",
       "      <th>2020</th>\n",
       "      <td>14.1</td>\n",
       "      <td>21.3</td>\n",
       "      <td>37.7</td>\n",
       "      <td>26.9</td>\n",
       "    </tr>\n",
       "    <tr>\n",
       "      <th>2030</th>\n",
       "      <td>10.3</td>\n",
       "      <td>19.3</td>\n",
       "      <td>38.5</td>\n",
       "      <td>31.9</td>\n",
       "    </tr>\n",
       "    <tr>\n",
       "      <th>2040</th>\n",
       "      <td>8.4</td>\n",
       "      <td>17.2</td>\n",
       "      <td>39</td>\n",
       "      <td>35.4</td>\n",
       "    </tr>\n",
       "    <tr>\n",
       "      <th>2050</th>\n",
       "      <td>7.7</td>\n",
       "      <td>17.4</td>\n",
       "      <td>37.1</td>\n",
       "      <td>37.8</td>\n",
       "    </tr>\n",
       "  </tbody>\n",
       "</table>\n",
       "</div>"
      ],
      "text/plain": [
       "     Sans diplôme Secondaire Collégial Universitaire\n",
       "2020         14.1       21.3      37.7          26.9\n",
       "2030         10.3       19.3      38.5          31.9\n",
       "2040          8.4       17.2        39          35.4\n",
       "2050          7.7       17.4      37.1          37.8"
      ]
     },
     "execution_count": 38,
     "metadata": {},
     "output_type": "execute_result"
    }
   ],
   "source": [
    "table"
   ]
  },
  {
   "cell_type": "markdown",
   "metadata": {
    "id": "grTFYCLBCCi9"
   },
   "source": [
    "## Personnes en couple"
   ]
  },
  {
   "cell_type": "markdown",
   "metadata": {
    "id": "R3VK3LVYJcBB"
   },
   "source": [
    "Calcul de la proportion des personnes en couple auprès les 25 ans et plus"
   ]
  },
  {
   "cell_type": "code",
   "execution_count": 39,
   "metadata": {
    "id": "jWQfeAsqEN6j"
   },
   "outputs": [],
   "source": [
    "propms15plus = base.stats.prop('married', sub=\"age>=15\")"
   ]
  },
  {
   "cell_type": "markdown",
   "metadata": {
    "id": "B7vkwPEtLe6_"
   },
   "source": [
    "Affichage du graphique"
   ]
  },
  {
   "cell_type": "code",
   "execution_count": 40,
   "metadata": {
    "colab": {
     "base_uri": "https://localhost:8080/",
     "height": 350
    },
    "id": "i4wyv3SdJVJB",
    "outputId": "f51d96c7-eeb4-40c9-e829-8de35a07df1b"
   },
   "outputs": [
    {
     "data": {
      "image/png": "[encoded data removed]",
      "text/plain": [
       "<Figure size 720x360 with 1 Axes>"
      ]
     },
     "metadata": {
      "needs_background": "light"
     },
     "output_type": "display_data"
    }
   ],
   "source": [
    "plt.figure(figsize=(10,5))\n",
    "plt.plot(propms15plus[True].loc[annee_debut_affi:]*100, color='blue')\n",
    "plt.ylim(50, 60)\n",
    "plt.title('Part de la population en couple, Québec, '+str(annee_debut_affi)+'-'+str(annee_fin))\n",
    "plt.ylabel('Part (en %)')\n",
    "plt.xlabel('Année')\n",
    "plt.show()"
   ]
  },
  {
   "cell_type": "markdown",
   "metadata": {
    "id": "KJxt_5qNNLt7"
   },
   "source": [
    "Production du tableau"
   ]
  },
  {
   "cell_type": "code",
   "execution_count": 41,
   "metadata": {
    "id": "hMMFR_T1NLt7"
   },
   "outputs": [],
   "source": [
    "saut = int((len(pop.loc[annee_debut_affi:])-1)/3)\n",
    "\n",
    "if len(pop)>=5:\n",
    "  table_annee = {1:annee_debut_affi,2:(annee_debut_affi+saut),3:(annee_debut_affi+2*saut),4:(annee_debut_affi+3*saut)}\n",
    "\n",
    "  table = pd.DataFrame(index=[str(table_annee[1]),str(table_annee[2]),str(table_annee[3]), str(table_annee[4])], columns=['Part (en %)'])\n",
    "\n",
    "  for i in range(0,4):\n",
    "    j = annee_debut_affi + i*saut\n",
    "    \n",
    "    table.iloc[i,0] = round(propms15plus[True].loc[j]*100,1)\n",
    "\n",
    "else:\n",
    "  table = pd.DataFrame(index=[str(annee_debut_affi),str(annee_debut_affi+1),str(annee_debut_affi+2), str(annee_debut_affi+3), str(annee_debut_affi+4)], columns=['Part (en %)'])\n",
    "\n",
    "  for i in range(0,(len(pop))):\n",
    "    j = annee_debut_affi + i\n",
    "\n",
    "    table.iloc[i,0] = round(propms15plus[True].loc[j]*100,1)\n"
   ]
  },
  {
   "cell_type": "markdown",
   "metadata": {
    "id": "VeouvWBGNLt8"
   },
   "source": [
    "Affichage tableau"
   ]
  },
  {
   "cell_type": "code",
   "execution_count": 42,
   "metadata": {
    "colab": {
     "base_uri": "https://localhost:8080/",
     "height": 173
    },
    "id": "LBX8zXTUNLt8",
    "outputId": "47d6f5bd-307b-4fed-970a-baf825c816aa"
   },
   "outputs": [
    {
     "data": {
      "text/html": [
       "<div>\n",
       "<style scoped>\n",
       "    .dataframe tbody tr th:only-of-type {\n",
       "        vertical-align: middle;\n",
       "    }\n",
       "\n",
       "    .dataframe tbody tr th {\n",
       "        vertical-align: top;\n",
       "    }\n",
       "\n",
       "    .dataframe thead th {\n",
       "        text-align: right;\n",
       "    }\n",
       "</style>\n",
       "<table border=\"1\" class=\"dataframe\">\n",
       "  <thead>\n",
       "    <tr style=\"text-align: right;\">\n",
       "      <th></th>\n",
       "      <th>Part (en %)</th>\n",
       "    </tr>\n",
       "  </thead>\n",
       "  <tbody>\n",
       "    <tr>\n",
       "      <th>2020</th>\n",
       "      <td>57.3</td>\n",
       "    </tr>\n",
       "    <tr>\n",
       "      <th>2030</th>\n",
       "      <td>56.8</td>\n",
       "    </tr>\n",
       "    <tr>\n",
       "      <th>2040</th>\n",
       "      <td>56.6</td>\n",
       "    </tr>\n",
       "    <tr>\n",
       "      <th>2050</th>\n",
       "      <td>56.7</td>\n",
       "    </tr>\n",
       "  </tbody>\n",
       "</table>\n",
       "</div>"
      ],
      "text/plain": [
       "     Part (en %)\n",
       "2020        57.3\n",
       "2030        56.8\n",
       "2040        56.6\n",
       "2050        56.7"
      ]
     },
     "execution_count": 42,
     "metadata": {},
     "output_type": "execute_result"
    }
   ],
   "source": [
    "table"
   ]
  },
  {
   "cell_type": "markdown",
   "metadata": {
    "id": "O9TEQoFXLGm4"
   },
   "source": [
    "### Selon le groupe d'âge"
   ]
  },
  {
   "cell_type": "markdown",
   "metadata": {
    "id": "9uAA4JGsLKVO"
   },
   "source": [
    "Calcul des proportions selon le groupe d'âge (20 à 44 ans, 45 à 64 ans, 65 et plus)"
   ]
  },
  {
   "cell_type": "code",
   "execution_count": 43,
   "metadata": {
    "id": "tCYNOqA1K2G0"
   },
   "outputs": [],
   "source": [
    "propms18_44 = base.stats.prop('married', sub=\"age>=18 and age<=44\")\n",
    "propms45_64 = base.stats.prop('married', sub=\"age>=45 and age<=64\")\n",
    "propms65_plus = base.stats.prop('married', sub=\"age>=65\")"
   ]
  },
  {
   "cell_type": "markdown",
   "metadata": {
    "id": "FHAFwS33Lgcf"
   },
   "source": [
    "Affichage du graphique"
   ]
  },
  {
   "cell_type": "code",
   "execution_count": 44,
   "metadata": {
    "colab": {
     "base_uri": "https://localhost:8080/",
     "height": 350
    },
    "id": "e48kHD_ZLq5l",
    "outputId": "dcb301eb-7e4c-4d12-f52e-44b808485450"
   },
   "outputs": [
    {
     "data": {
      "image/png": "[encoded data removed]",
      "text/plain": [
       "<Figure size 720x360 with 1 Axes>"
      ]
     },
     "metadata": {
      "needs_background": "light"
     },
     "output_type": "display_data"
    }
   ],
   "source": [
    "plt.figure(figsize=(10,5))\n",
    "plt.plot(propms18_44[True].loc[annee_debut_affi:]*100, label='18 à 44 ans', color='red')\n",
    "plt.plot(propms45_64[True].loc[annee_debut_affi:]*100, label='45 à 64 ans', color='blue')\n",
    "plt.plot(propms65_plus[True].loc[annee_debut_affi:]*100, label='65 ans et plus', color='green')\n",
    "plt.ylim(40, 80)\n",
    "plt.ylabel('Part (en %)')\n",
    "plt.xlabel('Année')\n",
    "plt.legend()\n",
    "plt.title('Proportion de personnes en couple selon le groupe d`âge, Québec, '+str(annee_debut_affi)+'-'+str(annee_fin))\n",
    "plt.show()"
   ]
  },
  {
   "cell_type": "markdown",
   "metadata": {
    "id": "KX8D0ReJNNO0"
   },
   "source": [
    "Production du tableau"
   ]
  },
  {
   "cell_type": "code",
   "execution_count": 45,
   "metadata": {
    "id": "nJbQ54RQNNO1"
   },
   "outputs": [],
   "source": [
    "saut = int((len(pop.loc[annee_debut_affi:])-1)/3)\n",
    "\n",
    "if len(pop)>=5:\n",
    "  table_annee = {1:annee_debut_affi,2:(annee_debut_affi+saut),3:(annee_debut_affi+2*saut),4:(annee_debut_affi+3*saut)}\n",
    "\n",
    "  table = pd.DataFrame(index=[str(table_annee[1]),str(table_annee[2]),str(table_annee[3]), str(table_annee[4])], columns=['18 à 44 ans', '45 à 64 ans','65 ans et plus'])\n",
    "\n",
    "  for i in range(0,4):\n",
    "    j = annee_debut_affi + i*saut\n",
    "    \n",
    "    table.iloc[i,0] = round(propms18_44[True].loc[j]*100,1)\n",
    "    table.iloc[i,1] = round(propms45_64[True].loc[j]*100,1)\n",
    "    table.iloc[i,2] = round(propms65_plus[True].loc[j]*100,1)\n",
    "else:\n",
    "  table = pd.DataFrame(index=[str(annee_debut_affi),str(annee_debut_affi+1),str(annee_debut_affi+2), str(annee_debut_affi+3), str(annee_debut_affi+4)], columns=['18 à 44 ans', '45 à 64 ans','65 ans et plus'])\n",
    "\n",
    "  for i in range(0,(len(pop))):\n",
    "    j = annee_debut_affi + i\n",
    "\n",
    "    table.iloc[i,0] = round(propms18_44[True].loc[j]*100,1)\n",
    "    table.iloc[i,1] = round(propms45_64[True].loc[j]*100,1)\n",
    "    table.iloc[i,2] = round(propms65_plus[True].loc[j]*100,1)"
   ]
  },
  {
   "cell_type": "markdown",
   "metadata": {
    "id": "9Pufcsr6NNO1"
   },
   "source": [
    "Affichage tableau"
   ]
  },
  {
   "cell_type": "code",
   "execution_count": 46,
   "metadata": {
    "colab": {
     "base_uri": "https://localhost:8080/",
     "height": 173
    },
    "id": "mFA5mEC6NNO1",
    "outputId": "5df6b4ec-d080-4f5a-fec2-ef1a7ac50abf"
   },
   "outputs": [
    {
     "data": {
      "text/html": [
       "<div>\n",
       "<style scoped>\n",
       "    .dataframe tbody tr th:only-of-type {\n",
       "        vertical-align: middle;\n",
       "    }\n",
       "\n",
       "    .dataframe tbody tr th {\n",
       "        vertical-align: top;\n",
       "    }\n",
       "\n",
       "    .dataframe thead th {\n",
       "        text-align: right;\n",
       "    }\n",
       "</style>\n",
       "<table border=\"1\" class=\"dataframe\">\n",
       "  <thead>\n",
       "    <tr style=\"text-align: right;\">\n",
       "      <th></th>\n",
       "      <th>18 à 44 ans</th>\n",
       "      <th>45 à 64 ans</th>\n",
       "      <th>65 ans et plus</th>\n",
       "    </tr>\n",
       "  </thead>\n",
       "  <tbody>\n",
       "    <tr>\n",
       "      <th>2020</th>\n",
       "      <td>53.1</td>\n",
       "      <td>70.9</td>\n",
       "      <td>54</td>\n",
       "    </tr>\n",
       "    <tr>\n",
       "      <th>2030</th>\n",
       "      <td>51.5</td>\n",
       "      <td>67.6</td>\n",
       "      <td>59.2</td>\n",
       "    </tr>\n",
       "    <tr>\n",
       "      <th>2040</th>\n",
       "      <td>51.8</td>\n",
       "      <td>65.4</td>\n",
       "      <td>58.5</td>\n",
       "    </tr>\n",
       "    <tr>\n",
       "      <th>2050</th>\n",
       "      <td>51.4</td>\n",
       "      <td>65.4</td>\n",
       "      <td>58.8</td>\n",
       "    </tr>\n",
       "  </tbody>\n",
       "</table>\n",
       "</div>"
      ],
      "text/plain": [
       "     18 à 44 ans 45 à 64 ans 65 ans et plus\n",
       "2020        53.1        70.9             54\n",
       "2030        51.5        67.6           59.2\n",
       "2040        51.8        65.4           58.5\n",
       "2050        51.4        65.4           58.8"
      ]
     },
     "execution_count": 46,
     "metadata": {},
     "output_type": "execute_result"
    }
   ],
   "source": [
    "table"
   ]
  },
  {
   "cell_type": "markdown",
   "metadata": {
    "id": "F8eZdS5_SqMx"
   },
   "source": [
    "## Nombre d'enfants"
   ]
  },
  {
   "cell_type": "code",
   "execution_count": 47,
   "metadata": {
    "id": "LHipZyqdOD06"
   },
   "outputs": [],
   "source": [
    "prop_enfant = base.stats.prop('nkids', sub=\"age>=18 and age<=54\")"
   ]
  },
  {
   "cell_type": "markdown",
   "metadata": {
    "id": "dnROpwTvLhwb"
   },
   "source": [
    "Affichage du graphiques"
   ]
  },
  {
   "cell_type": "code",
   "execution_count": 48,
   "metadata": {
    "colab": {
     "base_uri": "https://localhost:8080/",
     "height": 350
    },
    "id": "TiiDQqdvtnN2",
    "outputId": "a7c19963-de64-4bb2-a960-8dd6aeead1f3"
   },
   "outputs": [
    {
     "data": {
      "image/png": "[encoded data removed]",
      "text/plain": [
       "<Figure size 720x360 with 1 Axes>"
      ]
     },
     "metadata": {
      "needs_background": "light"
     },
     "output_type": "display_data"
    }
   ],
   "source": [
    "plt.figure(figsize=(10,5))\n",
    "plt.plot(100-prop_enfant.loc[annee_debut_affi:,0]*100, color='blue')\n",
    "plt.ylim(0, 50)\n",
    "plt.ylabel('Part (en %)')\n",
    "plt.xlabel('Année')\n",
    "plt.title('Part de la population de 18 à 54 ans avec au moins un enfant, Québec, '+str(annee_debut_affi)+'-'+str(annee_fin))\n",
    "plt.show()"
   ]
  },
  {
   "cell_type": "markdown",
   "metadata": {
    "id": "smW2n5YaNPpU"
   },
   "source": [
    "Production du tableau"
   ]
  },
  {
   "cell_type": "code",
   "execution_count": 49,
   "metadata": {
    "id": "vwwhE1RhNPpU"
   },
   "outputs": [],
   "source": [
    "saut = int((len(pop.loc[annee_debut_affi:])-1)/3)\n",
    "\n",
    "if len(pop)>=5:\n",
    "  table_annee = {1:annee_debut_affi,2:(annee_debut_affi+saut),3:(annee_debut_affi+2*saut),4:(annee_debut_affi+3*saut)}\n",
    "\n",
    "  table = pd.DataFrame(index=[str(table_annee[1]),str(table_annee[2]),str(table_annee[3]), str(table_annee[4])], columns=['Part (en %)'])\n",
    "\n",
    "  for i in range(0,4):\n",
    "    j = annee_debut_affi + i*saut\n",
    "\n",
    "    table.iloc[i,0] = round((1-prop_enfant.loc[j,0])*100,1)\n",
    "else:\n",
    "  table = pd.DataFrame(index=[str(annee_debut_affi),str(annee_debut_affi+1),str(annee_debut_affi+2), str(annee_debut_affi+3), str(annee_debut_affi+4)], columns=['Part (en %)'])\n",
    "\n",
    "  for i in range(0,(len(pop))):\n",
    "    j = annee_debut_affi + i\n",
    "    \n",
    "    table.iloc[i,0] = round((1-prop_enfant.loc[j,0])*100,1)"
   ]
  },
  {
   "cell_type": "markdown",
   "metadata": {
    "id": "AdwGfWsdNPpV"
   },
   "source": [
    "Affichage tableau"
   ]
  },
  {
   "cell_type": "code",
   "execution_count": 50,
   "metadata": {
    "colab": {
     "base_uri": "https://localhost:8080/",
     "height": 173
    },
    "id": "qTnUZmfzNPpV",
    "outputId": "310c47fc-dd61-4032-8b69-16d4e5d96e08"
   },
   "outputs": [
    {
     "data": {
      "text/html": [
       "<div>\n",
       "<style scoped>\n",
       "    .dataframe tbody tr th:only-of-type {\n",
       "        vertical-align: middle;\n",
       "    }\n",
       "\n",
       "    .dataframe tbody tr th {\n",
       "        vertical-align: top;\n",
       "    }\n",
       "\n",
       "    .dataframe thead th {\n",
       "        text-align: right;\n",
       "    }\n",
       "</style>\n",
       "<table border=\"1\" class=\"dataframe\">\n",
       "  <thead>\n",
       "    <tr style=\"text-align: right;\">\n",
       "      <th></th>\n",
       "      <th>Part (en %)</th>\n",
       "    </tr>\n",
       "  </thead>\n",
       "  <tbody>\n",
       "    <tr>\n",
       "      <th>2020</th>\n",
       "      <td>37.9</td>\n",
       "    </tr>\n",
       "    <tr>\n",
       "      <th>2030</th>\n",
       "      <td>32.1</td>\n",
       "    </tr>\n",
       "    <tr>\n",
       "      <th>2040</th>\n",
       "      <td>23.6</td>\n",
       "    </tr>\n",
       "    <tr>\n",
       "      <th>2050</th>\n",
       "      <td>20.3</td>\n",
       "    </tr>\n",
       "  </tbody>\n",
       "</table>\n",
       "</div>"
      ],
      "text/plain": [
       "     Part (en %)\n",
       "2020        37.9\n",
       "2030        32.1\n",
       "2040        23.6\n",
       "2050        20.3"
      ]
     },
     "execution_count": 50,
     "metadata": {},
     "output_type": "execute_result"
    }
   ],
   "source": [
    "table"
   ]
  },
  {
   "cell_type": "markdown",
   "metadata": {
    "id": "7Aj9y0TtNaM8"
   },
   "source": [
    "Affichage du graphiques"
   ]
  },
  {
   "cell_type": "code",
   "execution_count": 51,
   "metadata": {
    "colab": {
     "base_uri": "https://localhost:8080/",
     "height": 350
    },
    "id": "uP7CLF25u4ME",
    "outputId": "71f4ac0e-d499-4d56-8d98-7d41779724c0"
   },
   "outputs": [
    {
     "data": {
      "image/png": "[encoded data removed]",
      "text/plain": [
       "<Figure size 720x360 with 1 Axes>"
      ]
     },
     "metadata": {
      "needs_background": "light"
     },
     "output_type": "display_data"
    }
   ],
   "source": [
    "plt.figure(figsize=(10,5))\n",
    "plt.plot(prop_enfant.loc[annee_debut_affi:,1]*100, label='1', color='blue')\n",
    "plt.plot(prop_enfant.loc[annee_debut_affi:,2]*100, label='2', color='green')\n",
    "plt.plot(prop_enfant.loc[annee_debut_affi:,3]*100, label='3+', color='orange')\n",
    "plt.ylim(0, 20)\n",
    "plt.ylabel('Part (en %)')\n",
    "plt.xlabel('Année')\n",
    "plt.legend()\n",
    "plt.title('Proportion de personnes de 18 à 54 ans selon nombre d`enfants, Québec, '+str(annee_debut_affi)+'-'+str(annee_fin))\n",
    "plt.show()"
   ]
  },
  {
   "cell_type": "markdown",
   "metadata": {
    "id": "hykxCq_1NRA_"
   },
   "source": [
    "Production du tableau"
   ]
  },
  {
   "cell_type": "code",
   "execution_count": 52,
   "metadata": {
    "id": "F2QSs-zsNRA_"
   },
   "outputs": [],
   "source": [
    "saut = int((len(pop.loc[annee_debut_affi:])-1)/3)\n",
    "\n",
    "if len(pop)>=5:\n",
    "  table_annee = {1:annee_debut_affi,2:(annee_debut_affi+saut),3:(annee_debut_affi+2*saut),4:(annee_debut_affi+3*saut)}\n",
    "\n",
    "  table = pd.DataFrame(index=[str(table_annee[1]),str(table_annee[2]),str(table_annee[3]), str(table_annee[4])], columns=['1 enfant', '2 enfants','3 enfants'])\n",
    "\n",
    "  for i in range(0,4):\n",
    "    j = annee_debut_affi + i*saut\n",
    "    \n",
    "    table.iloc[i,0] = round(prop_enfant.loc[j,1]*100,1)\n",
    "    table.iloc[i,1] = round(prop_enfant.loc[j,2]*100,1)\n",
    "    table.iloc[i,2] = round(prop_enfant.loc[j,3]*100,1)\n",
    "else:\n",
    "  table = pd.DataFrame(index=[str(annee_debut_affi),str(annee_debut_affi+1),str(annee_debut_affi+2), str(annee_debut_affi+3), str(annee_debut_affi+4)], columns=['1 enfant', '2 enfants','3 enfants'])\n",
    "\n",
    "  for i in range(0,(len(pop))):\n",
    "    j = annee_debut_affi + i\n",
    "\n",
    "    table.iloc[i,0] = round(prop_enfant.loc[j,1]*100,1)\n",
    "    table.iloc[i,1] = round(prop_enfant.loc[j,2]*100,1)\n",
    "    table.iloc[i,2] = round(prop_enfant.loc[j,3]*100,1)"
   ]
  },
  {
   "cell_type": "markdown",
   "metadata": {
    "id": "HVdlaZYkNRA_"
   },
   "source": [
    "Affichage tableau"
   ]
  },
  {
   "cell_type": "code",
   "execution_count": 53,
   "metadata": {
    "colab": {
     "base_uri": "https://localhost:8080/",
     "height": 173
    },
    "id": "NpaVBk_TNRA_",
    "outputId": "77c12b86-222a-4b8b-bae9-1601bb36e225"
   },
   "outputs": [
    {
     "data": {
      "text/html": [
       "<div>\n",
       "<style scoped>\n",
       "    .dataframe tbody tr th:only-of-type {\n",
       "        vertical-align: middle;\n",
       "    }\n",
       "\n",
       "    .dataframe tbody tr th {\n",
       "        vertical-align: top;\n",
       "    }\n",
       "\n",
       "    .dataframe thead th {\n",
       "        text-align: right;\n",
       "    }\n",
       "</style>\n",
       "<table border=\"1\" class=\"dataframe\">\n",
       "  <thead>\n",
       "    <tr style=\"text-align: right;\">\n",
       "      <th></th>\n",
       "      <th>1 enfant</th>\n",
       "      <th>2 enfants</th>\n",
       "      <th>3 enfants</th>\n",
       "    </tr>\n",
       "  </thead>\n",
       "  <tbody>\n",
       "    <tr>\n",
       "      <th>2020</th>\n",
       "      <td>15</td>\n",
       "      <td>17.3</td>\n",
       "      <td>4.6</td>\n",
       "    </tr>\n",
       "    <tr>\n",
       "      <th>2030</th>\n",
       "      <td>17.5</td>\n",
       "      <td>11.2</td>\n",
       "      <td>2.8</td>\n",
       "    </tr>\n",
       "    <tr>\n",
       "      <th>2040</th>\n",
       "      <td>12.9</td>\n",
       "      <td>8.6</td>\n",
       "      <td>1.8</td>\n",
       "    </tr>\n",
       "    <tr>\n",
       "      <th>2050</th>\n",
       "      <td>10.9</td>\n",
       "      <td>7.4</td>\n",
       "      <td>1.7</td>\n",
       "    </tr>\n",
       "  </tbody>\n",
       "</table>\n",
       "</div>"
      ],
      "text/plain": [
       "     1 enfant 2 enfants 3 enfants\n",
       "2020       15      17.3       4.6\n",
       "2030     17.5      11.2       2.8\n",
       "2040     12.9       8.6       1.8\n",
       "2050     10.9       7.4       1.7"
      ]
     },
     "execution_count": 53,
     "metadata": {},
     "output_type": "execute_result"
    }
   ],
   "source": [
    "table"
   ]
  },
  {
   "cell_type": "code",
   "execution_count": null,
   "metadata": {
    "id": "oncJWcF2yLPJ"
   },
   "outputs": [],
   "source": []
  }
 ],
 "metadata": {
  "colab": {
   "collapsed_sections": [],
   "name": "Exemple - utilisation SIMGEN",
   "provenance": [],
   "toc_visible": true
  },
  "kernelspec": {
   "display_name": "Python 3",
   "language": "python",
   "name": "python3"
  },
  "language_info": {
   "codemirror_mode": {
    "name": "ipython",
    "version": 3
   },
   "file_extension": ".py",
   "mimetype": "text/x-python",
   "name": "python",
   "nbconvert_exporter": "python",
   "pygments_lexer": "ipython3",
   "version": "3.8.5"
  }
 },
 "nbformat": 4,
 "nbformat_minor": 1
}
