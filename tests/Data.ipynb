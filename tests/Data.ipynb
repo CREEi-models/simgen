{
 "cells": [
  {
   "cell_type": "markdown",
   "metadata": {},
   "source": [
    "# Exemple de mise en forme des données"
   ]
  },
  {
   "cell_type": "code",
   "execution_count": 1,
   "metadata": {
    "ExecuteTime": {
     "end_time": "2020-04-24T01:36:55.610668Z",
     "start_time": "2020-04-24T01:36:55.607178Z"
    }
   },
   "outputs": [],
   "source": [
    "import sys\n",
    "sys.path.append('/users/loulou/cedia/OLG_CAN/demo/simgen/')\n",
    "import warnings\n",
    "warnings.filterwarnings(\"ignore\")"
   ]
  },
  {
   "cell_type": "markdown",
   "metadata": {},
   "source": [
    "On utilise trois fonctions de compas: \n",
    "* bdsps: manipule la base BDSPS de Statistiques Canada pour mettre en forme certaines variables et créer les registres avec NAS de dominants. \n",
    "* parse: reformule les noms de variables à l'aide de dictionnaires\n",
    "* population: crée la structure de population"
   ]
  },
  {
   "cell_type": "code",
   "execution_count": 2,
   "metadata": {
    "ExecuteTime": {
     "end_time": "2020-04-24T01:36:57.611959Z",
     "start_time": "2020-04-24T01:36:56.473694Z"
    }
   },
   "outputs": [],
   "source": [
    "from simgen import bdsps, population, parse"
   ]
  },
  {
   "cell_type": "markdown",
   "metadata": {},
   "source": [
    "## Nettoyage de la BDSPS\n",
    "\n",
    "Compas vient avec une fonction, bdsps qui nettoie les données de la BDSPS, crée les NAS et les trois registres. Cette fonction peut être adapté pour d'autres bases de données. Fait important à noter, la fonction BDSPS calibre aussi les poids des répondants, par âge et sexe pour s'arrimer sur la population québécoise de 2017, selon l'ISQ. "
   ]
  },
  {
   "cell_type": "code",
   "execution_count": 3,
   "metadata": {
    "ExecuteTime": {
     "end_time": "2020-04-24T01:37:14.661342Z",
     "start_time": "2020-04-24T01:36:57.626334Z"
    }
   },
   "outputs": [],
   "source": [
    "hh,sp,kd = bdsps('../raw/bdsps2017.dta')"
   ]
  },
  {
   "cell_type": "markdown",
   "metadata": {},
   "source": [
    "Voici ce à quoi ressemble les registres des dominants, conjoints et enfants avant la mise en forme finale. "
   ]
  },
  {
   "cell_type": "code",
   "execution_count": 4,
   "metadata": {
    "ExecuteTime": {
     "end_time": "2020-04-24T01:37:14.802298Z",
     "start_time": "2020-04-24T01:37:14.771407Z"
    }
   },
   "outputs": [
    {
     "data": {
      "text/html": [
       "<div>\n",
       "<style scoped>\n",
       "    .dataframe tbody tr th:only-of-type {\n",
       "        vertical-align: middle;\n",
       "    }\n",
       "\n",
       "    .dataframe tbody tr th {\n",
       "        vertical-align: top;\n",
       "    }\n",
       "\n",
       "    .dataframe thead th {\n",
       "        text-align: right;\n",
       "    }\n",
       "</style>\n",
       "<table border=\"1\" class=\"dataframe\">\n",
       "  <thead>\n",
       "    <tr style=\"text-align: right;\">\n",
       "      <th></th>\n",
       "      <th>hhid</th>\n",
       "      <th>age</th>\n",
       "      <th>byr</th>\n",
       "      <th>male</th>\n",
       "      <th>immig</th>\n",
       "      <th>newimm</th>\n",
       "      <th>yrsimm</th>\n",
       "      <th>educ4</th>\n",
       "      <th>inschool</th>\n",
       "      <th>married</th>\n",
       "      <th>spflag</th>\n",
       "      <th>wgt</th>\n",
       "      <th>pn</th>\n",
       "      <th>nkids</th>\n",
       "    </tr>\n",
       "    <tr>\n",
       "      <th>nas</th>\n",
       "      <th></th>\n",
       "      <th></th>\n",
       "      <th></th>\n",
       "      <th></th>\n",
       "      <th></th>\n",
       "      <th></th>\n",
       "      <th></th>\n",
       "      <th></th>\n",
       "      <th></th>\n",
       "      <th></th>\n",
       "      <th></th>\n",
       "      <th></th>\n",
       "      <th></th>\n",
       "      <th></th>\n",
       "    </tr>\n",
       "  </thead>\n",
       "  <tbody>\n",
       "    <tr>\n",
       "      <th>0</th>\n",
       "      <td>0</td>\n",
       "      <td>33</td>\n",
       "      <td>1984</td>\n",
       "      <td>True</td>\n",
       "      <td>False</td>\n",
       "      <td>False</td>\n",
       "      <td>NaN</td>\n",
       "      <td>none</td>\n",
       "      <td>False</td>\n",
       "      <td>False</td>\n",
       "      <td>0</td>\n",
       "      <td>397.943</td>\n",
       "      <td>0</td>\n",
       "      <td>2.0</td>\n",
       "    </tr>\n",
       "    <tr>\n",
       "      <th>1</th>\n",
       "      <td>0</td>\n",
       "      <td>13</td>\n",
       "      <td>2004</td>\n",
       "      <td>False</td>\n",
       "      <td>False</td>\n",
       "      <td>False</td>\n",
       "      <td>NaN</td>\n",
       "      <td>none</td>\n",
       "      <td>True</td>\n",
       "      <td>False</td>\n",
       "      <td>0</td>\n",
       "      <td>414.793</td>\n",
       "      <td>2</td>\n",
       "      <td>0.0</td>\n",
       "    </tr>\n",
       "    <tr>\n",
       "      <th>2</th>\n",
       "      <td>0</td>\n",
       "      <td>15</td>\n",
       "      <td>2002</td>\n",
       "      <td>True</td>\n",
       "      <td>False</td>\n",
       "      <td>False</td>\n",
       "      <td>NaN</td>\n",
       "      <td>none</td>\n",
       "      <td>True</td>\n",
       "      <td>False</td>\n",
       "      <td>0</td>\n",
       "      <td>450.728</td>\n",
       "      <td>2</td>\n",
       "      <td>0.0</td>\n",
       "    </tr>\n",
       "    <tr>\n",
       "      <th>3</th>\n",
       "      <td>1</td>\n",
       "      <td>33</td>\n",
       "      <td>1984</td>\n",
       "      <td>True</td>\n",
       "      <td>False</td>\n",
       "      <td>False</td>\n",
       "      <td>NaN</td>\n",
       "      <td>none</td>\n",
       "      <td>False</td>\n",
       "      <td>False</td>\n",
       "      <td>0</td>\n",
       "      <td>398.808</td>\n",
       "      <td>0</td>\n",
       "      <td>2.0</td>\n",
       "    </tr>\n",
       "    <tr>\n",
       "      <th>4</th>\n",
       "      <td>1</td>\n",
       "      <td>13</td>\n",
       "      <td>2004</td>\n",
       "      <td>False</td>\n",
       "      <td>False</td>\n",
       "      <td>False</td>\n",
       "      <td>NaN</td>\n",
       "      <td>none</td>\n",
       "      <td>True</td>\n",
       "      <td>False</td>\n",
       "      <td>0</td>\n",
       "      <td>415.695</td>\n",
       "      <td>2</td>\n",
       "      <td>0.0</td>\n",
       "    </tr>\n",
       "  </tbody>\n",
       "</table>\n",
       "</div>"
      ],
      "text/plain": [
       "     hhid  age   byr   male  immig  newimm  yrsimm educ4  inschool  married  \\\n",
       "nas                                                                           \n",
       "0       0   33  1984   True  False   False     NaN  none     False    False   \n",
       "1       0   13  2004  False  False   False     NaN  none      True    False   \n",
       "2       0   15  2002   True  False   False     NaN  none      True    False   \n",
       "3       1   33  1984   True  False   False     NaN  none     False    False   \n",
       "4       1   13  2004  False  False   False     NaN  none      True    False   \n",
       "\n",
       "     spflag      wgt  pn  nkids  \n",
       "nas                              \n",
       "0         0  397.943   0    2.0  \n",
       "1         0  414.793   2    0.0  \n",
       "2         0  450.728   2    0.0  \n",
       "3         0  398.808   0    2.0  \n",
       "4         0  415.695   2    0.0  "
      ]
     },
     "execution_count": 4,
     "metadata": {},
     "output_type": "execute_result"
    }
   ],
   "source": [
    "hh.head()"
   ]
  },
  {
   "cell_type": "code",
   "execution_count": 5,
   "metadata": {
    "ExecuteTime": {
     "end_time": "2020-04-24T01:37:14.930447Z",
     "start_time": "2020-04-24T01:37:14.911230Z"
    }
   },
   "outputs": [
    {
     "data": {
      "text/html": [
       "<div>\n",
       "<style scoped>\n",
       "    .dataframe tbody tr th:only-of-type {\n",
       "        vertical-align: middle;\n",
       "    }\n",
       "\n",
       "    .dataframe tbody tr th {\n",
       "        vertical-align: top;\n",
       "    }\n",
       "\n",
       "    .dataframe thead th {\n",
       "        text-align: right;\n",
       "    }\n",
       "</style>\n",
       "<table border=\"1\" class=\"dataframe\">\n",
       "  <thead>\n",
       "    <tr style=\"text-align: right;\">\n",
       "      <th></th>\n",
       "      <th>hhid</th>\n",
       "      <th>age</th>\n",
       "      <th>byr</th>\n",
       "      <th>male</th>\n",
       "      <th>immig</th>\n",
       "      <th>newimm</th>\n",
       "      <th>yrsimm</th>\n",
       "      <th>educ4</th>\n",
       "      <th>inschool</th>\n",
       "      <th>married</th>\n",
       "      <th>spflag</th>\n",
       "      <th>wgt</th>\n",
       "      <th>pn</th>\n",
       "    </tr>\n",
       "    <tr>\n",
       "      <th>nas</th>\n",
       "      <th></th>\n",
       "      <th></th>\n",
       "      <th></th>\n",
       "      <th></th>\n",
       "      <th></th>\n",
       "      <th></th>\n",
       "      <th></th>\n",
       "      <th></th>\n",
       "      <th></th>\n",
       "      <th></th>\n",
       "      <th></th>\n",
       "      <th></th>\n",
       "      <th></th>\n",
       "    </tr>\n",
       "  </thead>\n",
       "  <tbody>\n",
       "    <tr>\n",
       "      <th>21</th>\n",
       "      <td>7</td>\n",
       "      <td>39</td>\n",
       "      <td>1978</td>\n",
       "      <td>True</td>\n",
       "      <td>False</td>\n",
       "      <td>False</td>\n",
       "      <td>NaN</td>\n",
       "      <td>des</td>\n",
       "      <td>False</td>\n",
       "      <td>True</td>\n",
       "      <td>1</td>\n",
       "      <td>26.9994</td>\n",
       "      <td>1</td>\n",
       "    </tr>\n",
       "    <tr>\n",
       "      <th>22</th>\n",
       "      <td>7</td>\n",
       "      <td>47</td>\n",
       "      <td>1970</td>\n",
       "      <td>False</td>\n",
       "      <td>False</td>\n",
       "      <td>False</td>\n",
       "      <td>NaN</td>\n",
       "      <td>none</td>\n",
       "      <td>False</td>\n",
       "      <td>True</td>\n",
       "      <td>1</td>\n",
       "      <td>24.59</td>\n",
       "      <td>0</td>\n",
       "    </tr>\n",
       "    <tr>\n",
       "      <th>26</th>\n",
       "      <td>8</td>\n",
       "      <td>39</td>\n",
       "      <td>1978</td>\n",
       "      <td>True</td>\n",
       "      <td>False</td>\n",
       "      <td>False</td>\n",
       "      <td>NaN</td>\n",
       "      <td>des</td>\n",
       "      <td>False</td>\n",
       "      <td>True</td>\n",
       "      <td>1</td>\n",
       "      <td>26.9994</td>\n",
       "      <td>1</td>\n",
       "    </tr>\n",
       "    <tr>\n",
       "      <th>27</th>\n",
       "      <td>8</td>\n",
       "      <td>47</td>\n",
       "      <td>1970</td>\n",
       "      <td>False</td>\n",
       "      <td>False</td>\n",
       "      <td>False</td>\n",
       "      <td>NaN</td>\n",
       "      <td>none</td>\n",
       "      <td>False</td>\n",
       "      <td>True</td>\n",
       "      <td>1</td>\n",
       "      <td>24.59</td>\n",
       "      <td>0</td>\n",
       "    </tr>\n",
       "    <tr>\n",
       "      <th>31</th>\n",
       "      <td>9</td>\n",
       "      <td>39</td>\n",
       "      <td>1978</td>\n",
       "      <td>True</td>\n",
       "      <td>False</td>\n",
       "      <td>False</td>\n",
       "      <td>NaN</td>\n",
       "      <td>des</td>\n",
       "      <td>False</td>\n",
       "      <td>True</td>\n",
       "      <td>1</td>\n",
       "      <td>26.9994</td>\n",
       "      <td>1</td>\n",
       "    </tr>\n",
       "  </tbody>\n",
       "</table>\n",
       "</div>"
      ],
      "text/plain": [
       "     hhid  age   byr   male  immig  newimm  yrsimm educ4  inschool  married  \\\n",
       "nas                                                                           \n",
       "21      7   39  1978   True  False   False     NaN   des     False     True   \n",
       "22      7   47  1970  False  False   False     NaN  none     False     True   \n",
       "26      8   39  1978   True  False   False     NaN   des     False     True   \n",
       "27      8   47  1970  False  False   False     NaN  none     False     True   \n",
       "31      9   39  1978   True  False   False     NaN   des     False     True   \n",
       "\n",
       "     spflag      wgt  pn  \n",
       "nas                       \n",
       "21        1  26.9994   1  \n",
       "22        1    24.59   0  \n",
       "26        1  26.9994   1  \n",
       "27        1    24.59   0  \n",
       "31        1  26.9994   1  "
      ]
     },
     "execution_count": 5,
     "metadata": {},
     "output_type": "execute_result"
    }
   ],
   "source": [
    "sp.head()"
   ]
  },
  {
   "cell_type": "code",
   "execution_count": 6,
   "metadata": {
    "ExecuteTime": {
     "end_time": "2020-04-24T01:37:15.055298Z",
     "start_time": "2020-04-24T01:37:15.035848Z"
    }
   },
   "outputs": [
    {
     "data": {
      "text/html": [
       "<div>\n",
       "<style scoped>\n",
       "    .dataframe tbody tr th:only-of-type {\n",
       "        vertical-align: middle;\n",
       "    }\n",
       "\n",
       "    .dataframe tbody tr th {\n",
       "        vertical-align: top;\n",
       "    }\n",
       "\n",
       "    .dataframe thead th {\n",
       "        text-align: right;\n",
       "    }\n",
       "</style>\n",
       "<table border=\"1\" class=\"dataframe\">\n",
       "  <thead>\n",
       "    <tr style=\"text-align: right;\">\n",
       "      <th></th>\n",
       "      <th>hhid</th>\n",
       "      <th>age</th>\n",
       "      <th>byr</th>\n",
       "      <th>male</th>\n",
       "      <th>immig</th>\n",
       "      <th>newimm</th>\n",
       "      <th>yrsimm</th>\n",
       "      <th>educ4</th>\n",
       "      <th>inschool</th>\n",
       "      <th>married</th>\n",
       "      <th>spflag</th>\n",
       "      <th>wgt</th>\n",
       "      <th>pn</th>\n",
       "      <th>nparents</th>\n",
       "    </tr>\n",
       "    <tr>\n",
       "      <th>nas</th>\n",
       "      <th></th>\n",
       "      <th></th>\n",
       "      <th></th>\n",
       "      <th></th>\n",
       "      <th></th>\n",
       "      <th></th>\n",
       "      <th></th>\n",
       "      <th></th>\n",
       "      <th></th>\n",
       "      <th></th>\n",
       "      <th></th>\n",
       "      <th></th>\n",
       "      <th></th>\n",
       "      <th></th>\n",
       "    </tr>\n",
       "  </thead>\n",
       "  <tbody>\n",
       "    <tr>\n",
       "      <th>0</th>\n",
       "      <td>0</td>\n",
       "      <td>13</td>\n",
       "      <td>2004</td>\n",
       "      <td>False</td>\n",
       "      <td>False</td>\n",
       "      <td>False</td>\n",
       "      <td>NaN</td>\n",
       "      <td>none</td>\n",
       "      <td>True</td>\n",
       "      <td>False</td>\n",
       "      <td>0</td>\n",
       "      <td>414.793</td>\n",
       "      <td>2</td>\n",
       "      <td>1</td>\n",
       "    </tr>\n",
       "    <tr>\n",
       "      <th>0</th>\n",
       "      <td>0</td>\n",
       "      <td>15</td>\n",
       "      <td>2002</td>\n",
       "      <td>True</td>\n",
       "      <td>False</td>\n",
       "      <td>False</td>\n",
       "      <td>NaN</td>\n",
       "      <td>none</td>\n",
       "      <td>True</td>\n",
       "      <td>False</td>\n",
       "      <td>0</td>\n",
       "      <td>450.728</td>\n",
       "      <td>2</td>\n",
       "      <td>1</td>\n",
       "    </tr>\n",
       "    <tr>\n",
       "      <th>3</th>\n",
       "      <td>1</td>\n",
       "      <td>13</td>\n",
       "      <td>2004</td>\n",
       "      <td>False</td>\n",
       "      <td>False</td>\n",
       "      <td>False</td>\n",
       "      <td>NaN</td>\n",
       "      <td>none</td>\n",
       "      <td>True</td>\n",
       "      <td>False</td>\n",
       "      <td>0</td>\n",
       "      <td>415.695</td>\n",
       "      <td>2</td>\n",
       "      <td>1</td>\n",
       "    </tr>\n",
       "    <tr>\n",
       "      <th>3</th>\n",
       "      <td>1</td>\n",
       "      <td>15</td>\n",
       "      <td>2002</td>\n",
       "      <td>True</td>\n",
       "      <td>False</td>\n",
       "      <td>False</td>\n",
       "      <td>NaN</td>\n",
       "      <td>none</td>\n",
       "      <td>True</td>\n",
       "      <td>False</td>\n",
       "      <td>0</td>\n",
       "      <td>451.708</td>\n",
       "      <td>2</td>\n",
       "      <td>1</td>\n",
       "    </tr>\n",
       "    <tr>\n",
       "      <th>6</th>\n",
       "      <td>2</td>\n",
       "      <td>13</td>\n",
       "      <td>2004</td>\n",
       "      <td>False</td>\n",
       "      <td>False</td>\n",
       "      <td>False</td>\n",
       "      <td>NaN</td>\n",
       "      <td>none</td>\n",
       "      <td>True</td>\n",
       "      <td>False</td>\n",
       "      <td>0</td>\n",
       "      <td>415.695</td>\n",
       "      <td>2</td>\n",
       "      <td>1</td>\n",
       "    </tr>\n",
       "  </tbody>\n",
       "</table>\n",
       "</div>"
      ],
      "text/plain": [
       "     hhid  age   byr   male  immig  newimm  yrsimm educ4  inschool  married  \\\n",
       "nas                                                                           \n",
       "0       0   13  2004  False  False   False     NaN  none      True    False   \n",
       "0       0   15  2002   True  False   False     NaN  none      True    False   \n",
       "3       1   13  2004  False  False   False     NaN  none      True    False   \n",
       "3       1   15  2002   True  False   False     NaN  none      True    False   \n",
       "6       2   13  2004  False  False   False     NaN  none      True    False   \n",
       "\n",
       "     spflag      wgt  pn  nparents  \n",
       "nas                                 \n",
       "0         0  414.793   2         1  \n",
       "0         0  450.728   2         1  \n",
       "3         0  415.695   2         1  \n",
       "3         0  451.708   2         1  \n",
       "6         0  415.695   2         1  "
      ]
     },
     "execution_count": 6,
     "metadata": {},
     "output_type": "execute_result"
    }
   ],
   "source": [
    "kd.head()"
   ]
  },
  {
   "cell_type": "markdown",
   "metadata": {},
   "source": [
    "On partitionne pour obtenir seulement les nouveaux immigrants dans des registres différents. "
   ]
  },
  {
   "cell_type": "code",
   "execution_count": 7,
   "metadata": {
    "ExecuteTime": {
     "end_time": "2020-04-24T01:37:15.181523Z",
     "start_time": "2020-04-24T01:37:15.164499Z"
    }
   },
   "outputs": [],
   "source": [
    "imm = hh[hh.newimm]\n",
    "imm_nas = imm.index\n",
    "sp_imm = sp.loc[sp.index.isin(imm_nas),:]\n",
    "kd_imm = kd.loc[kd.index.isin(imm_nas),:]"
   ]
  },
  {
   "cell_type": "markdown",
   "metadata": {},
   "source": [
    "## Adapter les noms de variables pour Compas\n",
    "\n",
    "Une étape importante est de faire la correspondance entre les noms de variables des registres de la BDSPS et ceux dans COMPAS. Pour ce faire, nous avons la classe parse(). Cette classe permet, à l'aide d'un dictionnaire de faire cette correspondance, pour chaque registre. Par défaut, parse() suppose les mêmes noms de variables que dans Compas.  "
   ]
  },
  {
   "cell_type": "code",
   "execution_count": 8,
   "metadata": {
    "ExecuteTime": {
     "end_time": "2020-04-24T01:37:15.394145Z",
     "start_time": "2020-04-24T01:37:15.389615Z"
    }
   },
   "outputs": [
    {
     "data": {
      "text/plain": [
       "{'wgt': 'wgt',\n",
       " 'byr': 'byr',\n",
       " 'male': 'male',\n",
       " 'educ': 'educ',\n",
       " 'insch': 'insch',\n",
       " 'nkids': 'nkids',\n",
       " 'married': 'married'}"
      ]
     },
     "execution_count": 8,
     "metadata": {},
     "output_type": "execute_result"
    }
   ],
   "source": [
    "parsing = parse()\n",
    "parsing.map_hh"
   ]
  },
  {
   "cell_type": "markdown",
   "metadata": {
    "ExecuteTime": {
     "end_time": "2020-04-02T12:37:32.918392Z",
     "start_time": "2020-04-02T12:37:32.914111Z"
    }
   },
   "source": [
    "On fait ensuite notre correspondance propre à la BDSPS. "
   ]
  },
  {
   "cell_type": "code",
   "execution_count": 9,
   "metadata": {
    "ExecuteTime": {
     "end_time": "2020-04-24T01:37:15.644674Z",
     "start_time": "2020-04-24T01:37:15.640318Z"
    }
   },
   "outputs": [],
   "source": [
    "parsing.map_hh['educ'] = 'educ4'\n",
    "parsing.map_hh['insch'] = 'inschool'\n",
    "parsing.map_sp['educ'] = 'educ4'\n",
    "parsing.map_sp['insch'] = 'inschool'\n",
    "parsing.map_kd['insch'] = 'inschool'"
   ]
  },
  {
   "cell_type": "code",
   "execution_count": 10,
   "metadata": {
    "ExecuteTime": {
     "end_time": "2020-04-24T01:37:15.864476Z",
     "start_time": "2020-04-24T01:37:15.859638Z"
    }
   },
   "outputs": [
    {
     "data": {
      "text/plain": [
       "{'wgt': 'wgt',\n",
       " 'byr': 'byr',\n",
       " 'male': 'male',\n",
       " 'educ': 'educ4',\n",
       " 'insch': 'inschool',\n",
       " 'nkids': 'nkids',\n",
       " 'married': 'married'}"
      ]
     },
     "execution_count": 10,
     "metadata": {},
     "output_type": "execute_result"
    }
   ],
   "source": [
    "parsing.map_hh"
   ]
  },
  {
   "cell_type": "markdown",
   "metadata": {},
   "source": [
    "On ajuste ensuite à l'aide de ces dictionnaires les trois registres. "
   ]
  },
  {
   "cell_type": "code",
   "execution_count": 11,
   "metadata": {
    "ExecuteTime": {
     "end_time": "2020-04-24T01:37:16.162557Z",
     "start_time": "2020-04-24T01:37:16.082443Z"
    }
   },
   "outputs": [],
   "source": [
    "hh = parsing.dominants(hh)\n",
    "sp = parsing.spouses(sp)\n",
    "kd = parsing.kids(kd)"
   ]
  },
  {
   "cell_type": "code",
   "execution_count": 12,
   "metadata": {
    "ExecuteTime": {
     "end_time": "2020-04-24T01:37:16.345025Z",
     "start_time": "2020-04-24T01:37:16.329209Z"
    }
   },
   "outputs": [
    {
     "data": {
      "text/html": [
       "<div>\n",
       "<style scoped>\n",
       "    .dataframe tbody tr th:only-of-type {\n",
       "        vertical-align: middle;\n",
       "    }\n",
       "\n",
       "    .dataframe tbody tr th {\n",
       "        vertical-align: top;\n",
       "    }\n",
       "\n",
       "    .dataframe thead th {\n",
       "        text-align: right;\n",
       "    }\n",
       "</style>\n",
       "<table border=\"1\" class=\"dataframe\">\n",
       "  <thead>\n",
       "    <tr style=\"text-align: right;\">\n",
       "      <th></th>\n",
       "      <th>wgt</th>\n",
       "      <th>byr</th>\n",
       "      <th>male</th>\n",
       "      <th>educ</th>\n",
       "      <th>insch</th>\n",
       "      <th>nkids</th>\n",
       "      <th>married</th>\n",
       "    </tr>\n",
       "    <tr>\n",
       "      <th>nas</th>\n",
       "      <th></th>\n",
       "      <th></th>\n",
       "      <th></th>\n",
       "      <th></th>\n",
       "      <th></th>\n",
       "      <th></th>\n",
       "      <th></th>\n",
       "    </tr>\n",
       "  </thead>\n",
       "  <tbody>\n",
       "    <tr>\n",
       "      <th>0</th>\n",
       "      <td>397.942563</td>\n",
       "      <td>1984</td>\n",
       "      <td>True</td>\n",
       "      <td>none</td>\n",
       "      <td>False</td>\n",
       "      <td>2</td>\n",
       "      <td>False</td>\n",
       "    </tr>\n",
       "    <tr>\n",
       "      <th>1</th>\n",
       "      <td>414.793316</td>\n",
       "      <td>2004</td>\n",
       "      <td>False</td>\n",
       "      <td>none</td>\n",
       "      <td>True</td>\n",
       "      <td>0</td>\n",
       "      <td>False</td>\n",
       "    </tr>\n",
       "    <tr>\n",
       "      <th>2</th>\n",
       "      <td>450.727786</td>\n",
       "      <td>2002</td>\n",
       "      <td>True</td>\n",
       "      <td>none</td>\n",
       "      <td>True</td>\n",
       "      <td>0</td>\n",
       "      <td>False</td>\n",
       "    </tr>\n",
       "    <tr>\n",
       "      <th>3</th>\n",
       "      <td>398.807655</td>\n",
       "      <td>1984</td>\n",
       "      <td>True</td>\n",
       "      <td>none</td>\n",
       "      <td>False</td>\n",
       "      <td>2</td>\n",
       "      <td>False</td>\n",
       "    </tr>\n",
       "    <tr>\n",
       "      <th>4</th>\n",
       "      <td>415.695040</td>\n",
       "      <td>2004</td>\n",
       "      <td>False</td>\n",
       "      <td>none</td>\n",
       "      <td>True</td>\n",
       "      <td>0</td>\n",
       "      <td>False</td>\n",
       "    </tr>\n",
       "  </tbody>\n",
       "</table>\n",
       "</div>"
      ],
      "text/plain": [
       "            wgt   byr   male  educ  insch  nkids  married\n",
       "nas                                                      \n",
       "0    397.942563  1984   True  none  False      2    False\n",
       "1    414.793316  2004  False  none   True      0    False\n",
       "2    450.727786  2002   True  none   True      0    False\n",
       "3    398.807655  1984   True  none  False      2    False\n",
       "4    415.695040  2004  False  none   True      0    False"
      ]
     },
     "execution_count": 12,
     "metadata": {},
     "output_type": "execute_result"
    }
   ],
   "source": [
    "hh.head()"
   ]
  },
  {
   "cell_type": "code",
   "execution_count": 13,
   "metadata": {
    "ExecuteTime": {
     "end_time": "2020-04-24T01:37:16.608025Z",
     "start_time": "2020-04-24T01:37:16.562268Z"
    }
   },
   "outputs": [],
   "source": [
    "imm = parsing.dominants(imm)\n",
    "sp_imm = parsing.spouses(sp_imm)\n",
    "kd_imm = parsing.kids(kd_imm)"
   ]
  },
  {
   "cell_type": "markdown",
   "metadata": {},
   "source": [
    "## Création des structures de population et sauvegarde des données"
   ]
  },
  {
   "cell_type": "markdown",
   "metadata": {},
   "source": [
    "Après avoir ajusté les registres, on peut les introduire dans des structures de population. La classe population permet de faire ceci. On peut ensuite sauvegarder les objets en format pickle en donnant le nom du fichier. "
   ]
  },
  {
   "cell_type": "code",
   "execution_count": 14,
   "metadata": {
    "ExecuteTime": {
     "end_time": "2020-04-24T01:37:16.907409Z",
     "start_time": "2020-04-24T01:37:16.880307Z"
    }
   },
   "outputs": [],
   "source": [
    "pop = population()\n",
    "pop.input(hh,sp,kd)\n",
    "pop.save('startpop')"
   ]
  },
  {
   "cell_type": "code",
   "execution_count": 15,
   "metadata": {
    "ExecuteTime": {
     "end_time": "2020-04-24T01:37:17.067141Z",
     "start_time": "2020-04-24T01:37:17.061535Z"
    }
   },
   "outputs": [],
   "source": [
    "newimm = population()\n",
    "newimm.input(imm,sp_imm,kd_imm)\n",
    "newimm.save('newimmpop')"
   ]
  },
  {
   "cell_type": "code",
   "execution_count": null,
   "metadata": {},
   "outputs": [],
   "source": []
  },
  {
   "cell_type": "code",
   "execution_count": null,
   "metadata": {},
   "outputs": [],
   "source": []
  }
 ],
 "metadata": {
  "kernelspec": {
   "display_name": "Python 3",
   "language": "python",
   "name": "python3"
  },
  "language_info": {
   "codemirror_mode": {
    "name": "ipython",
    "version": 3
   },
   "file_extension": ".py",
   "mimetype": "text/x-python",
   "name": "python",
   "nbconvert_exporter": "python",
   "pygments_lexer": "ipython3",
   "version": "3.6.10"
  },
  "latex_envs": {
   "LaTeX_envs_menu_present": true,
   "autoclose": false,
   "autocomplete": true,
   "bibliofile": "biblio.bib",
   "cite_by": "apalike",
   "current_citInitial": 1,
   "eqLabelWithNumbers": true,
   "eqNumInitial": 1,
   "hotkeys": {
    "equation": "Ctrl-E",
    "itemize": "Ctrl-I"
   },
   "labels_anchors": false,
   "latex_user_defs": false,
   "report_style_numbering": false,
   "user_envs_cfg": false
  },
  "varInspector": {
   "cols": {
    "lenName": 16,
    "lenType": 16,
    "lenVar": 40
   },
   "kernels_config": {
    "python": {
     "delete_cmd_postfix": "",
     "delete_cmd_prefix": "del ",
     "library": "var_list.py",
     "varRefreshCmd": "print(var_dic_list())"
    },
    "r": {
     "delete_cmd_postfix": ") ",
     "delete_cmd_prefix": "rm(",
     "library": "var_list.r",
     "varRefreshCmd": "cat(var_dic_list()) "
    }
   },
   "types_to_exclude": [
    "module",
    "function",
    "builtin_function_or_method",
    "instance",
    "_Feature"
   ],
   "window_display": false
  }
 },
 "nbformat": 4,
 "nbformat_minor": 4
}
