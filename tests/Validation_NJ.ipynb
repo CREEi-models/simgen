{
 "cells": [
  {
   "cell_type": "markdown",
   "metadata": {},
   "source": [
    "# Comparaison entrer les projections de SimGen et de certaines données exsistantes"
   ]
  },
  {
   "cell_type": "markdown",
   "metadata": {
    "ExecuteTime": {
     "end_time": "2020-04-24T08:55:29.582958Z",
     "start_time": "2020-04-24T08:55:29.579957Z"
    }
   },
   "source": [
    "## Effectuer une simulation avec Simgen\n"
   ]
  },
  {
   "cell_type": "code",
   "execution_count": 1,
   "metadata": {
    "ExecuteTime": {
     "end_time": "2020-11-19T13:58:19.564910Z",
     "start_time": "2020-11-19T13:58:18.664614Z"
    }
   },
   "outputs": [],
   "source": [
    "import sys\n",
    "import warnings\n",
    "import pandas as pd \n",
    "import numpy as np\n",
    "from matplotlib import pyplot as plt\n",
    "warnings.filterwarnings(\"ignore\")"
   ]
  },
  {
   "cell_type": "markdown",
   "metadata": {},
   "source": [
    "Pour le moment, il faut changer les chemins pour les répertoires"
   ]
  },
  {
   "cell_type": "code",
   "execution_count": 2,
   "metadata": {
    "ExecuteTime": {
     "end_time": "2020-11-19T13:58:19.573291Z",
     "start_time": "2020-11-19T13:58:19.566693Z"
    }
   },
   "outputs": [],
   "source": [
    "sys.path.append('/Users/PC/Dropbox (CEDIA)/simgen/simgen/simgen')\n",
    "import data"
   ]
  },
  {
   "cell_type": "code",
   "execution_count": 3,
   "metadata": {
    "ExecuteTime": {
     "end_time": "2020-11-19T13:58:19.579123Z",
     "start_time": "2020-11-19T13:58:19.575301Z"
    }
   },
   "outputs": [],
   "source": [
    "sys.path.append('/Users/PC/Dropbox (CEDIA)/simgen/simgen')\n",
    "path_data = '/Users/PC/Dropbox (CEDIA)/simgen/Benchmark/'"
   ]
  },
  {
   "cell_type": "code",
   "execution_count": 4,
   "metadata": {
    "ExecuteTime": {
     "end_time": "2020-11-19T13:58:20.190643Z",
     "start_time": "2020-11-19T13:58:19.582817Z"
    }
   },
   "outputs": [],
   "source": [
    "from simgen import model"
   ]
  },
  {
   "cell_type": "code",
   "execution_count": 5,
   "metadata": {
    "ExecuteTime": {
     "end_time": "2020-11-19T13:58:20.198293Z",
     "start_time": "2020-11-19T13:58:20.193256Z"
    }
   },
   "outputs": [],
   "source": [
    "yr_debut=2017\n",
    "yr_fin=2018"
   ]
  },
  {
   "cell_type": "markdown",
   "metadata": {
    "variables": {
     "yr_fin": "2040"
    }
   },
   "source": [
    "On simule la population jusqu'en {{yr_fin}}"
   ]
  },
  {
   "cell_type": "code",
   "execution_count": 6,
   "metadata": {
    "ExecuteTime": {
     "end_time": "2020-11-19T13:58:20.466458Z",
     "start_time": "2020-11-19T13:58:20.216066Z"
    }
   },
   "outputs": [],
   "source": [
    "base = model(start_yr=yr_debut,stop_yr=yr_fin)\n",
    "base.startpop('C:/Users/PC/Dropbox (CEDIA)/simgen/simgen/tests/startpopiso')\n",
    "base.immig_assumptions(init='newimmpop')\n",
    "base.birth_assumptions(scenario='reference')\n",
    "base.dead_assumptions(scenario='low')\n",
    "base.risk_iso_assumtions(params_set=1)"
   ]
  },
  {
   "cell_type": "code",
   "execution_count": 7,
   "metadata": {
    "ExecuteTime": {
     "end_time": "2020-11-19T14:01:14.396400Z",
     "start_time": "2020-11-19T13:58:20.469562Z"
    }
   },
   "outputs": [
    {
     "name": "stdout",
     "output_type": "stream",
     "text": [
      "year: 2018 replication: 100\r"
     ]
    }
   ],
   "source": [
    "base.simulate(rep=100)"
   ]
  },
  {
   "cell_type": "code",
   "execution_count": 6,
   "metadata": {
    "ExecuteTime": {
     "end_time": "2020-11-19T14:01:14.413253Z",
     "start_time": "2020-11-19T14:01:14.398764Z"
    }
   },
   "outputs": [
    {
     "ename": "NameError",
     "evalue": "name 'base' is not defined",
     "output_type": "error",
     "traceback": [
      "\u001b[1;31m---------------------------------------------------------------------------\u001b[0m",
      "\u001b[1;31mNameError\u001b[0m                                 Traceback (most recent call last)",
      "\u001b[1;32m<ipython-input-6-9b4d0fcf212a>\u001b[0m in \u001b[0;36m<module>\u001b[1;34m\u001b[0m\n\u001b[1;32m----> 1\u001b[1;33m \u001b[0mbase\u001b[0m\u001b[1;33m.\u001b[0m\u001b[0mstats\u001b[0m\u001b[1;33m.\u001b[0m\u001b[0msave\u001b[0m\u001b[1;33m(\u001b[0m\u001b[1;34m'simpop_iso.pkl'\u001b[0m\u001b[1;33m)\u001b[0m\u001b[1;33m\u001b[0m\u001b[1;33m\u001b[0m\u001b[0m\n\u001b[0m",
      "\u001b[1;31mNameError\u001b[0m: name 'base' is not defined"
     ]
    }
   ],
   "source": [
    "base.stats.save('simpop_iso.pkl')"
   ]
  },
  {
   "cell_type": "markdown",
   "metadata": {},
   "source": [
    "## Validation Proportion ISO-SMAF\n"
   ]
  },
  {
   "cell_type": "code",
   "execution_count": 9,
   "metadata": {},
   "outputs": [
    {
     "data": {
      "text/plain": [
       "age\n",
       "65     105950.557521\n",
       "66     102690.013984\n",
       "67     100480.983125\n",
       "68      96271.009749\n",
       "69      94465.193612\n",
       "70      91285.760312\n",
       "71      88974.160490\n",
       "72      81491.479150\n",
       "73      76074.037722\n",
       "74      70758.584547\n",
       "75      65887.174674\n",
       "76      60804.203022\n",
       "77      56259.202243\n",
       "78      50478.013624\n",
       "79      47019.000727\n",
       "80      43164.413204\n",
       "81      39226.967253\n",
       "82      37159.506730\n",
       "83      34553.779471\n",
       "84      32000.846707\n",
       "85      30477.576492\n",
       "86      28072.755275\n",
       "87      25229.090785\n",
       "88      21945.566177\n",
       "89      18334.251353\n",
       "90      15945.161481\n",
       "91      12656.108005\n",
       "92      10818.415967\n",
       "93       8466.922021\n",
       "94       6895.620426\n",
       "95       4580.686365\n",
       "96       3482.560110\n",
       "97       1803.615914\n",
       "98       1647.914310\n",
       "99       1018.717493\n",
       "100       606.852858\n",
       "Name: 2018, dtype: float64"
      ]
     },
     "execution_count": 9,
     "metadata": {},
     "output_type": "execute_result"
    }
   ],
   "source": [
    "base.stats.freq('age', sub='age>=65 and age<=100').loc[2018]"
   ]
  },
  {
   "cell_type": "code",
   "execution_count": 10,
   "metadata": {},
   "outputs": [
    {
     "data": {
      "text/plain": [
       "iso_smaf\n",
       "1.0     0.582462\n",
       "2.0     0.109888\n",
       "3.0     0.066767\n",
       "4.0     0.060103\n",
       "5.0     0.035809\n",
       "6.0     0.049853\n",
       "7.0     0.014020\n",
       "8.0     0.015455\n",
       "9.0     0.012197\n",
       "10.0    0.001522\n",
       "11.0    0.051925\n",
       "Name: 2018, dtype: float64"
      ]
     },
     "execution_count": 10,
     "metadata": {},
     "output_type": "execute_result"
    }
   ],
   "source": [
    "base.stats.prop('iso_smaf', sub='age>=65 and risk_iso==True').loc[2018]"
   ]
  },
  {
   "cell_type": "code",
   "execution_count": 11,
   "metadata": {
    "ExecuteTime": {
     "end_time": "2020-11-19T14:01:14.793157Z",
     "start_time": "2020-11-19T14:01:14.415826Z"
    }
   },
   "outputs": [
    {
     "data": {
      "text/plain": [
       "iso_smaf\n",
       "1.0     155650.874397\n",
       "2.0      29365.241720\n",
       "3.0      17842.051333\n",
       "4.0      16061.263056\n",
       "5.0       9569.328363\n",
       "6.0      13322.074874\n",
       "7.0       3746.601266\n",
       "8.0       4129.912176\n",
       "9.0       3259.287692\n",
       "10.0       406.786453\n",
       "11.0     13875.934903\n",
       "Name: 2018, dtype: float64"
      ]
     },
     "execution_count": 11,
     "metadata": {},
     "output_type": "execute_result"
    }
   ],
   "source": [
    "base.stats.freq('iso_smaf', sub='age>=65 and risk_iso==True').loc[2018]"
   ]
  }
 ],
 "metadata": {
  "kernelspec": {
   "display_name": "Python 3",
   "language": "python",
   "name": "python3"
  },
  "language_info": {
   "codemirror_mode": {
    "name": "ipython",
    "version": 3
   },
   "file_extension": ".py",
   "mimetype": "text/x-python",
   "name": "python",
   "nbconvert_exporter": "python",
   "pygments_lexer": "ipython3",
   "version": "3.7.6"
  },
  "varInspector": {
   "cols": {
    "lenName": 16,
    "lenType": 16,
    "lenVar": 40
   },
   "kernels_config": {
    "python": {
     "delete_cmd_postfix": "",
     "delete_cmd_prefix": "del ",
     "library": "var_list.py",
     "varRefreshCmd": "print(var_dic_list())"
    },
    "r": {
     "delete_cmd_postfix": ") ",
     "delete_cmd_prefix": "rm(",
     "library": "var_list.r",
     "varRefreshCmd": "cat(var_dic_list()) "
    }
   },
   "types_to_exclude": [
    "module",
    "function",
    "builtin_function_or_method",
    "instance",
    "_Feature"
   ],
   "window_display": false
  }
 },
 "nbformat": 4,
 "nbformat_minor": 2
}
