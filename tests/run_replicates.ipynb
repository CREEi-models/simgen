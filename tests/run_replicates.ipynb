{
 "cells": [
  {
   "cell_type": "markdown",
   "metadata": {},
   "source": [
    "# Comparaison entrer les projections de SimGen et de certaines données exsistantes"
   ]
  },
  {
   "cell_type": "markdown",
   "metadata": {
    "ExecuteTime": {
     "end_time": "2020-04-24T08:55:29.582958Z",
     "start_time": "2020-04-24T08:55:29.579957Z"
    }
   },
   "source": [
    "## Effectuer une simulation avec Simgen\n"
   ]
  },
  {
   "cell_type": "code",
   "execution_count": 1,
   "metadata": {
    "ExecuteTime": {
     "end_time": "2021-06-23T17:58:23.229375Z",
     "start_time": "2021-06-23T17:58:22.008665Z"
    }
   },
   "outputs": [],
   "source": [
    "import sys\n",
    "import warnings\n",
    "import pandas as pd \n",
    "import numpy as np\n",
    "from matplotlib import pyplot as plt\n",
    "warnings.filterwarnings(\"ignore\")"
   ]
  },
  {
   "cell_type": "markdown",
   "metadata": {},
   "source": [
    "Pour le moment, il faut changer les chemins pour les répertoires"
   ]
  },
  {
   "cell_type": "code",
   "execution_count": 2,
   "metadata": {
    "ExecuteTime": {
     "end_time": "2021-06-23T17:58:23.235539Z",
     "start_time": "2021-06-23T17:58:23.231721Z"
    }
   },
   "outputs": [],
   "source": [
    "sys.path.append('/Users/ydecarie/Documents/GitHub/simgen')"
   ]
  },
  {
   "cell_type": "code",
   "execution_count": 3,
   "metadata": {
    "ExecuteTime": {
     "end_time": "2021-06-23T17:58:23.244184Z",
     "start_time": "2021-06-23T17:58:23.238596Z"
    }
   },
   "outputs": [
    {
     "data": {
      "text/plain": [
       "['/Users/ydecarie/Documents/GitHub/simgen/tests',\n",
       " '/Users/ydecarie/opt/anaconda3/lib/python37.zip',\n",
       " '/Users/ydecarie/opt/anaconda3/lib/python3.7',\n",
       " '/Users/ydecarie/opt/anaconda3/lib/python3.7/lib-dynload',\n",
       " '',\n",
       " '/Users/ydecarie/.local/lib/python3.7/site-packages',\n",
       " '/Users/ydecarie/opt/anaconda3/lib/python3.7/site-packages',\n",
       " '/Users/ydecarie/opt/anaconda3/lib/python3.7/site-packages/aeosa',\n",
       " '/Users/ydecarie/opt/anaconda3/lib/python3.7/site-packages/locket-0.2.1-py3.7.egg',\n",
       " '/Users/ydecarie/opt/anaconda3/lib/python3.7/site-packages/IPython/extensions',\n",
       " '/Users/ydecarie/.ipython',\n",
       " '/Users/ydecarie/Documents/GitHub/simgen']"
      ]
     },
     "execution_count": 3,
     "metadata": {},
     "output_type": "execute_result"
    }
   ],
   "source": [
    "sys.path"
   ]
  },
  {
   "cell_type": "code",
   "execution_count": 4,
   "metadata": {
    "ExecuteTime": {
     "end_time": "2021-06-23T17:58:24.469304Z",
     "start_time": "2021-06-23T17:58:23.246627Z"
    }
   },
   "outputs": [],
   "source": [
    "import simgen"
   ]
  },
  {
   "cell_type": "code",
   "execution_count": 5,
   "metadata": {
    "ExecuteTime": {
     "end_time": "2021-06-23T17:58:24.473018Z",
     "start_time": "2021-06-23T17:58:24.470903Z"
    }
   },
   "outputs": [],
   "source": [
    "donnees_brutes = '/Users/ydecarie/Documents/GitHub/simgen/simgen/start_pop/bdsps2017_slice.csv'"
   ]
  },
  {
   "cell_type": "code",
   "execution_count": 6,
   "metadata": {
    "ExecuteTime": {
     "end_time": "2021-06-23T17:58:24.480401Z",
     "start_time": "2021-06-23T17:58:24.476698Z"
    }
   },
   "outputs": [],
   "source": [
    "from simgen import model, formating, replicate"
   ]
  },
  {
   "cell_type": "code",
   "execution_count": 7,
   "metadata": {
    "ExecuteTime": {
     "end_time": "2021-06-23T17:58:24.488668Z",
     "start_time": "2021-06-23T17:58:24.483215Z"
    }
   },
   "outputs": [],
   "source": [
    "preparation_data=formating()"
   ]
  },
  {
   "cell_type": "code",
   "execution_count": 8,
   "metadata": {
    "ExecuteTime": {
     "end_time": "2021-06-23T17:58:24.911984Z",
     "start_time": "2021-06-23T17:58:24.494565Z"
    }
   },
   "outputs": [],
   "source": [
    "preparation_data.bdsps_format(donnees_brutes)"
   ]
  },
  {
   "cell_type": "code",
   "execution_count": null,
   "metadata": {
    "ExecuteTime": {
     "end_time": "2021-06-23T15:33:28.956450Z",
     "start_time": "2021-06-23T15:33:28.904111Z"
    }
   },
   "outputs": [],
   "source": []
  },
  {
   "cell_type": "code",
   "execution_count": null,
   "metadata": {},
   "outputs": [],
   "source": [
    "\n"
   ]
  },
  {
   "cell_type": "code",
   "execution_count": null,
   "metadata": {
    "ExecuteTime": {
     "end_time": "2021-06-23T15:33:38.147453Z",
     "start_time": "2021-06-23T15:33:38.142194Z"
    }
   },
   "outputs": [],
   "source": []
  },
  {
   "cell_type": "code",
   "execution_count": 9,
   "metadata": {
    "ExecuteTime": {
     "end_time": "2021-06-23T17:58:24.918797Z",
     "start_time": "2021-06-23T17:58:24.916074Z"
    }
   },
   "outputs": [],
   "source": [
    "yr_debut=2017\n",
    "yr_fin=2050"
   ]
  },
  {
   "cell_type": "markdown",
   "metadata": {},
   "source": [
    "On simule la population jusqu'en {{yr_fin}}"
   ]
  },
  {
   "cell_type": "code",
   "execution_count": 10,
   "metadata": {
    "ExecuteTime": {
     "end_time": "2021-06-23T17:58:25.349667Z",
     "start_time": "2021-06-23T17:58:24.930210Z"
    }
   },
   "outputs": [],
   "source": [
    "base = model(start_yr=yr_debut,stop_yr=yr_fin,iomp=False)\n",
    "base.startpop('start_pop')\n",
    "base.immig_assumptions(init='imm_pop')\n",
    "base.birth_assumptions(scenario='reference')\n",
    "base.dead_assumptions(scenario='medium')"
   ]
  },
  {
   "cell_type": "code",
   "execution_count": 11,
   "metadata": {
    "ExecuteTime": {
     "end_time": "2021-06-23T17:58:25.354529Z",
     "start_time": "2021-06-23T17:58:25.351688Z"
    }
   },
   "outputs": [],
   "source": [
    "exp =replicate(nreps=50,ncpus=8)"
   ]
  },
  {
   "cell_type": "code",
   "execution_count": 12,
   "metadata": {
    "ExecuteTime": {
     "end_time": "2021-06-23T17:58:25.610301Z",
     "start_time": "2021-06-23T17:58:25.357449Z"
    }
   },
   "outputs": [],
   "source": [
    "exp.set_model(base)"
   ]
  },
  {
   "cell_type": "code",
   "execution_count": 13,
   "metadata": {
    "ExecuteTime": {
     "end_time": "2021-06-23T17:58:31.799479Z",
     "start_time": "2021-06-23T17:58:25.613045Z"
    }
   },
   "outputs": [
    {
     "ename": "KeyError",
     "evalue": "'wgt'",
     "output_type": "error",
     "traceback": [
      "\u001b[0;31m---------------------------------------------------------------------------\u001b[0m",
      "\u001b[0;31mRemoteTraceback\u001b[0m                           Traceback (most recent call last)",
      "\u001b[0;31mRemoteTraceback\u001b[0m: \n\"\"\"\nTraceback (most recent call last):\n  File \"/Users/ydecarie/opt/anaconda3/lib/python3.7/site-packages/pandas/core/indexes/base.py\", line 3080, in get_loc\n    return self._engine.get_loc(casted_key)\n  File \"pandas/_libs/index.pyx\", line 70, in pandas._libs.index.IndexEngine.get_loc\n  File \"pandas/_libs/index.pyx\", line 101, in pandas._libs.index.IndexEngine.get_loc\n  File \"pandas/_libs/hashtable_class_helper.pxi\", line 4554, in pandas._libs.hashtable.PyObjectHashTable.get_item\n  File \"pandas/_libs/hashtable_class_helper.pxi\", line 4562, in pandas._libs.hashtable.PyObjectHashTable.get_item\nKeyError: 'wgt'\n\nThe above exception was the direct cause of the following exception:\n\nTraceback (most recent call last):\n  File \"/Users/ydecarie/opt/anaconda3/lib/python3.7/multiprocessing/pool.py\", line 121, in worker\n    result = (True, func(*args, **kwds))\n  File \"/Users/ydecarie/Documents/GitHub/simgen/simgen/replicate.py\", line 27, in run_model\n    m.simulate()\n  File \"/Users/ydecarie/Documents/GitHub/simgen/simgen/model.py\", line 172, in simulate\n    self.stats.add(self.pop,self.year)\n  File \"/Users/ydecarie/Documents/GitHub/simgen/simgen/output.py\", line 57, in add\n    counts = pop.hh.groupby(self.stratas).sum()['wgt']\n  File \"/Users/ydecarie/opt/anaconda3/lib/python3.7/site-packages/pandas/core/frame.py\", line 3024, in __getitem__\n    indexer = self.columns.get_loc(key)\n  File \"/Users/ydecarie/opt/anaconda3/lib/python3.7/site-packages/pandas/core/indexes/base.py\", line 3082, in get_loc\n    raise KeyError(key) from err\nKeyError: 'wgt'\n\"\"\"",
      "\nThe above exception was the direct cause of the following exception:\n",
      "\u001b[0;31mKeyError\u001b[0m                                  Traceback (most recent call last)",
      "\u001b[0;32m<timed eval>\u001b[0m in \u001b[0;36m<module>\u001b[0;34m\u001b[0m\n",
      "\u001b[0;32m~/Documents/GitHub/simgen/simgen/replicate.py\u001b[0m in \u001b[0;36msimulate\u001b[0;34m(self)\u001b[0m\n\u001b[1;32m     33\u001b[0m                         \u001b[0mruns\u001b[0m \u001b[0;34m=\u001b[0m \u001b[0;34m[\u001b[0m\u001b[0mp\u001b[0m\u001b[0;34m.\u001b[0m\u001b[0mapply_async\u001b[0m\u001b[0;34m(\u001b[0m\u001b[0mself\u001b[0m\u001b[0;34m.\u001b[0m\u001b[0mrun_model\u001b[0m\u001b[0;34m,\u001b[0m\u001b[0margs\u001b[0m\u001b[0;34m=\u001b[0m\u001b[0;34m(\u001b[0m\u001b[0mm\u001b[0m\u001b[0;34m,\u001b[0m\u001b[0;34m)\u001b[0m\u001b[0;34m)\u001b[0m \u001b[0;32mfor\u001b[0m \u001b[0mm\u001b[0m \u001b[0;32min\u001b[0m \u001b[0mself\u001b[0m\u001b[0;34m.\u001b[0m\u001b[0mmodels\u001b[0m\u001b[0;34m]\u001b[0m\u001b[0;34m\u001b[0m\u001b[0;34m\u001b[0m\u001b[0m\n\u001b[1;32m     34\u001b[0m                         \u001b[0;32mfor\u001b[0m \u001b[0mr\u001b[0m \u001b[0;32min\u001b[0m \u001b[0mruns\u001b[0m\u001b[0;34m:\u001b[0m\u001b[0;34m\u001b[0m\u001b[0;34m\u001b[0m\u001b[0m\n\u001b[0;32m---> 35\u001b[0;31m                                 \u001b[0mstats\u001b[0m\u001b[0;34m.\u001b[0m\u001b[0mappend\u001b[0m\u001b[0;34m(\u001b[0m\u001b[0mr\u001b[0m\u001b[0;34m.\u001b[0m\u001b[0mget\u001b[0m\u001b[0;34m(\u001b[0m\u001b[0;34m)\u001b[0m\u001b[0;34m)\u001b[0m\u001b[0;34m\u001b[0m\u001b[0;34m\u001b[0m\u001b[0m\n\u001b[0m\u001b[1;32m     36\u001b[0m                 \u001b[0;32melse\u001b[0m \u001b[0;34m:\u001b[0m\u001b[0;34m\u001b[0m\u001b[0;34m\u001b[0m\u001b[0m\n\u001b[1;32m     37\u001b[0m                         \u001b[0mstats\u001b[0m \u001b[0;34m=\u001b[0m \u001b[0;34m[\u001b[0m\u001b[0mself\u001b[0m\u001b[0;34m.\u001b[0m\u001b[0mrun_model\u001b[0m\u001b[0;34m(\u001b[0m\u001b[0mm\u001b[0m\u001b[0;34m)\u001b[0m \u001b[0;32mfor\u001b[0m \u001b[0mm\u001b[0m \u001b[0;32min\u001b[0m \u001b[0mself\u001b[0m\u001b[0;34m.\u001b[0m\u001b[0mmodels\u001b[0m\u001b[0;34m]\u001b[0m\u001b[0;34m\u001b[0m\u001b[0;34m\u001b[0m\u001b[0m\n",
      "\u001b[0;32m~/opt/anaconda3/lib/python3.7/multiprocessing/pool.py\u001b[0m in \u001b[0;36mget\u001b[0;34m(self, timeout)\u001b[0m\n\u001b[1;32m    655\u001b[0m             \u001b[0;32mreturn\u001b[0m \u001b[0mself\u001b[0m\u001b[0;34m.\u001b[0m\u001b[0m_value\u001b[0m\u001b[0;34m\u001b[0m\u001b[0;34m\u001b[0m\u001b[0m\n\u001b[1;32m    656\u001b[0m         \u001b[0;32melse\u001b[0m\u001b[0;34m:\u001b[0m\u001b[0;34m\u001b[0m\u001b[0;34m\u001b[0m\u001b[0m\n\u001b[0;32m--> 657\u001b[0;31m             \u001b[0;32mraise\u001b[0m \u001b[0mself\u001b[0m\u001b[0;34m.\u001b[0m\u001b[0m_value\u001b[0m\u001b[0;34m\u001b[0m\u001b[0;34m\u001b[0m\u001b[0m\n\u001b[0m\u001b[1;32m    658\u001b[0m \u001b[0;34m\u001b[0m\u001b[0m\n\u001b[1;32m    659\u001b[0m     \u001b[0;32mdef\u001b[0m \u001b[0m_set\u001b[0m\u001b[0;34m(\u001b[0m\u001b[0mself\u001b[0m\u001b[0;34m,\u001b[0m \u001b[0mi\u001b[0m\u001b[0;34m,\u001b[0m \u001b[0mobj\u001b[0m\u001b[0;34m)\u001b[0m\u001b[0;34m:\u001b[0m\u001b[0;34m\u001b[0m\u001b[0;34m\u001b[0m\u001b[0m\n",
      "\u001b[0;31mKeyError\u001b[0m: 'wgt'"
     ]
    }
   ],
   "source": [
    "%%time\n",
    "exp.simulate()"
   ]
  },
  {
   "cell_type": "code",
   "execution_count": 14,
   "metadata": {
    "ExecuteTime": {
     "end_time": "2021-06-23T17:58:32.008702Z",
     "start_time": "2021-06-23T17:58:31.839381Z"
    }
   },
   "outputs": [
    {
     "ename": "TypeError",
     "evalue": "simulate() got an unexpected keyword argument 'rep'",
     "output_type": "error",
     "traceback": [
      "\u001b[0;31m---------------------------------------------------------------------------\u001b[0m",
      "\u001b[0;31mTypeError\u001b[0m                                 Traceback (most recent call last)",
      "\u001b[0;32m<timed eval>\u001b[0m in \u001b[0;36m<module>\u001b[0;34m\u001b[0m\n",
      "\u001b[0;31mTypeError\u001b[0m: simulate() got an unexpected keyword argument 'rep'"
     ]
    }
   ],
   "source": [
    "%%time\n",
    "base.simulate(rep=1)"
   ]
  },
  {
   "cell_type": "code",
   "execution_count": 15,
   "metadata": {
    "ExecuteTime": {
     "end_time": "2021-06-23T17:58:32.164867Z",
     "start_time": "2021-06-23T17:58:32.099739Z"
    }
   },
   "outputs": [],
   "source": [
    "#base.stats.save('simpop_iso.pkl')"
   ]
  },
  {
   "cell_type": "code",
   "execution_count": 16,
   "metadata": {
    "ExecuteTime": {
     "end_time": "2021-06-23T17:58:33.202529Z",
     "start_time": "2021-06-23T17:58:32.226369Z"
    }
   },
   "outputs": [],
   "source": [
    "test=model(start_yr=yr_debut,stop_yr=yr_fin,iomp=False)\n",
    "test.startpop('start_pop')\n",
    "test.immig_assumptions(init='imm_pop')\n",
    "test.birth_assumptions(scenario='reference')\n",
    "test.dead_assumptions(scenario='medium')"
   ]
  },
  {
   "cell_type": "code",
   "execution_count": null,
   "metadata": {},
   "outputs": [],
   "source": []
  },
  {
   "cell_type": "markdown",
   "metadata": {},
   "source": [
    "## Extraction des résultats\n",
    "Creation de \"DataFrame\" contenant la population totale par sexe"
   ]
  },
  {
   "cell_type": "code",
   "execution_count": 17,
   "metadata": {
    "ExecuteTime": {
     "end_time": "2021-06-23T17:58:33.213524Z",
     "start_time": "2021-06-23T17:58:33.205514Z"
    }
   },
   "outputs": [],
   "source": [
    "base.stats.counts"
   ]
  },
  {
   "cell_type": "code",
   "execution_count": 18,
   "metadata": {
    "ExecuteTime": {
     "end_time": "2021-06-23T17:58:33.238231Z",
     "start_time": "2021-06-23T17:58:33.216822Z"
    }
   },
   "outputs": [
    {
     "ename": "AttributeError",
     "evalue": "'NoneType' object has no attribute 'query'",
     "output_type": "error",
     "traceback": [
      "\u001b[0;31m---------------------------------------------------------------------------\u001b[0m",
      "\u001b[0;31mAttributeError\u001b[0m                            Traceback (most recent call last)",
      "\u001b[0;32m<ipython-input-18-808d43c7fd5b>\u001b[0m in \u001b[0;36m<module>\u001b[0;34m\u001b[0m\n\u001b[0;32m----> 1\u001b[0;31m \u001b[0miso_65p\u001b[0m\u001b[0;34m=\u001b[0m\u001b[0mbase\u001b[0m\u001b[0;34m.\u001b[0m\u001b[0mstats\u001b[0m\u001b[0;34m.\u001b[0m\u001b[0mfreq\u001b[0m\u001b[0;34m(\u001b[0m\u001b[0;34m'iso_smaf'\u001b[0m\u001b[0;34m,\u001b[0m \u001b[0msub\u001b[0m\u001b[0;34m=\u001b[0m\u001b[0;34m'age>=75 and age <=84 and iso_smaf>0'\u001b[0m\u001b[0;34m)\u001b[0m\u001b[0;34m\u001b[0m\u001b[0;34m\u001b[0m\u001b[0m\n\u001b[0m\u001b[1;32m      2\u001b[0m \u001b[0miso_65p\u001b[0m\u001b[0;34m=\u001b[0m\u001b[0mbase\u001b[0m\u001b[0;34m.\u001b[0m\u001b[0mstats\u001b[0m\u001b[0;34m.\u001b[0m\u001b[0mprop\u001b[0m\u001b[0;34m(\u001b[0m\u001b[0;34m'iso_smaf'\u001b[0m\u001b[0;34m,\u001b[0m \u001b[0msub\u001b[0m\u001b[0;34m=\u001b[0m\u001b[0;34m'age>=75 and age <=84 and iso_smaf>0'\u001b[0m\u001b[0;34m)\u001b[0m\u001b[0;34m\u001b[0m\u001b[0;34m\u001b[0m\u001b[0m\n\u001b[1;32m      3\u001b[0m \u001b[0miso_65p\u001b[0m\u001b[0;34m.\u001b[0m\u001b[0mT\u001b[0m\u001b[0;34m[\u001b[0m\u001b[0;36m2020\u001b[0m\u001b[0;34m]\u001b[0m\u001b[0;34m\u001b[0m\u001b[0;34m\u001b[0m\u001b[0m\n",
      "\u001b[0;32m~/Documents/GitHub/simgen/simgen/output.py\u001b[0m in \u001b[0;36mfreq\u001b[0;34m(self, strata, bins, sub)\u001b[0m\n\u001b[1;32m     98\u001b[0m \u001b[0;34m\u001b[0m\u001b[0m\n\u001b[1;32m     99\u001b[0m         \u001b[0;32mif\u001b[0m \u001b[0msub\u001b[0m\u001b[0;34m!=\u001b[0m\u001b[0;32mNone\u001b[0m\u001b[0;34m:\u001b[0m\u001b[0;34m\u001b[0m\u001b[0;34m\u001b[0m\u001b[0m\n\u001b[0;32m--> 100\u001b[0;31m             \u001b[0mcounts\u001b[0m \u001b[0;34m=\u001b[0m \u001b[0mself\u001b[0m\u001b[0;34m.\u001b[0m\u001b[0mcounts\u001b[0m\u001b[0;34m.\u001b[0m\u001b[0mquery\u001b[0m\u001b[0;34m(\u001b[0m\u001b[0msub\u001b[0m\u001b[0;34m)\u001b[0m\u001b[0;34m\u001b[0m\u001b[0;34m\u001b[0m\u001b[0m\n\u001b[0m\u001b[1;32m    101\u001b[0m         \u001b[0;32melse\u001b[0m \u001b[0;34m:\u001b[0m\u001b[0;34m\u001b[0m\u001b[0;34m\u001b[0m\u001b[0m\n\u001b[1;32m    102\u001b[0m             \u001b[0mcounts\u001b[0m \u001b[0;34m=\u001b[0m \u001b[0mself\u001b[0m\u001b[0;34m.\u001b[0m\u001b[0mcounts\u001b[0m\u001b[0;34m.\u001b[0m\u001b[0mcopy\u001b[0m\u001b[0;34m(\u001b[0m\u001b[0;34m)\u001b[0m\u001b[0;34m\u001b[0m\u001b[0;34m\u001b[0m\u001b[0m\n",
      "\u001b[0;31mAttributeError\u001b[0m: 'NoneType' object has no attribute 'query'"
     ]
    }
   ],
   "source": [
    "iso_65p=base.stats.freq('iso_smaf', sub='age>=75 and age <=84 and iso_smaf>0')\n",
    "iso_65p=base.stats.prop('iso_smaf', sub='age>=75 and age <=84 and iso_smaf>0')\n",
    "iso_65p.T[2020]"
   ]
  },
  {
   "cell_type": "code",
   "execution_count": null,
   "metadata": {
    "ExecuteTime": {
     "end_time": "2021-06-23T17:58:33.252341Z",
     "start_time": "2021-06-23T17:58:22.054Z"
    }
   },
   "outputs": [],
   "source": [
    "base.stats.freq('iso_smaf', sub='age>=75 and iso_smaf>0').plot.area()"
   ]
  },
  {
   "cell_type": "code",
   "execution_count": null,
   "metadata": {
    "ExecuteTime": {
     "end_time": "2021-06-23T17:58:33.254859Z",
     "start_time": "2021-06-23T17:58:22.055Z"
    }
   },
   "outputs": [],
   "source": [
    "base.stats.freq('iso_smaf', sub='age>=85 and iso_smaf>0').plot.area()"
   ]
  },
  {
   "cell_type": "code",
   "execution_count": null,
   "metadata": {
    "ExecuteTime": {
     "end_time": "2021-06-23T17:58:33.256793Z",
     "start_time": "2021-06-23T17:58:22.057Z"
    }
   },
   "outputs": [],
   "source": [
    "prop_2020_65=base.stats.freq('iso_smaf', sub='age>=65 and iso_smaf>0').T[2020]/base.stats.freq('iso_smaf', sub='age>=65 and iso_smaf>0').T[2020].sum()\n",
    "prop_2020_65.plot.bar()"
   ]
  },
  {
   "cell_type": "code",
   "execution_count": null,
   "metadata": {
    "ExecuteTime": {
     "end_time": "2021-06-23T17:58:33.258584Z",
     "start_time": "2021-06-23T17:58:22.058Z"
    }
   },
   "outputs": [],
   "source": [
    "prop_2020_75=(base.stats.freq('iso_smaf', sub='age>=75 and iso_smaf>0').T[2020]\n",
    "              /base.stats.freq('iso_smaf', sub='age>=75 and iso_smaf>0').T[2020].sum())\n",
    "prop_2020_75.plot.bar()"
   ]
  },
  {
   "cell_type": "code",
   "execution_count": null,
   "metadata": {
    "ExecuteTime": {
     "end_time": "2021-06-23T17:58:33.260954Z",
     "start_time": "2021-06-23T17:58:22.059Z"
    },
    "scrolled": true
   },
   "outputs": [],
   "source": [
    "prop_2020_85=(base.stats.freq('iso_smaf', sub='age>=85 and iso_smaf>0').T[2020]\n",
    "              /base.stats.freq('iso_smaf', sub='age>=85 and iso_smaf>0').T[2020].sum())\n",
    "prop_2020_85.plot.bar()"
   ]
  },
  {
   "cell_type": "code",
   "execution_count": null,
   "metadata": {
    "ExecuteTime": {
     "end_time": "2021-06-23T17:58:33.263591Z",
     "start_time": "2021-06-23T17:58:22.060Z"
    }
   },
   "outputs": [],
   "source": [
    "base.stats.prop('risk_iso', sub='age>=65 and age<70').plot()"
   ]
  },
  {
   "cell_type": "code",
   "execution_count": null,
   "metadata": {
    "ExecuteTime": {
     "end_time": "2021-06-23T17:58:33.266183Z",
     "start_time": "2021-06-23T17:58:22.061Z"
    }
   },
   "outputs": [],
   "source": [
    "base.stats.prop('risk_iso', sub='age>=70 and age<75').plot()"
   ]
  },
  {
   "cell_type": "code",
   "execution_count": null,
   "metadata": {
    "ExecuteTime": {
     "end_time": "2021-06-23T17:58:33.269079Z",
     "start_time": "2021-06-23T17:58:22.062Z"
    }
   },
   "outputs": [],
   "source": [
    "base.stats.prop('risk_iso', sub='age>=85').plot()"
   ]
  },
  {
   "cell_type": "code",
   "execution_count": null,
   "metadata": {
    "ExecuteTime": {
     "end_time": "2021-06-23T17:58:33.271432Z",
     "start_time": "2021-06-23T17:58:22.064Z"
    }
   },
   "outputs": [],
   "source": [
    "base.stats.prop('risk_iso', sub='age>=95').plot()"
   ]
  },
  {
   "cell_type": "code",
   "execution_count": null,
   "metadata": {
    "ExecuteTime": {
     "end_time": "2021-06-23T17:58:33.273716Z",
     "start_time": "2021-06-23T17:58:22.065Z"
    }
   },
   "outputs": [],
   "source": [
    "pop =base.stats.freq()\n",
    "pop_m=base.stats.freq(sub='male==True')\n",
    "pop_f=base.stats.freq(sub='male==False')"
   ]
  },
  {
   "cell_type": "markdown",
   "metadata": {},
   "source": [
    "Creation de \"DataFrame\" contenant la populaton par groupe d'âge"
   ]
  },
  {
   "cell_type": "code",
   "execution_count": null,
   "metadata": {
    "ExecuteTime": {
     "end_time": "2021-06-23T17:58:33.275858Z",
     "start_time": "2021-06-23T17:58:22.070Z"
    }
   },
   "outputs": [],
   "source": [
    "pop_age=base.stats.freq('age')\n",
    "bins=[-1,4,9,14,19,24,29,34,39,44,49,54,59,64,69,74,79,84,89,101]\n",
    "bins_3=[-1,24,64,101]\n",
    "pop_age_gr=base.stats.freq('age', bins=bins)\n",
    "pop_age_gr.columns= pop_age_gr.columns.astype('str')\n",
    "pop_age_gr3=base.stats.freq('age', bins=bins_3)\n",
    "pop_age_gr3.columns= pop_age_gr3.columns.astype('str')"
   ]
  },
  {
   "cell_type": "code",
   "execution_count": null,
   "metadata": {
    "ExecuteTime": {
     "end_time": "2021-06-23T17:58:33.277465Z",
     "start_time": "2021-06-23T17:58:22.075Z"
    }
   },
   "outputs": [],
   "source": [
    "base.stats.freq('age', sub=\"age<=5\").plot()"
   ]
  },
  {
   "cell_type": "code",
   "execution_count": null,
   "metadata": {
    "ExecuteTime": {
     "end_time": "2021-06-23T17:58:33.279482Z",
     "start_time": "2021-06-23T17:58:22.077Z"
    }
   },
   "outputs": [],
   "source": [
    "base.stats.freq('age', sub=\"age>=6 and age<=10\").plot()"
   ]
  },
  {
   "cell_type": "code",
   "execution_count": null,
   "metadata": {
    "ExecuteTime": {
     "end_time": "2021-06-23T17:58:33.281924Z",
     "start_time": "2021-06-23T17:58:22.078Z"
    }
   },
   "outputs": [],
   "source": [
    "base.stats.freq('age', sub=\"age>=11 and age<=16\").plot()"
   ]
  },
  {
   "cell_type": "markdown",
   "metadata": {
    "ExecuteTime": {
     "end_time": "2020-04-24T08:39:31.233808Z",
     "start_time": "2020-04-24T08:39:31.230795Z"
    }
   },
   "source": [
    "On charge ici les données provenant des derninères projections de l'ISQ. \n",
    "\n",
    "Il s'agit de projections de population basées sur le scénario moyen de l'ISQ à partir des données corrigées du recensement de 2016. Pour plus d'information concernant la méthodologie utilisée pour le calcul des projections de population, veuillez-vous référer au rapport « Perspectives démographiques du Québec et des régions, 2016-2066, édition 2019 » produit par l'ISQ à l'adresse suivante :\n",
    "\n",
    "https://www.stat.gouv.qc.ca/statistiques/population-demographie/perspectives/perspectives-2016-2066.pdf\n",
    "\n",
    "Pour la population de 1996-2018, il s'agit d'estimations de population constituant une série historique de populations comparables ayant servi à la construction des projections de population basées sur le recensement de 2016."
   ]
  },
  {
   "cell_type": "code",
   "execution_count": null,
   "metadata": {
    "ExecuteTime": {
     "end_time": "2021-06-23T17:58:33.283969Z",
     "start_time": "2021-06-23T17:58:22.083Z"
    }
   },
   "outputs": [],
   "source": [
    "pop_isq = pd.read_csv(path_data+'isq_pop_age_1996_2041.csv', sep=';')\n",
    "pop_isq = pop_isq.set_index('year')"
   ]
  },
  {
   "cell_type": "markdown",
   "metadata": {},
   "source": [
    "Population totale par âge sexe"
   ]
  },
  {
   "cell_type": "code",
   "execution_count": null,
   "metadata": {
    "ExecuteTime": {
     "end_time": "2021-06-23T17:58:33.286547Z",
     "start_time": "2021-06-23T17:58:22.087Z"
    }
   },
   "outputs": [],
   "source": [
    "pop_isq_age = pop_isq.drop(['total'],axis=1)\n",
    "pop_isq_age_tot=pop_isq_age.loc[pop_isq['sex']=='all']\n",
    "pop_isq_age_tot_m=pop_isq_age.loc[pop_isq['sex']=='male']\n",
    "pop_isq_age_tot_f=pop_isq_age.loc[pop_isq['sex']=='female']\n",
    "pop_isq_age_tot = pop_isq_age_tot.drop(['sex'],axis=1)\n",
    "pop_isq_age_tot_m = pop_isq_age_tot_m.drop(['sex'],axis=1)\n",
    "pop_isq_age_tot_f = pop_isq_age_tot_f.drop(['sex'],axis=1)"
   ]
  },
  {
   "cell_type": "markdown",
   "metadata": {},
   "source": [
    "Population par groupe d'âge"
   ]
  },
  {
   "cell_type": "code",
   "execution_count": null,
   "metadata": {
    "ExecuteTime": {
     "end_time": "2021-06-23T17:58:33.290464Z",
     "start_time": "2021-06-23T17:58:22.091Z"
    }
   },
   "outputs": [],
   "source": [
    "pop_isq_age_tot_trans = pop_isq_age_tot.T\n",
    "pop_isq_age_tot_trans\n",
    "pop_isq_age_tot_trans['age']= range(0,91)\n",
    "bins=list(range(0,96,5))\n",
    "bins_3=[0,25,65,91]\n",
    "pop_isq_age_tot_trans['agegr'] = pd.cut(pop_isq_age_tot_trans['age'], bins=bins, right=False)\n",
    "gr=pop_isq_age_tot_trans.groupby(['agegr']).sum()\n",
    "pop_isq_agegr_tot=gr.drop(['age'],axis=1).T\n",
    "pop_isq_agegr_tot.columns= pop_isq_agegr_tot.columns.astype('str')\n",
    "pop_isq_agegr_tot = pop_isq_agegr_tot[pop_isq_agegr_tot.index>=2017]\n",
    "pop_isq_age_tot_trans['agegr'] = pd.cut(pop_isq_age_tot_trans['age'], bins=bins_3, right=False)\n",
    "gr=pop_isq_age_tot_trans.groupby(['agegr']).sum()\n",
    "pop_isq_agegr3_tot=gr.drop(['age'],axis=1).T\n",
    "pop_isq_agegr3_tot.columns= pop_isq_agegr3_tot.columns.astype('str')\n",
    "pop_isq_agegr3_tot = pop_isq_agegr3_tot[pop_isq_agegr3_tot.index>=2017]"
   ]
  },
  {
   "cell_type": "markdown",
   "metadata": {
    "ExecuteTime": {
     "end_time": "2020-04-24T14:16:18.181597Z",
     "start_time": "2020-04-24T14:16:18.178108Z"
    }
   },
   "source": [
    "Population totale par sexe"
   ]
  },
  {
   "cell_type": "code",
   "execution_count": null,
   "metadata": {
    "ExecuteTime": {
     "end_time": "2021-06-23T17:58:33.293843Z",
     "start_time": "2021-06-23T17:58:22.095Z"
    },
    "scrolled": true
   },
   "outputs": [],
   "source": [
    "pop_isq_total=pop_isq.loc[pop_isq['sex']=='all']\n",
    "pop_isq_total =pop_isq_total['total']\n",
    "pop_isq_total_m = pop_isq.loc[pop_isq['sex']=='male']\n",
    "pop_isq_total_m =pop_isq_total_m['total']\n",
    "pop_isq_total_f = pop_isq.loc[pop_isq['sex']=='female']\n",
    "pop_isq_total_f =pop_isq_total_f['total']"
   ]
  },
  {
   "cell_type": "markdown",
   "metadata": {
    "ExecuteTime": {
     "end_time": "2020-04-22T18:03:17.946829Z",
     "start_time": "2020-04-22T18:03:17.941694Z"
    }
   },
   "source": [
    "## Figue comparaison population\n",
    "\n",
    "### Population totale "
   ]
  },
  {
   "cell_type": "code",
   "execution_count": null,
   "metadata": {
    "ExecuteTime": {
     "end_time": "2021-06-23T17:58:33.295846Z",
     "start_time": "2021-06-23T17:58:22.101Z"
    }
   },
   "outputs": [],
   "source": [
    "plt.figure(figsize=(10,5))\n",
    "plt.plot(pop_isq_total, label='isq')\n",
    "plt.plot(pop, label='simgen', linestyle='dashed')\n",
    "plt.legend()\n",
    "plt.title('Comparaison population totale')\n",
    "plt.show()"
   ]
  },
  {
   "cell_type": "markdown",
   "metadata": {},
   "source": [
    "### Comparaison popuation par sexe"
   ]
  },
  {
   "cell_type": "code",
   "execution_count": null,
   "metadata": {
    "ExecuteTime": {
     "end_time": "2021-06-23T17:58:33.297787Z",
     "start_time": "2021-06-23T17:58:22.106Z"
    }
   },
   "outputs": [],
   "source": [
    "plt.figure(figsize=(10,5))\n",
    "plt.plot(pop_isq_total_m[pop_isq_total_m.index>=2017], label='isq')\n",
    "plt.plot(pop_m, label='simgen', linestyle='dashed')\n",
    "plt.legend()\n",
    "plt.title('Comparaison population homme')\n",
    "plt.show()"
   ]
  },
  {
   "cell_type": "code",
   "execution_count": null,
   "metadata": {
    "ExecuteTime": {
     "end_time": "2021-06-23T17:58:33.299494Z",
     "start_time": "2021-06-23T17:58:22.107Z"
    }
   },
   "outputs": [],
   "source": [
    "plt.figure(figsize=(10,5))\n",
    "plt.plot(pop_isq_total_f[pop_isq_total_m.index>=2017], label='isq')\n",
    "plt.plot(pop_f, label='simgen', linestyle='dashed')\n",
    "plt.legend()\n",
    "plt.title('Comparaison population femme')\n",
    "plt.show()"
   ]
  },
  {
   "cell_type": "markdown",
   "metadata": {
    "ExecuteTime": {
     "end_time": "2020-04-23T20:23:41.697297Z",
     "start_time": "2020-04-23T20:23:41.528647Z"
    }
   },
   "source": [
    "### Comparaison population par groupe d'âge"
   ]
  },
  {
   "cell_type": "code",
   "execution_count": null,
   "metadata": {
    "ExecuteTime": {
     "end_time": "2021-06-23T17:58:33.301882Z",
     "start_time": "2021-06-23T17:58:22.112Z"
    }
   },
   "outputs": [],
   "source": [
    "plt.figure(figsize=(20,10))\n",
    "plt.plot(pop_isq_agegr3_tot['[0, 25)'], label='isq 0-25', color='blue')\n",
    "plt.plot(pop_isq_agegr3_tot['[25, 65)'], label='isq 25-65', color='green')\n",
    "plt.plot(pop_isq_agegr3_tot['[65, 91)'], label='isq 65+', color='red')\n",
    "plt.plot(pop_age_gr3['(-1, 24]'], label='simgen 0-25',color='blue', linestyle='dashed')\n",
    "plt.plot(pop_age_gr3['(24, 64]'], label='simgen 25-65',color='green', linestyle='dashed')\n",
    "plt.plot(pop_age_gr3['(64, 101]'], label='simgen 65+',color='red', linestyle='dashed')\n",
    "plt.legend()\n",
    "plt.title(\"Comparaison groupe d'âge\")\n",
    "plt.show()"
   ]
  },
  {
   "cell_type": "markdown",
   "metadata": {},
   "source": [
    "### Comparaison groupe d'âge de 5 ans"
   ]
  },
  {
   "cell_type": "code",
   "execution_count": null,
   "metadata": {},
   "outputs": [],
   "source": []
  },
  {
   "cell_type": "code",
   "execution_count": null,
   "metadata": {
    "ExecuteTime": {
     "end_time": "2021-06-23T17:58:33.303791Z",
     "start_time": "2021-06-23T17:58:22.118Z"
    },
    "scrolled": true
   },
   "outputs": [],
   "source": [
    "plt.figure(figsize=(10,5))\n",
    "plt.plot(pop_isq_agegr_tot['[0, 5)'], label='isq 0-5', color='blue')\n",
    "plt.plot(pop_age_gr['(-1, 4]'], label='simgen 0-5',color='blue', linestyle='dashed')\n",
    "plt.plot(pop_isq_agegr_tot['[5, 10)'], label='isq 5-10', color='green')\n",
    "plt.plot(pop_age_gr['(4, 9]'], label='simgen 5-10',color='green', linestyle='dashed')\n",
    "plt.plot(pop_isq_agegr_tot['[10, 15)'], label='isq 10-15', color='red')\n",
    "plt.plot(pop_age_gr['(9, 14]'], label='simgen 10-15',color='red', linestyle='dashed')\n",
    "plt.legend()\n",
    "plt.title(\"Comparaison groupe d'âge 0-15\")\n",
    "plt.show()"
   ]
  },
  {
   "cell_type": "code",
   "execution_count": null,
   "metadata": {
    "ExecuteTime": {
     "end_time": "2021-06-23T17:58:33.305968Z",
     "start_time": "2021-06-23T17:58:22.119Z"
    }
   },
   "outputs": [],
   "source": [
    "plt.figure(figsize=(20,10))\n",
    "plt.plot(pop_isq_agegr_tot['[15, 20)'], label='isq 15-20', color='blue')\n",
    "plt.plot(pop_age_gr['(14, 19]'], label='simgen 15-20',color='blue', linestyle='dashed')\n",
    "plt.plot(pop_isq_agegr_tot['[20, 25)'], label='isq 20-25', color='green')\n",
    "plt.plot(pop_age_gr['(19, 24]'], label='simgen 20-25',color='green', linestyle='dashed')\n",
    "plt.plot(pop_isq_agegr_tot['[25, 30)'], label='isq 25-30', color='red')\n",
    "plt.plot(pop_age_gr['(24, 29]'], label='simgen 25-30',color='red', linestyle='dashed')\n",
    "plt.legend()\n",
    "plt.title(\"Comparaison groupe d'âge 15-30\")\n",
    "plt.show()"
   ]
  },
  {
   "cell_type": "code",
   "execution_count": null,
   "metadata": {
    "ExecuteTime": {
     "end_time": "2021-06-23T17:58:33.308022Z",
     "start_time": "2021-06-23T17:58:22.120Z"
    }
   },
   "outputs": [],
   "source": [
    "plt.figure(figsize=(20,10))\n",
    "plt.plot(pop_isq_agegr_tot['[30, 35)'], label='isq 30-35', color='blue')\n",
    "plt.plot(pop_age_gr['(29, 34]'], label='simgen 30-35',color='blue', linestyle='dashed')\n",
    "plt.plot(pop_isq_agegr_tot['[35, 40)'], label='isq 35-40', color='green')\n",
    "plt.plot(pop_age_gr['(34, 39]'], label='simgen 35-40',color='green', linestyle='dashed')\n",
    "plt.plot(pop_isq_agegr_tot['[40, 45)'], label='isq 40-45', color='red')\n",
    "plt.plot(pop_age_gr['(39, 44]'], label='simgen 40-45',color='red', linestyle='dashed')\n",
    "plt.legend()\n",
    "plt.title(\"Comparaison groupe d'âge 30-45\")\n",
    "plt.show()"
   ]
  },
  {
   "cell_type": "code",
   "execution_count": null,
   "metadata": {
    "ExecuteTime": {
     "end_time": "2021-06-23T17:58:33.310312Z",
     "start_time": "2021-06-23T17:58:22.122Z"
    }
   },
   "outputs": [],
   "source": [
    "plt.figure(figsize=(20,10))\n",
    "plt.plot(pop_isq_agegr_tot['[45, 50)'], label='isq 45-50', color='blue')\n",
    "plt.plot(pop_age_gr['(44, 49]'], label='simgen 45-50',color='blue', linestyle='dashed')\n",
    "plt.plot(pop_isq_agegr_tot['[50, 55)'], label='isq 50-55', color='green')\n",
    "plt.plot(pop_age_gr['(49, 54]'], label='simgen 50-55',color='green', linestyle='dashed')\n",
    "plt.plot(pop_isq_agegr_tot['[55, 60)'], label='isq 55-60', color='red')\n",
    "plt.plot(pop_age_gr['(54, 59]'], label='simgen 55-60',color='red', linestyle='dashed')\n",
    "plt.legend()\n",
    "plt.title(\"Comparaison groupe d'âge 45-60\")\n",
    "plt.show()"
   ]
  },
  {
   "cell_type": "code",
   "execution_count": null,
   "metadata": {
    "ExecuteTime": {
     "end_time": "2021-06-23T17:58:33.312361Z",
     "start_time": "2021-06-23T17:58:22.123Z"
    },
    "scrolled": false
   },
   "outputs": [],
   "source": [
    "plt.figure(figsize=(20,10))\n",
    "plt.plot(pop_isq_agegr_tot['[60, 65)'], label='isq 60-65', color='blue')\n",
    "plt.plot(pop_age_gr['(59, 64]'], label='simgen 60-65',color='blue', linestyle='dashed')\n",
    "plt.plot(pop_isq_agegr_tot['[65, 70)'], label='isq 65-70', color='green')\n",
    "plt.plot(pop_age_gr['(64, 69]'], label='simgen 65-70',color='green', linestyle='dashed')\n",
    "plt.plot(pop_isq_agegr_tot['[70, 75)'], label='isq 70-75', color='red')\n",
    "plt.plot(pop_age_gr['(69, 74]'], label='simgen 70-75',color='red', linestyle='dashed')\n",
    "plt.legend()\n",
    "plt.title(\"Comparaison groupe d'âge 60-75\")\n",
    "plt.show()"
   ]
  },
  {
   "cell_type": "code",
   "execution_count": null,
   "metadata": {
    "ExecuteTime": {
     "end_time": "2021-06-23T17:58:33.321342Z",
     "start_time": "2021-06-23T17:58:22.124Z"
    },
    "scrolled": false
   },
   "outputs": [],
   "source": [
    "plt.figure(figsize=(20,10))\n",
    "plt.plot(pop_isq_agegr_tot['[75, 80)'], label='isq 75-80', color='blue')\n",
    "plt.plot(pop_age_gr['(74, 79]'], label='simgen 75-80',color='blue', linestyle='dashed')\n",
    "plt.plot(pop_isq_agegr_tot['[80, 85)'], label='isq 80-85', color='green')\n",
    "plt.plot(pop_age_gr['(79, 84]'], label='simgen 80-85',color='green', linestyle='dashed')\n",
    "plt.plot(pop_isq_agegr_tot['[85, 90)'], label='isq 85-90', color='red')\n",
    "plt.plot(pop_age_gr['(84, 89]'], label='simgen 70-75',color='red', linestyle='dashed')\n",
    "plt.plot(pop_isq_agegr_tot['[90, 95)'], label='isq 90+', color='black')\n",
    "plt.plot(pop_age_gr['(89, 101]'], label='simgen 90+',color='black', linestyle='dashed')\n",
    "plt.legend()\n",
    "plt.title(\"Comparaison groupe d'âge 75-90\")\n",
    "plt.show()"
   ]
  },
  {
   "cell_type": "markdown",
   "metadata": {},
   "source": [
    "### Comparaison des naissances"
   ]
  },
  {
   "cell_type": "code",
   "execution_count": null,
   "metadata": {
    "ExecuteTime": {
     "end_time": "2021-06-23T17:58:33.332541Z",
     "start_time": "2021-06-23T17:58:22.131Z"
    }
   },
   "outputs": [],
   "source": [
    "plt.figure(figsize=(10,5))\n",
    "plt.plot(pop_isq_age_tot.loc[2017:,'0'], label='isq', color='blue')\n",
    "plt.plot(pop_age[0], label='simgen',color='blue', linestyle='dashed')\n",
    "plt.legend()\n",
    "plt.title(\"Naissances\")\n",
    "plt.show()"
   ]
  },
  {
   "cell_type": "markdown",
   "metadata": {
    "ExecuteTime": {
     "end_time": "2020-04-24T15:04:11.416021Z",
     "start_time": "2020-04-24T15:04:11.413165Z"
    }
   },
   "source": [
    "# Éducation\n",
    "\n",
    "## Extraction des données SimGen\n",
    "\n",
    "Prenant en compte school_done"
   ]
  },
  {
   "cell_type": "code",
   "execution_count": null,
   "metadata": {
    "ExecuteTime": {
     "end_time": "2021-06-23T17:58:33.338315Z",
     "start_time": "2021-06-23T17:58:22.136Z"
    }
   },
   "outputs": [],
   "source": [
    "popeduc = base.stats.freq('educ')\n",
    "propeduc15over = base.stats.prop('educ',sub='age>=15')\n",
    "propeduc25overinsch = base.stats.prop('educ',sub='age>=25 and insch==False')\n",
    "propeduc35overinsch = base.stats.prop('educ',sub='age>=35 and insch==False')\n",
    "propeduc3544 = base.stats.prop('educ',sub='age>=35 and age<=44')\n",
    "propeduc2564 = base.stats.prop('educ',sub='age>=25 and age<=64')\n",
    "propeduc15overinsch = base.stats.prop('educ',sub='age>=15 and insch==False')\n",
    "propeduc3544insch = base.stats.prop('educ',sub='age>=35 and age<=44 and insch==False')\n",
    "propeduc2564insch = base.stats.prop('educ',sub='age>=25 and age<=64 and insch==False')"
   ]
  },
  {
   "cell_type": "markdown",
   "metadata": {},
   "source": [
    "## Chargement des données isq\n",
    "\n",
    "Source : Statistique Canada (SC), Enquête sur la population active (EPA), compilations de Statistique Canada et de l'Institut de la statistique du Québec réalisées grâce à l'accès aux données du Centre interuniversitaire québécois de statistiques sociales (CIQSS), membre du Réseau canadien des Centres de données de recherche (RCCDR). Adapté par l’Institut de la statistique du Québec (ISQ).\n",
    "\n",
    "Mise à jour : 28 novembre 2019\n",
    "\n",
    "https://www.stat.gouv.qc.ca/statistiques/education/niveau-scolarite/repartition-scol-ra-sexe-age.html#tri_tertr=50040000000000000&tri_sexe=1&tri_age=365&tri_stat=8403"
   ]
  },
  {
   "cell_type": "code",
   "execution_count": null,
   "metadata": {
    "ExecuteTime": {
     "end_time": "2021-06-23T17:58:33.343365Z",
     "start_time": "2021-06-23T17:58:22.141Z"
    }
   },
   "outputs": [],
   "source": [
    "pop_educ = pd.read_csv(path_data+'educ4_qc2.csv', sep=';')\n",
    "pop_educ = pop_educ[pop_educ['year']>=2000]"
   ]
  },
  {
   "cell_type": "markdown",
   "metadata": {
    "ExecuteTime": {
     "end_time": "2020-04-24T05:51:54.419637Z",
     "start_time": "2020-04-24T05:51:54.411446Z"
    }
   },
   "source": [
    "Préparation des données par groupe d'âge"
   ]
  },
  {
   "cell_type": "code",
   "execution_count": null,
   "metadata": {
    "ExecuteTime": {
     "end_time": "2021-06-23T17:58:33.346900Z",
     "start_time": "2021-06-23T17:58:22.145Z"
    }
   },
   "outputs": [],
   "source": [
    "prop_educ_15over = pop_educ[pop_educ['age']=='15 ans et plus'] \n",
    "prop_educ_15over = prop_educ_15over[prop_educ_15over['sex']=='Total (hommes-femmes)']\n",
    "prop_educ_15over = prop_educ_15over.set_index('year')\n",
    "prop_educ_15over = prop_educ_15over.drop(columns=['age','sex','pop'])\n",
    "prop_educ_3544 = pop_educ[pop_educ['age']=='35-44 ans'] \n",
    "prop_educ_3544 = prop_educ_3544[prop_educ_3544['sex']=='Total (hommes-femmes)']\n",
    "prop_educ_3544 = prop_educ_3544.set_index('year')\n",
    "prop_educ_3544 = prop_educ_3544.drop(columns=['age','sex','pop'])\n",
    "prop_educ_2564 = pop_educ[pop_educ['age']=='25-64 ans'] \n",
    "prop_educ_2564 = prop_educ_2564[prop_educ_2564['sex']=='Total (hommes-femmes)']\n",
    "prop_educ_2564 = prop_educ_2564.set_index('year')\n",
    "prop_educ_2564 = prop_educ_2564.drop(columns=['age','sex','pop'])"
   ]
  },
  {
   "cell_type": "markdown",
   "metadata": {},
   "source": [
    "Data Census \n"
   ]
  },
  {
   "cell_type": "code",
   "execution_count": null,
   "metadata": {
    "ExecuteTime": {
     "end_time": "2021-06-23T17:58:33.349426Z",
     "start_time": "2021-06-23T17:58:22.149Z"
    }
   },
   "outputs": [],
   "source": [
    "census_educ = pd.read_csv(path_data+'census_educ.csv', sep=\";\")\n",
    "census_educ.head()"
   ]
  },
  {
   "cell_type": "code",
   "execution_count": null,
   "metadata": {
    "ExecuteTime": {
     "end_time": "2021-06-23T17:58:33.352660Z",
     "start_time": "2021-06-23T17:58:22.150Z"
    }
   },
   "outputs": [],
   "source": [
    "prop_educ_15over = census_educ[census_educ['age']=='15 ans et plus'] \n",
    "prop_educ_15over = prop_educ_15over[prop_educ_15over['sex']=='Total (hommes-femmes)']\n",
    "prop_educ_15over = prop_educ_15over.set_index('year')\n",
    "prop_educ_15over = prop_educ_15over.drop(columns=['age','sex','pop'])\n",
    "prop_educ_3544 = census_educ[census_educ['age']=='35-44 ans'] \n",
    "prop_educ_3544 = prop_educ_3544[prop_educ_3544['sex']=='Total (hommes-femmes)']\n",
    "prop_educ_3544 = prop_educ_3544.set_index('year')\n",
    "prop_educ_3544 = prop_educ_3544.drop(columns=['age','sex','pop'])\n",
    "prop_educ_2564 = census_educ[census_educ['age']=='25-64 ans'] \n",
    "prop_educ_2564 = prop_educ_2564[prop_educ_2564['sex']=='Total (hommes-femmes)']\n",
    "prop_educ_2564 = prop_educ_2564.set_index('year')\n",
    "prop_educ_2564 = prop_educ_2564.drop(columns=['age','sex','pop'])"
   ]
  },
  {
   "cell_type": "code",
   "execution_count": null,
   "metadata": {
    "ExecuteTime": {
     "end_time": "2021-06-23T17:58:33.355384Z",
     "start_time": "2021-06-23T17:58:22.151Z"
    }
   },
   "outputs": [],
   "source": [
    "prop_educ_65p = census_educ[census_educ['age']=='65 ans et plus ans'] \n",
    "prop_educ_65p = prop_educ_65p[prop_educ_65p['sex']=='Total (hommes-femmes)']\n",
    "prop_educ_65p = prop_educ_65p.set_index('year')\n",
    "prop_educ_65p = prop_educ_65p.drop(columns=['age','sex','pop'])"
   ]
  },
  {
   "cell_type": "code",
   "execution_count": null,
   "metadata": {
    "ExecuteTime": {
     "end_time": "2021-06-23T17:58:33.358079Z",
     "start_time": "2021-06-23T17:58:22.152Z"
    }
   },
   "outputs": [],
   "source": [
    "prop_educ_65p"
   ]
  },
  {
   "cell_type": "code",
   "execution_count": null,
   "metadata": {
    "ExecuteTime": {
     "end_time": "2021-06-23T17:58:33.360848Z",
     "start_time": "2021-06-23T17:58:22.153Z"
    }
   },
   "outputs": [],
   "source": [
    "propeduc65over = base.stats.prop('educ',sub='age>65 and age<=69')\n",
    "propeduc65over"
   ]
  },
  {
   "cell_type": "markdown",
   "metadata": {},
   "source": [
    "Petite fonction pour graphiques d'éducation"
   ]
  },
  {
   "cell_type": "code",
   "execution_count": null,
   "metadata": {
    "ExecuteTime": {
     "end_time": "2021-06-23T17:58:33.363733Z",
     "start_time": "2021-06-23T17:58:22.157Z"
    }
   },
   "outputs": [],
   "source": [
    "def graph_educ(isq,simgen,title, save=False, save_path=None, save_name=None):\n",
    "    plt.figure(figsize=(10,5))\n",
    "    plt.plot(isq['prop'][isq['educ4']=='uni'],label='census uni', color='blue')\n",
    "    plt.plot(simgen['uni'], label='simgen uni',color='blue', linestyle='dashed')\n",
    "    plt.plot(isq['prop'][isq['educ4']=='dec'],label='census dec', color='green')\n",
    "    plt.plot(simgen['dec'], label='simgen dec',color='green', linestyle='dashed')\n",
    "    plt.plot(isq['prop'][isq['educ4']=='des'],label='census des', color='red')\n",
    "    plt.plot(simgen['des'], label='simgen des',color='red', linestyle='dashed')\n",
    "    plt.plot(isq['prop'][isq['educ4']=='none'],label='census none', color='black')\n",
    "    plt.plot(simgen['none'], label='simgen des',color='black', linestyle='dashed')\n",
    "    plt.legend()\n",
    "    plt.title(title)\n",
    "    if save:\n",
    "        #plt.savefig(save_path + save_name + '.jpg')\n",
    "        plt.savefig(save_path + save_name + '.png')\n",
    "    plt.show()"
   ]
  },
  {
   "cell_type": "markdown",
   "metadata": {},
   "source": [
    "### Graphiques comparaison éducation"
   ]
  },
  {
   "cell_type": "code",
   "execution_count": null,
   "metadata": {
    "ExecuteTime": {
     "end_time": "2021-06-23T17:58:33.366543Z",
     "start_time": "2021-06-23T17:58:22.162Z"
    }
   },
   "outputs": [],
   "source": [
    "graph_educ(isq=prop_educ_15over,simgen=propeduc15overinsch,title='Éducation 15 ans et plus')"
   ]
  },
  {
   "cell_type": "code",
   "execution_count": null,
   "metadata": {
    "ExecuteTime": {
     "end_time": "2021-06-23T17:58:33.370234Z",
     "start_time": "2021-06-23T17:58:22.163Z"
    }
   },
   "outputs": [],
   "source": [
    "graph_educ(isq=prop_educ_3544, simgen=propeduc3544insch, title='Éducation 35-44 ans')"
   ]
  },
  {
   "cell_type": "code",
   "execution_count": null,
   "metadata": {
    "ExecuteTime": {
     "end_time": "2021-06-23T17:58:33.373254Z",
     "start_time": "2021-06-23T17:58:22.164Z"
    }
   },
   "outputs": [],
   "source": [
    "graph_educ(isq=prop_educ_2564,simgen=propeduc2564,\n",
    "           title=\"Figure3: Proportion de la population par niveau de scolarité, 25-64 ans, Québec, 2006-2040\",\n",
    "          save=True, save_path=\"/Users/ydecarie/Dropbox (CEDIA)/OLG_CAN/demo/simgen-docs/figure/\",\n",
    "          #save=True, save_path=\"/Users/juliennavaux/Dropbox (CEDIA)/OLG_CAN/demo/simgen-docs/figure/\",\n",
    "          save_name=\"educ_2564\")"
   ]
  },
  {
   "cell_type": "code",
   "execution_count": null,
   "metadata": {
    "ExecuteTime": {
     "end_time": "2021-06-23T17:58:33.376276Z",
     "start_time": "2021-06-23T17:58:22.165Z"
    },
    "scrolled": false
   },
   "outputs": [],
   "source": [
    "graph_educ(isq=prop_educ_2564,simgen=propeduc2564insch,title='Éducation 25-64 ans')"
   ]
  },
  {
   "cell_type": "raw",
   "metadata": {
    "ExecuteTime": {
     "end_time": "2020-04-24T06:45:13.243364Z",
     "start_time": "2020-04-24T06:45:13.232430Z"
    }
   },
   "source": [
    "      Tableau BDSPS 25-65 ans\n",
    "      \n",
    "      études |      Freq.           Percent        Cum.\n",
    "------------+-----------------------------------\n",
    "          dec | 11,957.777       37.21       37.21\n",
    "          des | 7,941.3249       24.71       61.92\n",
    "       none | 5,554.9971       17.29       79.21\n",
    "          uni | 6,681.9009       20.79      100.00\n",
    "Les premières années du modèle ne collent pas avec la base qui est similaire à l'ISQ "
   ]
  },
  {
   "cell_type": "markdown",
   "metadata": {
    "ExecuteTime": {
     "end_time": "2020-04-24T14:03:20.648656Z",
     "start_time": "2020-04-24T14:03:20.414353Z"
    }
   },
   "source": [
    "## Comparaison des personnes en couple\n",
    "\n"
   ]
  },
  {
   "cell_type": "markdown",
   "metadata": {},
   "source": [
    "### Extraction données SimGen\n",
    "\n",
    "Proportion des personnes en couple par groupe d'âge"
   ]
  },
  {
   "cell_type": "code",
   "execution_count": null,
   "metadata": {
    "ExecuteTime": {
     "end_time": "2021-06-23T17:58:33.378664Z",
     "start_time": "2021-06-23T17:58:22.396Z"
    }
   },
   "outputs": [],
   "source": [
    "popms = base.stats.freq('married')\n",
    "propms15plus = base.stats.prop('married', sub=\"age>=15\")\n",
    "propms1544 = base.stats.prop('married', sub=\"age>=15 and age<=44\")\n",
    "propms4564 = base.stats.prop('married', sub=\"age>=45 and age<=64\")\n",
    "propms65plus = base.stats.prop('married', sub=\"age>=65\")\n",
    "propms15plus.columns= propms15plus.columns.astype('str')\n",
    "propms1544.columns= propms1544.columns.astype('str')\n",
    "propms4564.columns= propms4564.columns.astype('str')\n",
    "propms65plus.columns= propms65plus.columns.astype('str')"
   ]
  },
  {
   "cell_type": "markdown",
   "metadata": {
    "ExecuteTime": {
     "end_time": "2020-04-24T08:39:34.615983Z",
     "start_time": "2020-04-24T08:39:34.603854Z"
    }
   },
   "source": [
    "### Extraction données Statistique Canada\n",
    "\n",
    "Estimations de la population au 1er juillet, selon l'état matrimonial ou l'état matrimonial légal, l'âge et le sexe, Tableau : 17-10-0060-01\n",
    "\n",
    "https://www150.statcan.gc.ca/t1/tbl1/fr/cv.action?pid=1710006001"
   ]
  },
  {
   "cell_type": "code",
   "execution_count": null,
   "metadata": {
    "ExecuteTime": {
     "end_time": "2021-06-23T17:58:33.381144Z",
     "start_time": "2021-06-23T17:58:22.402Z"
    }
   },
   "outputs": [],
   "source": [
    "pop_ms = pd.read_csv(path_data+'married_qc.csv', sep=';')\n",
    "pop_ms=pop_ms[pop_ms['married']==1]\n",
    "pop_ms_15plus = pop_ms[pop_ms[\"age\"]==\"15 ans et plus\"]\n",
    "pop_ms_15plus = pop_ms_15plus.set_index(pop_ms_15plus[\"year\"])\n",
    "pop_ms_1544 = pop_ms[pop_ms[\"age\"]==\"15 à 44 ans\"]\n",
    "pop_ms_1544 = pop_ms_1544.set_index(pop_ms_1544[\"year\"])\n",
    "pop_ms_4564 = pop_ms[pop_ms[\"age\"]==\"45 à 64 ans\"]\n",
    "pop_ms_4564 = pop_ms_4564.set_index(pop_ms_4564[\"year\"])\n",
    "pop_ms_65plus = pop_ms[pop_ms[\"age\"]==\"65 ans et plus\"]\n",
    "pop_ms_65plus = pop_ms_65plus.set_index(pop_ms_65plus[\"year\"])"
   ]
  },
  {
   "cell_type": "markdown",
   "metadata": {},
   "source": [
    "Petite fonction pour graphiques de comparaison des unions"
   ]
  },
  {
   "cell_type": "code",
   "execution_count": null,
   "metadata": {
    "ExecuteTime": {
     "end_time": "2021-06-23T17:58:33.384272Z",
     "start_time": "2021-06-23T17:58:22.406Z"
    }
   },
   "outputs": [],
   "source": [
    "def graph_union(isq,simgen,title, save=False, save_path=None, save_name=None):\n",
    "    plt.figure(figsize=(10,5))\n",
    "    plt.plot(isq['prop'], label='isq couple',color='blue')\n",
    "    plt.plot(1-isq['prop'],label=\"isq single\",color='green')\n",
    "    plt.plot(simgen[\"True\"],label=\"simgen couple\", color=\"blue\", linestyle='dashed')\n",
    "    plt.plot(1-simgen[\"True\"], label='simgen single',color='green', linestyle='dashed')\n",
    "    plt.legend()\n",
    "    plt.title(title)\n",
    "    if save:\n",
    "        #plt.savefig(save_path + save_name + '.jpg')\n",
    "        plt.savefig(save_path + save_name + '.png')"
   ]
  },
  {
   "cell_type": "markdown",
   "metadata": {},
   "source": [
    "### Graphiques comparaioson des personnes en couple par groupe d'âge"
   ]
  },
  {
   "cell_type": "code",
   "execution_count": null,
   "metadata": {
    "ExecuteTime": {
     "end_time": "2021-06-23T17:58:33.387344Z",
     "start_time": "2021-06-23T17:58:22.411Z"
    }
   },
   "outputs": [],
   "source": [
    "graph_union(pop_ms_15plus,propms15plus,title=\" Figure 4: Proportion des personnes de 15 ans et plus en couple, Québec, 2000-2040\", save=True,\n",
    "            save_path=\"/Users/ydecarie/Dropbox (CEDIA)/OLG_CAN/demo/simgen-docs/figure/\", \n",
    "            #save_path=\"/Users/juliennavaux/Dropbox (CEDIA)/OLG_CAN/demo/simgen-docs/figure/\",\n",
    "            save_name=\"union_15over\")"
   ]
  },
  {
   "cell_type": "code",
   "execution_count": null,
   "metadata": {
    "ExecuteTime": {
     "end_time": "2021-06-23T17:58:33.389932Z",
     "start_time": "2021-06-23T17:58:22.412Z"
    }
   },
   "outputs": [],
   "source": [
    "graph_union(pop_ms_1544,propms1544,title=\"Union 15-44 ans\")"
   ]
  },
  {
   "cell_type": "code",
   "execution_count": null,
   "metadata": {
    "ExecuteTime": {
     "end_time": "2021-06-23T17:58:33.392874Z",
     "start_time": "2021-06-23T17:58:22.413Z"
    }
   },
   "outputs": [],
   "source": [
    "graph_union(pop_ms_4564,propms4564,title=\"Union 45-64 ans\")"
   ]
  },
  {
   "cell_type": "code",
   "execution_count": null,
   "metadata": {
    "ExecuteTime": {
     "end_time": "2021-06-23T17:58:33.394916Z",
     "start_time": "2021-06-23T17:58:22.414Z"
    }
   },
   "outputs": [],
   "source": [
    "graph_union(pop_ms_65plus,propms65plus,title=\"Union 65 plus\")"
   ]
  },
  {
   "cell_type": "markdown",
   "metadata": {},
   "source": [
    "Comparaison education données de Statistiques Canada"
   ]
  },
  {
   "cell_type": "code",
   "execution_count": null,
   "metadata": {
    "ExecuteTime": {
     "end_time": "2021-06-23T17:58:33.398598Z",
     "start_time": "2021-06-23T17:58:22.418Z"
    }
   },
   "outputs": [],
   "source": [
    "pop_educ_stc = pd.read_csv(path_data+'educ4_qc_stc.csv', sep=';')\n",
    "pop_educ_stc = pop_educ_stc[pop_educ_stc['year']>=2000]\n",
    "pop_educ_stc"
   ]
  },
  {
   "cell_type": "code",
   "execution_count": null,
   "metadata": {
    "ExecuteTime": {
     "end_time": "2021-06-23T17:58:33.401319Z",
     "start_time": "2021-06-23T17:58:22.419Z"
    }
   },
   "outputs": [],
   "source": [
    "prop_educ_stc_15over = pop_educ_stc[pop_educ_stc['age']=='15 ans et plus'] \n",
    "prop_educ_stc_15over = prop_educ_stc_15over[prop_educ_stc_15over['sex']=='Total (hommes-femmes)']\n",
    "prop_educ_stc_15over = prop_educ_stc_15over.set_index('year')\n",
    "prop_educ_stc_15over = prop_educ_stc_15over.drop(columns=['age','sex','pop'])\n",
    "prop_educ_stc_25over = pop_educ_stc[pop_educ_stc['age']=='25 ans et plus'] \n",
    "prop_educ_stc_25over = prop_educ_stc_25over[prop_educ_stc_25over['sex']=='Total (hommes-femmes)']\n",
    "prop_educ_stc_25over = prop_educ_stc_25over.set_index('year')\n",
    "prop_educ_stc_25over = prop_educ_stc_25over.drop(columns=['age','sex','pop'])\n",
    "\n",
    "prop_educ_stc_35over = pop_educ_stc[pop_educ_stc['age']=='25 ans et plus'] \n",
    "prop_educ_stc_35over = prop_educ_stc_35over[prop_educ_stc_35over['sex']=='Total (hommes-femmes)']\n",
    "prop_educ_stc_35over = prop_educ_stc_35over.set_index('year')\n",
    "prop_educ_stc_35over = prop_educ_stc_35over.drop(columns=['age','sex','pop'])\n",
    "\n",
    "prop_educ_stc_3544 = pop_educ_stc[pop_educ_stc['age']=='35-44 ans'] \n",
    "prop_educ_stc_3544 = prop_educ_stc_3544[prop_educ_stc_3544['sex']=='Total (hommes-femmes)']\n",
    "prop_educ_stc_3544 = prop_educ_stc_3544.set_index('year')\n",
    "prop_educ_stc_3544 = prop_educ_stc_3544.drop(columns=['age','sex','pop'])\n",
    "prop_educ_stc_2564 = pop_educ_stc[pop_educ_stc['age']=='25-64 ans'] \n",
    "prop_educ_stc_2564 = prop_educ_stc_2564[prop_educ_stc_2564['sex']=='Total (hommes-femmes)']\n",
    "prop_educ_stc_2564 = prop_educ_stc_2564.set_index('year')\n",
    "prop_educ_stc_2564 = prop_educ_stc_2564.drop(columns=['age','sex','pop'])"
   ]
  },
  {
   "cell_type": "code",
   "execution_count": null,
   "metadata": {
    "ExecuteTime": {
     "end_time": "2021-06-23T17:58:33.404237Z",
     "start_time": "2021-06-23T17:58:22.420Z"
    }
   },
   "outputs": [],
   "source": [
    "graph_educ(isq=prop_educ_stc_25over,simgen=propeduc25overinsch,title='Éducation 25 ans et plus')"
   ]
  },
  {
   "cell_type": "code",
   "execution_count": null,
   "metadata": {
    "ExecuteTime": {
     "end_time": "2021-06-23T17:58:33.407021Z",
     "start_time": "2021-06-23T17:58:22.421Z"
    }
   },
   "outputs": [],
   "source": [
    "prop_educ_stc_35over"
   ]
  },
  {
   "cell_type": "code",
   "execution_count": null,
   "metadata": {
    "ExecuteTime": {
     "end_time": "2021-06-23T17:58:33.409264Z",
     "start_time": "2021-06-23T17:58:22.422Z"
    }
   },
   "outputs": [],
   "source": [
    "prop_educ_15over"
   ]
  },
  {
   "cell_type": "code",
   "execution_count": null,
   "metadata": {
    "ExecuteTime": {
     "end_time": "2021-06-23T17:58:33.411927Z",
     "start_time": "2021-06-23T17:58:22.423Z"
    }
   },
   "outputs": [],
   "source": [
    "graph_educ(isq=prop_educ_stc_35over, simgen=propeduc35overinsch, title=\"\")"
   ]
  },
  {
   "cell_type": "markdown",
   "metadata": {},
   "source": [
    "## Graphique Étudiants"
   ]
  },
  {
   "cell_type": "code",
   "execution_count": null,
   "metadata": {
    "ExecuteTime": {
     "end_time": "2021-06-23T17:58:33.413988Z",
     "start_time": "2021-06-23T17:58:22.427Z"
    }
   },
   "outputs": [],
   "source": [
    "base.stats.freq(\"age\", sub='insch==True and age>=17 and age<=35').T.sum().plot()"
   ]
  },
  {
   "cell_type": "code",
   "execution_count": null,
   "metadata": {
    "ExecuteTime": {
     "end_time": "2021-06-23T17:58:33.416908Z",
     "start_time": "2021-06-23T17:58:22.428Z"
    }
   },
   "outputs": [],
   "source": [
    "base.stats.freq(\"age\", sub='age>=16 and age <25').plot()"
   ]
  },
  {
   "cell_type": "markdown",
   "metadata": {
    "ExecuteTime": {
     "end_time": "2020-04-29T14:26:57.738980Z",
     "start_time": "2020-04-29T14:26:57.736248Z"
    }
   },
   "source": [
    "## Famille"
   ]
  },
  {
   "cell_type": "code",
   "execution_count": null,
   "metadata": {
    "ExecuteTime": {
     "end_time": "2021-06-23T17:58:33.420525Z",
     "start_time": "2021-06-23T17:58:22.434Z"
    }
   },
   "outputs": [],
   "source": [
    "base.stats.freq(\"nkids\", sub=\"nkids>0\").T.sum().plot()"
   ]
  },
  {
   "cell_type": "code",
   "execution_count": null,
   "metadata": {
    "ExecuteTime": {
     "end_time": "2021-06-23T17:58:33.424146Z",
     "start_time": "2021-06-23T17:58:22.435Z"
    }
   },
   "outputs": [],
   "source": [
    "kids_count = [0,1,2,8]\n",
    "base.stats.freq(\"nkids\", bins=kids_count).plot()"
   ]
  },
  {
   "cell_type": "code",
   "execution_count": null,
   "metadata": {
    "ExecuteTime": {
     "end_time": "2021-06-23T17:58:33.426859Z",
     "start_time": "2021-06-23T17:58:22.436Z"
    }
   },
   "outputs": [],
   "source": [
    "nkids_couple=base.stats.freq(\"nkids\", bins=kids_count, sub=\"married==True\")\n",
    "nkids_couple=nkids_couple/2\n",
    "nkids_couple.plot()"
   ]
  },
  {
   "cell_type": "code",
   "execution_count": null,
   "metadata": {
    "ExecuteTime": {
     "end_time": "2021-06-23T17:58:33.430564Z",
     "start_time": "2021-06-23T17:58:22.437Z"
    }
   },
   "outputs": [],
   "source": [
    "nkids_single=base.stats.freq(\"nkids\", bins=kids_count, sub=\"married==False\")\n",
    "nkids_single.plot()"
   ]
  },
  {
   "cell_type": "code",
   "execution_count": null,
   "metadata": {
    "ExecuteTime": {
     "end_time": "2020-04-30T05:05:35.344122Z",
     "start_time": "2020-04-30T05:05:35.071692Z"
    }
   },
   "outputs": [],
   "source": []
  },
  {
   "cell_type": "code",
   "execution_count": null,
   "metadata": {
    "ExecuteTime": {
     "end_time": "2021-06-23T17:58:33.434953Z",
     "start_time": "2021-06-23T17:58:22.440Z"
    },
    "scrolled": true
   },
   "outputs": [],
   "source": [
    "nkids= nkids_couple+nkids_single\n",
    "nkids.plot()"
   ]
  },
  {
   "cell_type": "code",
   "execution_count": null,
   "metadata": {
    "ExecuteTime": {
     "end_time": "2021-06-23T17:58:33.437965Z",
     "start_time": "2021-06-23T17:58:22.441Z"
    }
   },
   "outputs": [],
   "source": [
    "bk = [0, 8]\n",
    "kids_couple=base.stats.freq(\"nkids\", bins=bk, sub=\"married==True\")\n",
    "kids_couple=kids_couple/2\n",
    "kids_single=base.stats.freq(\"nkids\", bins=bk, sub=\"married==False\")\n",
    "kids = kids_single+kids_couple\n",
    "kids.plot()"
   ]
  },
  {
   "cell_type": "code",
   "execution_count": null,
   "metadata": {
    "ExecuteTime": {
     "end_time": "2021-06-23T17:58:33.441108Z",
     "start_time": "2021-06-23T17:58:22.443Z"
    }
   },
   "outputs": [],
   "source": [
    "base.stats.freq('age', sub=\"age==18\").plot()"
   ]
  },
  {
   "cell_type": "code",
   "execution_count": null,
   "metadata": {
    "ExecuteTime": {
     "end_time": "2021-06-23T17:58:33.444132Z",
     "start_time": "2021-06-23T17:58:22.444Z"
    }
   },
   "outputs": [],
   "source": [
    "base.stats.freq(\"age\", sub=\"insch==True and age>34\").T.sum().plot()"
   ]
  },
  {
   "cell_type": "code",
   "execution_count": null,
   "metadata": {
    "ExecuteTime": {
     "end_time": "2021-06-23T17:58:33.446295Z",
     "start_time": "2021-06-23T17:58:22.445Z"
    },
    "scrolled": true
   },
   "outputs": [],
   "source": [
    "base.stats.freq(\"age\", sub=\"insch==True and age>=35 and age<=65\").T.sum().plot()"
   ]
  },
  {
   "cell_type": "code",
   "execution_count": null,
   "metadata": {
    "ExecuteTime": {
     "end_time": "2021-06-23T17:58:33.450537Z",
     "start_time": "2021-06-23T17:58:22.446Z"
    }
   },
   "outputs": [],
   "source": [
    "base.stats.freq(\"age\", sub=\"insch==True and age>=35 and age<=45\").plot()"
   ]
  },
  {
   "cell_type": "code",
   "execution_count": null,
   "metadata": {},
   "outputs": [],
   "source": []
  }
 ],
 "metadata": {
  "interpreter": {
   "hash": "0560885773ac9932a9ac4d77cd95c660a5f5b390f94d53a1cca9446cf9f1f914"
  },
  "kernelspec": {
   "display_name": "Python 3",
   "language": "python",
   "name": "python3"
  },
  "language_info": {
   "codemirror_mode": {
    "name": "ipython",
    "version": 3
   },
   "file_extension": ".py",
   "mimetype": "text/x-python",
   "name": "python",
   "nbconvert_exporter": "python",
   "pygments_lexer": "ipython3",
   "version": "3.7.4"
  },
  "varInspector": {
   "cols": {
    "lenName": 16,
    "lenType": 16,
    "lenVar": 40
   },
   "kernels_config": {
    "python": {
     "delete_cmd_postfix": "",
     "delete_cmd_prefix": "del ",
     "library": "var_list.py",
     "varRefreshCmd": "print(var_dic_list())"
    },
    "r": {
     "delete_cmd_postfix": ") ",
     "delete_cmd_prefix": "rm(",
     "library": "var_list.r",
     "varRefreshCmd": "cat(var_dic_list()) "
    }
   },
   "types_to_exclude": [
    "module",
    "function",
    "builtin_function_or_method",
    "instance",
    "_Feature"
   ],
   "window_display": false
  }
 },
 "nbformat": 4,
 "nbformat_minor": 2
}
