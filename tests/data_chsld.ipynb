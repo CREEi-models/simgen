{
 "cells": [
  {
   "cell_type": "code",
   "execution_count": 1,
   "metadata": {
    "ExecuteTime": {
     "end_time": "2020-11-16T22:05:23.959104Z",
     "start_time": "2020-11-16T22:05:23.296835Z"
    }
   },
   "outputs": [],
   "source": [
    "import sys\n",
    "import warnings\n",
    "import pandas as pd \n",
    "import numpy as np\n",
    "from matplotlib import pyplot as plt\n",
    "warnings.filterwarnings(\"ignore\")\n",
    "import importlib"
   ]
  },
  {
   "cell_type": "code",
   "execution_count": 10,
   "metadata": {
    "ExecuteTime": {
     "end_time": "2020-11-16T22:07:06.601253Z",
     "start_time": "2020-11-16T22:07:06.597293Z"
    }
   },
   "outputs": [],
   "source": [
    "sys.path.append('/Users/ydecarie/Dropbox (CEDIA)/simgem/simgen/simgen')"
   ]
  },
  {
   "cell_type": "code",
   "execution_count": 12,
   "metadata": {
    "ExecuteTime": {
     "end_time": "2020-11-16T22:07:26.414466Z",
     "start_time": "2020-11-16T22:07:26.405682Z"
    }
   },
   "outputs": [],
   "source": [
    " import data"
   ]
  },
  {
   "cell_type": "code",
   "execution_count": 13,
   "metadata": {
    "ExecuteTime": {
     "end_time": "2020-11-16T22:07:28.873125Z",
     "start_time": "2020-11-16T22:07:28.866636Z"
    }
   },
   "outputs": [
    {
     "data": {
      "text/plain": [
       "<module 'data' from '/Users/ydecarie/Dropbox (CEDIA)/simgem/simgen/simgen/data.py'>"
      ]
     },
     "execution_count": 13,
     "metadata": {},
     "output_type": "execute_result"
    }
   ],
   "source": [
    "importlib.reload(data)"
   ]
  },
  {
   "cell_type": "code",
   "execution_count": 14,
   "metadata": {
    "ExecuteTime": {
     "end_time": "2020-11-16T22:08:03.062916Z",
     "start_time": "2020-11-16T22:07:37.876323Z"
    }
   },
   "outputs": [],
   "source": [
    "hh,sp,kd = data.bdsps('../raw/bdsps2017chsld.dta')"
   ]
  },
  {
   "cell_type": "code",
   "execution_count": 15,
   "metadata": {
    "ExecuteTime": {
     "end_time": "2020-11-16T22:08:20.319749Z",
     "start_time": "2020-11-16T22:08:20.279287Z"
    }
   },
   "outputs": [],
   "source": [
    "imm = hh[hh.newimm]\n",
    "imm_nas = imm.index\n",
    "sp_imm = sp.loc[sp.index.isin(imm_nas),:]\n",
    "kd_imm = kd.loc[kd.index.isin(imm_nas),:]\n",
    "kd_imm_hh =kd.loc[kd.index.isin(imm_nas),:]\n",
    "newindex= list(np.arange(0,len(kd_imm_hh),1))\n",
    "kd_imm_hh['ni']=newindex\n",
    "kd_imm_hh=kd_imm_hh.set_index('ni')\n",
    "kd_imm_hh.index+=max(hh.index)\n",
    "imm= pd.concat([imm,kd_imm_hh])"
   ]
  },
  {
   "cell_type": "code",
   "execution_count": 16,
   "metadata": {
    "ExecuteTime": {
     "end_time": "2020-11-16T22:09:03.983064Z",
     "start_time": "2020-11-16T22:09:03.815593Z"
    }
   },
   "outputs": [],
   "source": [
    "imm = hh[hh.newimm]\n",
    "imm_nas = imm.index\n",
    "sp_imm = sp.loc[sp.index.isin(imm_nas),:]\n",
    "kd_imm = kd.loc[kd.index.isin(imm_nas),:]\n",
    "kd_imm_hh =kd.loc[kd.index.isin(imm_nas),:]\n",
    "for i in kd_imm_hh.index:\n",
    "    kd_imm_hh.loc[i,'yrsimm'] = hh.loc[i,'yrsimm'] \n",
    "kd_imm_hh = kd_imm_hh[kd_imm_hh['yrsimm']<=kd_imm_hh['age']]\n",
    "newindex= list(np.arange(0,len(kd_imm_hh),1))\n",
    "kd_imm_hh['ni']=newindex\n",
    "kd_imm_hh=kd_imm_hh.set_index('ni')\n",
    "kd_imm_hh.index+=max(hh.index)\n",
    "imm= pd.concat([imm,kd_imm_hh])"
   ]
  },
  {
   "cell_type": "code",
   "execution_count": 17,
   "metadata": {
    "ExecuteTime": {
     "end_time": "2020-11-16T22:09:06.600259Z",
     "start_time": "2020-11-16T22:09:06.596340Z"
    }
   },
   "outputs": [],
   "source": [
    "parsing = data.parse()"
   ]
  },
  {
   "cell_type": "code",
   "execution_count": 18,
   "metadata": {
    "ExecuteTime": {
     "end_time": "2020-11-16T22:09:07.769268Z",
     "start_time": "2020-11-16T22:09:07.764405Z"
    }
   },
   "outputs": [],
   "source": [
    "parsing.map_hh['educ'] = 'educ4'\n",
    "parsing.map_hh['insch'] = 'inschool'\n",
    "parsing.map_sp['educ'] = 'educ4'\n",
    "parsing.map_sp['insch'] = 'inschool'\n",
    "parsing.map_kd['insch'] = 'inschool'"
   ]
  },
  {
   "cell_type": "code",
   "execution_count": 19,
   "metadata": {
    "ExecuteTime": {
     "end_time": "2020-11-16T22:09:09.890362Z",
     "start_time": "2020-11-16T22:09:09.764369Z"
    }
   },
   "outputs": [],
   "source": [
    "hh = parsing.dominants(hh)\n",
    "sp = parsing.spouses(sp)\n",
    "kd = parsing.kids(kd)"
   ]
  },
  {
   "cell_type": "code",
   "execution_count": 92,
   "metadata": {
    "ExecuteTime": {
     "end_time": "2020-06-08T20:47:58.789113Z",
     "start_time": "2020-06-08T20:47:58.764888Z"
    }
   },
   "outputs": [],
   "source": [
    "imm = parsing.dominants(imm)\n",
    "sp_imm = parsing.spouses(sp_imm)\n",
    "kd_imm = parsing.kids(kd_imm)"
   ]
  },
  {
   "cell_type": "code",
   "execution_count": 21,
   "metadata": {
    "ExecuteTime": {
     "end_time": "2020-11-16T22:16:14.961686Z",
     "start_time": "2020-11-16T22:16:14.944343Z"
    }
   },
   "outputs": [],
   "source": [
    "pop = data.population()\n",
    "pop.input(hh,sp,kd)\n",
    "pop.save('startpopchsld')"
   ]
  },
  {
   "cell_type": "code",
   "execution_count": 94,
   "metadata": {
    "ExecuteTime": {
     "end_time": "2020-06-08T20:48:19.785584Z",
     "start_time": "2020-06-08T20:48:19.772752Z"
    }
   },
   "outputs": [],
   "source": [
    "newimm = data.population()\n",
    "newimm.input(imm,sp_imm,kd_imm)\n",
    "newimm.save('newimmpopchsld')"
   ]
  },
  {
   "cell_type": "code",
   "execution_count": 44,
   "metadata": {
    "ExecuteTime": {
     "end_time": "2020-05-18T14:23:01.844978Z",
     "start_time": "2020-05-18T14:23:01.834668Z"
    }
   },
   "outputs": [
    {
     "data": {
      "text/plain": [
       "39305.76919220898"
      ]
     },
     "execution_count": 44,
     "metadata": {},
     "output_type": "execute_result"
    }
   ],
   "source": [
    "inst = hh['chsld']==1\n",
    "df_inst=hh[inst]\n",
    "df_inst['wgt'].sum()"
   ]
  },
  {
   "cell_type": "code",
   "execution_count": 46,
   "metadata": {
    "ExecuteTime": {
     "end_time": "2020-05-18T14:47:08.052013Z",
     "start_time": "2020-05-18T14:47:08.022892Z"
    }
   },
   "outputs": [
    {
     "data": {
      "text/html": [
       "<div>\n",
       "<style scoped>\n",
       "    .dataframe tbody tr th:only-of-type {\n",
       "        vertical-align: middle;\n",
       "    }\n",
       "\n",
       "    .dataframe tbody tr th {\n",
       "        vertical-align: top;\n",
       "    }\n",
       "\n",
       "    .dataframe thead th {\n",
       "        text-align: right;\n",
       "    }\n",
       "</style>\n",
       "<table border=\"1\" class=\"dataframe\">\n",
       "  <thead>\n",
       "    <tr style=\"text-align: right;\">\n",
       "      <th></th>\n",
       "      <th>wgt</th>\n",
       "      <th>byr</th>\n",
       "      <th>male</th>\n",
       "      <th>educ</th>\n",
       "      <th>insch</th>\n",
       "      <th>nkids</th>\n",
       "      <th>married</th>\n",
       "      <th>chsld</th>\n",
       "    </tr>\n",
       "    <tr>\n",
       "      <th>nas</th>\n",
       "      <th></th>\n",
       "      <th></th>\n",
       "      <th></th>\n",
       "      <th></th>\n",
       "      <th></th>\n",
       "      <th></th>\n",
       "      <th></th>\n",
       "      <th></th>\n",
       "    </tr>\n",
       "  </thead>\n",
       "  <tbody>\n",
       "    <tr>\n",
       "      <th>2074</th>\n",
       "      <td>51.794347</td>\n",
       "      <td>1952</td>\n",
       "      <td>False</td>\n",
       "      <td>des</td>\n",
       "      <td>False</td>\n",
       "      <td>0</td>\n",
       "      <td>False</td>\n",
       "      <td>1.0</td>\n",
       "    </tr>\n",
       "    <tr>\n",
       "      <th>2156</th>\n",
       "      <td>267.610570</td>\n",
       "      <td>1918</td>\n",
       "      <td>False</td>\n",
       "      <td>uni</td>\n",
       "      <td>False</td>\n",
       "      <td>0</td>\n",
       "      <td>False</td>\n",
       "      <td>1.0</td>\n",
       "    </tr>\n",
       "    <tr>\n",
       "      <th>2175</th>\n",
       "      <td>298.118771</td>\n",
       "      <td>1946</td>\n",
       "      <td>False</td>\n",
       "      <td>des</td>\n",
       "      <td>False</td>\n",
       "      <td>0</td>\n",
       "      <td>False</td>\n",
       "      <td>1.0</td>\n",
       "    </tr>\n",
       "    <tr>\n",
       "      <th>2320</th>\n",
       "      <td>31.284744</td>\n",
       "      <td>1952</td>\n",
       "      <td>True</td>\n",
       "      <td>none</td>\n",
       "      <td>False</td>\n",
       "      <td>0</td>\n",
       "      <td>False</td>\n",
       "      <td>1.0</td>\n",
       "    </tr>\n",
       "    <tr>\n",
       "      <th>5003</th>\n",
       "      <td>304.652924</td>\n",
       "      <td>1925</td>\n",
       "      <td>False</td>\n",
       "      <td>none</td>\n",
       "      <td>False</td>\n",
       "      <td>0</td>\n",
       "      <td>False</td>\n",
       "      <td>1.0</td>\n",
       "    </tr>\n",
       "    <tr>\n",
       "      <th>...</th>\n",
       "      <td>...</td>\n",
       "      <td>...</td>\n",
       "      <td>...</td>\n",
       "      <td>...</td>\n",
       "      <td>...</td>\n",
       "      <td>...</td>\n",
       "      <td>...</td>\n",
       "      <td>...</td>\n",
       "    </tr>\n",
       "    <tr>\n",
       "      <th>58166</th>\n",
       "      <td>709.577261</td>\n",
       "      <td>1936</td>\n",
       "      <td>False</td>\n",
       "      <td>none</td>\n",
       "      <td>False</td>\n",
       "      <td>0</td>\n",
       "      <td>False</td>\n",
       "      <td>1.0</td>\n",
       "    </tr>\n",
       "    <tr>\n",
       "      <th>58168</th>\n",
       "      <td>28.129961</td>\n",
       "      <td>1943</td>\n",
       "      <td>False</td>\n",
       "      <td>none</td>\n",
       "      <td>False</td>\n",
       "      <td>0</td>\n",
       "      <td>False</td>\n",
       "      <td>1.0</td>\n",
       "    </tr>\n",
       "    <tr>\n",
       "      <th>58170</th>\n",
       "      <td>405.679073</td>\n",
       "      <td>1940</td>\n",
       "      <td>False</td>\n",
       "      <td>none</td>\n",
       "      <td>False</td>\n",
       "      <td>0</td>\n",
       "      <td>False</td>\n",
       "      <td>1.0</td>\n",
       "    </tr>\n",
       "    <tr>\n",
       "      <th>58179</th>\n",
       "      <td>34.986041</td>\n",
       "      <td>1949</td>\n",
       "      <td>False</td>\n",
       "      <td>none</td>\n",
       "      <td>False</td>\n",
       "      <td>0</td>\n",
       "      <td>False</td>\n",
       "      <td>1.0</td>\n",
       "    </tr>\n",
       "    <tr>\n",
       "      <th>59574</th>\n",
       "      <td>81.770914</td>\n",
       "      <td>1943</td>\n",
       "      <td>True</td>\n",
       "      <td>none</td>\n",
       "      <td>False</td>\n",
       "      <td>0</td>\n",
       "      <td>False</td>\n",
       "      <td>1.0</td>\n",
       "    </tr>\n",
       "  </tbody>\n",
       "</table>\n",
       "<p>101 rows × 8 columns</p>\n",
       "</div>"
      ],
      "text/plain": [
       "              wgt   byr   male  educ  insch  nkids  married  chsld\n",
       "nas                                                               \n",
       "2074    51.794347  1952  False   des  False      0    False    1.0\n",
       "2156   267.610570  1918  False   uni  False      0    False    1.0\n",
       "2175   298.118771  1946  False   des  False      0    False    1.0\n",
       "2320    31.284744  1952   True  none  False      0    False    1.0\n",
       "5003   304.652924  1925  False  none  False      0    False    1.0\n",
       "...           ...   ...    ...   ...    ...    ...      ...    ...\n",
       "58166  709.577261  1936  False  none  False      0    False    1.0\n",
       "58168   28.129961  1943  False  none  False      0    False    1.0\n",
       "58170  405.679073  1940  False  none  False      0    False    1.0\n",
       "58179   34.986041  1949  False  none  False      0    False    1.0\n",
       "59574   81.770914  1943   True  none  False      0    False    1.0\n",
       "\n",
       "[101 rows x 8 columns]"
      ]
     },
     "execution_count": 46,
     "metadata": {},
     "output_type": "execute_result"
    }
   ],
   "source": [
    "df_inst\n"
   ]
  },
  {
   "cell_type": "code",
   "execution_count": 48,
   "metadata": {
    "ExecuteTime": {
     "end_time": "2020-05-18T15:25:24.447097Z",
     "start_time": "2020-05-18T15:25:24.401157Z"
    }
   },
   "outputs": [],
   "source": [
    "df_inst.to_csv('/Users/ydecarie/Dropbox (CEDIA)/COVID19/chsld/BDSPS/pers_inst.csv')"
   ]
  },
  {
   "cell_type": "code",
   "execution_count": null,
   "metadata": {},
   "outputs": [],
   "source": []
  }
 ],
 "metadata": {
  "kernelspec": {
   "display_name": "Python 3",
   "language": "python",
   "name": "python3"
  },
  "language_info": {
   "codemirror_mode": {
    "name": "ipython",
    "version": 3
   },
   "file_extension": ".py",
   "mimetype": "text/x-python",
   "name": "python",
   "nbconvert_exporter": "python",
   "pygments_lexer": "ipython3",
   "version": "3.7.4"
  }
 },
 "nbformat": 4,
 "nbformat_minor": 2
}
