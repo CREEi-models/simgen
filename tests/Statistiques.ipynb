{
 "cells": [
  {
   "cell_type": "markdown",
   "metadata": {},
   "source": [
    "# Statistiques"
   ]
  },
  {
   "cell_type": "markdown",
   "metadata": {},
   "source": [
    "La classe statistiques permet d'abord de collecter la population par un grand nombre de variable pour chaque année. Avec ce cube de données, la classe permet ensuite de sortir les statistiques de nombres et proportions. On en donne un exemple ici. "
   ]
  },
  {
   "cell_type": "markdown",
   "metadata": {},
   "source": [
    "## Simulation scénario de référence"
   ]
  },
  {
   "cell_type": "code",
   "execution_count": 1,
   "metadata": {
    "ExecuteTime": {
     "end_time": "2020-10-29T20:37:15.535144Z",
     "start_time": "2020-10-29T20:37:14.967486Z"
    }
   },
   "outputs": [],
   "source": [
    "import sys\n",
    "sys.path.append('/Users/ydecarie/Dropbox (CEDIA)/OLG_CAN/simgen/')\n",
    "from matplotlib import pyplot as plt\n",
    "import warnings\n",
    "warnings.filterwarnings(\"ignore\")"
   ]
  },
  {
   "cell_type": "code",
   "execution_count": 2,
   "metadata": {
    "ExecuteTime": {
     "end_time": "2020-10-29T20:37:16.589145Z",
     "start_time": "2020-10-29T20:37:15.570831Z"
    }
   },
   "outputs": [],
   "source": [
    "from simgen import model"
   ]
  },
  {
   "cell_type": "code",
   "execution_count": 3,
   "metadata": {
    "ExecuteTime": {
     "end_time": "2020-10-29T20:37:16.593517Z",
     "start_time": "2020-10-29T20:37:16.590973Z"
    }
   },
   "outputs": [],
   "source": [
    "yr_debut=2017\n",
    "yr_fin=2060"
   ]
  },
  {
   "cell_type": "code",
   "execution_count": 6,
   "metadata": {
    "ExecuteTime": {
     "end_time": "2020-10-29T20:39:53.383841Z",
     "start_time": "2020-10-29T20:39:51.812793Z"
    }
   },
   "outputs": [],
   "source": [
    "base = model(start_yr=yr_debut,stop_yr=yr_fin)\n",
    "base.startpop('startpopchsld')\n",
    "base.immig_assumptions(init='newimmpopchsld')\n",
    "base.birth_assumptions(scenario='reference')\n",
    "base.dead_assumptions(scenario='low')"
   ]
  },
  {
   "cell_type": "code",
   "execution_count": 7,
   "metadata": {
    "ExecuteTime": {
     "end_time": "2020-10-29T20:47:52.357866Z",
     "start_time": "2020-10-29T20:39:53.386309Z"
    }
   },
   "outputs": [
    {
     "name": "stdout",
     "output_type": "stream",
     "text": [
      "year: 2060 replication: 1\r"
     ]
    }
   ],
   "source": [
    "base.simulate(rep=1)"
   ]
  },
  {
   "cell_type": "code",
   "execution_count": 6,
   "metadata": {
    "ExecuteTime": {
     "end_time": "2020-10-29T18:12:13.134768Z",
     "start_time": "2020-10-29T18:12:13.094418Z"
    }
   },
   "outputs": [],
   "source": [
    "base.stats.save('simpop.pkl')"
   ]
  },
  {
   "cell_type": "markdown",
   "metadata": {},
   "source": [
    "## Le cube de donnée\n",
    "\n",
    "À l'intérieur d'un modèle, une instance de la classe stats a été lancée. Elle définie des stratas pour cumuler les fréquences d'individus. Par défaut, elle fait (age,male,educ,married,nkids). Après avoir crée l'instance, le modèle va l'initatiser en utilisant la population de départ. Il va ensuite la populer avec les années subséquentes de la simulation. On peut voir ce cube à l'aide de stats.counts. "
   ]
  },
  {
   "cell_type": "code",
   "execution_count": 8,
   "metadata": {
    "ExecuteTime": {
     "end_time": "2020-10-29T20:47:52.423715Z",
     "start_time": "2020-10-29T20:47:52.360254Z"
    },
    "scrolled": false
   },
   "outputs": [
    {
     "data": {
      "text/html": [
       "<div>\n",
       "<style scoped>\n",
       "    .dataframe tbody tr th:only-of-type {\n",
       "        vertical-align: middle;\n",
       "    }\n",
       "\n",
       "    .dataframe tbody tr th {\n",
       "        vertical-align: top;\n",
       "    }\n",
       "\n",
       "    .dataframe thead th {\n",
       "        text-align: right;\n",
       "    }\n",
       "</style>\n",
       "<table border=\"1\" class=\"dataframe\">\n",
       "  <thead>\n",
       "    <tr style=\"text-align: right;\">\n",
       "      <th></th>\n",
       "      <th></th>\n",
       "      <th></th>\n",
       "      <th></th>\n",
       "      <th></th>\n",
       "      <th></th>\n",
       "      <th></th>\n",
       "      <th>2017</th>\n",
       "      <th>2018</th>\n",
       "      <th>2019</th>\n",
       "      <th>2020</th>\n",
       "      <th>2021</th>\n",
       "      <th>2022</th>\n",
       "      <th>2023</th>\n",
       "      <th>2024</th>\n",
       "      <th>2025</th>\n",
       "      <th>2026</th>\n",
       "      <th>...</th>\n",
       "      <th>2052</th>\n",
       "      <th>2053</th>\n",
       "      <th>2054</th>\n",
       "      <th>2055</th>\n",
       "      <th>2056</th>\n",
       "      <th>2057</th>\n",
       "      <th>2058</th>\n",
       "      <th>2059</th>\n",
       "      <th>2060</th>\n",
       "      <th>2061</th>\n",
       "    </tr>\n",
       "    <tr>\n",
       "      <th>age</th>\n",
       "      <th>male</th>\n",
       "      <th>insch</th>\n",
       "      <th>educ</th>\n",
       "      <th>married</th>\n",
       "      <th>nkids</th>\n",
       "      <th>chsld</th>\n",
       "      <th></th>\n",
       "      <th></th>\n",
       "      <th></th>\n",
       "      <th></th>\n",
       "      <th></th>\n",
       "      <th></th>\n",
       "      <th></th>\n",
       "      <th></th>\n",
       "      <th></th>\n",
       "      <th></th>\n",
       "      <th></th>\n",
       "      <th></th>\n",
       "      <th></th>\n",
       "      <th></th>\n",
       "      <th></th>\n",
       "      <th></th>\n",
       "      <th></th>\n",
       "      <th></th>\n",
       "      <th></th>\n",
       "      <th></th>\n",
       "      <th></th>\n",
       "    </tr>\n",
       "  </thead>\n",
       "  <tbody>\n",
       "    <tr>\n",
       "      <th rowspan=\"2\" valign=\"top\">0</th>\n",
       "      <th>False</th>\n",
       "      <th>False</th>\n",
       "      <th>none</th>\n",
       "      <th>False</th>\n",
       "      <th>0</th>\n",
       "      <th>False</th>\n",
       "      <td>41136.960108</td>\n",
       "      <td>41594.385827</td>\n",
       "      <td>43106.624672</td>\n",
       "      <td>41217.789203</td>\n",
       "      <td>41109.431851</td>\n",
       "      <td>42372.271978</td>\n",
       "      <td>41066.121131</td>\n",
       "      <td>43594.415094</td>\n",
       "      <td>42299.287411</td>\n",
       "      <td>39125.911082</td>\n",
       "      <td>...</td>\n",
       "      <td>42444.292437</td>\n",
       "      <td>42579.572864</td>\n",
       "      <td>42170.636215</td>\n",
       "      <td>42692.152866</td>\n",
       "      <td>47548.247557</td>\n",
       "      <td>47451.895973</td>\n",
       "      <td>46433.375194</td>\n",
       "      <td>45930.214286</td>\n",
       "      <td>46776.117073</td>\n",
       "      <td>41620.283763</td>\n",
       "    </tr>\n",
       "    <tr>\n",
       "      <th>True</th>\n",
       "      <th>False</th>\n",
       "      <th>none</th>\n",
       "      <th>False</th>\n",
       "      <th>0</th>\n",
       "      <th>False</th>\n",
       "      <td>43243.726267</td>\n",
       "      <td>41594.385827</td>\n",
       "      <td>40357.477690</td>\n",
       "      <td>42953.275064</td>\n",
       "      <td>43663.568149</td>\n",
       "      <td>42605.728022</td>\n",
       "      <td>43582.707941</td>\n",
       "      <td>41136.886792</td>\n",
       "      <td>42500.712589</td>\n",
       "      <td>45120.131443</td>\n",
       "      <td>...</td>\n",
       "      <td>46643.727731</td>\n",
       "      <td>46464.025126</td>\n",
       "      <td>46678.531811</td>\n",
       "      <td>45954.343949</td>\n",
       "      <td>41169.824104</td>\n",
       "      <td>41035.444631</td>\n",
       "      <td>42299.840310</td>\n",
       "      <td>42619.928571</td>\n",
       "      <td>41723.141463</td>\n",
       "      <td>46873.329287</td>\n",
       "    </tr>\n",
       "    <tr>\n",
       "      <th rowspan=\"3\" valign=\"top\">1</th>\n",
       "      <th rowspan=\"3\" valign=\"top\">False</th>\n",
       "      <th rowspan=\"3\" valign=\"top\">False</th>\n",
       "      <th rowspan=\"3\" valign=\"top\">dec</th>\n",
       "      <th rowspan=\"3\" valign=\"top\">False</th>\n",
       "      <th rowspan=\"2\" valign=\"top\">0</th>\n",
       "      <th>False</th>\n",
       "      <td>0.000000</td>\n",
       "      <td>0.000000</td>\n",
       "      <td>0.000000</td>\n",
       "      <td>0.000000</td>\n",
       "      <td>0.000000</td>\n",
       "      <td>0.000000</td>\n",
       "      <td>0.000000</td>\n",
       "      <td>0.000000</td>\n",
       "      <td>0.000000</td>\n",
       "      <td>0.000000</td>\n",
       "      <td>...</td>\n",
       "      <td>0.000000</td>\n",
       "      <td>0.000000</td>\n",
       "      <td>0.000000</td>\n",
       "      <td>0.000000</td>\n",
       "      <td>0.000000</td>\n",
       "      <td>0.000000</td>\n",
       "      <td>0.000000</td>\n",
       "      <td>0.000000</td>\n",
       "      <td>0.000000</td>\n",
       "      <td>0.000000</td>\n",
       "    </tr>\n",
       "    <tr>\n",
       "      <th>True</th>\n",
       "      <td>0.000000</td>\n",
       "      <td>0.000000</td>\n",
       "      <td>0.000000</td>\n",
       "      <td>0.000000</td>\n",
       "      <td>0.000000</td>\n",
       "      <td>0.000000</td>\n",
       "      <td>0.000000</td>\n",
       "      <td>0.000000</td>\n",
       "      <td>0.000000</td>\n",
       "      <td>0.000000</td>\n",
       "      <td>...</td>\n",
       "      <td>0.000000</td>\n",
       "      <td>0.000000</td>\n",
       "      <td>0.000000</td>\n",
       "      <td>0.000000</td>\n",
       "      <td>0.000000</td>\n",
       "      <td>0.000000</td>\n",
       "      <td>0.000000</td>\n",
       "      <td>0.000000</td>\n",
       "      <td>0.000000</td>\n",
       "      <td>0.000000</td>\n",
       "    </tr>\n",
       "    <tr>\n",
       "      <th>1</th>\n",
       "      <th>False</th>\n",
       "      <td>0.000000</td>\n",
       "      <td>0.000000</td>\n",
       "      <td>0.000000</td>\n",
       "      <td>0.000000</td>\n",
       "      <td>0.000000</td>\n",
       "      <td>0.000000</td>\n",
       "      <td>0.000000</td>\n",
       "      <td>0.000000</td>\n",
       "      <td>0.000000</td>\n",
       "      <td>0.000000</td>\n",
       "      <td>...</td>\n",
       "      <td>0.000000</td>\n",
       "      <td>0.000000</td>\n",
       "      <td>0.000000</td>\n",
       "      <td>0.000000</td>\n",
       "      <td>0.000000</td>\n",
       "      <td>0.000000</td>\n",
       "      <td>0.000000</td>\n",
       "      <td>0.000000</td>\n",
       "      <td>0.000000</td>\n",
       "      <td>0.000000</td>\n",
       "    </tr>\n",
       "    <tr>\n",
       "      <th>...</th>\n",
       "      <th>...</th>\n",
       "      <th>...</th>\n",
       "      <th>...</th>\n",
       "      <th>...</th>\n",
       "      <th>...</th>\n",
       "      <th>...</th>\n",
       "      <td>...</td>\n",
       "      <td>...</td>\n",
       "      <td>...</td>\n",
       "      <td>...</td>\n",
       "      <td>...</td>\n",
       "      <td>...</td>\n",
       "      <td>...</td>\n",
       "      <td>...</td>\n",
       "      <td>...</td>\n",
       "      <td>...</td>\n",
       "      <td>...</td>\n",
       "      <td>...</td>\n",
       "      <td>...</td>\n",
       "      <td>...</td>\n",
       "      <td>...</td>\n",
       "      <td>...</td>\n",
       "      <td>...</td>\n",
       "      <td>...</td>\n",
       "      <td>...</td>\n",
       "      <td>...</td>\n",
       "      <td>...</td>\n",
       "    </tr>\n",
       "    <tr>\n",
       "      <th rowspan=\"5\" valign=\"top\">110</th>\n",
       "      <th rowspan=\"5\" valign=\"top\">True</th>\n",
       "      <th rowspan=\"5\" valign=\"top\">True</th>\n",
       "      <th rowspan=\"5\" valign=\"top\">uni</th>\n",
       "      <th rowspan=\"5\" valign=\"top\">True</th>\n",
       "      <th>3</th>\n",
       "      <th>True</th>\n",
       "      <td>0.000000</td>\n",
       "      <td>0.000000</td>\n",
       "      <td>0.000000</td>\n",
       "      <td>0.000000</td>\n",
       "      <td>0.000000</td>\n",
       "      <td>0.000000</td>\n",
       "      <td>0.000000</td>\n",
       "      <td>0.000000</td>\n",
       "      <td>0.000000</td>\n",
       "      <td>0.000000</td>\n",
       "      <td>...</td>\n",
       "      <td>0.000000</td>\n",
       "      <td>0.000000</td>\n",
       "      <td>0.000000</td>\n",
       "      <td>0.000000</td>\n",
       "      <td>0.000000</td>\n",
       "      <td>0.000000</td>\n",
       "      <td>0.000000</td>\n",
       "      <td>0.000000</td>\n",
       "      <td>0.000000</td>\n",
       "      <td>0.000000</td>\n",
       "    </tr>\n",
       "    <tr>\n",
       "      <th rowspan=\"2\" valign=\"top\">4</th>\n",
       "      <th>False</th>\n",
       "      <td>0.000000</td>\n",
       "      <td>0.000000</td>\n",
       "      <td>0.000000</td>\n",
       "      <td>0.000000</td>\n",
       "      <td>0.000000</td>\n",
       "      <td>0.000000</td>\n",
       "      <td>0.000000</td>\n",
       "      <td>0.000000</td>\n",
       "      <td>0.000000</td>\n",
       "      <td>0.000000</td>\n",
       "      <td>...</td>\n",
       "      <td>0.000000</td>\n",
       "      <td>0.000000</td>\n",
       "      <td>0.000000</td>\n",
       "      <td>0.000000</td>\n",
       "      <td>0.000000</td>\n",
       "      <td>0.000000</td>\n",
       "      <td>0.000000</td>\n",
       "      <td>0.000000</td>\n",
       "      <td>0.000000</td>\n",
       "      <td>0.000000</td>\n",
       "    </tr>\n",
       "    <tr>\n",
       "      <th>True</th>\n",
       "      <td>0.000000</td>\n",
       "      <td>0.000000</td>\n",
       "      <td>0.000000</td>\n",
       "      <td>0.000000</td>\n",
       "      <td>0.000000</td>\n",
       "      <td>0.000000</td>\n",
       "      <td>0.000000</td>\n",
       "      <td>0.000000</td>\n",
       "      <td>0.000000</td>\n",
       "      <td>0.000000</td>\n",
       "      <td>...</td>\n",
       "      <td>0.000000</td>\n",
       "      <td>0.000000</td>\n",
       "      <td>0.000000</td>\n",
       "      <td>0.000000</td>\n",
       "      <td>0.000000</td>\n",
       "      <td>0.000000</td>\n",
       "      <td>0.000000</td>\n",
       "      <td>0.000000</td>\n",
       "      <td>0.000000</td>\n",
       "      <td>0.000000</td>\n",
       "    </tr>\n",
       "    <tr>\n",
       "      <th rowspan=\"2\" valign=\"top\">5</th>\n",
       "      <th>False</th>\n",
       "      <td>0.000000</td>\n",
       "      <td>0.000000</td>\n",
       "      <td>0.000000</td>\n",
       "      <td>0.000000</td>\n",
       "      <td>0.000000</td>\n",
       "      <td>0.000000</td>\n",
       "      <td>0.000000</td>\n",
       "      <td>0.000000</td>\n",
       "      <td>0.000000</td>\n",
       "      <td>0.000000</td>\n",
       "      <td>...</td>\n",
       "      <td>0.000000</td>\n",
       "      <td>0.000000</td>\n",
       "      <td>0.000000</td>\n",
       "      <td>0.000000</td>\n",
       "      <td>0.000000</td>\n",
       "      <td>0.000000</td>\n",
       "      <td>0.000000</td>\n",
       "      <td>0.000000</td>\n",
       "      <td>0.000000</td>\n",
       "      <td>0.000000</td>\n",
       "    </tr>\n",
       "    <tr>\n",
       "      <th>True</th>\n",
       "      <td>0.000000</td>\n",
       "      <td>0.000000</td>\n",
       "      <td>0.000000</td>\n",
       "      <td>0.000000</td>\n",
       "      <td>0.000000</td>\n",
       "      <td>0.000000</td>\n",
       "      <td>0.000000</td>\n",
       "      <td>0.000000</td>\n",
       "      <td>0.000000</td>\n",
       "      <td>0.000000</td>\n",
       "      <td>...</td>\n",
       "      <td>0.000000</td>\n",
       "      <td>0.000000</td>\n",
       "      <td>0.000000</td>\n",
       "      <td>0.000000</td>\n",
       "      <td>0.000000</td>\n",
       "      <td>0.000000</td>\n",
       "      <td>0.000000</td>\n",
       "      <td>0.000000</td>\n",
       "      <td>0.000000</td>\n",
       "      <td>0.000000</td>\n",
       "    </tr>\n",
       "  </tbody>\n",
       "</table>\n",
       "<p>42369 rows × 45 columns</p>\n",
       "</div>"
      ],
      "text/plain": [
       "                                                  2017          2018  \\\n",
       "age male  insch educ married nkids chsld                               \n",
       "0   False False none False   0     False  41136.960108  41594.385827   \n",
       "    True  False none False   0     False  43243.726267  41594.385827   \n",
       "1   False False dec  False   0     False      0.000000      0.000000   \n",
       "                                   True       0.000000      0.000000   \n",
       "                             1     False      0.000000      0.000000   \n",
       "...                                                ...           ...   \n",
       "110 True  True  uni  True    3     True       0.000000      0.000000   \n",
       "                             4     False      0.000000      0.000000   \n",
       "                                   True       0.000000      0.000000   \n",
       "                             5     False      0.000000      0.000000   \n",
       "                                   True       0.000000      0.000000   \n",
       "\n",
       "                                                  2019          2020  \\\n",
       "age male  insch educ married nkids chsld                               \n",
       "0   False False none False   0     False  43106.624672  41217.789203   \n",
       "    True  False none False   0     False  40357.477690  42953.275064   \n",
       "1   False False dec  False   0     False      0.000000      0.000000   \n",
       "                                   True       0.000000      0.000000   \n",
       "                             1     False      0.000000      0.000000   \n",
       "...                                                ...           ...   \n",
       "110 True  True  uni  True    3     True       0.000000      0.000000   \n",
       "                             4     False      0.000000      0.000000   \n",
       "                                   True       0.000000      0.000000   \n",
       "                             5     False      0.000000      0.000000   \n",
       "                                   True       0.000000      0.000000   \n",
       "\n",
       "                                                  2021          2022  \\\n",
       "age male  insch educ married nkids chsld                               \n",
       "0   False False none False   0     False  41109.431851  42372.271978   \n",
       "    True  False none False   0     False  43663.568149  42605.728022   \n",
       "1   False False dec  False   0     False      0.000000      0.000000   \n",
       "                                   True       0.000000      0.000000   \n",
       "                             1     False      0.000000      0.000000   \n",
       "...                                                ...           ...   \n",
       "110 True  True  uni  True    3     True       0.000000      0.000000   \n",
       "                             4     False      0.000000      0.000000   \n",
       "                                   True       0.000000      0.000000   \n",
       "                             5     False      0.000000      0.000000   \n",
       "                                   True       0.000000      0.000000   \n",
       "\n",
       "                                                  2023          2024  \\\n",
       "age male  insch educ married nkids chsld                               \n",
       "0   False False none False   0     False  41066.121131  43594.415094   \n",
       "    True  False none False   0     False  43582.707941  41136.886792   \n",
       "1   False False dec  False   0     False      0.000000      0.000000   \n",
       "                                   True       0.000000      0.000000   \n",
       "                             1     False      0.000000      0.000000   \n",
       "...                                                ...           ...   \n",
       "110 True  True  uni  True    3     True       0.000000      0.000000   \n",
       "                             4     False      0.000000      0.000000   \n",
       "                                   True       0.000000      0.000000   \n",
       "                             5     False      0.000000      0.000000   \n",
       "                                   True       0.000000      0.000000   \n",
       "\n",
       "                                                  2025          2026  ...  \\\n",
       "age male  insch educ married nkids chsld                              ...   \n",
       "0   False False none False   0     False  42299.287411  39125.911082  ...   \n",
       "    True  False none False   0     False  42500.712589  45120.131443  ...   \n",
       "1   False False dec  False   0     False      0.000000      0.000000  ...   \n",
       "                                   True       0.000000      0.000000  ...   \n",
       "                             1     False      0.000000      0.000000  ...   \n",
       "...                                                ...           ...  ...   \n",
       "110 True  True  uni  True    3     True       0.000000      0.000000  ...   \n",
       "                             4     False      0.000000      0.000000  ...   \n",
       "                                   True       0.000000      0.000000  ...   \n",
       "                             5     False      0.000000      0.000000  ...   \n",
       "                                   True       0.000000      0.000000  ...   \n",
       "\n",
       "                                                  2052          2053  \\\n",
       "age male  insch educ married nkids chsld                               \n",
       "0   False False none False   0     False  42444.292437  42579.572864   \n",
       "    True  False none False   0     False  46643.727731  46464.025126   \n",
       "1   False False dec  False   0     False      0.000000      0.000000   \n",
       "                                   True       0.000000      0.000000   \n",
       "                             1     False      0.000000      0.000000   \n",
       "...                                                ...           ...   \n",
       "110 True  True  uni  True    3     True       0.000000      0.000000   \n",
       "                             4     False      0.000000      0.000000   \n",
       "                                   True       0.000000      0.000000   \n",
       "                             5     False      0.000000      0.000000   \n",
       "                                   True       0.000000      0.000000   \n",
       "\n",
       "                                                  2054          2055  \\\n",
       "age male  insch educ married nkids chsld                               \n",
       "0   False False none False   0     False  42170.636215  42692.152866   \n",
       "    True  False none False   0     False  46678.531811  45954.343949   \n",
       "1   False False dec  False   0     False      0.000000      0.000000   \n",
       "                                   True       0.000000      0.000000   \n",
       "                             1     False      0.000000      0.000000   \n",
       "...                                                ...           ...   \n",
       "110 True  True  uni  True    3     True       0.000000      0.000000   \n",
       "                             4     False      0.000000      0.000000   \n",
       "                                   True       0.000000      0.000000   \n",
       "                             5     False      0.000000      0.000000   \n",
       "                                   True       0.000000      0.000000   \n",
       "\n",
       "                                                  2056          2057  \\\n",
       "age male  insch educ married nkids chsld                               \n",
       "0   False False none False   0     False  47548.247557  47451.895973   \n",
       "    True  False none False   0     False  41169.824104  41035.444631   \n",
       "1   False False dec  False   0     False      0.000000      0.000000   \n",
       "                                   True       0.000000      0.000000   \n",
       "                             1     False      0.000000      0.000000   \n",
       "...                                                ...           ...   \n",
       "110 True  True  uni  True    3     True       0.000000      0.000000   \n",
       "                             4     False      0.000000      0.000000   \n",
       "                                   True       0.000000      0.000000   \n",
       "                             5     False      0.000000      0.000000   \n",
       "                                   True       0.000000      0.000000   \n",
       "\n",
       "                                                  2058          2059  \\\n",
       "age male  insch educ married nkids chsld                               \n",
       "0   False False none False   0     False  46433.375194  45930.214286   \n",
       "    True  False none False   0     False  42299.840310  42619.928571   \n",
       "1   False False dec  False   0     False      0.000000      0.000000   \n",
       "                                   True       0.000000      0.000000   \n",
       "                             1     False      0.000000      0.000000   \n",
       "...                                                ...           ...   \n",
       "110 True  True  uni  True    3     True       0.000000      0.000000   \n",
       "                             4     False      0.000000      0.000000   \n",
       "                                   True       0.000000      0.000000   \n",
       "                             5     False      0.000000      0.000000   \n",
       "                                   True       0.000000      0.000000   \n",
       "\n",
       "                                                  2060          2061  \n",
       "age male  insch educ married nkids chsld                              \n",
       "0   False False none False   0     False  46776.117073  41620.283763  \n",
       "    True  False none False   0     False  41723.141463  46873.329287  \n",
       "1   False False dec  False   0     False      0.000000      0.000000  \n",
       "                                   True       0.000000      0.000000  \n",
       "                             1     False      0.000000      0.000000  \n",
       "...                                                ...           ...  \n",
       "110 True  True  uni  True    3     True       0.000000      0.000000  \n",
       "                             4     False      0.000000      0.000000  \n",
       "                                   True       0.000000      0.000000  \n",
       "                             5     False      0.000000      0.000000  \n",
       "                                   True       0.000000      0.000000  \n",
       "\n",
       "[42369 rows x 45 columns]"
      ]
     },
     "execution_count": 8,
     "metadata": {},
     "output_type": "execute_result"
    }
   ],
   "source": [
    "base.stats.counts"
   ]
  },
  {
   "cell_type": "markdown",
   "metadata": {},
   "source": [
    "## Population par âge et totale"
   ]
  },
  {
   "cell_type": "markdown",
   "metadata": {},
   "source": [
    "On peut obtenir la population totale en utilisant la fonction"
   ]
  },
  {
   "cell_type": "code",
   "execution_count": 8,
   "metadata": {
    "ExecuteTime": {
     "end_time": "2020-10-29T18:12:25.040490Z",
     "start_time": "2020-10-29T18:12:24.997463Z"
    }
   },
   "outputs": [
    {
     "data": {
      "text/plain": [
       "2017    8.298827e+06\n",
       "2018    8.347161e+06\n",
       "2019    8.372784e+06\n",
       "2020    8.424192e+06\n",
       "2021    8.466118e+06\n",
       "2022    8.514569e+06\n",
       "2023    8.567431e+06\n",
       "2024    8.631483e+06\n",
       "2025    8.691570e+06\n",
       "2026    8.742585e+06\n",
       "2027    8.787746e+06\n",
       "2028    8.837237e+06\n",
       "2029    8.886170e+06\n",
       "2030    8.935498e+06\n",
       "2031    8.966552e+06\n",
       "2032    9.024003e+06\n",
       "2033    9.052875e+06\n",
       "2034    9.098201e+06\n",
       "2035    9.136579e+06\n",
       "2036    9.163517e+06\n",
       "2037    9.216916e+06\n",
       "2038    9.246821e+06\n",
       "2039    9.273736e+06\n",
       "2040    9.303496e+06\n",
       "2041    9.345941e+06\n",
       "2042    9.365195e+06\n",
       "2043    9.396621e+06\n",
       "2044    9.431872e+06\n",
       "2045    9.458212e+06\n",
       "2046    9.496330e+06\n",
       "2047    9.535143e+06\n",
       "2048    9.562788e+06\n",
       "2049    9.593873e+06\n",
       "2050    9.622662e+06\n",
       "2051    9.641082e+06\n",
       "2052    9.670572e+06\n",
       "2053    9.701476e+06\n",
       "2054    9.717269e+06\n",
       "2055    9.758927e+06\n",
       "2056    9.791023e+06\n",
       "2057    9.814363e+06\n",
       "2058    9.856537e+06\n",
       "2059    9.897477e+06\n",
       "2060    9.928623e+06\n",
       "2061    9.966510e+06\n",
       "dtype: float64"
      ]
     },
     "execution_count": 8,
     "metadata": {},
     "output_type": "execute_result"
    }
   ],
   "source": [
    "base.stats.freq()"
   ]
  },
  {
   "cell_type": "markdown",
   "metadata": {},
   "source": [
    "Et un beau graphique en rajoutant plot()"
   ]
  },
  {
   "cell_type": "code",
   "execution_count": 9,
   "metadata": {
    "ExecuteTime": {
     "end_time": "2020-10-29T18:12:27.259902Z",
     "start_time": "2020-10-29T18:12:27.061464Z"
    }
   },
   "outputs": [
    {
     "data": {
      "text/plain": [
       "<matplotlib.axes._subplots.AxesSubplot at 0x7ffe4eb42c10>"
      ]
     },
     "execution_count": 9,
     "metadata": {},
     "output_type": "execute_result"
    },
    {
     "data": {
      "image/png": "[encoded data removed]",
      "text/plain": [
       "<Figure size 432x288 with 1 Axes>"
      ]
     },
     "metadata": {
      "needs_background": "light"
     },
     "output_type": "display_data"
    }
   ],
   "source": [
    "base.stats.freq().plot()"
   ]
  },
  {
   "cell_type": "markdown",
   "metadata": {},
   "source": [
    "On voit qu'on a un problème au départ. Pour diagnostiquer, allons voir la population par âge: "
   ]
  },
  {
   "cell_type": "code",
   "execution_count": 10,
   "metadata": {
    "ExecuteTime": {
     "end_time": "2020-10-29T18:12:29.897986Z",
     "start_time": "2020-10-29T18:12:29.845545Z"
    }
   },
   "outputs": [
    {
     "data": {
      "text/html": [
       "<div>\n",
       "<style scoped>\n",
       "    .dataframe tbody tr th:only-of-type {\n",
       "        vertical-align: middle;\n",
       "    }\n",
       "\n",
       "    .dataframe tbody tr th {\n",
       "        vertical-align: top;\n",
       "    }\n",
       "\n",
       "    .dataframe thead th {\n",
       "        text-align: right;\n",
       "    }\n",
       "</style>\n",
       "<table border=\"1\" class=\"dataframe\">\n",
       "  <thead>\n",
       "    <tr style=\"text-align: right;\">\n",
       "      <th>age</th>\n",
       "      <th>0</th>\n",
       "      <th>1</th>\n",
       "      <th>2</th>\n",
       "      <th>3</th>\n",
       "      <th>4</th>\n",
       "      <th>5</th>\n",
       "      <th>6</th>\n",
       "      <th>7</th>\n",
       "      <th>8</th>\n",
       "      <th>9</th>\n",
       "      <th>...</th>\n",
       "      <th>101</th>\n",
       "      <th>102</th>\n",
       "      <th>103</th>\n",
       "      <th>104</th>\n",
       "      <th>105</th>\n",
       "      <th>106</th>\n",
       "      <th>107</th>\n",
       "      <th>108</th>\n",
       "      <th>109</th>\n",
       "      <th>110</th>\n",
       "    </tr>\n",
       "  </thead>\n",
       "  <tbody>\n",
       "    <tr>\n",
       "      <th>2017</th>\n",
       "      <td>84380.686374</td>\n",
       "      <td>87169.700644</td>\n",
       "      <td>88564.207778</td>\n",
       "      <td>89711.625055</td>\n",
       "      <td>90498.911364</td>\n",
       "      <td>90313.844061</td>\n",
       "      <td>90393.873165</td>\n",
       "      <td>91387.234417</td>\n",
       "      <td>91831.395943</td>\n",
       "      <td>90068.754931</td>\n",
       "      <td>...</td>\n",
       "      <td>0.000000</td>\n",
       "      <td>0.000000</td>\n",
       "      <td>0.000000</td>\n",
       "      <td>0.0</td>\n",
       "      <td>0.0</td>\n",
       "      <td>0.0</td>\n",
       "      <td>0.0</td>\n",
       "      <td>0.0</td>\n",
       "      <td>0.0</td>\n",
       "      <td>0.0</td>\n",
       "    </tr>\n",
       "    <tr>\n",
       "      <th>2018</th>\n",
       "      <td>83655.353349</td>\n",
       "      <td>84146.692026</td>\n",
       "      <td>86992.921594</td>\n",
       "      <td>88996.427916</td>\n",
       "      <td>90710.579470</td>\n",
       "      <td>91302.536988</td>\n",
       "      <td>90700.322745</td>\n",
       "      <td>90715.069952</td>\n",
       "      <td>93026.942490</td>\n",
       "      <td>91826.953090</td>\n",
       "      <td>...</td>\n",
       "      <td>0.000000</td>\n",
       "      <td>0.000000</td>\n",
       "      <td>0.000000</td>\n",
       "      <td>0.0</td>\n",
       "      <td>0.0</td>\n",
       "      <td>0.0</td>\n",
       "      <td>0.0</td>\n",
       "      <td>0.0</td>\n",
       "      <td>0.0</td>\n",
       "      <td>0.0</td>\n",
       "    </tr>\n",
       "    <tr>\n",
       "      <th>2019</th>\n",
       "      <td>83570.846871</td>\n",
       "      <td>83364.883372</td>\n",
       "      <td>83864.582131</td>\n",
       "      <td>87401.183410</td>\n",
       "      <td>90312.115373</td>\n",
       "      <td>91137.609952</td>\n",
       "      <td>91306.484181</td>\n",
       "      <td>91383.262599</td>\n",
       "      <td>92180.766784</td>\n",
       "      <td>92985.417826</td>\n",
       "      <td>...</td>\n",
       "      <td>879.223044</td>\n",
       "      <td>0.000000</td>\n",
       "      <td>0.000000</td>\n",
       "      <td>0.0</td>\n",
       "      <td>0.0</td>\n",
       "      <td>0.0</td>\n",
       "      <td>0.0</td>\n",
       "      <td>0.0</td>\n",
       "      <td>0.0</td>\n",
       "      <td>0.0</td>\n",
       "    </tr>\n",
       "    <tr>\n",
       "      <th>2020</th>\n",
       "      <td>84048.638070</td>\n",
       "      <td>83347.693742</td>\n",
       "      <td>83103.662288</td>\n",
       "      <td>83466.481382</td>\n",
       "      <td>88621.619170</td>\n",
       "      <td>91003.036129</td>\n",
       "      <td>91300.641478</td>\n",
       "      <td>91975.864358</td>\n",
       "      <td>92868.158853</td>\n",
       "      <td>92176.132187</td>\n",
       "      <td>...</td>\n",
       "      <td>387.811741</td>\n",
       "      <td>691.438807</td>\n",
       "      <td>0.000000</td>\n",
       "      <td>0.0</td>\n",
       "      <td>0.0</td>\n",
       "      <td>0.0</td>\n",
       "      <td>0.0</td>\n",
       "      <td>0.0</td>\n",
       "      <td>0.0</td>\n",
       "      <td>0.0</td>\n",
       "    </tr>\n",
       "    <tr>\n",
       "      <th>2021</th>\n",
       "      <td>84549.913158</td>\n",
       "      <td>83596.155496</td>\n",
       "      <td>83265.522470</td>\n",
       "      <td>83160.609588</td>\n",
       "      <td>84874.785742</td>\n",
       "      <td>89512.229098</td>\n",
       "      <td>91049.511877</td>\n",
       "      <td>91048.575900</td>\n",
       "      <td>93823.126482</td>\n",
       "      <td>92457.197063</td>\n",
       "      <td>...</td>\n",
       "      <td>0.000000</td>\n",
       "      <td>387.811741</td>\n",
       "      <td>226.014318</td>\n",
       "      <td>0.0</td>\n",
       "      <td>0.0</td>\n",
       "      <td>0.0</td>\n",
       "      <td>0.0</td>\n",
       "      <td>0.0</td>\n",
       "      <td>0.0</td>\n",
       "      <td>0.0</td>\n",
       "    </tr>\n",
       "  </tbody>\n",
       "</table>\n",
       "<p>5 rows × 111 columns</p>\n",
       "</div>"
      ],
      "text/plain": [
       "age            0             1             2             3             4    \\\n",
       "2017  84380.686374  87169.700644  88564.207778  89711.625055  90498.911364   \n",
       "2018  83655.353349  84146.692026  86992.921594  88996.427916  90710.579470   \n",
       "2019  83570.846871  83364.883372  83864.582131  87401.183410  90312.115373   \n",
       "2020  84048.638070  83347.693742  83103.662288  83466.481382  88621.619170   \n",
       "2021  84549.913158  83596.155496  83265.522470  83160.609588  84874.785742   \n",
       "\n",
       "age            5             6             7             8             9    \\\n",
       "2017  90313.844061  90393.873165  91387.234417  91831.395943  90068.754931   \n",
       "2018  91302.536988  90700.322745  90715.069952  93026.942490  91826.953090   \n",
       "2019  91137.609952  91306.484181  91383.262599  92180.766784  92985.417826   \n",
       "2020  91003.036129  91300.641478  91975.864358  92868.158853  92176.132187   \n",
       "2021  89512.229098  91049.511877  91048.575900  93823.126482  92457.197063   \n",
       "\n",
       "age   ...         101         102         103  104  105  106  107  108  109  \\\n",
       "2017  ...    0.000000    0.000000    0.000000  0.0  0.0  0.0  0.0  0.0  0.0   \n",
       "2018  ...    0.000000    0.000000    0.000000  0.0  0.0  0.0  0.0  0.0  0.0   \n",
       "2019  ...  879.223044    0.000000    0.000000  0.0  0.0  0.0  0.0  0.0  0.0   \n",
       "2020  ...  387.811741  691.438807    0.000000  0.0  0.0  0.0  0.0  0.0  0.0   \n",
       "2021  ...    0.000000  387.811741  226.014318  0.0  0.0  0.0  0.0  0.0  0.0   \n",
       "\n",
       "age   110  \n",
       "2017  0.0  \n",
       "2018  0.0  \n",
       "2019  0.0  \n",
       "2020  0.0  \n",
       "2021  0.0  \n",
       "\n",
       "[5 rows x 111 columns]"
      ]
     },
     "execution_count": 10,
     "metadata": {},
     "output_type": "execute_result"
    }
   ],
   "source": [
    "popage = base.stats.freq('age')\n",
    "popage.head()"
   ]
  },
  {
   "cell_type": "markdown",
   "metadata": {},
   "source": [
    "On peut exprimer en proportion..."
   ]
  },
  {
   "cell_type": "code",
   "execution_count": 11,
   "metadata": {
    "ExecuteTime": {
     "end_time": "2020-10-29T18:12:34.664743Z",
     "start_time": "2020-10-29T18:12:34.613565Z"
    }
   },
   "outputs": [
    {
     "data": {
      "text/html": [
       "<div>\n",
       "<style scoped>\n",
       "    .dataframe tbody tr th:only-of-type {\n",
       "        vertical-align: middle;\n",
       "    }\n",
       "\n",
       "    .dataframe tbody tr th {\n",
       "        vertical-align: top;\n",
       "    }\n",
       "\n",
       "    .dataframe thead th {\n",
       "        text-align: right;\n",
       "    }\n",
       "</style>\n",
       "<table border=\"1\" class=\"dataframe\">\n",
       "  <thead>\n",
       "    <tr style=\"text-align: right;\">\n",
       "      <th>age</th>\n",
       "      <th>0</th>\n",
       "      <th>1</th>\n",
       "      <th>2</th>\n",
       "      <th>3</th>\n",
       "      <th>4</th>\n",
       "      <th>5</th>\n",
       "      <th>6</th>\n",
       "      <th>7</th>\n",
       "      <th>8</th>\n",
       "      <th>9</th>\n",
       "      <th>...</th>\n",
       "      <th>101</th>\n",
       "      <th>102</th>\n",
       "      <th>103</th>\n",
       "      <th>104</th>\n",
       "      <th>105</th>\n",
       "      <th>106</th>\n",
       "      <th>107</th>\n",
       "      <th>108</th>\n",
       "      <th>109</th>\n",
       "      <th>110</th>\n",
       "    </tr>\n",
       "  </thead>\n",
       "  <tbody>\n",
       "    <tr>\n",
       "      <th>2017</th>\n",
       "      <td>0.010168</td>\n",
       "      <td>0.010504</td>\n",
       "      <td>0.010672</td>\n",
       "      <td>0.010810</td>\n",
       "      <td>0.010905</td>\n",
       "      <td>0.010883</td>\n",
       "      <td>0.010892</td>\n",
       "      <td>0.011012</td>\n",
       "      <td>0.011066</td>\n",
       "      <td>0.010853</td>\n",
       "      <td>...</td>\n",
       "      <td>0.000000</td>\n",
       "      <td>0.000000</td>\n",
       "      <td>0.000000</td>\n",
       "      <td>0.0</td>\n",
       "      <td>0.0</td>\n",
       "      <td>0.0</td>\n",
       "      <td>0.0</td>\n",
       "      <td>0.0</td>\n",
       "      <td>0.0</td>\n",
       "      <td>0.0</td>\n",
       "    </tr>\n",
       "    <tr>\n",
       "      <th>2018</th>\n",
       "      <td>0.010022</td>\n",
       "      <td>0.010081</td>\n",
       "      <td>0.010422</td>\n",
       "      <td>0.010662</td>\n",
       "      <td>0.010867</td>\n",
       "      <td>0.010938</td>\n",
       "      <td>0.010866</td>\n",
       "      <td>0.010868</td>\n",
       "      <td>0.011145</td>\n",
       "      <td>0.011001</td>\n",
       "      <td>...</td>\n",
       "      <td>0.000000</td>\n",
       "      <td>0.000000</td>\n",
       "      <td>0.000000</td>\n",
       "      <td>0.0</td>\n",
       "      <td>0.0</td>\n",
       "      <td>0.0</td>\n",
       "      <td>0.0</td>\n",
       "      <td>0.0</td>\n",
       "      <td>0.0</td>\n",
       "      <td>0.0</td>\n",
       "    </tr>\n",
       "    <tr>\n",
       "      <th>2019</th>\n",
       "      <td>0.009981</td>\n",
       "      <td>0.009957</td>\n",
       "      <td>0.010016</td>\n",
       "      <td>0.010439</td>\n",
       "      <td>0.010786</td>\n",
       "      <td>0.010885</td>\n",
       "      <td>0.010905</td>\n",
       "      <td>0.010914</td>\n",
       "      <td>0.011010</td>\n",
       "      <td>0.011106</td>\n",
       "      <td>...</td>\n",
       "      <td>0.000105</td>\n",
       "      <td>0.000000</td>\n",
       "      <td>0.000000</td>\n",
       "      <td>0.0</td>\n",
       "      <td>0.0</td>\n",
       "      <td>0.0</td>\n",
       "      <td>0.0</td>\n",
       "      <td>0.0</td>\n",
       "      <td>0.0</td>\n",
       "      <td>0.0</td>\n",
       "    </tr>\n",
       "    <tr>\n",
       "      <th>2020</th>\n",
       "      <td>0.009977</td>\n",
       "      <td>0.009894</td>\n",
       "      <td>0.009865</td>\n",
       "      <td>0.009908</td>\n",
       "      <td>0.010520</td>\n",
       "      <td>0.010803</td>\n",
       "      <td>0.010838</td>\n",
       "      <td>0.010918</td>\n",
       "      <td>0.011024</td>\n",
       "      <td>0.010942</td>\n",
       "      <td>...</td>\n",
       "      <td>0.000046</td>\n",
       "      <td>0.000082</td>\n",
       "      <td>0.000000</td>\n",
       "      <td>0.0</td>\n",
       "      <td>0.0</td>\n",
       "      <td>0.0</td>\n",
       "      <td>0.0</td>\n",
       "      <td>0.0</td>\n",
       "      <td>0.0</td>\n",
       "      <td>0.0</td>\n",
       "    </tr>\n",
       "    <tr>\n",
       "      <th>2021</th>\n",
       "      <td>0.009987</td>\n",
       "      <td>0.009874</td>\n",
       "      <td>0.009835</td>\n",
       "      <td>0.009823</td>\n",
       "      <td>0.010025</td>\n",
       "      <td>0.010573</td>\n",
       "      <td>0.010755</td>\n",
       "      <td>0.010754</td>\n",
       "      <td>0.011082</td>\n",
       "      <td>0.010921</td>\n",
       "      <td>...</td>\n",
       "      <td>0.000000</td>\n",
       "      <td>0.000046</td>\n",
       "      <td>0.000027</td>\n",
       "      <td>0.0</td>\n",
       "      <td>0.0</td>\n",
       "      <td>0.0</td>\n",
       "      <td>0.0</td>\n",
       "      <td>0.0</td>\n",
       "      <td>0.0</td>\n",
       "      <td>0.0</td>\n",
       "    </tr>\n",
       "  </tbody>\n",
       "</table>\n",
       "<p>5 rows × 111 columns</p>\n",
       "</div>"
      ],
      "text/plain": [
       "age        0         1         2         3         4         5         6    \\\n",
       "2017  0.010168  0.010504  0.010672  0.010810  0.010905  0.010883  0.010892   \n",
       "2018  0.010022  0.010081  0.010422  0.010662  0.010867  0.010938  0.010866   \n",
       "2019  0.009981  0.009957  0.010016  0.010439  0.010786  0.010885  0.010905   \n",
       "2020  0.009977  0.009894  0.009865  0.009908  0.010520  0.010803  0.010838   \n",
       "2021  0.009987  0.009874  0.009835  0.009823  0.010025  0.010573  0.010755   \n",
       "\n",
       "age        7         8         9    ...       101       102       103  104  \\\n",
       "2017  0.011012  0.011066  0.010853  ...  0.000000  0.000000  0.000000  0.0   \n",
       "2018  0.010868  0.011145  0.011001  ...  0.000000  0.000000  0.000000  0.0   \n",
       "2019  0.010914  0.011010  0.011106  ...  0.000105  0.000000  0.000000  0.0   \n",
       "2020  0.010918  0.011024  0.010942  ...  0.000046  0.000082  0.000000  0.0   \n",
       "2021  0.010754  0.011082  0.010921  ...  0.000000  0.000046  0.000027  0.0   \n",
       "\n",
       "age   105  106  107  108  109  110  \n",
       "2017  0.0  0.0  0.0  0.0  0.0  0.0  \n",
       "2018  0.0  0.0  0.0  0.0  0.0  0.0  \n",
       "2019  0.0  0.0  0.0  0.0  0.0  0.0  \n",
       "2020  0.0  0.0  0.0  0.0  0.0  0.0  \n",
       "2021  0.0  0.0  0.0  0.0  0.0  0.0  \n",
       "\n",
       "[5 rows x 111 columns]"
      ]
     },
     "execution_count": 11,
     "metadata": {},
     "output_type": "execute_result"
    }
   ],
   "source": [
    "base.stats.prop('age').head()"
   ]
  },
  {
   "cell_type": "code",
   "execution_count": 12,
   "metadata": {
    "ExecuteTime": {
     "end_time": "2020-10-29T18:12:37.090093Z",
     "start_time": "2020-10-29T18:12:36.885883Z"
    }
   },
   "outputs": [
    {
     "data": {
      "text/plain": [
       "<matplotlib.axes._subplots.AxesSubplot at 0x7ffe4d803c10>"
      ]
     },
     "execution_count": 12,
     "metadata": {},
     "output_type": "execute_result"
    },
    {
     "data": {
      "image/png": "[encoded data removed]",
      "text/plain": [
       "<Figure size 432x288 with 1 Axes>"
      ]
     },
     "metadata": {
      "needs_background": "light"
     },
     "output_type": "display_data"
    }
   ],
   "source": [
    "base.stats.prop('age',bins=[0,18,65,101]).plot.area()"
   ]
  },
  {
   "cell_type": "code",
   "execution_count": 13,
   "metadata": {
    "ExecuteTime": {
     "end_time": "2020-10-29T18:12:39.181037Z",
     "start_time": "2020-10-29T18:12:39.144006Z"
    }
   },
   "outputs": [],
   "source": [
    "freqs = base.stats.freq('age',bins=[0,18,80,101])"
   ]
  },
  {
   "cell_type": "code",
   "execution_count": 24,
   "metadata": {
    "ExecuteTime": {
     "end_time": "2020-10-29T18:19:40.440947Z",
     "start_time": "2020-10-29T18:19:40.426248Z"
    }
   },
   "outputs": [
    {
     "data": {
      "text/html": [
       "<div>\n",
       "<style scoped>\n",
       "    .dataframe tbody tr th:only-of-type {\n",
       "        vertical-align: middle;\n",
       "    }\n",
       "\n",
       "    .dataframe tbody tr th {\n",
       "        vertical-align: top;\n",
       "    }\n",
       "\n",
       "    .dataframe thead th {\n",
       "        text-align: right;\n",
       "    }\n",
       "</style>\n",
       "<table border=\"1\" class=\"dataframe\">\n",
       "  <thead>\n",
       "    <tr style=\"text-align: right;\">\n",
       "      <th>age</th>\n",
       "      <th>(0, 18]</th>\n",
       "      <th>(18, 80]</th>\n",
       "      <th>(80, 101]</th>\n",
       "    </tr>\n",
       "  </thead>\n",
       "  <tbody>\n",
       "    <tr>\n",
       "      <th>2017</th>\n",
       "      <td>1.554571e+06</td>\n",
       "      <td>6.323574e+06</td>\n",
       "      <td>336301.301300</td>\n",
       "    </tr>\n",
       "    <tr>\n",
       "      <th>2018</th>\n",
       "      <td>1.565896e+06</td>\n",
       "      <td>6.367211e+06</td>\n",
       "      <td>330397.557055</td>\n",
       "    </tr>\n",
       "    <tr>\n",
       "      <th>2019</th>\n",
       "      <td>1.579036e+06</td>\n",
       "      <td>6.391375e+06</td>\n",
       "      <td>318803.080934</td>\n",
       "    </tr>\n",
       "    <tr>\n",
       "      <th>2020</th>\n",
       "      <td>1.591403e+06</td>\n",
       "      <td>6.426504e+06</td>\n",
       "      <td>321544.797920</td>\n",
       "    </tr>\n",
       "    <tr>\n",
       "      <th>2021</th>\n",
       "      <td>1.603761e+06</td>\n",
       "      <td>6.457112e+06</td>\n",
       "      <td>320081.406778</td>\n",
       "    </tr>\n",
       "    <tr>\n",
       "      <th>2022</th>\n",
       "      <td>1.620181e+06</td>\n",
       "      <td>6.474037e+06</td>\n",
       "      <td>335372.914279</td>\n",
       "    </tr>\n",
       "    <tr>\n",
       "      <th>2023</th>\n",
       "      <td>1.633342e+06</td>\n",
       "      <td>6.507473e+06</td>\n",
       "      <td>341844.619682</td>\n",
       "    </tr>\n",
       "    <tr>\n",
       "      <th>2024</th>\n",
       "      <td>1.645513e+06</td>\n",
       "      <td>6.537124e+06</td>\n",
       "      <td>364444.163310</td>\n",
       "    </tr>\n",
       "    <tr>\n",
       "      <th>2025</th>\n",
       "      <td>1.652155e+06</td>\n",
       "      <td>6.574179e+06</td>\n",
       "      <td>380544.907113</td>\n",
       "    </tr>\n",
       "    <tr>\n",
       "      <th>2026</th>\n",
       "      <td>1.653536e+06</td>\n",
       "      <td>6.617733e+06</td>\n",
       "      <td>386847.894386</td>\n",
       "    </tr>\n",
       "  </tbody>\n",
       "</table>\n",
       "</div>"
      ],
      "text/plain": [
       "age        (0, 18]      (18, 80]      (80, 101]\n",
       "2017  1.554571e+06  6.323574e+06  336301.301300\n",
       "2018  1.565896e+06  6.367211e+06  330397.557055\n",
       "2019  1.579036e+06  6.391375e+06  318803.080934\n",
       "2020  1.591403e+06  6.426504e+06  321544.797920\n",
       "2021  1.603761e+06  6.457112e+06  320081.406778\n",
       "2022  1.620181e+06  6.474037e+06  335372.914279\n",
       "2023  1.633342e+06  6.507473e+06  341844.619682\n",
       "2024  1.645513e+06  6.537124e+06  364444.163310\n",
       "2025  1.652155e+06  6.574179e+06  380544.907113\n",
       "2026  1.653536e+06  6.617733e+06  386847.894386"
      ]
     },
     "execution_count": 24,
     "metadata": {},
     "output_type": "execute_result"
    }
   ],
   "source": [
    "freqs.head(10)"
   ]
  },
  {
   "cell_type": "markdown",
   "metadata": {},
   "source": [
    "## Autres variables et sous-ensemble"
   ]
  },
  {
   "cell_type": "code",
   "execution_count": 18,
   "metadata": {
    "ExecuteTime": {
     "end_time": "2020-10-29T18:13:35.772615Z",
     "start_time": "2020-10-29T18:13:35.557360Z"
    }
   },
   "outputs": [
    {
     "data": {
      "image/png": "[encoded data removed]",
      "text/plain": [
       "<Figure size 432x288 with 1 Axes>"
      ]
     },
     "metadata": {
      "needs_background": "light"
     },
     "output_type": "display_data"
    }
   ],
   "source": [
    "peduc = base.stats.prop('educ',sub='age>=30')[['none','des','dec','uni']].plot.area()"
   ]
  },
  {
   "cell_type": "markdown",
   "metadata": {},
   "source": [
    "On peut aussi rajouter des conditions pour regarder des sous-groupes"
   ]
  },
  {
   "cell_type": "code",
   "execution_count": 22,
   "metadata": {
    "ExecuteTime": {
     "end_time": "2020-10-29T18:14:05.979659Z",
     "start_time": "2020-10-29T18:14:05.781685Z"
    }
   },
   "outputs": [
    {
     "data": {
      "text/plain": [
       "<matplotlib.axes._subplots.AxesSubplot at 0x7ffe4d882350>"
      ]
     },
     "execution_count": 22,
     "metadata": {},
     "output_type": "execute_result"
    },
    {
     "data": {
      "image/png": "[encoded data removed]",
      "text/plain": [
       "<Figure size 432x288 with 1 Axes>"
      ]
     },
     "metadata": {
      "needs_background": "light"
     },
     "output_type": "display_data"
    }
   ],
   "source": [
    "base.stats.prop('married',sub='age>18').plot.area()"
   ]
  },
  {
   "cell_type": "code",
   "execution_count": 20,
   "metadata": {
    "ExecuteTime": {
     "end_time": "2020-10-29T18:13:46.746500Z",
     "start_time": "2020-10-29T18:13:46.517726Z"
    }
   },
   "outputs": [
    {
     "data": {
      "text/plain": [
       "<matplotlib.axes._subplots.AxesSubplot at 0x7ffe33c2b590>"
      ]
     },
     "execution_count": 20,
     "metadata": {},
     "output_type": "execute_result"
    },
    {
     "data": {
      "image/png": "[encoded data removed]",
      "text/plain": [
       "<Figure size 432x288 with 1 Axes>"
      ]
     },
     "metadata": {
      "needs_background": "light"
     },
     "output_type": "display_data"
    }
   ],
   "source": [
    "base.stats.prop('nkids',sub='age>=18 & age<=45 & male==False').plot.area()"
   ]
  },
  {
   "cell_type": "code",
   "execution_count": null,
   "metadata": {},
   "outputs": [],
   "source": []
  },
  {
   "cell_type": "code",
   "execution_count": null,
   "metadata": {},
   "outputs": [],
   "source": []
  }
 ],
 "metadata": {
  "kernelspec": {
   "display_name": "Python 3",
   "language": "python",
   "name": "python3"
  },
  "language_info": {
   "codemirror_mode": {
    "name": "ipython",
    "version": 3
   },
   "file_extension": ".py",
   "mimetype": "text/x-python",
   "name": "python",
   "nbconvert_exporter": "python",
   "pygments_lexer": "ipython3",
   "version": "3.7.4"
  },
  "latex_envs": {
   "LaTeX_envs_menu_present": true,
   "autoclose": false,
   "autocomplete": true,
   "bibliofile": "biblio.bib",
   "cite_by": "apalike",
   "current_citInitial": 1,
   "eqLabelWithNumbers": true,
   "eqNumInitial": 1,
   "hotkeys": {
    "equation": "Ctrl-E",
    "itemize": "Ctrl-I"
   },
   "labels_anchors": false,
   "latex_user_defs": false,
   "report_style_numbering": false,
   "user_envs_cfg": false
  },
  "varInspector": {
   "cols": {
    "lenName": 16,
    "lenType": 16,
    "lenVar": 40
   },
   "kernels_config": {
    "python": {
     "delete_cmd_postfix": "",
     "delete_cmd_prefix": "del ",
     "library": "var_list.py",
     "varRefreshCmd": "print(var_dic_list())"
    },
    "r": {
     "delete_cmd_postfix": ") ",
     "delete_cmd_prefix": "rm(",
     "library": "var_list.r",
     "varRefreshCmd": "cat(var_dic_list()) "
    }
   },
   "types_to_exclude": [
    "module",
    "function",
    "builtin_function_or_method",
    "instance",
    "_Feature"
   ],
   "window_display": false
  }
 },
 "nbformat": 4,
 "nbformat_minor": 4
}
