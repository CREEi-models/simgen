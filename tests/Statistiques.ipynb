{
 "cells": [
  {
   "cell_type": "markdown",
   "metadata": {},
   "source": [
    "# Statistiques"
   ]
  },
  {
   "cell_type": "markdown",
   "metadata": {},
   "source": [
    "La classe statistiques permet d'abord de collecter la population par un grand nombre de variable pour chaque année. Avec ce cube de données, la classe permet ensuite de sortir les statistiques de nombres et proportions. On en donne un exemple ici. "
   ]
  },
  {
   "cell_type": "markdown",
   "metadata": {},
   "source": [
    "## Simulation scénario de référence"
   ]
  },
  {
   "cell_type": "code",
   "execution_count": 6,
   "metadata": {
    "ExecuteTime": {
     "end_time": "2020-04-30T19:02:57.653584Z",
     "start_time": "2020-04-30T19:02:57.649947Z"
    }
   },
   "outputs": [],
   "source": [
    "import sys\n",
    "sys.path.append('/Users/ydecarie/Dropbox (CEDIA)/OLG_CAN/demo/simgen/')\n",
    "from matplotlib import pyplot as plt\n",
    "import warnings\n",
    "warnings.filterwarnings(\"ignore\")"
   ]
  },
  {
   "cell_type": "code",
   "execution_count": 7,
   "metadata": {
    "ExecuteTime": {
     "end_time": "2020-04-30T19:02:59.537243Z",
     "start_time": "2020-04-30T19:02:58.497294Z"
    }
   },
   "outputs": [],
   "source": [
    "from simgen import model"
   ]
  },
  {
   "cell_type": "code",
   "execution_count": 8,
   "metadata": {
    "ExecuteTime": {
     "end_time": "2020-04-30T19:02:59.958800Z",
     "start_time": "2020-04-30T19:02:59.619239Z"
    }
   },
   "outputs": [],
   "source": [
    "base = model(start_yr=2017,stop_yr=2060)\n",
    "base.startpop('startpop')\n",
    "base.immig_assumptions(init='newimmpop')\n",
    "base.birth_assumptions()\n",
    "base.dead_assumptions()\n",
    "base.reset()"
   ]
  },
  {
   "cell_type": "code",
   "execution_count": 9,
   "metadata": {
    "ExecuteTime": {
     "end_time": "2020-04-30T19:09:32.406627Z",
     "start_time": "2020-04-30T19:03:00.802917Z"
    }
   },
   "outputs": [
    {
     "name": "stdout",
     "output_type": "stream",
     "text": [
      "2060\r"
     ]
    }
   ],
   "source": [
    "base.simulate()"
   ]
  },
  {
   "cell_type": "code",
   "execution_count": 10,
   "metadata": {
    "ExecuteTime": {
     "end_time": "2020-04-30T19:09:32.417142Z",
     "start_time": "2020-04-30T19:09:32.409316Z"
    }
   },
   "outputs": [],
   "source": [
    "base.stats.save('simpop.pkl')"
   ]
  },
  {
   "cell_type": "markdown",
   "metadata": {},
   "source": [
    "## Le cube de donnée\n",
    "\n",
    "À l'intérieur d'un modèle, une instance de la classe stats a été lancée. Elle définie des stratas pour cumuler les fréquences d'individus. Par défaut, elle fait (age,male,educ,married,nkids). Après avoir crée l'instance, le modèle va l'initatiser en utilisant la population de départ. Il va ensuite la populer avec les années subséquentes de la simulation. On peut voir ce cube à l'aide de stats.counts. "
   ]
  },
  {
   "cell_type": "code",
   "execution_count": 6,
   "metadata": {
    "ExecuteTime": {
     "end_time": "2020-04-24T01:44:15.272221Z",
     "start_time": "2020-04-24T01:44:15.228241Z"
    },
    "scrolled": false
   },
   "outputs": [
    {
     "data": {
      "text/html": [
       "<div>\n",
       "<style scoped>\n",
       "    .dataframe tbody tr th:only-of-type {\n",
       "        vertical-align: middle;\n",
       "    }\n",
       "\n",
       "    .dataframe tbody tr th {\n",
       "        vertical-align: top;\n",
       "    }\n",
       "\n",
       "    .dataframe thead th {\n",
       "        text-align: right;\n",
       "    }\n",
       "</style>\n",
       "<table border=\"1\" class=\"dataframe\">\n",
       "  <thead>\n",
       "    <tr style=\"text-align: right;\">\n",
       "      <th></th>\n",
       "      <th></th>\n",
       "      <th></th>\n",
       "      <th></th>\n",
       "      <th></th>\n",
       "      <th></th>\n",
       "      <th>2017</th>\n",
       "      <th>2018</th>\n",
       "      <th>2019</th>\n",
       "      <th>2020</th>\n",
       "      <th>2021</th>\n",
       "      <th>2022</th>\n",
       "      <th>2023</th>\n",
       "      <th>2024</th>\n",
       "      <th>2025</th>\n",
       "      <th>2026</th>\n",
       "      <th>...</th>\n",
       "      <th>2052</th>\n",
       "      <th>2053</th>\n",
       "      <th>2054</th>\n",
       "      <th>2055</th>\n",
       "      <th>2056</th>\n",
       "      <th>2057</th>\n",
       "      <th>2058</th>\n",
       "      <th>2059</th>\n",
       "      <th>2060</th>\n",
       "      <th>2061</th>\n",
       "    </tr>\n",
       "    <tr>\n",
       "      <th>age</th>\n",
       "      <th>male</th>\n",
       "      <th>insch</th>\n",
       "      <th>educ</th>\n",
       "      <th>married</th>\n",
       "      <th>nkids</th>\n",
       "      <th></th>\n",
       "      <th></th>\n",
       "      <th></th>\n",
       "      <th></th>\n",
       "      <th></th>\n",
       "      <th></th>\n",
       "      <th></th>\n",
       "      <th></th>\n",
       "      <th></th>\n",
       "      <th></th>\n",
       "      <th></th>\n",
       "      <th></th>\n",
       "      <th></th>\n",
       "      <th></th>\n",
       "      <th></th>\n",
       "      <th></th>\n",
       "      <th></th>\n",
       "      <th></th>\n",
       "      <th></th>\n",
       "      <th></th>\n",
       "      <th></th>\n",
       "    </tr>\n",
       "  </thead>\n",
       "  <tbody>\n",
       "    <tr>\n",
       "      <th rowspan=\"2\" valign=\"top\">0</th>\n",
       "      <th>False</th>\n",
       "      <th>False</th>\n",
       "      <th>none</th>\n",
       "      <th>False</th>\n",
       "      <th>0</th>\n",
       "      <td>41147.053669</td>\n",
       "      <td>39121.460845</td>\n",
       "      <td>43867.821446</td>\n",
       "      <td>43848.427217</td>\n",
       "      <td>40951.344755</td>\n",
       "      <td>41075.372985</td>\n",
       "      <td>41345.687574</td>\n",
       "      <td>41026.875972</td>\n",
       "      <td>41089.658649</td>\n",
       "      <td>41736.753265</td>\n",
       "      <td>...</td>\n",
       "      <td>43403.321959</td>\n",
       "      <td>41166.868750</td>\n",
       "      <td>43429.040917</td>\n",
       "      <td>41733.990273</td>\n",
       "      <td>44554.822359</td>\n",
       "      <td>41371.170428</td>\n",
       "      <td>43932.519510</td>\n",
       "      <td>41532.022203</td>\n",
       "      <td>40193.363336</td>\n",
       "      <td>43535.737294</td>\n",
       "    </tr>\n",
       "    <tr>\n",
       "      <th>True</th>\n",
       "      <th>False</th>\n",
       "      <th>none</th>\n",
       "      <th>False</th>\n",
       "      <th>0</th>\n",
       "      <td>43254.336754</td>\n",
       "      <td>43582.680064</td>\n",
       "      <td>38384.343765</td>\n",
       "      <td>38788.993308</td>\n",
       "      <td>41801.545684</td>\n",
       "      <td>42135.382610</td>\n",
       "      <td>41345.687574</td>\n",
       "      <td>41972.740548</td>\n",
       "      <td>41438.862547</td>\n",
       "      <td>40551.050047</td>\n",
       "      <td>...</td>\n",
       "      <td>42178.228194</td>\n",
       "      <td>44157.624172</td>\n",
       "      <td>42203.221213</td>\n",
       "      <td>43654.801541</td>\n",
       "      <td>40947.144436</td>\n",
       "      <td>44072.961150</td>\n",
       "      <td>41264.552738</td>\n",
       "      <td>43549.772270</td>\n",
       "      <td>44837.929766</td>\n",
       "      <td>41216.210307</td>\n",
       "    </tr>\n",
       "    <tr>\n",
       "      <th rowspan=\"2\" valign=\"top\">1</th>\n",
       "      <th>False</th>\n",
       "      <th>False</th>\n",
       "      <th>none</th>\n",
       "      <th>False</th>\n",
       "      <th>0</th>\n",
       "      <td>42429.834730</td>\n",
       "      <td>41147.053669</td>\n",
       "      <td>39121.460845</td>\n",
       "      <td>43867.821446</td>\n",
       "      <td>43707.887386</td>\n",
       "      <td>40809.644600</td>\n",
       "      <td>41075.372985</td>\n",
       "      <td>41345.687574</td>\n",
       "      <td>40908.642900</td>\n",
       "      <td>41089.658649</td>\n",
       "      <td>...</td>\n",
       "      <td>42105.178572</td>\n",
       "      <td>43228.308564</td>\n",
       "      <td>41166.868750</td>\n",
       "      <td>43253.923816</td>\n",
       "      <td>41733.990273</td>\n",
       "      <td>44374.438463</td>\n",
       "      <td>41371.170428</td>\n",
       "      <td>43754.655058</td>\n",
       "      <td>41363.876364</td>\n",
       "      <td>40193.363336</td>\n",
       "    </tr>\n",
       "    <tr>\n",
       "      <th>True</th>\n",
       "      <th>False</th>\n",
       "      <th>none</th>\n",
       "      <th>False</th>\n",
       "      <th>0</th>\n",
       "      <td>44761.254288</td>\n",
       "      <td>43254.336754</td>\n",
       "      <td>43468.289828</td>\n",
       "      <td>38384.343765</td>\n",
       "      <td>38648.453477</td>\n",
       "      <td>41801.545684</td>\n",
       "      <td>42135.382610</td>\n",
       "      <td>41345.687574</td>\n",
       "      <td>41854.507476</td>\n",
       "      <td>41438.862547</td>\n",
       "      <td>...</td>\n",
       "      <td>43582.553259</td>\n",
       "      <td>42178.228194</td>\n",
       "      <td>44157.624172</td>\n",
       "      <td>42203.221213</td>\n",
       "      <td>43480.182335</td>\n",
       "      <td>40947.144436</td>\n",
       "      <td>44072.961150</td>\n",
       "      <td>41264.552738</td>\n",
       "      <td>43549.772270</td>\n",
       "      <td>44837.929766</td>\n",
       "    </tr>\n",
       "    <tr>\n",
       "      <th>2</th>\n",
       "      <th>False</th>\n",
       "      <th>False</th>\n",
       "      <th>none</th>\n",
       "      <th>False</th>\n",
       "      <th>0</th>\n",
       "      <td>43641.572534</td>\n",
       "      <td>42429.834730</td>\n",
       "      <td>41141.225804</td>\n",
       "      <td>38892.680372</td>\n",
       "      <td>43867.821446</td>\n",
       "      <td>43567.347556</td>\n",
       "      <td>40809.644600</td>\n",
       "      <td>40942.871782</td>\n",
       "      <td>41103.899927</td>\n",
       "      <td>40790.409828</td>\n",
       "      <td>...</td>\n",
       "      <td>43216.684295</td>\n",
       "      <td>41920.506737</td>\n",
       "      <td>43053.295169</td>\n",
       "      <td>41166.868750</td>\n",
       "      <td>43253.923816</td>\n",
       "      <td>41733.990273</td>\n",
       "      <td>44194.054567</td>\n",
       "      <td>41202.308508</td>\n",
       "      <td>43576.790607</td>\n",
       "      <td>41363.876364</td>\n",
       "    </tr>\n",
       "  </tbody>\n",
       "</table>\n",
       "<p>5 rows × 45 columns</p>\n",
       "</div>"
      ],
      "text/plain": [
       "                                            2017          2018          2019  \\\n",
       "age male  insch educ married nkids                                             \n",
       "0   False False none False   0      41147.053669  39121.460845  43867.821446   \n",
       "    True  False none False   0      43254.336754  43582.680064  38384.343765   \n",
       "1   False False none False   0      42429.834730  41147.053669  39121.460845   \n",
       "    True  False none False   0      44761.254288  43254.336754  43468.289828   \n",
       "2   False False none False   0      43641.572534  42429.834730  41141.225804   \n",
       "\n",
       "                                            2020          2021          2022  \\\n",
       "age male  insch educ married nkids                                             \n",
       "0   False False none False   0      43848.427217  40951.344755  41075.372985   \n",
       "    True  False none False   0      38788.993308  41801.545684  42135.382610   \n",
       "1   False False none False   0      43867.821446  43707.887386  40809.644600   \n",
       "    True  False none False   0      38384.343765  38648.453477  41801.545684   \n",
       "2   False False none False   0      38892.680372  43867.821446  43567.347556   \n",
       "\n",
       "                                            2023          2024          2025  \\\n",
       "age male  insch educ married nkids                                             \n",
       "0   False False none False   0      41345.687574  41026.875972  41089.658649   \n",
       "    True  False none False   0      41345.687574  41972.740548  41438.862547   \n",
       "1   False False none False   0      41075.372985  41345.687574  40908.642900   \n",
       "    True  False none False   0      42135.382610  41345.687574  41854.507476   \n",
       "2   False False none False   0      40809.644600  40942.871782  41103.899927   \n",
       "\n",
       "                                            2026  ...          2052  \\\n",
       "age male  insch educ married nkids                ...                 \n",
       "0   False False none False   0      41736.753265  ...  43403.321959   \n",
       "    True  False none False   0      40551.050047  ...  42178.228194   \n",
       "1   False False none False   0      41089.658649  ...  42105.178572   \n",
       "    True  False none False   0      41438.862547  ...  43582.553259   \n",
       "2   False False none False   0      40790.409828  ...  43216.684295   \n",
       "\n",
       "                                            2053          2054          2055  \\\n",
       "age male  insch educ married nkids                                             \n",
       "0   False False none False   0      41166.868750  43429.040917  41733.990273   \n",
       "    True  False none False   0      44157.624172  42203.221213  43654.801541   \n",
       "1   False False none False   0      43228.308564  41166.868750  43253.923816   \n",
       "    True  False none False   0      42178.228194  44157.624172  42203.221213   \n",
       "2   False False none False   0      41920.506737  43053.295169  41166.868750   \n",
       "\n",
       "                                            2056          2057          2058  \\\n",
       "age male  insch educ married nkids                                             \n",
       "0   False False none False   0      44554.822359  41371.170428  43932.519510   \n",
       "    True  False none False   0      40947.144436  44072.961150  41264.552738   \n",
       "1   False False none False   0      41733.990273  44374.438463  41371.170428   \n",
       "    True  False none False   0      43480.182335  40947.144436  44072.961150   \n",
       "2   False False none False   0      43253.923816  41733.990273  44194.054567   \n",
       "\n",
       "                                            2059          2060          2061  \n",
       "age male  insch educ married nkids                                            \n",
       "0   False False none False   0      41532.022203  40193.363336  43535.737294  \n",
       "    True  False none False   0      43549.772270  44837.929766  41216.210307  \n",
       "1   False False none False   0      43754.655058  41363.876364  40193.363336  \n",
       "    True  False none False   0      41264.552738  43549.772270  44837.929766  \n",
       "2   False False none False   0      41202.308508  43576.790607  41363.876364  \n",
       "\n",
       "[5 rows x 45 columns]"
      ]
     },
     "execution_count": 6,
     "metadata": {},
     "output_type": "execute_result"
    }
   ],
   "source": [
    "base.stats.counts.head()"
   ]
  },
  {
   "cell_type": "markdown",
   "metadata": {},
   "source": [
    "## Population par âge et totale"
   ]
  },
  {
   "cell_type": "markdown",
   "metadata": {},
   "source": [
    "On peut obtenir la population totale en utilisant la fonction"
   ]
  },
  {
   "cell_type": "code",
   "execution_count": null,
   "metadata": {
    "ExecuteTime": {
     "end_time": "2020-04-15T13:45:53.048528Z",
     "start_time": "2020-04-15T13:45:53.041244Z"
    }
   },
   "outputs": [],
   "source": [
    "base.stats.freq()"
   ]
  },
  {
   "cell_type": "markdown",
   "metadata": {},
   "source": [
    "Et un beau graphique en rajoutant plot()"
   ]
  },
  {
   "cell_type": "code",
   "execution_count": null,
   "metadata": {
    "ExecuteTime": {
     "end_time": "2020-04-15T13:45:57.007939Z",
     "start_time": "2020-04-15T13:45:56.752873Z"
    }
   },
   "outputs": [],
   "source": [
    "base.stats.freq().plot()"
   ]
  },
  {
   "cell_type": "markdown",
   "metadata": {},
   "source": [
    "On voit qu'on a un problème au départ. Pour diagnostiquer, allons voir la population par âge: "
   ]
  },
  {
   "cell_type": "code",
   "execution_count": null,
   "metadata": {
    "ExecuteTime": {
     "end_time": "2020-04-15T13:45:58.258388Z",
     "start_time": "2020-04-15T13:45:58.211960Z"
    }
   },
   "outputs": [],
   "source": [
    "popage = base.stats.freq('age')\n",
    "popage.head()"
   ]
  },
  {
   "cell_type": "markdown",
   "metadata": {},
   "source": [
    "On peut exprimer en proportion..."
   ]
  },
  {
   "cell_type": "code",
   "execution_count": null,
   "metadata": {
    "ExecuteTime": {
     "end_time": "2020-04-08T18:45:48.650147Z",
     "start_time": "2020-04-08T18:45:48.610776Z"
    }
   },
   "outputs": [],
   "source": [
    "base.stats.prop('age').head()"
   ]
  },
  {
   "cell_type": "code",
   "execution_count": null,
   "metadata": {
    "ExecuteTime": {
     "end_time": "2020-04-08T18:45:49.732473Z",
     "start_time": "2020-04-08T18:45:49.432146Z"
    }
   },
   "outputs": [],
   "source": [
    "base.stats.prop('age',bins=[0,18,65,101]).plot.area()"
   ]
  },
  {
   "cell_type": "code",
   "execution_count": null,
   "metadata": {
    "ExecuteTime": {
     "end_time": "2020-04-15T13:46:41.608731Z",
     "start_time": "2020-04-15T13:46:41.587198Z"
    }
   },
   "outputs": [],
   "source": [
    "freqs = base.stats.freq('age',bins=[0,18,80,101])"
   ]
  },
  {
   "cell_type": "code",
   "execution_count": null,
   "metadata": {
    "ExecuteTime": {
     "end_time": "2020-04-15T13:47:54.446988Z",
     "start_time": "2020-04-15T13:47:54.427934Z"
    }
   },
   "outputs": [],
   "source": [
    "freqs"
   ]
  },
  {
   "cell_type": "code",
   "execution_count": null,
   "metadata": {
    "ExecuteTime": {
     "end_time": "2020-04-15T13:49:07.643135Z",
     "start_time": "2020-04-15T13:49:07.638414Z"
    }
   },
   "outputs": [],
   "source": [
    "(490848.58/335590.5)**(1/10)-1.0"
   ]
  },
  {
   "cell_type": "code",
   "execution_count": null,
   "metadata": {
    "ExecuteTime": {
     "end_time": "2020-04-15T13:59:20.835532Z",
     "start_time": "2020-04-15T13:59:20.831318Z"
    }
   },
   "outputs": [],
   "source": [
    "44000*0.0387"
   ]
  },
  {
   "cell_type": "code",
   "execution_count": null,
   "metadata": {
    "ExecuteTime": {
     "end_time": "2020-04-15T13:54:07.331572Z",
     "start_time": "2020-04-15T13:54:07.327193Z"
    }
   },
   "outputs": [],
   "source": [
    "44000/335590 * (490848.58-335590.5)"
   ]
  },
  {
   "cell_type": "markdown",
   "metadata": {},
   "source": [
    "## Autres variables et sous-ensemble"
   ]
  },
  {
   "cell_type": "code",
   "execution_count": null,
   "metadata": {
    "ExecuteTime": {
     "end_time": "2020-04-08T18:45:51.706635Z",
     "start_time": "2020-04-08T18:45:51.410088Z"
    }
   },
   "outputs": [],
   "source": [
    "peduc = base.stats.prop('educ',sub='age>=30')[['none','des','dec','uni']].plot.area()"
   ]
  },
  {
   "cell_type": "markdown",
   "metadata": {},
   "source": [
    "On peut aussi rajouter des conditions pour regarder des sous-groupes"
   ]
  },
  {
   "cell_type": "code",
   "execution_count": null,
   "metadata": {
    "ExecuteTime": {
     "end_time": "2020-04-08T18:45:53.966692Z",
     "start_time": "2020-04-08T18:45:53.698107Z"
    }
   },
   "outputs": [],
   "source": [
    "base.stats.prop('married',sub='age>18').plot.area()"
   ]
  },
  {
   "cell_type": "code",
   "execution_count": null,
   "metadata": {
    "ExecuteTime": {
     "end_time": "2020-04-08T18:45:55.425719Z",
     "start_time": "2020-04-08T18:45:55.098773Z"
    }
   },
   "outputs": [],
   "source": [
    "base.stats.prop('nkids',sub='age>=18 & age<=45 & male==False').plot.area()"
   ]
  },
  {
   "cell_type": "code",
   "execution_count": null,
   "metadata": {},
   "outputs": [],
   "source": []
  },
  {
   "cell_type": "code",
   "execution_count": null,
   "metadata": {},
   "outputs": [],
   "source": []
  }
 ],
 "metadata": {
  "kernelspec": {
   "display_name": "Python 3",
   "language": "python",
   "name": "python3"
  },
  "language_info": {
   "codemirror_mode": {
    "name": "ipython",
    "version": 3
   },
   "file_extension": ".py",
   "mimetype": "text/x-python",
   "name": "python",
   "nbconvert_exporter": "python",
   "pygments_lexer": "ipython3",
   "version": "3.7.4"
  },
  "latex_envs": {
   "LaTeX_envs_menu_present": true,
   "autoclose": false,
   "autocomplete": true,
   "bibliofile": "biblio.bib",
   "cite_by": "apalike",
   "current_citInitial": 1,
   "eqLabelWithNumbers": true,
   "eqNumInitial": 1,
   "hotkeys": {
    "equation": "Ctrl-E",
    "itemize": "Ctrl-I"
   },
   "labels_anchors": false,
   "latex_user_defs": false,
   "report_style_numbering": false,
   "user_envs_cfg": false
  },
  "varInspector": {
   "cols": {
    "lenName": 16,
    "lenType": 16,
    "lenVar": 40
   },
   "kernels_config": {
    "python": {
     "delete_cmd_postfix": "",
     "delete_cmd_prefix": "del ",
     "library": "var_list.py",
     "varRefreshCmd": "print(var_dic_list())"
    },
    "r": {
     "delete_cmd_postfix": ") ",
     "delete_cmd_prefix": "rm(",
     "library": "var_list.r",
     "varRefreshCmd": "cat(var_dic_list()) "
    }
   },
   "types_to_exclude": [
    "module",
    "function",
    "builtin_function_or_method",
    "instance",
    "_Feature"
   ],
   "window_display": false
  }
 },
 "nbformat": 4,
 "nbformat_minor": 4
}
