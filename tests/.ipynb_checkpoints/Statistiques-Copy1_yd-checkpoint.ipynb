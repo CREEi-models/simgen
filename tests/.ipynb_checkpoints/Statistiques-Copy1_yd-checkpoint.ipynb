{
 "cells": [
  {
   "cell_type": "markdown",
   "metadata": {},
   "source": [
    "# Statistiques"
   ]
  },
  {
   "cell_type": "markdown",
   "metadata": {},
   "source": [
    "La classe statistiques permet d'abord de collecter la population par un grand nombre de variable pour chaque année. Avec ce cube de données, la classe permet ensuite de sortir les statistiques de nombres et proportions. On en donne un exemple ici. "
   ]
  },
  {
   "cell_type": "markdown",
   "metadata": {},
   "source": [
    "## Simulation scénario de référence"
   ]
  },
  {
   "cell_type": "code",
   "execution_count": 1,
   "metadata": {
    "ExecuteTime": {
     "end_time": "2020-04-03T12:42:22.953063Z",
     "start_time": "2020-04-03T12:42:22.638584Z"
    }
   },
   "outputs": [],
   "source": [
    "import sys\n",
    "sys.path.append('/users/loulou/cedia/OLG_CAN/demo/compas/')\n",
    "from matplotlib import pyplot as plt\n",
    "import warnings\n",
    "warnings.filterwarnings(\"ignore\")"
   ]
  },
  {
   "cell_type": "code",
   "execution_count": 2,
   "metadata": {
    "ExecuteTime": {
     "end_time": "2020-04-03T12:42:23.898726Z",
     "start_time": "2020-04-03T12:42:22.955386Z"
    }
   },
   "outputs": [],
   "source": [
    "from compas import model"
   ]
  },
  {
   "cell_type": "code",
   "execution_count": 3,
   "metadata": {
    "ExecuteTime": {
     "end_time": "2020-04-03T12:42:24.205016Z",
     "start_time": "2020-04-03T12:42:23.901372Z"
    }
   },
   "outputs": [],
   "source": [
    "base = model(start_yr=2017,stop_yr=2060)\n",
    "base.startpop('startpop')\n",
    "base.immig_assumptions(init='newimmpop')\n",
    "base.birth_assumptions()\n",
    "base.dead_assumptions()\n",
    "base.reset()"
   ]
  },
  {
   "cell_type": "code",
   "execution_count": 4,
   "metadata": {
    "ExecuteTime": {
     "end_time": "2020-04-03T12:48:11.696735Z",
     "start_time": "2020-04-03T12:42:24.207530Z"
    }
   },
   "outputs": [
    {
     "name": "stdout",
     "output_type": "stream",
     "text": [
      "2060\r"
     ]
    }
   ],
   "source": [
    "base.simulate()"
   ]
  },
  {
   "cell_type": "markdown",
   "metadata": {},
   "source": [
    "## Le cube de donnée\n",
    "\n",
    "À l'intérieur d'un modèle, une instance de la classe stats a été lancée. Elle définie des stratas pour cumuler les fréquences d'individus. Par défaut, elle fait (age,male,educ,married,nkids). Après avoir crée l'instance, le modèle va l'initatiser en utilisant la population de départ. Il va ensuite la populer avec les années subséquentes de la simulation. On peut voir ce cube à l'aide de stats.counts. "
   ]
  },
  {
   "cell_type": "code",
   "execution_count": 5,
   "metadata": {
    "ExecuteTime": {
     "end_time": "2020-04-03T12:48:11.741461Z",
     "start_time": "2020-04-03T12:48:11.699281Z"
    },
    "scrolled": false
   },
   "outputs": [
    {
     "data": {
      "text/html": [
       "<div>\n",
       "<style scoped>\n",
       "    .dataframe tbody tr th:only-of-type {\n",
       "        vertical-align: middle;\n",
       "    }\n",
       "\n",
       "    .dataframe tbody tr th {\n",
       "        vertical-align: top;\n",
       "    }\n",
       "\n",
       "    .dataframe thead th {\n",
       "        text-align: right;\n",
       "    }\n",
       "</style>\n",
       "<table border=\"1\" class=\"dataframe\">\n",
       "  <thead>\n",
       "    <tr style=\"text-align: right;\">\n",
       "      <th></th>\n",
       "      <th></th>\n",
       "      <th></th>\n",
       "      <th></th>\n",
       "      <th></th>\n",
       "      <th>2017</th>\n",
       "      <th>2018</th>\n",
       "      <th>2019</th>\n",
       "      <th>2020</th>\n",
       "      <th>2021</th>\n",
       "      <th>2022</th>\n",
       "      <th>2023</th>\n",
       "      <th>2024</th>\n",
       "      <th>2025</th>\n",
       "      <th>2026</th>\n",
       "      <th>...</th>\n",
       "      <th>2052</th>\n",
       "      <th>2053</th>\n",
       "      <th>2054</th>\n",
       "      <th>2055</th>\n",
       "      <th>2056</th>\n",
       "      <th>2057</th>\n",
       "      <th>2058</th>\n",
       "      <th>2059</th>\n",
       "      <th>2060</th>\n",
       "      <th>2061</th>\n",
       "    </tr>\n",
       "    <tr>\n",
       "      <th>age</th>\n",
       "      <th>male</th>\n",
       "      <th>educ</th>\n",
       "      <th>married</th>\n",
       "      <th>nkids</th>\n",
       "      <th></th>\n",
       "      <th></th>\n",
       "      <th></th>\n",
       "      <th></th>\n",
       "      <th></th>\n",
       "      <th></th>\n",
       "      <th></th>\n",
       "      <th></th>\n",
       "      <th></th>\n",
       "      <th></th>\n",
       "      <th></th>\n",
       "      <th></th>\n",
       "      <th></th>\n",
       "      <th></th>\n",
       "      <th></th>\n",
       "      <th></th>\n",
       "      <th></th>\n",
       "      <th></th>\n",
       "      <th></th>\n",
       "      <th></th>\n",
       "      <th></th>\n",
       "    </tr>\n",
       "  </thead>\n",
       "  <tbody>\n",
       "    <tr>\n",
       "      <th rowspan=\"2\" valign=\"top\">0</th>\n",
       "      <th>False</th>\n",
       "      <th>none</th>\n",
       "      <th>False</th>\n",
       "      <th>0</th>\n",
       "      <td>41147.053669</td>\n",
       "      <td>43567.428033</td>\n",
       "      <td>41223.922888</td>\n",
       "      <td>40567.232958</td>\n",
       "      <td>45420.278756</td>\n",
       "      <td>42489.553560</td>\n",
       "      <td>40587.233635</td>\n",
       "      <td>40370.014491</td>\n",
       "      <td>43241.888751</td>\n",
       "      <td>41118.152105</td>\n",
       "      <td>...</td>\n",
       "      <td>46657.043891</td>\n",
       "      <td>49630.930621</td>\n",
       "      <td>43473.362449</td>\n",
       "      <td>49958.678707</td>\n",
       "      <td>47686.664589</td>\n",
       "      <td>39725.552305</td>\n",
       "      <td>41698.899754</td>\n",
       "      <td>46330.128074</td>\n",
       "      <td>44406.039947</td>\n",
       "      <td>41249.676130</td>\n",
       "    </tr>\n",
       "    <tr>\n",
       "      <th>True</th>\n",
       "      <th>none</th>\n",
       "      <th>False</th>\n",
       "      <th>0</th>\n",
       "      <td>43254.336754</td>\n",
       "      <td>39365.493349</td>\n",
       "      <td>41683.669240</td>\n",
       "      <td>42681.486141</td>\n",
       "      <td>38313.704529</td>\n",
       "      <td>41456.821356</td>\n",
       "      <td>43486.321751</td>\n",
       "      <td>43546.671368</td>\n",
       "      <td>40563.187678</td>\n",
       "      <td>42514.138751</td>\n",
       "      <td>...</td>\n",
       "      <td>43238.208779</td>\n",
       "      <td>40337.489429</td>\n",
       "      <td>46424.043158</td>\n",
       "      <td>39966.942965</td>\n",
       "      <td>42319.334375</td>\n",
       "      <td>50345.254406</td>\n",
       "      <td>48544.987774</td>\n",
       "      <td>43820.579470</td>\n",
       "      <td>45838.492848</td>\n",
       "      <td>49116.882402</td>\n",
       "    </tr>\n",
       "    <tr>\n",
       "      <th rowspan=\"2\" valign=\"top\">1</th>\n",
       "      <th>False</th>\n",
       "      <th>none</th>\n",
       "      <th>False</th>\n",
       "      <th>0</th>\n",
       "      <td>42429.834730</td>\n",
       "      <td>41147.053669</td>\n",
       "      <td>43567.428033</td>\n",
       "      <td>41223.922888</td>\n",
       "      <td>40567.232958</td>\n",
       "      <td>45420.278756</td>\n",
       "      <td>42489.553560</td>\n",
       "      <td>40587.233635</td>\n",
       "      <td>40370.014491</td>\n",
       "      <td>43241.888751</td>\n",
       "      <td>...</td>\n",
       "      <td>45211.497500</td>\n",
       "      <td>46657.043891</td>\n",
       "      <td>49630.930621</td>\n",
       "      <td>43473.362449</td>\n",
       "      <td>49958.678707</td>\n",
       "      <td>47686.664589</td>\n",
       "      <td>39725.552305</td>\n",
       "      <td>41698.899754</td>\n",
       "      <td>46330.128074</td>\n",
       "      <td>44406.039947</td>\n",
       "    </tr>\n",
       "    <tr>\n",
       "      <th>True</th>\n",
       "      <th>none</th>\n",
       "      <th>False</th>\n",
       "      <th>0</th>\n",
       "      <td>44761.254288</td>\n",
       "      <td>43254.336754</td>\n",
       "      <td>39365.493349</td>\n",
       "      <td>41683.669240</td>\n",
       "      <td>42681.486141</td>\n",
       "      <td>38313.704529</td>\n",
       "      <td>41309.288184</td>\n",
       "      <td>43486.321751</td>\n",
       "      <td>43546.671368</td>\n",
       "      <td>40435.630484</td>\n",
       "      <td>...</td>\n",
       "      <td>44441.940095</td>\n",
       "      <td>43238.208779</td>\n",
       "      <td>40337.489429</td>\n",
       "      <td>46424.043158</td>\n",
       "      <td>39966.942965</td>\n",
       "      <td>42319.334375</td>\n",
       "      <td>50345.254406</td>\n",
       "      <td>48544.987774</td>\n",
       "      <td>43820.579470</td>\n",
       "      <td>45838.492848</td>\n",
       "    </tr>\n",
       "    <tr>\n",
       "      <th>2</th>\n",
       "      <th>False</th>\n",
       "      <th>none</th>\n",
       "      <th>False</th>\n",
       "      <th>0</th>\n",
       "      <td>43641.572534</td>\n",
       "      <td>42429.834730</td>\n",
       "      <td>41147.053669</td>\n",
       "      <td>43567.428033</td>\n",
       "      <td>41223.922888</td>\n",
       "      <td>40567.232958</td>\n",
       "      <td>45420.278756</td>\n",
       "      <td>42489.553560</td>\n",
       "      <td>40587.233635</td>\n",
       "      <td>40370.014491</td>\n",
       "      <td>...</td>\n",
       "      <td>48495.193355</td>\n",
       "      <td>45211.497500</td>\n",
       "      <td>46657.043891</td>\n",
       "      <td>49630.930621</td>\n",
       "      <td>43473.362449</td>\n",
       "      <td>49958.678707</td>\n",
       "      <td>47686.664589</td>\n",
       "      <td>39725.552305</td>\n",
       "      <td>41698.899754</td>\n",
       "      <td>46330.128074</td>\n",
       "    </tr>\n",
       "  </tbody>\n",
       "</table>\n",
       "<p>5 rows × 45 columns</p>\n",
       "</div>"
      ],
      "text/plain": [
       "                                      2017          2018          2019  \\\n",
       "age male  educ married nkids                                             \n",
       "0   False none False   0      41147.053669  43567.428033  41223.922888   \n",
       "    True  none False   0      43254.336754  39365.493349  41683.669240   \n",
       "1   False none False   0      42429.834730  41147.053669  43567.428033   \n",
       "    True  none False   0      44761.254288  43254.336754  39365.493349   \n",
       "2   False none False   0      43641.572534  42429.834730  41147.053669   \n",
       "\n",
       "                                      2020          2021          2022  \\\n",
       "age male  educ married nkids                                             \n",
       "0   False none False   0      40567.232958  45420.278756  42489.553560   \n",
       "    True  none False   0      42681.486141  38313.704529  41456.821356   \n",
       "1   False none False   0      41223.922888  40567.232958  45420.278756   \n",
       "    True  none False   0      41683.669240  42681.486141  38313.704529   \n",
       "2   False none False   0      43567.428033  41223.922888  40567.232958   \n",
       "\n",
       "                                      2023          2024          2025  \\\n",
       "age male  educ married nkids                                             \n",
       "0   False none False   0      40587.233635  40370.014491  43241.888751   \n",
       "    True  none False   0      43486.321751  43546.671368  40563.187678   \n",
       "1   False none False   0      42489.553560  40587.233635  40370.014491   \n",
       "    True  none False   0      41309.288184  43486.321751  43546.671368   \n",
       "2   False none False   0      45420.278756  42489.553560  40587.233635   \n",
       "\n",
       "                                      2026  ...          2052          2053  \\\n",
       "age male  educ married nkids                ...                               \n",
       "0   False none False   0      41118.152105  ...  46657.043891  49630.930621   \n",
       "    True  none False   0      42514.138751  ...  43238.208779  40337.489429   \n",
       "1   False none False   0      43241.888751  ...  45211.497500  46657.043891   \n",
       "    True  none False   0      40435.630484  ...  44441.940095  43238.208779   \n",
       "2   False none False   0      40370.014491  ...  48495.193355  45211.497500   \n",
       "\n",
       "                                      2054          2055          2056  \\\n",
       "age male  educ married nkids                                             \n",
       "0   False none False   0      43473.362449  49958.678707  47686.664589   \n",
       "    True  none False   0      46424.043158  39966.942965  42319.334375   \n",
       "1   False none False   0      49630.930621  43473.362449  49958.678707   \n",
       "    True  none False   0      40337.489429  46424.043158  39966.942965   \n",
       "2   False none False   0      46657.043891  49630.930621  43473.362449   \n",
       "\n",
       "                                      2057          2058          2059  \\\n",
       "age male  educ married nkids                                             \n",
       "0   False none False   0      39725.552305  41698.899754  46330.128074   \n",
       "    True  none False   0      50345.254406  48544.987774  43820.579470   \n",
       "1   False none False   0      47686.664589  39725.552305  41698.899754   \n",
       "    True  none False   0      42319.334375  50345.254406  48544.987774   \n",
       "2   False none False   0      49958.678707  47686.664589  39725.552305   \n",
       "\n",
       "                                      2060          2061  \n",
       "age male  educ married nkids                              \n",
       "0   False none False   0      44406.039947  41249.676130  \n",
       "    True  none False   0      45838.492848  49116.882402  \n",
       "1   False none False   0      46330.128074  44406.039947  \n",
       "    True  none False   0      43820.579470  45838.492848  \n",
       "2   False none False   0      41698.899754  46330.128074  \n",
       "\n",
       "[5 rows x 45 columns]"
      ]
     },
     "execution_count": 5,
     "metadata": {},
     "output_type": "execute_result"
    }
   ],
   "source": [
    "base.stats.counts.head()"
   ]
  },
  {
   "cell_type": "markdown",
   "metadata": {},
   "source": [
    "## Population par âge et totale"
   ]
  },
  {
   "cell_type": "markdown",
   "metadata": {},
   "source": [
    "On peut obtenir la population totale en utilisant la fonction"
   ]
  },
  {
   "cell_type": "code",
   "execution_count": 6,
   "metadata": {
    "ExecuteTime": {
     "end_time": "2020-04-03T12:48:11.752253Z",
     "start_time": "2020-04-03T12:48:11.743483Z"
    }
   },
   "outputs": [
    {
     "data": {
      "text/plain": [
       "2017    8.298827e+06\n",
       "2018    8.365603e+06\n",
       "2019    8.410407e+06\n",
       "2020    8.463159e+06\n",
       "2021    8.519566e+06\n",
       "2022    8.585906e+06\n",
       "2023    8.626880e+06\n",
       "2024    8.679754e+06\n",
       "2025    8.731973e+06\n",
       "2026    8.768155e+06\n",
       "2027    8.815735e+06\n",
       "2028    8.854110e+06\n",
       "2029    8.899084e+06\n",
       "2030    8.945002e+06\n",
       "2031    8.996134e+06\n",
       "2032    9.038373e+06\n",
       "2033    9.072603e+06\n",
       "2034    9.115598e+06\n",
       "2035    9.164922e+06\n",
       "2036    9.205174e+06\n",
       "2037    9.235714e+06\n",
       "2038    9.248242e+06\n",
       "2039    9.291430e+06\n",
       "2040    9.328679e+06\n",
       "2041    9.361216e+06\n",
       "2042    9.369914e+06\n",
       "2043    9.406347e+06\n",
       "2044    9.424341e+06\n",
       "2045    9.444557e+06\n",
       "2046    9.469357e+06\n",
       "2047    9.505876e+06\n",
       "2048    9.547796e+06\n",
       "2049    9.588344e+06\n",
       "2050    9.616256e+06\n",
       "2051    9.664890e+06\n",
       "2052    9.697122e+06\n",
       "2053    9.714587e+06\n",
       "2054    9.744416e+06\n",
       "2055    9.779605e+06\n",
       "2056    9.814345e+06\n",
       "2057    9.860253e+06\n",
       "2058    9.875323e+06\n",
       "2059    9.910480e+06\n",
       "2060    9.947738e+06\n",
       "2061    9.988568e+06\n",
       "dtype: float64"
      ]
     },
     "execution_count": 6,
     "metadata": {},
     "output_type": "execute_result"
    }
   ],
   "source": [
    "base.stats.freq()"
   ]
  },
  {
   "cell_type": "markdown",
   "metadata": {},
   "source": [
    "Et un beau graphique en rajoutant plot()"
   ]
  },
  {
   "cell_type": "code",
   "execution_count": 7,
   "metadata": {
    "ExecuteTime": {
     "end_time": "2020-04-03T12:48:12.050073Z",
     "start_time": "2020-04-03T12:48:11.754266Z"
    }
   },
   "outputs": [
    {
     "data": {
      "text/plain": [
       "<matplotlib.axes._subplots.AxesSubplot at 0x120311f60>"
      ]
     },
     "execution_count": 7,
     "metadata": {},
     "output_type": "execute_result"
    },
    {
     "data": {
      "image/png": "[encoded data removed]",
      "text/plain": [
       "<Figure size 432x288 with 1 Axes>"
      ]
     },
     "metadata": {
      "needs_background": "light"
     },
     "output_type": "display_data"
    }
   ],
   "source": [
    "base.stats.freq().plot()"
   ]
  },
  {
   "cell_type": "markdown",
   "metadata": {},
   "source": [
    "On voit qu'on a un problème au départ. Pour diagnostiquer, allons voir la population par âge: "
   ]
  },
  {
   "cell_type": "code",
   "execution_count": 8,
   "metadata": {
    "ExecuteTime": {
     "end_time": "2020-04-03T12:48:12.097471Z",
     "start_time": "2020-04-03T12:48:12.053808Z"
    }
   },
   "outputs": [
    {
     "data": {
      "text/html": [
       "<div>\n",
       "<style scoped>\n",
       "    .dataframe tbody tr th:only-of-type {\n",
       "        vertical-align: middle;\n",
       "    }\n",
       "\n",
       "    .dataframe tbody tr th {\n",
       "        vertical-align: top;\n",
       "    }\n",
       "\n",
       "    .dataframe thead th {\n",
       "        text-align: right;\n",
       "    }\n",
       "</style>\n",
       "<table border=\"1\" class=\"dataframe\">\n",
       "  <thead>\n",
       "    <tr style=\"text-align: right;\">\n",
       "      <th>age</th>\n",
       "      <th>0</th>\n",
       "      <th>1</th>\n",
       "      <th>2</th>\n",
       "      <th>3</th>\n",
       "      <th>4</th>\n",
       "      <th>5</th>\n",
       "      <th>6</th>\n",
       "      <th>7</th>\n",
       "      <th>8</th>\n",
       "      <th>9</th>\n",
       "      <th>...</th>\n",
       "      <th>94</th>\n",
       "      <th>95</th>\n",
       "      <th>96</th>\n",
       "      <th>97</th>\n",
       "      <th>98</th>\n",
       "      <th>99</th>\n",
       "      <th>100</th>\n",
       "      <th>101</th>\n",
       "      <th>102</th>\n",
       "      <th>103</th>\n",
       "    </tr>\n",
       "  </thead>\n",
       "  <tbody>\n",
       "    <tr>\n",
       "      <th>2017</th>\n",
       "      <td>84401.390423</td>\n",
       "      <td>87191.089018</td>\n",
       "      <td>88585.938315</td>\n",
       "      <td>89733.637127</td>\n",
       "      <td>90521.116609</td>\n",
       "      <td>90336.003897</td>\n",
       "      <td>90416.052637</td>\n",
       "      <td>91409.657625</td>\n",
       "      <td>91853.928133</td>\n",
       "      <td>90090.854630</td>\n",
       "      <td>...</td>\n",
       "      <td>6789.133776</td>\n",
       "      <td>5175.151052</td>\n",
       "      <td>873.531877</td>\n",
       "      <td>2689.637670</td>\n",
       "      <td>1843.122243</td>\n",
       "      <td>1244.757910</td>\n",
       "      <td>0.000000</td>\n",
       "      <td>0.000000</td>\n",
       "      <td>0.0</td>\n",
       "      <td>0.0</td>\n",
       "    </tr>\n",
       "    <tr>\n",
       "      <th>2018</th>\n",
       "      <td>82932.921382</td>\n",
       "      <td>84401.390423</td>\n",
       "      <td>87191.089018</td>\n",
       "      <td>88369.711126</td>\n",
       "      <td>89733.637127</td>\n",
       "      <td>90521.116609</td>\n",
       "      <td>90336.003897</td>\n",
       "      <td>90416.052637</td>\n",
       "      <td>91409.657625</td>\n",
       "      <td>91853.928133</td>\n",
       "      <td>...</td>\n",
       "      <td>7305.008860</td>\n",
       "      <td>6273.515806</td>\n",
       "      <td>4452.469524</td>\n",
       "      <td>0.000000</td>\n",
       "      <td>2689.637670</td>\n",
       "      <td>1693.412400</td>\n",
       "      <td>120.107999</td>\n",
       "      <td>0.000000</td>\n",
       "      <td>0.0</td>\n",
       "      <td>0.0</td>\n",
       "    </tr>\n",
       "    <tr>\n",
       "      <th>2019</th>\n",
       "      <td>82907.592127</td>\n",
       "      <td>82932.921382</td>\n",
       "      <td>84401.390423</td>\n",
       "      <td>87191.089018</td>\n",
       "      <td>88369.711126</td>\n",
       "      <td>89733.637127</td>\n",
       "      <td>90516.112977</td>\n",
       "      <td>90033.290170</td>\n",
       "      <td>90416.052637</td>\n",
       "      <td>91409.657625</td>\n",
       "      <td>...</td>\n",
       "      <td>10168.223723</td>\n",
       "      <td>1672.425660</td>\n",
       "      <td>6210.281882</td>\n",
       "      <td>2168.693141</td>\n",
       "      <td>0.000000</td>\n",
       "      <td>2689.637670</td>\n",
       "      <td>1622.990228</td>\n",
       "      <td>19.830764</td>\n",
       "      <td>0.0</td>\n",
       "      <td>0.0</td>\n",
       "    </tr>\n",
       "    <tr>\n",
       "      <th>2020</th>\n",
       "      <td>83248.719099</td>\n",
       "      <td>82907.592127</td>\n",
       "      <td>82932.921382</td>\n",
       "      <td>84401.390423</td>\n",
       "      <td>87191.089018</td>\n",
       "      <td>88369.711126</td>\n",
       "      <td>89733.637127</td>\n",
       "      <td>90516.112977</td>\n",
       "      <td>90033.290170</td>\n",
       "      <td>90411.229636</td>\n",
       "      <td>...</td>\n",
       "      <td>8070.837093</td>\n",
       "      <td>8763.137166</td>\n",
       "      <td>1154.647114</td>\n",
       "      <td>5640.225685</td>\n",
       "      <td>1835.147820</td>\n",
       "      <td>0.000000</td>\n",
       "      <td>2282.315729</td>\n",
       "      <td>111.069648</td>\n",
       "      <td>0.0</td>\n",
       "      <td>0.0</td>\n",
       "    </tr>\n",
       "    <tr>\n",
       "      <th>2021</th>\n",
       "      <td>83733.983284</td>\n",
       "      <td>83248.719099</td>\n",
       "      <td>82907.592127</td>\n",
       "      <td>82932.921382</td>\n",
       "      <td>84401.390423</td>\n",
       "      <td>87191.089018</td>\n",
       "      <td>88369.711126</td>\n",
       "      <td>89733.637127</td>\n",
       "      <td>90516.112977</td>\n",
       "      <td>90033.290170</td>\n",
       "      <td>...</td>\n",
       "      <td>4708.426012</td>\n",
       "      <td>6498.305459</td>\n",
       "      <td>8355.827779</td>\n",
       "      <td>748.342180</td>\n",
       "      <td>109.589619</td>\n",
       "      <td>1668.630163</td>\n",
       "      <td>0.000000</td>\n",
       "      <td>2111.285522</td>\n",
       "      <td>0.0</td>\n",
       "      <td>0.0</td>\n",
       "    </tr>\n",
       "  </tbody>\n",
       "</table>\n",
       "<p>5 rows × 104 columns</p>\n",
       "</div>"
      ],
      "text/plain": [
       "age            0             1             2             3             4    \\\n",
       "2017  84401.390423  87191.089018  88585.938315  89733.637127  90521.116609   \n",
       "2018  82932.921382  84401.390423  87191.089018  88369.711126  89733.637127   \n",
       "2019  82907.592127  82932.921382  84401.390423  87191.089018  88369.711126   \n",
       "2020  83248.719099  82907.592127  82932.921382  84401.390423  87191.089018   \n",
       "2021  83733.983284  83248.719099  82907.592127  82932.921382  84401.390423   \n",
       "\n",
       "age            5             6             7             8             9    \\\n",
       "2017  90336.003897  90416.052637  91409.657625  91853.928133  90090.854630   \n",
       "2018  90521.116609  90336.003897  90416.052637  91409.657625  91853.928133   \n",
       "2019  89733.637127  90516.112977  90033.290170  90416.052637  91409.657625   \n",
       "2020  88369.711126  89733.637127  90516.112977  90033.290170  90411.229636   \n",
       "2021  87191.089018  88369.711126  89733.637127  90516.112977  90033.290170   \n",
       "\n",
       "age   ...           94           95           96           97           98   \\\n",
       "2017  ...   6789.133776  5175.151052   873.531877  2689.637670  1843.122243   \n",
       "2018  ...   7305.008860  6273.515806  4452.469524     0.000000  2689.637670   \n",
       "2019  ...  10168.223723  1672.425660  6210.281882  2168.693141     0.000000   \n",
       "2020  ...   8070.837093  8763.137166  1154.647114  5640.225685  1835.147820   \n",
       "2021  ...   4708.426012  6498.305459  8355.827779   748.342180   109.589619   \n",
       "\n",
       "age           99           100          101  102  103  \n",
       "2017  1244.757910     0.000000     0.000000  0.0  0.0  \n",
       "2018  1693.412400   120.107999     0.000000  0.0  0.0  \n",
       "2019  2689.637670  1622.990228    19.830764  0.0  0.0  \n",
       "2020     0.000000  2282.315729   111.069648  0.0  0.0  \n",
       "2021  1668.630163     0.000000  2111.285522  0.0  0.0  \n",
       "\n",
       "[5 rows x 104 columns]"
      ]
     },
     "execution_count": 8,
     "metadata": {},
     "output_type": "execute_result"
    }
   ],
   "source": [
    "popage = base.stats.freq('age')\n",
    "popage.head()"
   ]
  },
  {
   "cell_type": "markdown",
   "metadata": {},
   "source": [
    "On peut exprimer en proportion..."
   ]
  },
  {
   "cell_type": "code",
   "execution_count": 9,
   "metadata": {
    "ExecuteTime": {
     "end_time": "2020-04-03T12:48:12.141948Z",
     "start_time": "2020-04-03T12:48:12.100325Z"
    }
   },
   "outputs": [
    {
     "data": {
      "text/html": [
       "<div>\n",
       "<style scoped>\n",
       "    .dataframe tbody tr th:only-of-type {\n",
       "        vertical-align: middle;\n",
       "    }\n",
       "\n",
       "    .dataframe tbody tr th {\n",
       "        vertical-align: top;\n",
       "    }\n",
       "\n",
       "    .dataframe thead th {\n",
       "        text-align: right;\n",
       "    }\n",
       "</style>\n",
       "<table border=\"1\" class=\"dataframe\">\n",
       "  <thead>\n",
       "    <tr style=\"text-align: right;\">\n",
       "      <th>age</th>\n",
       "      <th>0</th>\n",
       "      <th>1</th>\n",
       "      <th>2</th>\n",
       "      <th>3</th>\n",
       "      <th>4</th>\n",
       "      <th>5</th>\n",
       "      <th>6</th>\n",
       "      <th>7</th>\n",
       "      <th>8</th>\n",
       "      <th>9</th>\n",
       "      <th>...</th>\n",
       "      <th>94</th>\n",
       "      <th>95</th>\n",
       "      <th>96</th>\n",
       "      <th>97</th>\n",
       "      <th>98</th>\n",
       "      <th>99</th>\n",
       "      <th>100</th>\n",
       "      <th>101</th>\n",
       "      <th>102</th>\n",
       "      <th>103</th>\n",
       "    </tr>\n",
       "  </thead>\n",
       "  <tbody>\n",
       "    <tr>\n",
       "      <th>2017</th>\n",
       "      <td>0.010170</td>\n",
       "      <td>0.010506</td>\n",
       "      <td>0.010675</td>\n",
       "      <td>0.010813</td>\n",
       "      <td>0.010908</td>\n",
       "      <td>0.010885</td>\n",
       "      <td>0.010895</td>\n",
       "      <td>0.011015</td>\n",
       "      <td>0.011068</td>\n",
       "      <td>0.010856</td>\n",
       "      <td>...</td>\n",
       "      <td>0.000818</td>\n",
       "      <td>0.000624</td>\n",
       "      <td>0.000105</td>\n",
       "      <td>0.000324</td>\n",
       "      <td>0.000222</td>\n",
       "      <td>0.000150</td>\n",
       "      <td>0.000000</td>\n",
       "      <td>0.000000</td>\n",
       "      <td>0.0</td>\n",
       "      <td>0.0</td>\n",
       "    </tr>\n",
       "    <tr>\n",
       "      <th>2018</th>\n",
       "      <td>0.009914</td>\n",
       "      <td>0.010089</td>\n",
       "      <td>0.010423</td>\n",
       "      <td>0.010563</td>\n",
       "      <td>0.010726</td>\n",
       "      <td>0.010821</td>\n",
       "      <td>0.010799</td>\n",
       "      <td>0.010808</td>\n",
       "      <td>0.010927</td>\n",
       "      <td>0.010980</td>\n",
       "      <td>...</td>\n",
       "      <td>0.000873</td>\n",
       "      <td>0.000750</td>\n",
       "      <td>0.000532</td>\n",
       "      <td>0.000000</td>\n",
       "      <td>0.000322</td>\n",
       "      <td>0.000202</td>\n",
       "      <td>0.000014</td>\n",
       "      <td>0.000000</td>\n",
       "      <td>0.0</td>\n",
       "      <td>0.0</td>\n",
       "    </tr>\n",
       "    <tr>\n",
       "      <th>2019</th>\n",
       "      <td>0.009858</td>\n",
       "      <td>0.009861</td>\n",
       "      <td>0.010035</td>\n",
       "      <td>0.010367</td>\n",
       "      <td>0.010507</td>\n",
       "      <td>0.010669</td>\n",
       "      <td>0.010762</td>\n",
       "      <td>0.010705</td>\n",
       "      <td>0.010750</td>\n",
       "      <td>0.010869</td>\n",
       "      <td>...</td>\n",
       "      <td>0.001209</td>\n",
       "      <td>0.000199</td>\n",
       "      <td>0.000738</td>\n",
       "      <td>0.000258</td>\n",
       "      <td>0.000000</td>\n",
       "      <td>0.000320</td>\n",
       "      <td>0.000193</td>\n",
       "      <td>0.000002</td>\n",
       "      <td>0.0</td>\n",
       "      <td>0.0</td>\n",
       "    </tr>\n",
       "    <tr>\n",
       "      <th>2020</th>\n",
       "      <td>0.009837</td>\n",
       "      <td>0.009796</td>\n",
       "      <td>0.009799</td>\n",
       "      <td>0.009973</td>\n",
       "      <td>0.010302</td>\n",
       "      <td>0.010442</td>\n",
       "      <td>0.010603</td>\n",
       "      <td>0.010695</td>\n",
       "      <td>0.010638</td>\n",
       "      <td>0.010683</td>\n",
       "      <td>...</td>\n",
       "      <td>0.000954</td>\n",
       "      <td>0.001035</td>\n",
       "      <td>0.000136</td>\n",
       "      <td>0.000666</td>\n",
       "      <td>0.000217</td>\n",
       "      <td>0.000000</td>\n",
       "      <td>0.000270</td>\n",
       "      <td>0.000013</td>\n",
       "      <td>0.0</td>\n",
       "      <td>0.0</td>\n",
       "    </tr>\n",
       "    <tr>\n",
       "      <th>2021</th>\n",
       "      <td>0.009828</td>\n",
       "      <td>0.009771</td>\n",
       "      <td>0.009731</td>\n",
       "      <td>0.009734</td>\n",
       "      <td>0.009907</td>\n",
       "      <td>0.010234</td>\n",
       "      <td>0.010373</td>\n",
       "      <td>0.010533</td>\n",
       "      <td>0.010624</td>\n",
       "      <td>0.010568</td>\n",
       "      <td>...</td>\n",
       "      <td>0.000553</td>\n",
       "      <td>0.000763</td>\n",
       "      <td>0.000981</td>\n",
       "      <td>0.000088</td>\n",
       "      <td>0.000013</td>\n",
       "      <td>0.000196</td>\n",
       "      <td>0.000000</td>\n",
       "      <td>0.000248</td>\n",
       "      <td>0.0</td>\n",
       "      <td>0.0</td>\n",
       "    </tr>\n",
       "  </tbody>\n",
       "</table>\n",
       "<p>5 rows × 104 columns</p>\n",
       "</div>"
      ],
      "text/plain": [
       "age        0         1         2         3         4         5         6    \\\n",
       "2017  0.010170  0.010506  0.010675  0.010813  0.010908  0.010885  0.010895   \n",
       "2018  0.009914  0.010089  0.010423  0.010563  0.010726  0.010821  0.010799   \n",
       "2019  0.009858  0.009861  0.010035  0.010367  0.010507  0.010669  0.010762   \n",
       "2020  0.009837  0.009796  0.009799  0.009973  0.010302  0.010442  0.010603   \n",
       "2021  0.009828  0.009771  0.009731  0.009734  0.009907  0.010234  0.010373   \n",
       "\n",
       "age        7         8         9    ...       94        95        96   \\\n",
       "2017  0.011015  0.011068  0.010856  ...  0.000818  0.000624  0.000105   \n",
       "2018  0.010808  0.010927  0.010980  ...  0.000873  0.000750  0.000532   \n",
       "2019  0.010705  0.010750  0.010869  ...  0.001209  0.000199  0.000738   \n",
       "2020  0.010695  0.010638  0.010683  ...  0.000954  0.001035  0.000136   \n",
       "2021  0.010533  0.010624  0.010568  ...  0.000553  0.000763  0.000981   \n",
       "\n",
       "age        97        98        99        100       101  102  103  \n",
       "2017  0.000324  0.000222  0.000150  0.000000  0.000000  0.0  0.0  \n",
       "2018  0.000000  0.000322  0.000202  0.000014  0.000000  0.0  0.0  \n",
       "2019  0.000258  0.000000  0.000320  0.000193  0.000002  0.0  0.0  \n",
       "2020  0.000666  0.000217  0.000000  0.000270  0.000013  0.0  0.0  \n",
       "2021  0.000088  0.000013  0.000196  0.000000  0.000248  0.0  0.0  \n",
       "\n",
       "[5 rows x 104 columns]"
      ]
     },
     "execution_count": 9,
     "metadata": {},
     "output_type": "execute_result"
    }
   ],
   "source": [
    "base.stats.prop('age').head()"
   ]
  },
  {
   "cell_type": "code",
   "execution_count": 10,
   "metadata": {
    "ExecuteTime": {
     "end_time": "2020-04-03T12:48:12.413708Z",
     "start_time": "2020-04-03T12:48:12.144064Z"
    }
   },
   "outputs": [
    {
     "data": {
      "text/plain": [
       "<matplotlib.axes._subplots.AxesSubplot at 0x121a7ff98>"
      ]
     },
     "execution_count": 10,
     "metadata": {},
     "output_type": "execute_result"
    },
    {
     "data": {
      "image/png": "[encoded data removed]",
      "text/plain": [
       "<Figure size 432x288 with 1 Axes>"
      ]
     },
     "metadata": {
      "needs_background": "light"
     },
     "output_type": "display_data"
    }
   ],
   "source": [
    "base.stats.prop('age',bins=[0,18,65,101]).plot.area()"
   ]
  },
  {
   "cell_type": "markdown",
   "metadata": {},
   "source": [
    "## Autres variables et sous-ensemble"
   ]
  },
  {
   "cell_type": "code",
   "execution_count": 11,
   "metadata": {
    "ExecuteTime": {
     "end_time": "2020-04-03T12:48:12.689275Z",
     "start_time": "2020-04-03T12:48:12.415718Z"
    }
   },
   "outputs": [
    {
     "data": {
      "image/png": "[encoded data removed]",
      "text/plain": [
       "<Figure size 432x288 with 1 Axes>"
      ]
     },
     "metadata": {
      "needs_background": "light"
     },
     "output_type": "display_data"
    }
   ],
   "source": [
    "peduc = base.stats.prop('educ',sub='age>=30')[['none','des','dec','uni']].plot.area()"
   ]
  },
  {
   "cell_type": "markdown",
   "metadata": {},
   "source": [
    "On peut aussi rajouter des conditions pour regarder des sous-groupes"
   ]
  },
  {
   "cell_type": "code",
   "execution_count": 12,
   "metadata": {
    "ExecuteTime": {
     "end_time": "2020-04-03T12:48:12.938721Z",
     "start_time": "2020-04-03T12:48:12.691218Z"
    }
   },
   "outputs": [
    {
     "data": {
      "text/plain": [
       "<matplotlib.axes._subplots.AxesSubplot at 0x1209089e8>"
      ]
     },
     "execution_count": 12,
     "metadata": {},
     "output_type": "execute_result"
    },
    {
     "data": {
      "image/png": "[encoded data removed]",
      "text/plain": [
       "<Figure size 432x288 with 1 Axes>"
      ]
     },
     "metadata": {
      "needs_background": "light"
     },
     "output_type": "display_data"
    }
   ],
   "source": [
    "base.stats.prop('married',sub='age>18').plot.area()"
   ]
  },
  {
   "cell_type": "code",
   "execution_count": 13,
   "metadata": {
    "ExecuteTime": {
     "end_time": "2020-04-03T12:48:13.261096Z",
     "start_time": "2020-04-03T12:48:12.940696Z"
    }
   },
   "outputs": [
    {
     "data": {
      "text/plain": [
       "<matplotlib.axes._subplots.AxesSubplot at 0x12154ac88>"
      ]
     },
     "execution_count": 13,
     "metadata": {},
     "output_type": "execute_result"
    },
    {
     "data": {
      "image/png": "[encoded data removed]",
      "text/plain": [
       "<Figure size 432x288 with 1 Axes>"
      ]
     },
     "metadata": {
      "needs_background": "light"
     },
     "output_type": "display_data"
    }
   ],
   "source": [
    "base.stats.prop('nkids',sub='age>=18 & age<=45 & male==False').plot.area()"
   ]
  },
  {
   "cell_type": "code",
   "execution_count": null,
   "metadata": {},
   "outputs": [],
   "source": []
  }
 ],
 "metadata": {
  "kernelspec": {
   "display_name": "Python 3",
   "language": "python",
   "name": "python3"
  },
  "language_info": {
   "codemirror_mode": {
    "name": "ipython",
    "version": 3
   },
   "file_extension": ".py",
   "mimetype": "text/x-python",
   "name": "python",
   "nbconvert_exporter": "python",
   "pygments_lexer": "ipython3",
   "version": "3.7.4"
  },
  "latex_envs": {
   "LaTeX_envs_menu_present": true,
   "autoclose": false,
   "autocomplete": true,
   "bibliofile": "biblio.bib",
   "cite_by": "apalike",
   "current_citInitial": 1,
   "eqLabelWithNumbers": true,
   "eqNumInitial": 1,
   "hotkeys": {
    "equation": "Ctrl-E",
    "itemize": "Ctrl-I"
   },
   "labels_anchors": false,
   "latex_user_defs": false,
   "report_style_numbering": false,
   "user_envs_cfg": false
  },
  "varInspector": {
   "cols": {
    "lenName": 16,
    "lenType": 16,
    "lenVar": 40
   },
   "kernels_config": {
    "python": {
     "delete_cmd_postfix": "",
     "delete_cmd_prefix": "del ",
     "library": "var_list.py",
     "varRefreshCmd": "print(var_dic_list())"
    },
    "r": {
     "delete_cmd_postfix": ") ",
     "delete_cmd_prefix": "rm(",
     "library": "var_list.r",
     "varRefreshCmd": "cat(var_dic_list()) "
    }
   },
   "types_to_exclude": [
    "module",
    "function",
    "builtin_function_or_method",
    "instance",
    "_Feature"
   ],
   "window_display": false
  }
 },
 "nbformat": 4,
 "nbformat_minor": 4
}
