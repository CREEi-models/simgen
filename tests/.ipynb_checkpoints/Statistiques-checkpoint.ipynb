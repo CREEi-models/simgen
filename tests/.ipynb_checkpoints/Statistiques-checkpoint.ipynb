{
 "cells": [
  {
   "cell_type": "markdown",
   "metadata": {},
   "source": [
    "# Statistiques"
   ]
  },
  {
   "cell_type": "markdown",
   "metadata": {},
   "source": [
    "La classe statistiques permet d'abord de collecter la population par un grand nombre de variable pour chaque année. Avec ce cube de données, la classe permet ensuite de sortir les statistiques de nombres et proportions. On en donne un exemple ici. "
   ]
  },
  {
   "cell_type": "markdown",
   "metadata": {},
   "source": [
    "## Simulation scénario de référence"
   ]
  },
  {
   "cell_type": "code",
   "execution_count": 1,
   "metadata": {
    "ExecuteTime": {
     "end_time": "2020-04-15T13:44:15.652138Z",
     "start_time": "2020-04-15T13:44:15.228918Z"
    }
   },
   "outputs": [],
   "source": [
    "import sys\n",
    "sys.path.append('/users/loulou/cedia/OLG_CAN/demo/simgen/')\n",
    "from matplotlib import pyplot as plt\n",
    "import warnings\n",
    "warnings.filterwarnings(\"ignore\")"
   ]
  },
  {
   "cell_type": "code",
   "execution_count": 2,
   "metadata": {
    "ExecuteTime": {
     "end_time": "2020-04-15T13:44:18.097235Z",
     "start_time": "2020-04-15T13:44:16.189634Z"
    }
   },
   "outputs": [],
   "source": [
    "from simgen import model"
   ]
  },
  {
   "cell_type": "code",
   "execution_count": 3,
   "metadata": {
    "ExecuteTime": {
     "end_time": "2020-04-15T13:44:18.700119Z",
     "start_time": "2020-04-15T13:44:18.106522Z"
    }
   },
   "outputs": [],
   "source": [
    "base = model(start_yr=2017,stop_yr=2060)\n",
    "base.startpop('startpop')\n",
    "base.immig_assumptions(init='newimmpop')\n",
    "base.birth_assumptions()\n",
    "base.dead_assumptions()\n",
    "base.reset()"
   ]
  },
  {
   "cell_type": "code",
   "execution_count": 4,
   "metadata": {
    "ExecuteTime": {
     "end_time": "2020-04-15T13:45:49.331444Z",
     "start_time": "2020-04-15T13:44:18.707839Z"
    }
   },
   "outputs": [
    {
     "name": "stdout",
     "output_type": "stream",
     "text": [
      "2030\r"
     ]
    }
   ],
   "source": [
    "base.simulate()"
   ]
  },
  {
   "cell_type": "markdown",
   "metadata": {},
   "source": [
    "## Le cube de donnée\n",
    "\n",
    "À l'intérieur d'un modèle, une instance de la classe stats a été lancée. Elle définie des stratas pour cumuler les fréquences d'individus. Par défaut, elle fait (age,male,educ,married,nkids). Après avoir crée l'instance, le modèle va l'initatiser en utilisant la population de départ. Il va ensuite la populer avec les années subséquentes de la simulation. On peut voir ce cube à l'aide de stats.counts. "
   ]
  },
  {
   "cell_type": "code",
   "execution_count": 5,
   "metadata": {
    "ExecuteTime": {
     "end_time": "2020-04-15T13:45:49.381389Z",
     "start_time": "2020-04-15T13:45:49.340699Z"
    },
    "scrolled": false
   },
   "outputs": [
    {
     "data": {
      "text/html": [
       "<div>\n",
       "<style scoped>\n",
       "    .dataframe tbody tr th:only-of-type {\n",
       "        vertical-align: middle;\n",
       "    }\n",
       "\n",
       "    .dataframe tbody tr th {\n",
       "        vertical-align: top;\n",
       "    }\n",
       "\n",
       "    .dataframe thead th {\n",
       "        text-align: right;\n",
       "    }\n",
       "</style>\n",
       "<table border=\"1\" class=\"dataframe\">\n",
       "  <thead>\n",
       "    <tr style=\"text-align: right;\">\n",
       "      <th></th>\n",
       "      <th></th>\n",
       "      <th></th>\n",
       "      <th></th>\n",
       "      <th></th>\n",
       "      <th>2017</th>\n",
       "      <th>2018</th>\n",
       "      <th>2019</th>\n",
       "      <th>2020</th>\n",
       "      <th>2021</th>\n",
       "      <th>2022</th>\n",
       "      <th>2023</th>\n",
       "      <th>2024</th>\n",
       "      <th>2025</th>\n",
       "      <th>2026</th>\n",
       "      <th>2027</th>\n",
       "      <th>2028</th>\n",
       "      <th>2029</th>\n",
       "      <th>2030</th>\n",
       "      <th>2031</th>\n",
       "    </tr>\n",
       "    <tr>\n",
       "      <th>age</th>\n",
       "      <th>male</th>\n",
       "      <th>educ</th>\n",
       "      <th>married</th>\n",
       "      <th>nkids</th>\n",
       "      <th></th>\n",
       "      <th></th>\n",
       "      <th></th>\n",
       "      <th></th>\n",
       "      <th></th>\n",
       "      <th></th>\n",
       "      <th></th>\n",
       "      <th></th>\n",
       "      <th></th>\n",
       "      <th></th>\n",
       "      <th></th>\n",
       "      <th></th>\n",
       "      <th></th>\n",
       "      <th></th>\n",
       "      <th></th>\n",
       "    </tr>\n",
       "  </thead>\n",
       "  <tbody>\n",
       "    <tr>\n",
       "      <th rowspan=\"2\" valign=\"top\">0</th>\n",
       "      <th>False</th>\n",
       "      <th>none</th>\n",
       "      <th>False</th>\n",
       "      <th>0</th>\n",
       "      <td>41147.053669</td>\n",
       "      <td>41638.520694</td>\n",
       "      <td>41895.519523</td>\n",
       "      <td>41237.961447</td>\n",
       "      <td>42767.583536</td>\n",
       "      <td>42485.723177</td>\n",
       "      <td>41300.308627</td>\n",
       "      <td>44521.988656</td>\n",
       "      <td>38629.459816</td>\n",
       "      <td>39189.366159</td>\n",
       "      <td>39502.963480</td>\n",
       "      <td>41521.044724</td>\n",
       "      <td>39043.254504</td>\n",
       "      <td>37545.838295</td>\n",
       "      <td>39205.334460</td>\n",
       "    </tr>\n",
       "    <tr>\n",
       "      <th>True</th>\n",
       "      <th>none</th>\n",
       "      <th>False</th>\n",
       "      <th>0</th>\n",
       "      <td>43254.336754</td>\n",
       "      <td>41064.987351</td>\n",
       "      <td>40284.153387</td>\n",
       "      <td>41369.712122</td>\n",
       "      <td>40352.138619</td>\n",
       "      <td>40503.056096</td>\n",
       "      <td>41563.367918</td>\n",
       "      <td>38143.838596</td>\n",
       "      <td>44011.273103</td>\n",
       "      <td>43085.385017</td>\n",
       "      <td>42250.995722</td>\n",
       "      <td>39970.925721</td>\n",
       "      <td>42205.976238</td>\n",
       "      <td>43401.611240</td>\n",
       "      <td>41445.639286</td>\n",
       "    </tr>\n",
       "    <tr>\n",
       "      <th rowspan=\"2\" valign=\"top\">1</th>\n",
       "      <th>False</th>\n",
       "      <th>none</th>\n",
       "      <th>False</th>\n",
       "      <th>0</th>\n",
       "      <td>42429.834730</td>\n",
       "      <td>41147.053669</td>\n",
       "      <td>41523.814025</td>\n",
       "      <td>41895.519523</td>\n",
       "      <td>41237.961447</td>\n",
       "      <td>42625.498541</td>\n",
       "      <td>42485.723177</td>\n",
       "      <td>41168.778982</td>\n",
       "      <td>44396.926890</td>\n",
       "      <td>38509.863965</td>\n",
       "      <td>39074.777369</td>\n",
       "      <td>39502.963480</td>\n",
       "      <td>41521.044724</td>\n",
       "      <td>38934.195134</td>\n",
       "      <td>37316.200140</td>\n",
       "    </tr>\n",
       "    <tr>\n",
       "      <th>True</th>\n",
       "      <th>none</th>\n",
       "      <th>False</th>\n",
       "      <th>0</th>\n",
       "      <td>44761.254288</td>\n",
       "      <td>43254.336754</td>\n",
       "      <td>41064.987351</td>\n",
       "      <td>40284.153387</td>\n",
       "      <td>41106.210771</td>\n",
       "      <td>40210.053623</td>\n",
       "      <td>40503.056096</td>\n",
       "      <td>41431.838273</td>\n",
       "      <td>38018.776830</td>\n",
       "      <td>44011.273103</td>\n",
       "      <td>42970.796227</td>\n",
       "      <td>42250.995722</td>\n",
       "      <td>39860.202935</td>\n",
       "      <td>42205.976238</td>\n",
       "      <td>43286.792162</td>\n",
       "    </tr>\n",
       "    <tr>\n",
       "      <th>2</th>\n",
       "      <th>False</th>\n",
       "      <th>none</th>\n",
       "      <th>False</th>\n",
       "      <th>0</th>\n",
       "      <td>43641.572534</td>\n",
       "      <td>42378.222073</td>\n",
       "      <td>41128.404503</td>\n",
       "      <td>41409.107357</td>\n",
       "      <td>41761.239012</td>\n",
       "      <td>41237.961447</td>\n",
       "      <td>42341.328550</td>\n",
       "      <td>42344.104100</td>\n",
       "      <td>41037.249337</td>\n",
       "      <td>44271.865125</td>\n",
       "      <td>38151.076413</td>\n",
       "      <td>39074.777369</td>\n",
       "      <td>39273.960793</td>\n",
       "      <td>41410.321938</td>\n",
       "      <td>38607.017024</td>\n",
       "    </tr>\n",
       "  </tbody>\n",
       "</table>\n",
       "</div>"
      ],
      "text/plain": [
       "                                      2017          2018          2019  \\\n",
       "age male  educ married nkids                                             \n",
       "0   False none False   0      41147.053669  41638.520694  41895.519523   \n",
       "    True  none False   0      43254.336754  41064.987351  40284.153387   \n",
       "1   False none False   0      42429.834730  41147.053669  41523.814025   \n",
       "    True  none False   0      44761.254288  43254.336754  41064.987351   \n",
       "2   False none False   0      43641.572534  42378.222073  41128.404503   \n",
       "\n",
       "                                      2020          2021          2022  \\\n",
       "age male  educ married nkids                                             \n",
       "0   False none False   0      41237.961447  42767.583536  42485.723177   \n",
       "    True  none False   0      41369.712122  40352.138619  40503.056096   \n",
       "1   False none False   0      41895.519523  41237.961447  42625.498541   \n",
       "    True  none False   0      40284.153387  41106.210771  40210.053623   \n",
       "2   False none False   0      41409.107357  41761.239012  41237.961447   \n",
       "\n",
       "                                      2023          2024          2025  \\\n",
       "age male  educ married nkids                                             \n",
       "0   False none False   0      41300.308627  44521.988656  38629.459816   \n",
       "    True  none False   0      41563.367918  38143.838596  44011.273103   \n",
       "1   False none False   0      42485.723177  41168.778982  44396.926890   \n",
       "    True  none False   0      40503.056096  41431.838273  38018.776830   \n",
       "2   False none False   0      42341.328550  42344.104100  41037.249337   \n",
       "\n",
       "                                      2026          2027          2028  \\\n",
       "age male  educ married nkids                                             \n",
       "0   False none False   0      39189.366159  39502.963480  41521.044724   \n",
       "    True  none False   0      43085.385017  42250.995722  39970.925721   \n",
       "1   False none False   0      38509.863965  39074.777369  39502.963480   \n",
       "    True  none False   0      44011.273103  42970.796227  42250.995722   \n",
       "2   False none False   0      44271.865125  38151.076413  39074.777369   \n",
       "\n",
       "                                      2029          2030          2031  \n",
       "age male  educ married nkids                                            \n",
       "0   False none False   0      39043.254504  37545.838295  39205.334460  \n",
       "    True  none False   0      42205.976238  43401.611240  41445.639286  \n",
       "1   False none False   0      41521.044724  38934.195134  37316.200140  \n",
       "    True  none False   0      39860.202935  42205.976238  43286.792162  \n",
       "2   False none False   0      39273.960793  41410.321938  38607.017024  "
      ]
     },
     "execution_count": 5,
     "metadata": {},
     "output_type": "execute_result"
    }
   ],
   "source": [
    "base.stats.counts.head()"
   ]
  },
  {
   "cell_type": "markdown",
   "metadata": {},
   "source": [
    "## Population par âge et totale"
   ]
  },
  {
   "cell_type": "markdown",
   "metadata": {},
   "source": [
    "On peut obtenir la population totale en utilisant la fonction"
   ]
  },
  {
   "cell_type": "code",
   "execution_count": 6,
   "metadata": {
    "ExecuteTime": {
     "end_time": "2020-04-15T13:45:53.048528Z",
     "start_time": "2020-04-15T13:45:53.041244Z"
    }
   },
   "outputs": [
    {
     "data": {
      "text/plain": [
       "2017    8.298827e+06\n",
       "2018    8.319253e+06\n",
       "2019    8.372286e+06\n",
       "2020    8.415435e+06\n",
       "2021    8.436754e+06\n",
       "2022    8.489213e+06\n",
       "2023    8.511145e+06\n",
       "2024    8.559162e+06\n",
       "2025    8.602198e+06\n",
       "2026    8.632528e+06\n",
       "2027    8.666515e+06\n",
       "2028    8.712354e+06\n",
       "2029    8.746354e+06\n",
       "2030    8.784250e+06\n",
       "2031    8.805409e+06\n",
       "dtype: float64"
      ]
     },
     "execution_count": 6,
     "metadata": {},
     "output_type": "execute_result"
    }
   ],
   "source": [
    "base.stats.freq()"
   ]
  },
  {
   "cell_type": "markdown",
   "metadata": {},
   "source": [
    "Et un beau graphique en rajoutant plot()"
   ]
  },
  {
   "cell_type": "code",
   "execution_count": 7,
   "metadata": {
    "ExecuteTime": {
     "end_time": "2020-04-15T13:45:57.007939Z",
     "start_time": "2020-04-15T13:45:56.752873Z"
    }
   },
   "outputs": [
    {
     "data": {
      "text/plain": [
       "<matplotlib.axes._subplots.AxesSubplot at 0x1214c0ba8>"
      ]
     },
     "execution_count": 7,
     "metadata": {},
     "output_type": "execute_result"
    },
    {
     "data": {
      "image/png": "[encoded data removed]",
      "text/plain": [
       "<Figure size 432x288 with 1 Axes>"
      ]
     },
     "metadata": {
      "needs_background": "light"
     },
     "output_type": "display_data"
    }
   ],
   "source": [
    "base.stats.freq().plot()"
   ]
  },
  {
   "cell_type": "markdown",
   "metadata": {},
   "source": [
    "On voit qu'on a un problème au départ. Pour diagnostiquer, allons voir la population par âge: "
   ]
  },
  {
   "cell_type": "code",
   "execution_count": 8,
   "metadata": {
    "ExecuteTime": {
     "end_time": "2020-04-15T13:45:58.258388Z",
     "start_time": "2020-04-15T13:45:58.211960Z"
    }
   },
   "outputs": [
    {
     "data": {
      "text/html": [
       "<div>\n",
       "<style scoped>\n",
       "    .dataframe tbody tr th:only-of-type {\n",
       "        vertical-align: middle;\n",
       "    }\n",
       "\n",
       "    .dataframe tbody tr th {\n",
       "        vertical-align: top;\n",
       "    }\n",
       "\n",
       "    .dataframe thead th {\n",
       "        text-align: right;\n",
       "    }\n",
       "</style>\n",
       "<table border=\"1\" class=\"dataframe\">\n",
       "  <thead>\n",
       "    <tr style=\"text-align: right;\">\n",
       "      <th>age</th>\n",
       "      <th>0</th>\n",
       "      <th>1</th>\n",
       "      <th>2</th>\n",
       "      <th>3</th>\n",
       "      <th>4</th>\n",
       "      <th>5</th>\n",
       "      <th>6</th>\n",
       "      <th>7</th>\n",
       "      <th>8</th>\n",
       "      <th>9</th>\n",
       "      <th>...</th>\n",
       "      <th>93</th>\n",
       "      <th>94</th>\n",
       "      <th>95</th>\n",
       "      <th>96</th>\n",
       "      <th>97</th>\n",
       "      <th>98</th>\n",
       "      <th>99</th>\n",
       "      <th>100</th>\n",
       "      <th>101</th>\n",
       "      <th>102</th>\n",
       "    </tr>\n",
       "  </thead>\n",
       "  <tbody>\n",
       "    <tr>\n",
       "      <th>2017</th>\n",
       "      <td>84401.390423</td>\n",
       "      <td>87191.089018</td>\n",
       "      <td>88585.938315</td>\n",
       "      <td>89733.637127</td>\n",
       "      <td>90521.116609</td>\n",
       "      <td>90336.003897</td>\n",
       "      <td>90416.052637</td>\n",
       "      <td>91409.657625</td>\n",
       "      <td>91853.928133</td>\n",
       "      <td>90090.854630</td>\n",
       "      <td>...</td>\n",
       "      <td>8974.464383</td>\n",
       "      <td>6789.133776</td>\n",
       "      <td>5175.151052</td>\n",
       "      <td>873.531877</td>\n",
       "      <td>2689.637670</td>\n",
       "      <td>1843.122243</td>\n",
       "      <td>1244.757910</td>\n",
       "      <td>0.000000</td>\n",
       "      <td>0.000000</td>\n",
       "      <td>0.0</td>\n",
       "    </tr>\n",
       "    <tr>\n",
       "      <th>2018</th>\n",
       "      <td>82703.508045</td>\n",
       "      <td>84401.390423</td>\n",
       "      <td>87034.032790</td>\n",
       "      <td>88194.053229</td>\n",
       "      <td>89733.637127</td>\n",
       "      <td>90411.751521</td>\n",
       "      <td>90273.731359</td>\n",
       "      <td>89843.321210</td>\n",
       "      <td>91409.657625</td>\n",
       "      <td>91853.928133</td>\n",
       "      <td>...</td>\n",
       "      <td>4548.311192</td>\n",
       "      <td>2390.761485</td>\n",
       "      <td>983.929359</td>\n",
       "      <td>2599.471419</td>\n",
       "      <td>0.000000</td>\n",
       "      <td>171.030207</td>\n",
       "      <td>44.829316</td>\n",
       "      <td>71.703352</td>\n",
       "      <td>0.000000</td>\n",
       "      <td>0.0</td>\n",
       "    </tr>\n",
       "    <tr>\n",
       "      <th>2019</th>\n",
       "      <td>82179.672910</td>\n",
       "      <td>82588.801376</td>\n",
       "      <td>84251.297310</td>\n",
       "      <td>87034.032790</td>\n",
       "      <td>88126.727387</td>\n",
       "      <td>89125.283182</td>\n",
       "      <td>90312.051339</td>\n",
       "      <td>90273.731359</td>\n",
       "      <td>89650.401150</td>\n",
       "      <td>91409.657625</td>\n",
       "      <td>...</td>\n",
       "      <td>10803.731725</td>\n",
       "      <td>4293.633803</td>\n",
       "      <td>1259.822868</td>\n",
       "      <td>109.589619</td>\n",
       "      <td>2446.468978</td>\n",
       "      <td>0.000000</td>\n",
       "      <td>0.000000</td>\n",
       "      <td>0.000000</td>\n",
       "      <td>51.872588</td>\n",
       "      <td>0.0</td>\n",
       "    </tr>\n",
       "    <tr>\n",
       "      <th>2020</th>\n",
       "      <td>82607.673569</td>\n",
       "      <td>82179.672910</td>\n",
       "      <td>82244.681370</td>\n",
       "      <td>84251.297310</td>\n",
       "      <td>85828.501633</td>\n",
       "      <td>88114.704915</td>\n",
       "      <td>88901.292929</td>\n",
       "      <td>90249.863347</td>\n",
       "      <td>90273.731359</td>\n",
       "      <td>89650.401150</td>\n",
       "      <td>...</td>\n",
       "      <td>11501.331440</td>\n",
       "      <td>8652.000906</td>\n",
       "      <td>3008.036294</td>\n",
       "      <td>743.972271</td>\n",
       "      <td>0.000000</td>\n",
       "      <td>162.692595</td>\n",
       "      <td>0.000000</td>\n",
       "      <td>0.000000</td>\n",
       "      <td>0.000000</td>\n",
       "      <td>0.0</td>\n",
       "    </tr>\n",
       "    <tr>\n",
       "      <th>2021</th>\n",
       "      <td>83119.722154</td>\n",
       "      <td>82344.172218</td>\n",
       "      <td>81911.111888</td>\n",
       "      <td>82129.974702</td>\n",
       "      <td>84180.162939</td>\n",
       "      <td>85762.484788</td>\n",
       "      <td>88114.704915</td>\n",
       "      <td>88901.292929</td>\n",
       "      <td>90249.863347</td>\n",
       "      <td>89726.655174</td>\n",
       "      <td>...</td>\n",
       "      <td>11411.267483</td>\n",
       "      <td>5502.728985</td>\n",
       "      <td>8274.130875</td>\n",
       "      <td>0.000000</td>\n",
       "      <td>478.482244</td>\n",
       "      <td>0.000000</td>\n",
       "      <td>162.692595</td>\n",
       "      <td>0.000000</td>\n",
       "      <td>0.000000</td>\n",
       "      <td>0.0</td>\n",
       "    </tr>\n",
       "  </tbody>\n",
       "</table>\n",
       "<p>5 rows × 103 columns</p>\n",
       "</div>"
      ],
      "text/plain": [
       "age            0             1             2             3             4    \\\n",
       "2017  84401.390423  87191.089018  88585.938315  89733.637127  90521.116609   \n",
       "2018  82703.508045  84401.390423  87034.032790  88194.053229  89733.637127   \n",
       "2019  82179.672910  82588.801376  84251.297310  87034.032790  88126.727387   \n",
       "2020  82607.673569  82179.672910  82244.681370  84251.297310  85828.501633   \n",
       "2021  83119.722154  82344.172218  81911.111888  82129.974702  84180.162939   \n",
       "\n",
       "age            5             6             7             8             9    \\\n",
       "2017  90336.003897  90416.052637  91409.657625  91853.928133  90090.854630   \n",
       "2018  90411.751521  90273.731359  89843.321210  91409.657625  91853.928133   \n",
       "2019  89125.283182  90312.051339  90273.731359  89650.401150  91409.657625   \n",
       "2020  88114.704915  88901.292929  90249.863347  90273.731359  89650.401150   \n",
       "2021  85762.484788  88114.704915  88901.292929  90249.863347  89726.655174   \n",
       "\n",
       "age   ...           93           94           95           96           97   \\\n",
       "2017  ...   8974.464383  6789.133776  5175.151052   873.531877  2689.637670   \n",
       "2018  ...   4548.311192  2390.761485   983.929359  2599.471419     0.000000   \n",
       "2019  ...  10803.731725  4293.633803  1259.822868   109.589619  2446.468978   \n",
       "2020  ...  11501.331440  8652.000906  3008.036294   743.972271     0.000000   \n",
       "2021  ...  11411.267483  5502.728985  8274.130875     0.000000   478.482244   \n",
       "\n",
       "age           98           99         100        101  102  \n",
       "2017  1843.122243  1244.757910   0.000000   0.000000  0.0  \n",
       "2018   171.030207    44.829316  71.703352   0.000000  0.0  \n",
       "2019     0.000000     0.000000   0.000000  51.872588  0.0  \n",
       "2020   162.692595     0.000000   0.000000   0.000000  0.0  \n",
       "2021     0.000000   162.692595   0.000000   0.000000  0.0  \n",
       "\n",
       "[5 rows x 103 columns]"
      ]
     },
     "execution_count": 8,
     "metadata": {},
     "output_type": "execute_result"
    }
   ],
   "source": [
    "popage = base.stats.freq('age')\n",
    "popage.head()"
   ]
  },
  {
   "cell_type": "markdown",
   "metadata": {},
   "source": [
    "On peut exprimer en proportion..."
   ]
  },
  {
   "cell_type": "code",
   "execution_count": null,
   "metadata": {
    "ExecuteTime": {
     "end_time": "2020-04-08T18:45:48.650147Z",
     "start_time": "2020-04-08T18:45:48.610776Z"
    }
   },
   "outputs": [],
   "source": [
    "base.stats.prop('age').head()"
   ]
  },
  {
   "cell_type": "code",
   "execution_count": null,
   "metadata": {
    "ExecuteTime": {
     "end_time": "2020-04-08T18:45:49.732473Z",
     "start_time": "2020-04-08T18:45:49.432146Z"
    }
   },
   "outputs": [],
   "source": [
    "base.stats.prop('age',bins=[0,18,65,101]).plot.area()"
   ]
  },
  {
   "cell_type": "code",
   "execution_count": 11,
   "metadata": {
    "ExecuteTime": {
     "end_time": "2020-04-15T13:46:41.608731Z",
     "start_time": "2020-04-15T13:46:41.587198Z"
    }
   },
   "outputs": [],
   "source": [
    "freqs = base.stats.freq('age',bins=[0,18,80,101])"
   ]
  },
  {
   "cell_type": "code",
   "execution_count": 19,
   "metadata": {
    "ExecuteTime": {
     "end_time": "2020-04-15T13:47:54.446988Z",
     "start_time": "2020-04-15T13:47:54.427934Z"
    }
   },
   "outputs": [
    {
     "data": {
      "text/html": [
       "<div>\n",
       "<style scoped>\n",
       "    .dataframe tbody tr th:only-of-type {\n",
       "        vertical-align: middle;\n",
       "    }\n",
       "\n",
       "    .dataframe tbody tr th {\n",
       "        vertical-align: top;\n",
       "    }\n",
       "\n",
       "    .dataframe thead th {\n",
       "        text-align: right;\n",
       "    }\n",
       "</style>\n",
       "<table border=\"1\" class=\"dataframe\">\n",
       "  <thead>\n",
       "    <tr style=\"text-align: right;\">\n",
       "      <th>age</th>\n",
       "      <th>(0, 18]</th>\n",
       "      <th>(18, 80]</th>\n",
       "      <th>(80, 101]</th>\n",
       "    </tr>\n",
       "  </thead>\n",
       "  <tbody>\n",
       "    <tr>\n",
       "      <th>2017</th>\n",
       "      <td>1.554953e+06</td>\n",
       "      <td>6.325125e+06</td>\n",
       "      <td>334347.577965</td>\n",
       "    </tr>\n",
       "    <tr>\n",
       "      <th>2018</th>\n",
       "      <td>1.552669e+06</td>\n",
       "      <td>6.371074e+06</td>\n",
       "      <td>312805.750139</td>\n",
       "    </tr>\n",
       "    <tr>\n",
       "      <th>2019</th>\n",
       "      <td>1.550415e+06</td>\n",
       "      <td>6.414648e+06</td>\n",
       "      <td>325043.275553</td>\n",
       "    </tr>\n",
       "    <tr>\n",
       "      <th>2020</th>\n",
       "      <td>1.548874e+06</td>\n",
       "      <td>6.448363e+06</td>\n",
       "      <td>335590.464071</td>\n",
       "    </tr>\n",
       "    <tr>\n",
       "      <th>2021</th>\n",
       "      <td>1.547641e+06</td>\n",
       "      <td>6.475838e+06</td>\n",
       "      <td>330154.813267</td>\n",
       "    </tr>\n",
       "    <tr>\n",
       "      <th>2022</th>\n",
       "      <td>1.549978e+06</td>\n",
       "      <td>6.508719e+06</td>\n",
       "      <td>347527.008240</td>\n",
       "    </tr>\n",
       "    <tr>\n",
       "      <th>2023</th>\n",
       "      <td>1.548144e+06</td>\n",
       "      <td>6.534676e+06</td>\n",
       "      <td>345461.163319</td>\n",
       "    </tr>\n",
       "    <tr>\n",
       "      <th>2024</th>\n",
       "      <td>1.547324e+06</td>\n",
       "      <td>6.563329e+06</td>\n",
       "      <td>365843.329787</td>\n",
       "    </tr>\n",
       "    <tr>\n",
       "      <th>2025</th>\n",
       "      <td>1.548099e+06</td>\n",
       "      <td>6.591778e+06</td>\n",
       "      <td>379679.447547</td>\n",
       "    </tr>\n",
       "    <tr>\n",
       "      <th>2026</th>\n",
       "      <td>1.542998e+06</td>\n",
       "      <td>6.621275e+06</td>\n",
       "      <td>385948.005118</td>\n",
       "    </tr>\n",
       "    <tr>\n",
       "      <th>2027</th>\n",
       "      <td>1.534484e+06</td>\n",
       "      <td>6.639687e+06</td>\n",
       "      <td>410590.281662</td>\n",
       "    </tr>\n",
       "    <tr>\n",
       "      <th>2028</th>\n",
       "      <td>1.522748e+06</td>\n",
       "      <td>6.654934e+06</td>\n",
       "      <td>453180.605430</td>\n",
       "    </tr>\n",
       "    <tr>\n",
       "      <th>2029</th>\n",
       "      <td>1.511918e+06</td>\n",
       "      <td>6.685365e+06</td>\n",
       "      <td>467820.638666</td>\n",
       "    </tr>\n",
       "    <tr>\n",
       "      <th>2030</th>\n",
       "      <td>1.501032e+06</td>\n",
       "      <td>6.711421e+06</td>\n",
       "      <td>490848.567144</td>\n",
       "    </tr>\n",
       "    <tr>\n",
       "      <th>2031</th>\n",
       "      <td>1.489594e+06</td>\n",
       "      <td>6.742310e+06</td>\n",
       "      <td>492849.261456</td>\n",
       "    </tr>\n",
       "  </tbody>\n",
       "</table>\n",
       "</div>"
      ],
      "text/plain": [
       "age        (0, 18]      (18, 80]      (80, 101]\n",
       "2017  1.554953e+06  6.325125e+06  334347.577965\n",
       "2018  1.552669e+06  6.371074e+06  312805.750139\n",
       "2019  1.550415e+06  6.414648e+06  325043.275553\n",
       "2020  1.548874e+06  6.448363e+06  335590.464071\n",
       "2021  1.547641e+06  6.475838e+06  330154.813267\n",
       "2022  1.549978e+06  6.508719e+06  347527.008240\n",
       "2023  1.548144e+06  6.534676e+06  345461.163319\n",
       "2024  1.547324e+06  6.563329e+06  365843.329787\n",
       "2025  1.548099e+06  6.591778e+06  379679.447547\n",
       "2026  1.542998e+06  6.621275e+06  385948.005118\n",
       "2027  1.534484e+06  6.639687e+06  410590.281662\n",
       "2028  1.522748e+06  6.654934e+06  453180.605430\n",
       "2029  1.511918e+06  6.685365e+06  467820.638666\n",
       "2030  1.501032e+06  6.711421e+06  490848.567144\n",
       "2031  1.489594e+06  6.742310e+06  492849.261456"
      ]
     },
     "execution_count": 19,
     "metadata": {},
     "output_type": "execute_result"
    }
   ],
   "source": [
    "freqs"
   ]
  },
  {
   "cell_type": "code",
   "execution_count": 20,
   "metadata": {
    "ExecuteTime": {
     "end_time": "2020-04-15T13:49:07.643135Z",
     "start_time": "2020-04-15T13:49:07.638414Z"
    }
   },
   "outputs": [
    {
     "data": {
      "text/plain": [
       "0.038756580568041654"
      ]
     },
     "execution_count": 20,
     "metadata": {},
     "output_type": "execute_result"
    }
   ],
   "source": [
    "(490848.58/335590.5)**(1/10)-1.0"
   ]
  },
  {
   "cell_type": "code",
   "execution_count": 24,
   "metadata": {
    "ExecuteTime": {
     "end_time": "2020-04-15T13:59:20.835532Z",
     "start_time": "2020-04-15T13:59:20.831318Z"
    }
   },
   "outputs": [
    {
     "data": {
      "text/plain": [
       "1702.8"
      ]
     },
     "execution_count": 24,
     "metadata": {},
     "output_type": "execute_result"
    }
   ],
   "source": [
    "44000*0.0387"
   ]
  },
  {
   "cell_type": "code",
   "execution_count": 23,
   "metadata": {
    "ExecuteTime": {
     "end_time": "2020-04-15T13:54:07.331572Z",
     "start_time": "2020-04-15T13:54:07.327193Z"
    }
   },
   "outputs": [
    {
     "data": {
      "text/plain": [
       "20356.254715575553"
      ]
     },
     "execution_count": 23,
     "metadata": {},
     "output_type": "execute_result"
    }
   ],
   "source": [
    "44000/335590 * (490848.58-335590.5)"
   ]
  },
  {
   "cell_type": "markdown",
   "metadata": {},
   "source": [
    "## Autres variables et sous-ensemble"
   ]
  },
  {
   "cell_type": "code",
   "execution_count": null,
   "metadata": {
    "ExecuteTime": {
     "end_time": "2020-04-08T18:45:51.706635Z",
     "start_time": "2020-04-08T18:45:51.410088Z"
    }
   },
   "outputs": [],
   "source": [
    "peduc = base.stats.prop('educ',sub='age>=30')[['none','des','dec','uni']].plot.area()"
   ]
  },
  {
   "cell_type": "markdown",
   "metadata": {},
   "source": [
    "On peut aussi rajouter des conditions pour regarder des sous-groupes"
   ]
  },
  {
   "cell_type": "code",
   "execution_count": null,
   "metadata": {
    "ExecuteTime": {
     "end_time": "2020-04-08T18:45:53.966692Z",
     "start_time": "2020-04-08T18:45:53.698107Z"
    }
   },
   "outputs": [],
   "source": [
    "base.stats.prop('married',sub='age>18').plot.area()"
   ]
  },
  {
   "cell_type": "code",
   "execution_count": null,
   "metadata": {
    "ExecuteTime": {
     "end_time": "2020-04-08T18:45:55.425719Z",
     "start_time": "2020-04-08T18:45:55.098773Z"
    }
   },
   "outputs": [],
   "source": [
    "base.stats.prop('nkids',sub='age>=18 & age<=45 & male==False').plot.area()"
   ]
  },
  {
   "cell_type": "code",
   "execution_count": null,
   "metadata": {},
   "outputs": [],
   "source": []
  },
  {
   "cell_type": "code",
   "execution_count": null,
   "metadata": {},
   "outputs": [],
   "source": []
  }
 ],
 "metadata": {
  "kernelspec": {
   "display_name": "Python 3",
   "language": "python",
   "name": "python3"
  },
  "language_info": {
   "codemirror_mode": {
    "name": "ipython",
    "version": 3
   },
   "file_extension": ".py",
   "mimetype": "text/x-python",
   "name": "python",
   "nbconvert_exporter": "python",
   "pygments_lexer": "ipython3",
   "version": "3.6.10"
  },
  "latex_envs": {
   "LaTeX_envs_menu_present": true,
   "autoclose": false,
   "autocomplete": true,
   "bibliofile": "biblio.bib",
   "cite_by": "apalike",
   "current_citInitial": 1,
   "eqLabelWithNumbers": true,
   "eqNumInitial": 1,
   "hotkeys": {
    "equation": "Ctrl-E",
    "itemize": "Ctrl-I"
   },
   "labels_anchors": false,
   "latex_user_defs": false,
   "report_style_numbering": false,
   "user_envs_cfg": false
  },
  "varInspector": {
   "cols": {
    "lenName": 16,
    "lenType": 16,
    "lenVar": 40
   },
   "kernels_config": {
    "python": {
     "delete_cmd_postfix": "",
     "delete_cmd_prefix": "del ",
     "library": "var_list.py",
     "varRefreshCmd": "print(var_dic_list())"
    },
    "r": {
     "delete_cmd_postfix": ") ",
     "delete_cmd_prefix": "rm(",
     "library": "var_list.r",
     "varRefreshCmd": "cat(var_dic_list()) "
    }
   },
   "types_to_exclude": [
    "module",
    "function",
    "builtin_function_or_method",
    "instance",
    "_Feature"
   ],
   "window_display": false
  }
 },
 "nbformat": 4,
 "nbformat_minor": 4
}
