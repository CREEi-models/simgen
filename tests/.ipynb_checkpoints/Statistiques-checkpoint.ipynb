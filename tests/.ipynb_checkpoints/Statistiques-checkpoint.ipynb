{
 "cells": [
  {
   "cell_type": "markdown",
   "metadata": {},
   "source": [
    "# Statistiques"
   ]
  },
  {
   "cell_type": "markdown",
   "metadata": {},
   "source": [
    "La classe statistiques permet d'abord de collecter la population par un grand nombre de variable pour chaque année. Avec ce cube de données, la classe permet ensuite de sortir les statistiques de nombres et proportions. On en donne un exemple ici. "
   ]
  },
  {
   "cell_type": "markdown",
   "metadata": {},
   "source": [
    "## Simulation scénario de référence"
   ]
  },
  {
   "cell_type": "code",
   "execution_count": null,
   "metadata": {
    "ExecuteTime": {
     "end_time": "2020-04-08T18:42:57.228485Z",
     "start_time": "2020-04-08T18:42:56.926390Z"
    }
   },
   "outputs": [],
   "source": [
    "import sys\n",
    "sys.path.append('/users/loulou/cedia/OLG_CAN/demo/compas/')\n",
    "from matplotlib import pyplot as plt\n",
    "import warnings\n",
    "warnings.filterwarnings(\"ignore\")"
   ]
  },
  {
   "cell_type": "code",
   "execution_count": null,
   "metadata": {
    "ExecuteTime": {
     "end_time": "2020-04-08T18:42:58.756158Z",
     "start_time": "2020-04-08T18:42:57.806686Z"
    }
   },
   "outputs": [],
   "source": [
    "from compas import model"
   ]
  },
  {
   "cell_type": "code",
   "execution_count": null,
   "metadata": {
    "ExecuteTime": {
     "end_time": "2020-04-08T18:42:59.514477Z",
     "start_time": "2020-04-08T18:42:59.213595Z"
    }
   },
   "outputs": [],
   "source": [
    "base = model(start_yr=2017,stop_yr=2020)\n",
    "base.startpop('startpop')\n",
    "base.immig_assumptions(init='newimmpop')\n",
    "base.birth_assumptions()\n",
    "base.dead_assumptions()\n",
    "base.reset()"
   ]
  },
  {
   "cell_type": "code",
   "execution_count": null,
   "metadata": {
    "ExecuteTime": {
     "end_time": "2020-04-08T18:43:04.293524Z",
     "start_time": "2020-04-08T18:42:59.917201Z"
    }
   },
   "outputs": [],
   "source": [
    "base.simulate()"
   ]
  },
  {
   "cell_type": "code",
   "execution_count": null,
   "metadata": {
    "ExecuteTime": {
     "end_time": "2020-04-08T18:24:09.391290Z",
     "start_time": "2020-04-08T18:24:09.384975Z"
    }
   },
   "outputs": [],
   "source": [
    "base.trans.par_divorce['d']"
   ]
  },
  {
   "cell_type": "markdown",
   "metadata": {},
   "source": [
    "## Le cube de donnée\n",
    "\n",
    "À l'intérieur d'un modèle, une instance de la classe stats a été lancée. Elle définie des stratas pour cumuler les fréquences d'individus. Par défaut, elle fait (age,male,educ,married,nkids). Après avoir crée l'instance, le modèle va l'initatiser en utilisant la population de départ. Il va ensuite la populer avec les années subséquentes de la simulation. On peut voir ce cube à l'aide de stats.counts. "
   ]
  },
  {
   "cell_type": "code",
   "execution_count": null,
   "metadata": {
    "ExecuteTime": {
     "end_time": "2020-04-03T12:48:11.741461Z",
     "start_time": "2020-04-03T12:48:11.699281Z"
    },
    "scrolled": false
   },
   "outputs": [],
   "source": [
    "base.stats.counts.head()"
   ]
  },
  {
   "cell_type": "markdown",
   "metadata": {},
   "source": [
    "## Population par âge et totale"
   ]
  },
  {
   "cell_type": "markdown",
   "metadata": {},
   "source": [
    "On peut obtenir la population totale en utilisant la fonction"
   ]
  },
  {
   "cell_type": "code",
   "execution_count": null,
   "metadata": {
    "ExecuteTime": {
     "end_time": "2020-04-03T12:48:11.752253Z",
     "start_time": "2020-04-03T12:48:11.743483Z"
    }
   },
   "outputs": [],
   "source": [
    "base.stats.freq()"
   ]
  },
  {
   "cell_type": "markdown",
   "metadata": {},
   "source": [
    "Et un beau graphique en rajoutant plot()"
   ]
  },
  {
   "cell_type": "code",
   "execution_count": null,
   "metadata": {
    "ExecuteTime": {
     "end_time": "2020-04-03T12:48:12.050073Z",
     "start_time": "2020-04-03T12:48:11.754266Z"
    }
   },
   "outputs": [],
   "source": [
    "base.stats.freq().plot()"
   ]
  },
  {
   "cell_type": "markdown",
   "metadata": {},
   "source": [
    "On voit qu'on a un problème au départ. Pour diagnostiquer, allons voir la population par âge: "
   ]
  },
  {
   "cell_type": "code",
   "execution_count": null,
   "metadata": {
    "ExecuteTime": {
     "end_time": "2020-04-03T12:48:12.097471Z",
     "start_time": "2020-04-03T12:48:12.053808Z"
    }
   },
   "outputs": [],
   "source": [
    "popage = base.stats.freq('age')\n",
    "popage.head()"
   ]
  },
  {
   "cell_type": "markdown",
   "metadata": {},
   "source": [
    "On peut exprimer en proportion..."
   ]
  },
  {
   "cell_type": "code",
   "execution_count": null,
   "metadata": {
    "ExecuteTime": {
     "end_time": "2020-04-03T12:48:12.141948Z",
     "start_time": "2020-04-03T12:48:12.100325Z"
    }
   },
   "outputs": [],
   "source": [
    "base.stats.prop('age').head()"
   ]
  },
  {
   "cell_type": "code",
   "execution_count": null,
   "metadata": {
    "ExecuteTime": {
     "end_time": "2020-04-03T12:48:12.413708Z",
     "start_time": "2020-04-03T12:48:12.144064Z"
    }
   },
   "outputs": [],
   "source": [
    "base.stats.prop('age',bins=[0,18,65,101]).plot.area()"
   ]
  },
  {
   "cell_type": "markdown",
   "metadata": {},
   "source": [
    "## Autres variables et sous-ensemble"
   ]
  },
  {
   "cell_type": "code",
   "execution_count": null,
   "metadata": {
    "ExecuteTime": {
     "end_time": "2020-04-03T12:48:12.689275Z",
     "start_time": "2020-04-03T12:48:12.415718Z"
    }
   },
   "outputs": [],
   "source": [
    "peduc = base.stats.prop('educ',sub='age>=30')[['none','des','dec','uni']].plot.area()"
   ]
  },
  {
   "cell_type": "markdown",
   "metadata": {},
   "source": [
    "On peut aussi rajouter des conditions pour regarder des sous-groupes"
   ]
  },
  {
   "cell_type": "code",
   "execution_count": null,
   "metadata": {
    "ExecuteTime": {
     "end_time": "2020-04-03T12:48:12.938721Z",
     "start_time": "2020-04-03T12:48:12.691218Z"
    }
   },
   "outputs": [],
   "source": [
    "base.stats.prop('married',sub='age>18').plot.area()"
   ]
  },
  {
   "cell_type": "code",
   "execution_count": null,
   "metadata": {
    "ExecuteTime": {
     "end_time": "2020-04-03T12:48:13.261096Z",
     "start_time": "2020-04-03T12:48:12.940696Z"
    }
   },
   "outputs": [],
   "source": [
    "base.stats.prop('nkids',sub='age>=18 & age<=45 & male==False').plot.area()"
   ]
  },
  {
   "cell_type": "code",
   "execution_count": null,
   "metadata": {},
   "outputs": [],
   "source": []
  }
 ],
 "metadata": {
  "kernelspec": {
   "display_name": "Python 3",
   "language": "python",
   "name": "python3"
  },
  "language_info": {
   "codemirror_mode": {
    "name": "ipython",
    "version": 3
   },
   "file_extension": ".py",
   "mimetype": "text/x-python",
   "name": "python",
   "nbconvert_exporter": "python",
   "pygments_lexer": "ipython3",
   "version": "3.6.10"
  },
  "latex_envs": {
   "LaTeX_envs_menu_present": true,
   "autoclose": false,
   "autocomplete": true,
   "bibliofile": "biblio.bib",
   "cite_by": "apalike",
   "current_citInitial": 1,
   "eqLabelWithNumbers": true,
   "eqNumInitial": 1,
   "hotkeys": {
    "equation": "Ctrl-E",
    "itemize": "Ctrl-I"
   },
   "labels_anchors": false,
   "latex_user_defs": false,
   "report_style_numbering": false,
   "user_envs_cfg": false
  },
  "varInspector": {
   "cols": {
    "lenName": 16,
    "lenType": 16,
    "lenVar": 40
   },
   "kernels_config": {
    "python": {
     "delete_cmd_postfix": "",
     "delete_cmd_prefix": "del ",
     "library": "var_list.py",
     "varRefreshCmd": "print(var_dic_list())"
    },
    "r": {
     "delete_cmd_postfix": ") ",
     "delete_cmd_prefix": "rm(",
     "library": "var_list.r",
     "varRefreshCmd": "cat(var_dic_list()) "
    }
   },
   "types_to_exclude": [
    "module",
    "function",
    "builtin_function_or_method",
    "instance",
    "_Feature"
   ],
   "window_display": false
  }
 },
 "nbformat": 4,
 "nbformat_minor": 4
}
