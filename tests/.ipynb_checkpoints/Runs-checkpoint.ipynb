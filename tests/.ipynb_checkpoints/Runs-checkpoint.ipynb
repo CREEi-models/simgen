{
 "cells": [
  {
   "cell_type": "markdown",
   "metadata": {},
   "source": [
    "# Exemple de simulation"
   ]
  },
  {
   "cell_type": "code",
   "execution_count": 1,
   "metadata": {
    "ExecuteTime": {
     "end_time": "2020-04-02T20:28:30.496358Z",
     "start_time": "2020-04-02T20:28:30.184279Z"
    }
   },
   "outputs": [],
   "source": [
    "import sys\n",
    "sys.path.append('/users/loulou/cedia/OLG_CAN/demo/compas/')\n",
    "from matplotlib import pyplot as plt\n",
    "import warnings\n",
    "warnings.filterwarnings(\"ignore\")"
   ]
  },
  {
   "cell_type": "markdown",
   "metadata": {},
   "source": [
    "On importe le modèle: "
   ]
  },
  {
   "cell_type": "code",
   "execution_count": 2,
   "metadata": {
    "ExecuteTime": {
     "end_time": "2020-04-02T20:28:33.047991Z",
     "start_time": "2020-04-02T20:28:32.067393Z"
    }
   },
   "outputs": [],
   "source": [
    "from compas import model"
   ]
  },
  {
   "cell_type": "markdown",
   "metadata": {},
   "source": [
    "On déclare une instance avec année de départ et d'arrêt. "
   ]
  },
  {
   "cell_type": "code",
   "execution_count": 3,
   "metadata": {
    "ExecuteTime": {
     "end_time": "2020-04-02T20:28:33.640062Z",
     "start_time": "2020-04-02T20:28:33.576330Z"
    }
   },
   "outputs": [],
   "source": [
    "base = model(start_yr=2017,stop_yr=2040)"
   ]
  },
  {
   "cell_type": "markdown",
   "metadata": {},
   "source": [
    "On donne le nom du fichier pickle qui contient la base de départ"
   ]
  },
  {
   "cell_type": "code",
   "execution_count": 4,
   "metadata": {
    "ExecuteTime": {
     "end_time": "2020-04-02T20:28:34.275406Z",
     "start_time": "2020-04-02T20:28:34.239979Z"
    }
   },
   "outputs": [],
   "source": [
    "base.startpop('startpop')"
   ]
  },
  {
   "cell_type": "markdown",
   "metadata": {},
   "source": [
    "On donne les hypothèses d'immigration ainsi que le nom du fichier pour la population de nouveaux immigrants. "
   ]
  },
  {
   "cell_type": "code",
   "execution_count": 5,
   "metadata": {
    "ExecuteTime": {
     "end_time": "2020-04-02T20:28:34.718541Z",
     "start_time": "2020-04-02T20:28:34.709399Z"
    }
   },
   "outputs": [],
   "source": [
    "base.immig_assumptions(init='newimmpop')"
   ]
  },
  {
   "cell_type": "markdown",
   "metadata": {},
   "source": [
    "On prend les hypothèses par défaut pour les naissances"
   ]
  },
  {
   "cell_type": "code",
   "execution_count": 6,
   "metadata": {
    "ExecuteTime": {
     "end_time": "2020-04-02T20:28:35.786419Z",
     "start_time": "2020-04-02T20:28:35.676332Z"
    }
   },
   "outputs": [],
   "source": [
    "base.birth_assumptions()"
   ]
  },
  {
   "cell_type": "markdown",
   "metadata": {},
   "source": [
    "On prend aussi les hypothèses par défaut pour la mortalité"
   ]
  },
  {
   "cell_type": "code",
   "execution_count": 7,
   "metadata": {
    "ExecuteTime": {
     "end_time": "2020-04-02T20:28:36.038476Z",
     "start_time": "2020-04-02T20:28:36.002431Z"
    }
   },
   "outputs": [],
   "source": [
    "base.dead_assumptions()"
   ]
  },
  {
   "cell_type": "markdown",
   "metadata": {},
   "source": [
    "On peut toujours ré-initialiser avec reset. "
   ]
  },
  {
   "cell_type": "code",
   "execution_count": 8,
   "metadata": {
    "ExecuteTime": {
     "end_time": "2020-04-02T20:28:37.013873Z",
     "start_time": "2020-04-02T20:28:37.007142Z"
    }
   },
   "outputs": [],
   "source": [
    "base.reset()"
   ]
  },
  {
   "cell_type": "code",
   "execution_count": 9,
   "metadata": {
    "ExecuteTime": {
     "end_time": "2020-04-02T20:28:37.765671Z",
     "start_time": "2020-04-02T20:28:37.758794Z"
    }
   },
   "outputs": [
    {
     "data": {
      "text/plain": [
       "8298827.000000236"
      ]
     },
     "execution_count": 9,
     "metadata": {},
     "output_type": "execute_result"
    }
   ],
   "source": [
    "base.pop.size()"
   ]
  },
  {
   "cell_type": "markdown",
   "metadata": {},
   "source": [
    "On peut faire juste une année en utilisant next()"
   ]
  },
  {
   "cell_type": "code",
   "execution_count": null,
   "metadata": {
    "ExecuteTime": {
     "end_time": "2020-04-02T15:21:37.952769Z",
     "start_time": "2020-04-02T15:21:34.520711Z"
    }
   },
   "outputs": [],
   "source": [
    "base.next()"
   ]
  },
  {
   "cell_type": "markdown",
   "metadata": {},
   "source": [
    "Pour faire la simulation de l'année de départ à l'année de fin, on lance simulate"
   ]
  },
  {
   "cell_type": "code",
   "execution_count": null,
   "metadata": {
    "ExecuteTime": {
     "end_time": "2020-04-02T15:23:20.590616Z",
     "start_time": "2020-04-02T15:22:05.053996Z"
    }
   },
   "outputs": [],
   "source": [
    "time base.simulate()"
   ]
  }
 ],
 "metadata": {
  "kernelspec": {
   "display_name": "Python 3",
   "language": "python",
   "name": "python3"
  },
  "language_info": {
   "codemirror_mode": {
    "name": "ipython",
    "version": 3
   },
   "file_extension": ".py",
   "mimetype": "text/x-python",
   "name": "python",
   "nbconvert_exporter": "python",
   "pygments_lexer": "ipython3",
   "version": "3.6.10"
  },
  "latex_envs": {
   "LaTeX_envs_menu_present": true,
   "autoclose": false,
   "autocomplete": true,
   "bibliofile": "biblio.bib",
   "cite_by": "apalike",
   "current_citInitial": 1,
   "eqLabelWithNumbers": true,
   "eqNumInitial": 1,
   "hotkeys": {
    "equation": "Ctrl-E",
    "itemize": "Ctrl-I"
   },
   "labels_anchors": false,
   "latex_user_defs": false,
   "report_style_numbering": false,
   "user_envs_cfg": false
  },
  "varInspector": {
   "cols": {
    "lenName": 16,
    "lenType": 16,
    "lenVar": 40
   },
   "kernels_config": {
    "python": {
     "delete_cmd_postfix": "",
     "delete_cmd_prefix": "del ",
     "library": "var_list.py",
     "varRefreshCmd": "print(var_dic_list())"
    },
    "r": {
     "delete_cmd_postfix": ") ",
     "delete_cmd_prefix": "rm(",
     "library": "var_list.r",
     "varRefreshCmd": "cat(var_dic_list()) "
    }
   },
   "types_to_exclude": [
    "module",
    "function",
    "builtin_function_or_method",
    "instance",
    "_Feature"
   ],
   "window_display": false
  }
 },
 "nbformat": 4,
 "nbformat_minor": 4
}
