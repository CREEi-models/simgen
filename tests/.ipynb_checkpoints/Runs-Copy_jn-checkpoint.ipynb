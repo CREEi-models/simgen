{
 "cells": [
  {
   "cell_type": "markdown",
   "metadata": {},
   "source": [
    "# Exemple de simulation"
   ]
  },
  {
   "cell_type": "code",
   "execution_count": 1,
   "metadata": {
    "ExecuteTime": {
     "end_time": "2020-04-02T17:28:26.923076Z",
     "start_time": "2020-04-02T17:28:26.244001Z"
    }
   },
   "outputs": [],
   "source": [
    "import sys\n",
    "sys.path.append('/Users/juliennavaux/Dropbox (CEDIA)/OLG_CAN/demo/compas')\n",
    "from matplotlib import pyplot as plt\n",
    "import warnings\n",
    "warnings.filterwarnings(\"ignore\")"
   ]
  },
  {
   "cell_type": "markdown",
   "metadata": {},
   "source": [
    "On importe le modèle: "
   ]
  },
  {
   "cell_type": "code",
   "execution_count": 2,
   "metadata": {
    "ExecuteTime": {
     "end_time": "2020-04-02T17:28:30.576455Z",
     "start_time": "2020-04-02T17:28:29.298945Z"
    }
   },
   "outputs": [],
   "source": [
    "from compas import model"
   ]
  },
  {
   "cell_type": "markdown",
   "metadata": {},
   "source": [
    "On déclare une instance avec année de départ et d'arrêt. "
   ]
  },
  {
   "cell_type": "code",
   "execution_count": 3,
   "metadata": {
    "ExecuteTime": {
     "end_time": "2020-04-02T17:28:37.024774Z",
     "start_time": "2020-04-02T17:28:36.978587Z"
    }
   },
   "outputs": [],
   "source": [
    "base = model(start_yr=2017,stop_yr=2040)"
   ]
  },
  {
   "cell_type": "markdown",
   "metadata": {},
   "source": [
    "On donne le nom du fichier pickle qui contient la base de départ"
   ]
  },
  {
   "cell_type": "code",
   "execution_count": 4,
   "metadata": {
    "ExecuteTime": {
     "end_time": "2020-04-02T17:28:40.356608Z",
     "start_time": "2020-04-02T17:28:40.322865Z"
    }
   },
   "outputs": [],
   "source": [
    "base.startpop('startpop')"
   ]
  },
  {
   "cell_type": "markdown",
   "metadata": {},
   "source": [
    "On donne les hypothèses d'immigration ainsi que le nom du fichier pour la population de nouveaux immigrants. "
   ]
  },
  {
   "cell_type": "code",
   "execution_count": 5,
   "metadata": {
    "ExecuteTime": {
     "end_time": "2020-04-02T17:28:49.803463Z",
     "start_time": "2020-04-02T17:28:49.794394Z"
    }
   },
   "outputs": [],
   "source": [
    "base.immig_assumptions(init='newimmpop')"
   ]
  },
  {
   "cell_type": "markdown",
   "metadata": {},
   "source": [
    "On prend les hypothèses par défaut pour les naissances"
   ]
  },
  {
   "cell_type": "code",
   "execution_count": 6,
   "metadata": {
    "ExecuteTime": {
     "end_time": "2020-04-02T17:28:52.381955Z",
     "start_time": "2020-04-02T17:28:52.290495Z"
    }
   },
   "outputs": [],
   "source": [
    "base.birth_assumptions()"
   ]
  },
  {
   "cell_type": "markdown",
   "metadata": {},
   "source": [
    "On prend aussi les hypothèses par défaut pour la mortalité"
   ]
  },
  {
   "cell_type": "code",
   "execution_count": 7,
   "metadata": {
    "ExecuteTime": {
     "end_time": "2020-04-02T17:28:54.510167Z",
     "start_time": "2020-04-02T17:28:54.482493Z"
    }
   },
   "outputs": [],
   "source": [
    "base.dead_assumptions()"
   ]
  },
  {
   "cell_type": "markdown",
   "metadata": {},
   "source": [
    "On peut toujours ré-initialiser avec reset. "
   ]
  },
  {
   "cell_type": "code",
   "execution_count": 8,
   "metadata": {
    "ExecuteTime": {
     "end_time": "2020-04-02T17:28:56.060531Z",
     "start_time": "2020-04-02T17:28:56.050081Z"
    }
   },
   "outputs": [],
   "source": [
    "base.reset()"
   ]
  },
  {
   "cell_type": "markdown",
   "metadata": {},
   "source": [
    "On peut faire juste une année en utilisant next()"
   ]
  },
  {
   "cell_type": "code",
   "execution_count": 9,
   "metadata": {
    "ExecuteTime": {
     "end_time": "2020-04-02T17:29:08.633651Z",
     "start_time": "2020-04-02T17:29:06.388119Z"
    }
   },
   "outputs": [],
   "source": [
    "base.next()"
   ]
  },
  {
   "cell_type": "markdown",
   "metadata": {},
   "source": [
    "Pour faire la simulation de l'année de départ à l'année de fin, on lance simulate"
   ]
  },
  {
   "cell_type": "code",
   "execution_count": 10,
   "metadata": {
    "ExecuteTime": {
     "end_time": "2020-04-02T17:30:58.058492Z",
     "start_time": "2020-04-02T17:29:15.426642Z"
    }
   },
   "outputs": [
    {
     "name": "stdout",
     "output_type": "stream",
     "text": [
      "CPU times: user 54.4 s, sys: 4.45 s, total: 58.8 s\n",
      "Wall time: 1min 42s\n"
     ]
    }
   ],
   "source": [
    "time base.simulate()"
   ]
  },
  {
   "cell_type": "markdown",
   "metadata": {},
   "source": [
    "Plusieurs fonctions nous permettent de regarder l'output. On pourra encapsuler des statistiques pour chaque année à l'intérieur. L'autre option est de faire un loop sur next() après un reset(). On peut alors faire ce qu'on veut...\n"
   ]
  },
  {
   "cell_type": "code",
   "execution_count": null,
   "metadata": {
    "ExecuteTime": {
     "end_time": "2020-04-01T18:32:53.413858Z",
     "start_time": "2020-04-01T18:32:53.400873Z"
    }
   },
   "outputs": [],
   "source": [
    "base.pop.size()"
   ]
  },
  {
   "cell_type": "markdown",
   "metadata": {},
   "source": [
    "On peut changer les hypothèses et rouler de nouveau"
   ]
  },
  {
   "cell_type": "code",
   "execution_count": null,
   "metadata": {
    "ExecuteTime": {
     "end_time": "2020-04-01T16:07:13.481319Z",
     "start_time": "2020-04-01T16:07:13.437254Z"
    }
   },
   "outputs": [],
   "source": [
    "base.dead_assumptions(scenario='high')"
   ]
  },
  {
   "cell_type": "code",
   "execution_count": null,
   "metadata": {
    "ExecuteTime": {
     "end_time": "2020-04-01T16:07:21.796678Z",
     "start_time": "2020-04-01T16:07:21.789118Z"
    }
   },
   "outputs": [],
   "source": [
    "base.reset()"
   ]
  },
  {
   "cell_type": "code",
   "execution_count": null,
   "metadata": {
    "ExecuteTime": {
     "end_time": "2020-04-01T16:08:51.626763Z",
     "start_time": "2020-04-01T16:07:27.933329Z"
    }
   },
   "outputs": [],
   "source": [
    "time base.simulate()"
   ]
  },
  {
   "cell_type": "code",
   "execution_count": null,
   "metadata": {
    "ExecuteTime": {
     "end_time": "2020-04-01T16:09:04.013745Z",
     "start_time": "2020-04-01T16:09:04.008125Z"
    }
   },
   "outputs": [],
   "source": [
    "base.pop.size()"
   ]
  },
  {
   "cell_type": "code",
   "execution_count": null,
   "metadata": {
    "ExecuteTime": {
     "end_time": "2020-04-01T16:11:06.830157Z",
     "start_time": "2020-04-01T16:09:42.633303Z"
    }
   },
   "outputs": [],
   "source": [
    "base.dead_assumptions(scenario='low')\n",
    "base.reset()\n",
    "base.simulate()"
   ]
  },
  {
   "cell_type": "code",
   "execution_count": null,
   "metadata": {
    "ExecuteTime": {
     "end_time": "2020-04-01T16:11:14.057010Z",
     "start_time": "2020-04-01T16:11:14.051461Z"
    }
   },
   "outputs": [],
   "source": [
    "base.pop.size()"
   ]
  }
 ],
 "metadata": {
  "kernelspec": {
   "display_name": "Python 3",
   "language": "python",
   "name": "python3"
  },
  "language_info": {
   "codemirror_mode": {
    "name": "ipython",
    "version": 3
   },
   "file_extension": ".py",
   "mimetype": "text/x-python",
   "name": "python",
   "nbconvert_exporter": "python",
   "pygments_lexer": "ipython3",
   "version": "3.8.0"
  },
  "latex_envs": {
   "LaTeX_envs_menu_present": true,
   "autoclose": false,
   "autocomplete": true,
   "bibliofile": "biblio.bib",
   "cite_by": "apalike",
   "current_citInitial": 1,
   "eqLabelWithNumbers": true,
   "eqNumInitial": 1,
   "hotkeys": {
    "equation": "Ctrl-E",
    "itemize": "Ctrl-I"
   },
   "labels_anchors": false,
   "latex_user_defs": false,
   "report_style_numbering": false,
   "user_envs_cfg": false
  },
  "varInspector": {
   "cols": {
    "lenName": 16,
    "lenType": 16,
    "lenVar": 40
   },
   "kernels_config": {
    "python": {
     "delete_cmd_postfix": "",
     "delete_cmd_prefix": "del ",
     "library": "var_list.py",
     "varRefreshCmd": "print(var_dic_list())"
    },
    "r": {
     "delete_cmd_postfix": ") ",
     "delete_cmd_prefix": "rm(",
     "library": "var_list.r",
     "varRefreshCmd": "cat(var_dic_list()) "
    }
   },
   "types_to_exclude": [
    "module",
    "function",
    "builtin_function_or_method",
    "instance",
    "_Feature"
   ],
   "window_display": false
  }
 },
 "nbformat": 4,
 "nbformat_minor": 4
}
